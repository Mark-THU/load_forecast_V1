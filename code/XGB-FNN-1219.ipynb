{
 "cells": [
  {
   "cell_type": "markdown",
   "metadata": {},
   "source": [
    "# XGB-FNN预测"
   ]
  },
  {
   "cell_type": "code",
   "execution_count": 1,
   "metadata": {
    "ExecuteTime": {
     "end_time": "2021-12-19T03:10:25.032084Z",
     "start_time": "2021-12-19T03:10:23.904156Z"
    },
    "colab": {
     "base_uri": "https://localhost:8080/"
    },
    "executionInfo": {
     "elapsed": 54067,
     "status": "ok",
     "timestamp": 1635322610395,
     "user": {
      "displayName": "Mark Dong",
      "photoUrl": "https://lh3.googleusercontent.com/a/default-user=s64",
      "userId": "04537685704836554558"
     },
     "user_tz": -480
    },
    "id": "k73zvW4ktS3o",
    "outputId": "b475ea3d-f3d7-4694-81ec-35e5e1814612"
   },
   "outputs": [],
   "source": [
    "import pandas as pd\n",
    "import numpy as np\n",
    "import matplotlib.pyplot as plt\n",
    "import pdb\n",
    "import torch\n",
    "import torch.nn as nn\n",
    "\n",
    "from sklearn.preprocessing import StandardScaler, MinMaxScaler\n",
    "from sklearn.model_selection import train_test_split, KFold\n",
    "from sqlalchemy import create_engine\n",
    "from xgboost import XGBRegressor\n",
    "from torch.autograd import Variable\n",
    "from torch.utils.data import TensorDataset, DataLoader\n",
    "from tqdm import tqdm\n",
    "if torch.cuda.is_available():\n",
    "    dev = \"cuda:0\"\n",
    "else:\n",
    "    dev = \"cpu\"\n",
    "device = torch.device(dev)"
   ]
  },
  {
   "cell_type": "markdown",
   "metadata": {},
   "source": [
    "## 导入数据"
   ]
  },
  {
   "cell_type": "code",
   "execution_count": 2,
   "metadata": {
    "ExecuteTime": {
     "end_time": "2021-12-19T03:10:51.140537Z",
     "start_time": "2021-12-19T03:10:51.043364Z"
    },
    "executionInfo": {
     "elapsed": 517,
     "status": "ok",
     "timestamp": 1635322610899,
     "user": {
      "displayName": "Mark Dong",
      "photoUrl": "https://lh3.googleusercontent.com/a/default-user=s64",
      "userId": "04537685704836554558"
     },
     "user_tz": -480
    },
    "id": "exclb4QytS3v"
   },
   "outputs": [],
   "source": [
    "url = '../dataset_0101110000.csv'\n",
    "data = pd.read_csv(url, sep=',', index_col='time')"
   ]
  },
  {
   "cell_type": "markdown",
   "metadata": {},
   "source": [
    "## 归一化"
   ]
  },
  {
   "cell_type": "code",
   "execution_count": 3,
   "metadata": {
    "ExecuteTime": {
     "end_time": "2021-12-19T03:11:32.875087Z",
     "start_time": "2021-12-19T03:11:32.869112Z"
    },
    "executionInfo": {
     "elapsed": 31,
     "status": "ok",
     "timestamp": 1635322610900,
     "user": {
      "displayName": "Mark Dong",
      "photoUrl": "https://lh3.googleusercontent.com/a/default-user=s64",
      "userId": "04537685704836554558"
     },
     "user_tz": -480
    },
    "id": "H6ag8TcBtS3w"
   },
   "outputs": [],
   "source": [
    "# 归一化\n",
    "def normalization(data):\n",
    "    \"\"\"\n",
    "    data: original data with load\n",
    "    return: normalized data, scaler of load\n",
    "    \"\"\"\n",
    "    normalized_data = MinMaxScaler().fit_transform(data)\n",
    "    scaler_y = MinMaxScaler()\n",
    "    scaler_y.fit_transform(data[['load']])\n",
    "    return normalized_data, scaler_y"
   ]
  },
  {
   "cell_type": "markdown",
   "metadata": {},
   "source": [
    "## 构建监督学习数据集"
   ]
  },
  {
   "cell_type": "code",
   "execution_count": 4,
   "metadata": {
    "ExecuteTime": {
     "end_time": "2021-12-19T03:12:22.988721Z",
     "start_time": "2021-12-19T03:12:22.975139Z"
    },
    "executionInfo": {
     "elapsed": 359,
     "status": "ok",
     "timestamp": 1635326461751,
     "user": {
      "displayName": "Mark Dong",
      "photoUrl": "https://lh3.googleusercontent.com/a/default-user=s64",
      "userId": "04537685704836554558"
     },
     "user_tz": -480
    },
    "id": "HMBeK7TutS3x"
   },
   "outputs": [],
   "source": [
    "# build supervised data\n",
    "def Series_To_Supervise(data, seq_len, y_col_index):\n",
    "    \"\"\"\n",
    "    convert series data to supervised data\n",
    "    :param data: original data\n",
    "    :param seq_len: length of sequence\n",
    "    :y_col_index: index of column which acts as output\n",
    "    :return: return two ndarrays-- input and output in format suitable to feed to LSTM\n",
    "    \"\"\"\n",
    "    dim_0 = data.shape[0] - seq_len - 24\n",
    "    dim_1 = data.shape[1]\n",
    "    x = np.zeros((dim_0, seq_len, dim_1))\n",
    "    y = np.zeros((dim_0, 24))\n",
    "    for i in range(0, dim_0):\n",
    "        x[i] = data[i:i + seq_len]\n",
    "        y[i] = data[i + seq_len:i + seq_len + 24, y_col_index]\n",
    "    print(\"Supervised Train Data: Shape of x: {}, Shape of y: {}\".format(\n",
    "        x.shape, y.shape))\n",
    "    return x, y\n",
    "\n",
    "\n",
    "def Series_To_Supervise_Test(data, seq_len, y_col_index):\n",
    "    \"\"\"\n",
    "    convert series data to supervised data\n",
    "    :param data: original data\n",
    "    :param seq_len: length of sequence\n",
    "    :y_col_index: index of column which acts as output\n",
    "    :return: return two ndarrays-- input and output in format suitable to feed to LSTM\n",
    "    \"\"\"\n",
    "    dim_0 = int((data.shape[0] - seq_len - 24) / 24) + 1\n",
    "    dim_1 = data.shape[1]\n",
    "    x = np.zeros((dim_0, seq_len, dim_1))\n",
    "    y = np.zeros((dim_0, 24))\n",
    "    for i in range(0, dim_0):\n",
    "        x[i] = data[i * 24:i * 24 + seq_len]\n",
    "        y[i] = data[i * 24 + seq_len:i * 24 + seq_len + 24, y_col_index]\n",
    "    print(\"Supervised Test Data: Shape of x: {}, Shape of y: {}\".format(\n",
    "        x.shape, y.shape))\n",
    "    return x, y"
   ]
  },
  {
   "cell_type": "markdown",
   "metadata": {},
   "source": [
    "## 五折交叉验证"
   ]
  },
  {
   "cell_type": "code",
   "execution_count": 5,
   "metadata": {
    "ExecuteTime": {
     "end_time": "2021-12-19T03:12:41.627943Z",
     "start_time": "2021-12-19T03:12:41.619930Z"
    },
    "executionInfo": {
     "elapsed": 29,
     "status": "ok",
     "timestamp": 1635322610901,
     "user": {
      "displayName": "Mark Dong",
      "photoUrl": "https://lh3.googleusercontent.com/a/default-user=s64",
      "userId": "04537685704836554558"
     },
     "user_tz": -480
    },
    "id": "GZm1OQW3tS3x"
   },
   "outputs": [],
   "source": [
    "# 5-fold cross-validation\n",
    "def split_dataset(X, Y, n_split=5):\n",
    "    \"\"\"\n",
    "    X: original feature, size * 72 * features\n",
    "    Y: labels, size * 1\n",
    "    return: list of train_x, test_x, train_y, test_y\n",
    "    \"\"\"\n",
    "    kf = KFold(n_splits=n_split, shuffle=True, random_state=1)\n",
    "    train_x_list = list()\n",
    "    valid_x_list = list()\n",
    "    train_y_list = list()\n",
    "    valid_y_list = list()\n",
    "    for train_index, valid_index in kf.split(X):\n",
    "        train_x_list.append(X[train_index])\n",
    "        train_y_list.append(Y[train_index])\n",
    "        valid_x_list.append(X[valid_index])\n",
    "        valid_y_list.append(Y[valid_index])\n",
    "    return train_x_list, valid_x_list, train_y_list, valid_y_list"
   ]
  },
  {
   "cell_type": "markdown",
   "metadata": {},
   "source": [
    "## 定义FNN模型"
   ]
  },
  {
   "cell_type": "code",
   "execution_count": 6,
   "metadata": {
    "ExecuteTime": {
     "end_time": "2021-12-19T03:12:57.460034Z",
     "start_time": "2021-12-19T03:12:57.451691Z"
    },
    "executionInfo": {
     "elapsed": 28,
     "status": "ok",
     "timestamp": 1635322610902,
     "user": {
      "displayName": "Mark Dong",
      "photoUrl": "https://lh3.googleusercontent.com/a/default-user=s64",
      "userId": "04537685704836554558"
     },
     "user_tz": -480
    },
    "id": "sqWX9_T8tS3y"
   },
   "outputs": [],
   "source": [
    "# define FNN model\n",
    "class FNN(nn.Module):\n",
    "    \"\"\"\n",
    "    A fnn neural network\n",
    "    \"\"\"\n",
    "    def __init__(self, input_size, hidden_dim):\n",
    "        super(FNN, self).__init__()\n",
    "\n",
    "        self.fnn = nn.Sequential(\n",
    "            nn.Linear(input_size, 250),\n",
    "            nn.ReLU(),\n",
    "            nn.Linear(250, 100),\n",
    "            nn.ReLU(),\n",
    "            nn.Linear(100, 50),\n",
    "            nn.ReLU(),\n",
    "            nn.Linear(50, 24),\n",
    "            nn.ReLU(),\n",
    "        )\n",
    "\n",
    "    def forward(self, x):\n",
    "        out = self.fnn(x)\n",
    "        return out"
   ]
  },
  {
   "cell_type": "markdown",
   "metadata": {},
   "source": [
    "## 训练模型函数"
   ]
  },
  {
   "cell_type": "code",
   "execution_count": 7,
   "metadata": {
    "ExecuteTime": {
     "end_time": "2021-12-19T03:14:44.091628Z",
     "start_time": "2021-12-19T03:14:44.071991Z"
    },
    "executionInfo": {
     "elapsed": 329,
     "status": "ok",
     "timestamp": 1635327357833,
     "user": {
      "displayName": "Mark Dong",
      "photoUrl": "https://lh3.googleusercontent.com/a/default-user=s64",
      "userId": "04537685704836554558"
     },
     "user_tz": -480
    },
    "id": "hzfsNsTHtS3y"
   },
   "outputs": [],
   "source": [
    "# train the model\n",
    "def Train_Model(train_x_list, train_y_list, valid_x_list, valid_y_list,\n",
    "                batch_size, lr, number_epoch, input_size, hidden_dim, seq_len):\n",
    "    model_fnn = FNN(input_size, hidden_dim)\n",
    "    model_fnn.to(device=device)\n",
    "    criterion = nn.MSELoss()\n",
    "    optimizer = torch.optim.Adam(model_fnn.parameters(), lr=lr)\n",
    "    valid_loss_min = np.Inf\n",
    "    for i in range(5):\n",
    "        print('train dataset {}'.format(i))\n",
    "        train_x = train_x_list[i]\n",
    "        train_y = train_y_list[i]\n",
    "        valid_x = valid_x_list[i]\n",
    "        valid_y = valid_y_list[i]\n",
    "        train_x = train_x.reshape(train_x.shape[0], -1)\n",
    "        valid_x = valid_x.reshape(valid_x.shape[0], -1)\n",
    "        train_dataset = TensorDataset(torch.FloatTensor(train_x),\n",
    "                                      torch.FloatTensor(train_y))\n",
    "        valid_dataset = TensorDataset(torch.FloatTensor(valid_x),\n",
    "                                      torch.FloatTensor(valid_y))\n",
    "        train_loader = DataLoader(dataset=train_dataset,\n",
    "                                  batch_size=batch_size,\n",
    "                                  shuffle=True,\n",
    "                                  drop_last=False)\n",
    "        valid_loader = DataLoader(dataset=valid_dataset,\n",
    "                                  batch_size=batch_size,\n",
    "                                  shuffle=True,\n",
    "                                  drop_last=False)\n",
    "        num_without_imp = 0\n",
    "        for epoch in range(1, number_epoch + 1):\n",
    "            loop = tqdm(enumerate(train_loader), total=len(train_loader))\n",
    "            for i, (inputs, labels) in loop:\n",
    "                inputs = inputs.to(device=device)\n",
    "                labels = labels.to(device=device)\n",
    "                optimizer.zero_grad()\n",
    "                outputs = model_fnn(inputs)\n",
    "                loss = criterion(outputs, labels)\n",
    "                loss.backward()\n",
    "                optimizer.step()\n",
    "                if i % 10 == 0:\n",
    "                    # if num_without_imp > 30:\n",
    "                    #     return model_fnn\n",
    "                    num_without_imp = num_without_imp + 1\n",
    "                    valid_losses = list()\n",
    "                    model_fnn.eval()\n",
    "                    for inp, lab in valid_loader:\n",
    "                        inp = inp.to(device)\n",
    "                        lab = lab.to(device)\n",
    "                        out = model_fnn(inp)\n",
    "                        valid_loss = criterion(out, lab)\n",
    "                        valid_losses.append(valid_loss.item())\n",
    "\n",
    "                    model_fnn.train()\n",
    "                    loop.set_description(\"Epoch: {}/{}...\".format(\n",
    "                        epoch, number_epoch))\n",
    "                    loop.set_postfix(train_loss=loss.item(),\n",
    "                                     valid_loss=np.mean(valid_losses))\n",
    "                    if np.mean(valid_losses) < valid_loss_min:\n",
    "                        num_without_imp = 0\n",
    "                        torch.save(model_fnn.state_dict(), \"fnn_state_dict.pt\")\n",
    "                        valid_loss_min = np.mean(valid_losses)\n",
    "    return model_fnn"
   ]
  },
  {
   "cell_type": "markdown",
   "metadata": {},
   "source": [
    "## 测试模型函数"
   ]
  },
  {
   "cell_type": "code",
   "execution_count": 8,
   "metadata": {
    "ExecuteTime": {
     "end_time": "2021-12-19T03:15:01.179523Z",
     "start_time": "2021-12-19T03:15:01.166595Z"
    },
    "executionInfo": {
     "elapsed": 400,
     "status": "ok",
     "timestamp": 1635325087004,
     "user": {
      "displayName": "Mark Dong",
      "photoUrl": "https://lh3.googleusercontent.com/a/default-user=s64",
      "userId": "04537685704836554558"
     },
     "user_tz": -480
    },
    "id": "AS1RZ_wEtS30"
   },
   "outputs": [],
   "source": [
    "# test model by day\n",
    "def Test_Model_24(model, test_x, test_y, batch_size, seq_len, y_col_index,\n",
    "                  scaler):\n",
    "    test_dataset = TensorDataset(torch.FloatTensor(test_x),\n",
    "                                 torch.FloatTensor(test_y))\n",
    "    test_loader = DataLoader(dataset=test_dataset,\n",
    "                             batch_size=batch_size,\n",
    "                             shuffle=False,\n",
    "                             drop_last=False)\n",
    "    model.load_state_dict(torch.load('fnn_state_dict.pt'))\n",
    "    size = 24\n",
    "    y_pred = list()\n",
    "    with torch.no_grad():\n",
    "        for inputs, _ in test_loader:\n",
    "            inputs = inputs.to(device=device)\n",
    "            inp = inputs.reshape(inputs.shape[0], -1)\n",
    "            out = model(inp)\n",
    "            y_pred = y_pred + out.cpu().numpy().tolist()\n",
    "    y_pred = np.array(y_pred)\n",
    "    y_true = np.array(test_y)\n",
    "    y_pred = y_pred.reshape(-1, 1)\n",
    "    y_true = y_true.reshape(-1, 1)\n",
    "    load_pred = scaler.inverse_transform(y_pred)\n",
    "    load_true = scaler.inverse_transform(y_true)\n",
    "    MAPE = np.mean(np.abs(load_true - load_pred) / load_true)\n",
    "    MAE = np.mean(np.abs(load_true - load_pred))\n",
    "    RMSE = np.sqrt(np.mean(np.square(load_true - load_pred)))\n",
    "    return MAPE, MAE, RMSE, load_pred, load_true"
   ]
  },
  {
   "cell_type": "markdown",
   "metadata": {},
   "source": [
    "## 超参数定义"
   ]
  },
  {
   "cell_type": "code",
   "execution_count": 9,
   "metadata": {
    "ExecuteTime": {
     "end_time": "2021-12-19T03:15:19.914838Z",
     "start_time": "2021-12-19T03:15:19.908345Z"
    },
    "executionInfo": {
     "elapsed": 377,
     "status": "ok",
     "timestamp": 1635324243558,
     "user": {
      "displayName": "Mark Dong",
      "photoUrl": "https://lh3.googleusercontent.com/a/default-user=s64",
      "userId": "04537685704836554558"
     },
     "user_tz": -480
    },
    "id": "hqlFR9TCtS30"
   },
   "outputs": [],
   "source": [
    "# model configs\n",
    "def Model_Configs():\n",
    "    batch_sizes = [512]\n",
    "    lrs = [0.01]\n",
    "    number_epochs = [50]\n",
    "    hidden_dims = [5]\n",
    "    configs = list()\n",
    "    for i in batch_sizes:\n",
    "        for j in lrs:\n",
    "            for k in number_epochs:\n",
    "                for l in hidden_dims:\n",
    "                    configs.append([i, j, k, l])\n",
    "    return configs"
   ]
  },
  {
   "cell_type": "markdown",
   "metadata": {},
   "source": [
    "## 主函数"
   ]
  },
  {
   "cell_type": "code",
   "execution_count": 10,
   "metadata": {
    "ExecuteTime": {
     "end_time": "2021-12-19T03:15:44.704803Z",
     "start_time": "2021-12-19T03:15:44.688740Z"
    },
    "executionInfo": {
     "elapsed": 394,
     "status": "ok",
     "timestamp": 1635327597138,
     "user": {
      "displayName": "Mark Dong",
      "photoUrl": "https://lh3.googleusercontent.com/a/default-user=s64",
      "userId": "04537685704836554558"
     },
     "user_tz": -480
    },
    "id": "ksq14TXuY661"
   },
   "outputs": [],
   "source": [
    "def main(seq_len=48):\n",
    "    # 归一化\n",
    "    normalized_data, scaler_y = normalization(data)\n",
    "    train_data = normalized_data\n",
    "    test_data = normalized_data[-5496:]\n",
    "    # 数据处理，将时间序列数据变为监督学习数据\n",
    "    y_index = data.shape[1] - 1\n",
    "    input_size = data.shape[1] * seq_len\n",
    "    X_train, Y_train = Series_To_Supervise(train_data,\n",
    "                                           seq_len=seq_len,\n",
    "                                           y_col_index=y_index)\n",
    "\n",
    "    # 五折交叉验证，划分数据集\n",
    "    train_x_list, valid_x_list, train_y_list, valid_y_list = split_dataset(\n",
    "        X_train, Y_train)\n",
    "    test_x, test_y = Series_To_Supervise_Test(test_data,\n",
    "                                              seq_len=seq_len,\n",
    "                                              y_col_index=y_index)\n",
    "    print(\"model configs set\")\n",
    "    configs = Model_Configs()\n",
    "    MAPE_list = list()\n",
    "    MAE_list = list()\n",
    "    RMSE_list = list()\n",
    "    for config in configs:\n",
    "        batch_size = config[0]\n",
    "        lr = config[1]\n",
    "        number_epoch = config[2]\n",
    "        hidden_dim = config[3]\n",
    "        print(\n",
    "            \"Config: batch_size--{}, lr--{}, number_epoch--{}, hidden_dim--{}\".\n",
    "            format(config[0], config[1], config[2], config[3]))\n",
    "        while (1):\n",
    "            model = Train_Model(\n",
    "                train_x_list,\n",
    "                train_y_list,\n",
    "                valid_x_list,\n",
    "                valid_y_list,\n",
    "                batch_size,\n",
    "                lr,\n",
    "                number_epoch,\n",
    "                input_size=input_size,\n",
    "                hidden_dim=hidden_dim,\n",
    "                seq_len=seq_len,\n",
    "            )\n",
    "            MAPE, MAE, RMSE, load_pred, load_true = Test_Model_24(\n",
    "                model,\n",
    "                test_x,\n",
    "                test_y,\n",
    "                batch_size,\n",
    "                seq_len,\n",
    "                y_col_index=y_index,\n",
    "                scaler=scaler_y)\n",
    "            if MAPE < 1:\n",
    "                break\n",
    "        MAPE_list.append(MAPE)\n",
    "        MAE_list.append(MAE)\n",
    "        RMSE_list.append(RMSE)\n",
    "    return (MAPE_list, MAE_list, RMSE_list, load_pred, load_true, model)"
   ]
  },
  {
   "cell_type": "code",
   "execution_count": 14,
   "metadata": {
    "ExecuteTime": {
     "end_time": "2021-12-19T03:53:22.091231Z",
     "start_time": "2021-12-19T03:48:41.939855Z"
    },
    "colab": {
     "base_uri": "https://localhost:8080/"
    },
    "executionInfo": {
     "elapsed": 149832,
     "status": "ok",
     "timestamp": 1635327753206,
     "user": {
      "displayName": "Mark Dong",
      "photoUrl": "https://lh3.googleusercontent.com/a/default-user=s64",
      "userId": "04537685704836554558"
     },
     "user_tz": -480
    },
    "id": "QlXRJj0etS31",
    "outputId": "bdd48c50-018d-414a-dc12-b4f48b1a73fa"
   },
   "outputs": [
    {
     "name": "stdout",
     "output_type": "stream",
     "text": [
      "Supervised Train Data: Shape of x: (31587, 48, 23), Shape of y: (31587, 24)\n",
      "Supervised Test Data: Shape of x: (227, 48, 23), Shape of y: (227, 24)\n",
      "model configs set\n",
      "Config: batch_size--512, lr--0.01, number_epoch--50, hidden_dim--5\n",
      "train dataset 0\n"
     ]
    },
    {
     "name": "stderr",
     "output_type": "stream",
     "text": [
      "Epoch: 1/50...: 100%|██████████| 50/50 [00:01<00:00, 39.72it/s, train_loss=0.0636, valid_loss=0.064] \n",
      "Epoch: 2/50...: 100%|██████████| 50/50 [00:01<00:00, 37.47it/s, train_loss=0.0617, valid_loss=0.0598]\n",
      "Epoch: 3/50...: 100%|██████████| 50/50 [00:01<00:00, 40.86it/s, train_loss=0.0377, valid_loss=0.0375]\n",
      "Epoch: 4/50...: 100%|██████████| 50/50 [00:01<00:00, 49.81it/s, train_loss=0.0353, valid_loss=0.036] \n",
      "Epoch: 5/50...: 100%|██████████| 50/50 [00:00<00:00, 55.67it/s, train_loss=0.0377, valid_loss=0.0376]\n",
      "Epoch: 6/50...: 100%|██████████| 50/50 [00:01<00:00, 43.92it/s, train_loss=0.0343, valid_loss=0.0354]\n",
      "Epoch: 7/50...: 100%|██████████| 50/50 [00:01<00:00, 50.00it/s, train_loss=0.0326, valid_loss=0.0343]\n",
      "Epoch: 8/50...: 100%|██████████| 50/50 [00:00<00:00, 50.29it/s, train_loss=0.0317, valid_loss=0.0318]\n",
      "Epoch: 9/50...: 100%|██████████| 50/50 [00:01<00:00, 49.91it/s, train_loss=0.0315, valid_loss=0.0312]\n",
      "Epoch: 10/50...: 100%|██████████| 50/50 [00:00<00:00, 51.95it/s, train_loss=0.0303, valid_loss=0.0312]\n",
      "Epoch: 11/50...: 100%|██████████| 50/50 [00:01<00:00, 40.57it/s, train_loss=0.0254, valid_loss=0.0244]\n",
      "Epoch: 12/50...: 100%|██████████| 50/50 [00:00<00:00, 53.42it/s, train_loss=0.0185, valid_loss=0.0175]\n",
      "Epoch: 13/50...: 100%|██████████| 50/50 [00:00<00:00, 51.43it/s, train_loss=0.0159, valid_loss=0.0167]\n",
      "Epoch: 14/50...: 100%|██████████| 50/50 [00:01<00:00, 44.65it/s, train_loss=0.0174, valid_loss=0.0174]\n",
      "Epoch: 15/50...: 100%|██████████| 50/50 [00:00<00:00, 55.42it/s, train_loss=0.0178, valid_loss=0.0167]\n",
      "Epoch: 16/50...: 100%|██████████| 50/50 [00:01<00:00, 43.26it/s, train_loss=0.017, valid_loss=0.0164] \n",
      "Epoch: 17/50...: 100%|██████████| 50/50 [00:01<00:00, 43.57it/s, train_loss=0.0163, valid_loss=0.0177]\n",
      "Epoch: 18/50...: 100%|██████████| 50/50 [00:01<00:00, 37.64it/s, train_loss=0.0167, valid_loss=0.0165]\n",
      "Epoch: 19/50...: 100%|██████████| 50/50 [00:01<00:00, 39.53it/s, train_loss=0.0166, valid_loss=0.0166]\n",
      "Epoch: 20/50...: 100%|██████████| 50/50 [00:01<00:00, 39.77it/s, train_loss=0.0167, valid_loss=0.0167]\n",
      "Epoch: 21/50...: 100%|██████████| 50/50 [00:01<00:00, 39.49it/s, train_loss=0.0163, valid_loss=0.0169]\n",
      "Epoch: 22/50...: 100%|██████████| 50/50 [00:01<00:00, 37.56it/s, train_loss=0.0165, valid_loss=0.0163]\n",
      "Epoch: 23/50...: 100%|██████████| 50/50 [00:01<00:00, 36.69it/s, train_loss=0.0152, valid_loss=0.0163]\n",
      "Epoch: 24/50...: 100%|██████████| 50/50 [00:01<00:00, 44.99it/s, train_loss=0.0159, valid_loss=0.0162]\n",
      "Epoch: 25/50...: 100%|██████████| 50/50 [00:01<00:00, 41.61it/s, train_loss=0.016, valid_loss=0.0163] \n",
      "Epoch: 26/50...: 100%|██████████| 50/50 [00:01<00:00, 39.15it/s, train_loss=0.0161, valid_loss=0.0168]\n",
      "Epoch: 27/50...: 100%|██████████| 50/50 [00:01<00:00, 34.31it/s, train_loss=0.0159, valid_loss=0.0162]\n",
      "Epoch: 28/50...: 100%|██████████| 50/50 [00:01<00:00, 43.04it/s, train_loss=0.0162, valid_loss=0.0163]\n",
      "Epoch: 29/50...: 100%|██████████| 50/50 [00:01<00:00, 44.68it/s, train_loss=0.0158, valid_loss=0.0161]\n",
      "Epoch: 30/50...: 100%|██████████| 50/50 [00:01<00:00, 42.56it/s, train_loss=0.0164, valid_loss=0.0162]\n",
      "Epoch: 31/50...: 100%|██████████| 50/50 [00:01<00:00, 37.71it/s, train_loss=0.0164, valid_loss=0.0161]\n",
      "Epoch: 32/50...: 100%|██████████| 50/50 [00:01<00:00, 44.13it/s, train_loss=0.0156, valid_loss=0.0161]\n",
      "Epoch: 33/50...: 100%|██████████| 50/50 [00:01<00:00, 46.11it/s, train_loss=0.0155, valid_loss=0.0162]\n",
      "Epoch: 34/50...: 100%|██████████| 50/50 [00:01<00:00, 44.76it/s, train_loss=0.0158, valid_loss=0.016] \n",
      "Epoch: 35/50...: 100%|██████████| 50/50 [00:01<00:00, 37.14it/s, train_loss=0.0159, valid_loss=0.0164]\n",
      "Epoch: 36/50...: 100%|██████████| 50/50 [00:01<00:00, 41.56it/s, train_loss=0.0161, valid_loss=0.0161]\n",
      "Epoch: 37/50...: 100%|██████████| 50/50 [00:01<00:00, 41.53it/s, train_loss=0.0175, valid_loss=0.0176]\n",
      "Epoch: 38/50...: 100%|██████████| 50/50 [00:01<00:00, 43.01it/s, train_loss=0.0165, valid_loss=0.0162]\n",
      "Epoch: 39/50...: 100%|██████████| 50/50 [00:01<00:00, 37.67it/s, train_loss=0.0156, valid_loss=0.0162]\n",
      "Epoch: 40/50...: 100%|██████████| 50/50 [00:01<00:00, 39.68it/s, train_loss=0.0162, valid_loss=0.0163]\n",
      "Epoch: 41/50...: 100%|██████████| 50/50 [00:01<00:00, 38.32it/s, train_loss=0.0165, valid_loss=0.0161]\n",
      "Epoch: 42/50...: 100%|██████████| 50/50 [00:01<00:00, 39.98it/s, train_loss=0.0158, valid_loss=0.0161]\n",
      "Epoch: 43/50...: 100%|██████████| 50/50 [00:01<00:00, 35.66it/s, train_loss=0.0166, valid_loss=0.016] \n",
      "Epoch: 44/50...: 100%|██████████| 50/50 [00:00<00:00, 51.12it/s, train_loss=0.0162, valid_loss=0.0162]\n",
      "Epoch: 45/50...: 100%|██████████| 50/50 [00:00<00:00, 50.13it/s, train_loss=0.0166, valid_loss=0.0161]\n",
      "Epoch: 46/50...: 100%|██████████| 50/50 [00:01<00:00, 41.62it/s, train_loss=0.0171, valid_loss=0.0162]\n",
      "Epoch: 47/50...: 100%|██████████| 50/50 [00:01<00:00, 40.26it/s, train_loss=0.0166, valid_loss=0.0167]\n",
      "Epoch: 48/50...: 100%|██████████| 50/50 [00:01<00:00, 33.30it/s, train_loss=0.0174, valid_loss=0.0161]\n",
      "Epoch: 49/50...: 100%|██████████| 50/50 [00:01<00:00, 39.77it/s, train_loss=0.0154, valid_loss=0.016]\n",
      "Epoch: 50/50...: 100%|██████████| 50/50 [00:01<00:00, 38.73it/s, train_loss=0.0162, valid_loss=0.016]\n"
     ]
    },
    {
     "name": "stdout",
     "output_type": "stream",
     "text": [
      "train dataset 1\n"
     ]
    },
    {
     "name": "stderr",
     "output_type": "stream",
     "text": [
      "Epoch: 1/50...: 100%|██████████| 50/50 [00:01<00:00, 39.80it/s, train_loss=0.0162, valid_loss=0.016] \n",
      "Epoch: 2/50...: 100%|██████████| 50/50 [00:01<00:00, 43.31it/s, train_loss=0.0161, valid_loss=0.0165]\n",
      "Epoch: 3/50...: 100%|██████████| 50/50 [00:01<00:00, 47.37it/s, train_loss=0.0154, valid_loss=0.0161]\n",
      "Epoch: 4/50...: 100%|██████████| 50/50 [00:01<00:00, 47.02it/s, train_loss=0.0165, valid_loss=0.016] \n",
      "Epoch: 5/50...: 100%|██████████| 50/50 [00:00<00:00, 50.68it/s, train_loss=0.0165, valid_loss=0.0173]\n",
      "Epoch: 6/50...: 100%|██████████| 50/50 [00:01<00:00, 42.30it/s, train_loss=0.0167, valid_loss=0.016] \n",
      "Epoch: 7/50...: 100%|██████████| 50/50 [00:00<00:00, 51.43it/s, train_loss=0.0161, valid_loss=0.0161]\n",
      "Epoch: 8/50...: 100%|██████████| 50/50 [00:00<00:00, 51.82it/s, train_loss=0.0157, valid_loss=0.0162]\n",
      "Epoch: 9/50...: 100%|██████████| 50/50 [00:00<00:00, 51.20it/s, train_loss=0.0156, valid_loss=0.016] \n",
      "Epoch: 10/50...: 100%|██████████| 50/50 [00:01<00:00, 43.99it/s, train_loss=0.0163, valid_loss=0.0177]\n",
      "Epoch: 11/50...: 100%|██████████| 50/50 [00:00<00:00, 51.12it/s, train_loss=0.0163, valid_loss=0.016] \n",
      "Epoch: 12/50...: 100%|██████████| 50/50 [00:00<00:00, 50.53it/s, train_loss=0.0153, valid_loss=0.016] \n",
      "Epoch: 13/50...: 100%|██████████| 50/50 [00:00<00:00, 51.82it/s, train_loss=0.0159, valid_loss=0.0162]\n",
      "Epoch: 14/50...: 100%|██████████| 50/50 [00:01<00:00, 45.54it/s, train_loss=0.0157, valid_loss=0.016] \n",
      "Epoch: 15/50...: 100%|██████████| 50/50 [00:01<00:00, 49.22it/s, train_loss=0.0153, valid_loss=0.0161]\n",
      "Epoch: 16/50...: 100%|██████████| 50/50 [00:00<00:00, 51.25it/s, train_loss=0.016, valid_loss=0.0162] \n",
      "Epoch: 17/50...: 100%|██████████| 50/50 [00:00<00:00, 54.41it/s, train_loss=0.0159, valid_loss=0.016] \n",
      "Epoch: 18/50...: 100%|██████████| 50/50 [00:01<00:00, 40.95it/s, train_loss=0.0158, valid_loss=0.016] \n",
      "Epoch: 19/50...: 100%|██████████| 50/50 [00:01<00:00, 45.03it/s, train_loss=0.0158, valid_loss=0.0161]\n",
      "Epoch: 20/50...: 100%|██████████| 50/50 [00:01<00:00, 47.76it/s, train_loss=0.0161, valid_loss=0.0159]\n",
      "Epoch: 21/50...: 100%|██████████| 50/50 [00:01<00:00, 42.64it/s, train_loss=0.0154, valid_loss=0.016] \n",
      "Epoch: 22/50...: 100%|██████████| 50/50 [00:01<00:00, 39.04it/s, train_loss=0.016, valid_loss=0.0159] \n",
      "Epoch: 23/50...: 100%|██████████| 50/50 [00:01<00:00, 45.57it/s, train_loss=0.0157, valid_loss=0.0161]\n",
      "Epoch: 24/50...: 100%|██████████| 50/50 [00:00<00:00, 52.54it/s, train_loss=0.0163, valid_loss=0.0161]\n",
      "Epoch: 25/50...: 100%|██████████| 50/50 [00:00<00:00, 54.69it/s, train_loss=0.0156, valid_loss=0.0161]\n",
      "Epoch: 26/50...: 100%|██████████| 50/50 [00:01<00:00, 39.95it/s, train_loss=0.00887, valid_loss=0.00881]\n",
      "Epoch: 27/50...: 100%|██████████| 50/50 [00:01<00:00, 39.52it/s, train_loss=0.00859, valid_loss=0.00893]\n",
      "Epoch: 28/50...: 100%|██████████| 50/50 [00:01<00:00, 43.06it/s, train_loss=0.00847, valid_loss=0.00917]\n",
      "Epoch: 29/50...: 100%|██████████| 50/50 [00:01<00:00, 41.84it/s, train_loss=0.00865, valid_loss=0.00934]\n",
      "Epoch: 30/50...: 100%|██████████| 50/50 [00:01<00:00, 43.51it/s, train_loss=0.00858, valid_loss=0.0088] \n",
      "Epoch: 31/50...: 100%|██████████| 50/50 [00:00<00:00, 51.74it/s, train_loss=0.00876, valid_loss=0.00874]\n",
      "Epoch: 32/50...: 100%|██████████| 50/50 [00:00<00:00, 52.54it/s, train_loss=0.00875, valid_loss=0.00878]\n",
      "Epoch: 33/50...: 100%|██████████| 50/50 [00:00<00:00, 53.67it/s, train_loss=0.00926, valid_loss=0.00882]\n",
      "Epoch: 34/50...: 100%|██████████| 50/50 [00:01<00:00, 46.22it/s, train_loss=0.00925, valid_loss=0.00876]\n",
      "Epoch: 35/50...: 100%|██████████| 50/50 [00:00<00:00, 51.33it/s, train_loss=0.00936, valid_loss=0.0093] \n",
      "Epoch: 36/50...: 100%|██████████| 50/50 [00:01<00:00, 47.24it/s, train_loss=0.00929, valid_loss=0.00979]\n",
      "Epoch: 37/50...: 100%|██████████| 50/50 [00:01<00:00, 43.40it/s, train_loss=0.00831, valid_loss=0.00927]\n",
      "Epoch: 38/50...: 100%|██████████| 50/50 [00:01<00:00, 45.77it/s, train_loss=0.00912, valid_loss=0.00877]\n",
      "Epoch: 39/50...: 100%|██████████| 50/50 [00:01<00:00, 35.88it/s, train_loss=0.00863, valid_loss=0.00879]\n",
      "Epoch: 40/50...: 100%|██████████| 50/50 [00:01<00:00, 43.49it/s, train_loss=0.00945, valid_loss=0.00895]\n",
      "Epoch: 41/50...: 100%|██████████| 50/50 [00:01<00:00, 47.20it/s, train_loss=0.00871, valid_loss=0.00896]\n",
      "Epoch: 42/50...: 100%|██████████| 50/50 [00:00<00:00, 50.73it/s, train_loss=0.00885, valid_loss=0.00875]\n",
      "Epoch: 43/50...: 100%|██████████| 50/50 [00:01<00:00, 41.99it/s, train_loss=0.00872, valid_loss=0.0097] \n",
      "Epoch: 44/50...: 100%|██████████| 50/50 [00:01<00:00, 47.64it/s, train_loss=0.00841, valid_loss=0.00875]\n",
      "Epoch: 45/50...: 100%|██████████| 50/50 [00:01<00:00, 47.82it/s, train_loss=0.00863, valid_loss=0.00866]\n",
      "Epoch: 46/50...: 100%|██████████| 50/50 [00:01<00:00, 48.91it/s, train_loss=0.00863, valid_loss=0.00878]\n",
      "Epoch: 47/50...: 100%|██████████| 50/50 [00:01<00:00, 45.43it/s, train_loss=0.00973, valid_loss=0.00895]\n",
      "Epoch: 48/50...: 100%|██████████| 50/50 [00:00<00:00, 57.39it/s, train_loss=0.00845, valid_loss=0.00875]\n",
      "Epoch: 49/50...: 100%|██████████| 50/50 [00:00<00:00, 51.94it/s, train_loss=0.00846, valid_loss=0.00876]\n",
      "Epoch: 50/50...: 100%|██████████| 50/50 [00:01<00:00, 43.27it/s, train_loss=0.0093, valid_loss=0.00906] \n"
     ]
    },
    {
     "name": "stdout",
     "output_type": "stream",
     "text": [
      "train dataset 2\n"
     ]
    },
    {
     "name": "stderr",
     "output_type": "stream",
     "text": [
      "Epoch: 1/50...: 100%|██████████| 50/50 [00:01<00:00, 40.17it/s, train_loss=0.0086, valid_loss=0.00889] \n",
      "Epoch: 2/50...: 100%|██████████| 50/50 [00:00<00:00, 55.99it/s, train_loss=0.00888, valid_loss=0.00897]\n",
      "Epoch: 3/50...: 100%|██████████| 50/50 [00:00<00:00, 58.73it/s, train_loss=0.00942, valid_loss=0.0091] \n",
      "Epoch: 4/50...: 100%|██████████| 50/50 [00:00<00:00, 56.40it/s, train_loss=0.00892, valid_loss=0.00891]\n",
      "Epoch: 5/50...: 100%|██████████| 50/50 [00:01<00:00, 44.68it/s, train_loss=0.00838, valid_loss=0.00904]\n",
      "Epoch: 6/50...: 100%|██████████| 50/50 [00:00<00:00, 54.68it/s, train_loss=0.00904, valid_loss=0.00917]\n",
      "Epoch: 7/50...: 100%|██████████| 50/50 [00:00<00:00, 54.47it/s, train_loss=0.00855, valid_loss=0.00889]\n",
      "Epoch: 8/50...: 100%|██████████| 50/50 [00:00<00:00, 52.86it/s, train_loss=0.01, valid_loss=0.00903]   \n",
      "Epoch: 9/50...: 100%|██████████| 50/50 [00:01<00:00, 42.65it/s, train_loss=0.00858, valid_loss=0.00887]\n",
      "Epoch: 10/50...: 100%|██████████| 50/50 [00:00<00:00, 51.69it/s, train_loss=0.00832, valid_loss=0.00912]\n",
      "Epoch: 11/50...: 100%|██████████| 50/50 [00:00<00:00, 52.60it/s, train_loss=0.00845, valid_loss=0.00894]\n",
      "Epoch: 12/50...: 100%|██████████| 50/50 [00:00<00:00, 53.79it/s, train_loss=0.00849, valid_loss=0.00904]\n",
      "Epoch: 13/50...: 100%|██████████| 50/50 [00:01<00:00, 44.80it/s, train_loss=0.0089, valid_loss=0.00892] \n",
      "Epoch: 14/50...: 100%|██████████| 50/50 [00:00<00:00, 51.03it/s, train_loss=0.00842, valid_loss=0.00894]\n",
      "Epoch: 15/50...: 100%|██████████| 50/50 [00:00<00:00, 50.13it/s, train_loss=0.00776, valid_loss=0.00913]\n",
      "Epoch: 16/50...: 100%|██████████| 50/50 [00:01<00:00, 49.01it/s, train_loss=0.00921, valid_loss=0.00959]\n",
      "Epoch: 17/50...: 100%|██████████| 50/50 [00:01<00:00, 36.14it/s, train_loss=0.00883, valid_loss=0.00917]\n",
      "Epoch: 18/50...: 100%|██████████| 50/50 [00:01<00:00, 47.55it/s, train_loss=0.00856, valid_loss=0.00883]\n",
      "Epoch: 19/50...: 100%|██████████| 50/50 [00:00<00:00, 51.31it/s, train_loss=0.00922, valid_loss=0.00889]\n",
      "Epoch: 20/50...: 100%|██████████| 50/50 [00:00<00:00, 56.38it/s, train_loss=0.00889, valid_loss=0.00899]\n",
      "Epoch: 21/50...: 100%|██████████| 50/50 [00:01<00:00, 47.88it/s, train_loss=0.00819, valid_loss=0.00927]\n",
      "Epoch: 22/50...: 100%|██████████| 50/50 [00:01<00:00, 49.71it/s, train_loss=0.00893, valid_loss=0.0089] \n",
      "Epoch: 23/50...: 100%|██████████| 50/50 [00:00<00:00, 53.02it/s, train_loss=0.00858, valid_loss=0.00894]\n",
      "Epoch: 24/50...: 100%|██████████| 50/50 [00:01<00:00, 47.77it/s, train_loss=0.00881, valid_loss=0.00958]\n",
      "Epoch: 25/50...: 100%|██████████| 50/50 [00:01<00:00, 42.28it/s, train_loss=0.00878, valid_loss=0.00886]\n",
      "Epoch: 26/50...: 100%|██████████| 50/50 [00:01<00:00, 47.03it/s, train_loss=0.00971, valid_loss=0.00899]\n",
      "Epoch: 27/50...: 100%|██████████| 50/50 [00:01<00:00, 47.57it/s, train_loss=0.00939, valid_loss=0.00905]\n",
      "Epoch: 28/50...: 100%|██████████| 50/50 [00:01<00:00, 42.44it/s, train_loss=0.00843, valid_loss=0.00915]\n",
      "Epoch: 29/50...: 100%|██████████| 50/50 [00:01<00:00, 33.02it/s, train_loss=0.00853, valid_loss=0.00887]\n",
      "Epoch: 30/50...: 100%|██████████| 50/50 [00:01<00:00, 36.75it/s, train_loss=0.0086, valid_loss=0.00899] \n",
      "Epoch: 31/50...: 100%|██████████| 50/50 [00:01<00:00, 35.90it/s, train_loss=0.00891, valid_loss=0.00893]\n",
      "Epoch: 32/50...: 100%|██████████| 50/50 [00:01<00:00, 33.87it/s, train_loss=0.00934, valid_loss=0.00899]\n",
      "Epoch: 33/50...: 100%|██████████| 50/50 [00:01<00:00, 39.22it/s, train_loss=0.00842, valid_loss=0.00897]\n",
      "Epoch: 34/50...: 100%|██████████| 50/50 [00:01<00:00, 48.12it/s, train_loss=0.00824, valid_loss=0.00905]\n",
      "Epoch: 35/50...: 100%|██████████| 50/50 [00:00<00:00, 51.19it/s, train_loss=0.00874, valid_loss=0.00894]\n",
      "Epoch: 36/50...: 100%|██████████| 50/50 [00:01<00:00, 49.83it/s, train_loss=0.00893, valid_loss=0.00887]\n",
      "Epoch: 37/50...: 100%|██████████| 50/50 [00:01<00:00, 42.65it/s, train_loss=0.00855, valid_loss=0.0089] \n",
      "Epoch: 38/50...: 100%|██████████| 50/50 [00:01<00:00, 41.71it/s, train_loss=0.0018, valid_loss=0.00178] \n",
      "Epoch: 39/50...: 100%|██████████| 50/50 [00:01<00:00, 42.95it/s, train_loss=0.00151, valid_loss=0.00177]\n",
      "Epoch: 40/50...: 100%|██████████| 50/50 [00:01<00:00, 48.53it/s, train_loss=0.0015, valid_loss=0.00148] \n",
      "Epoch: 41/50...: 100%|██████████| 50/50 [00:01<00:00, 40.65it/s, train_loss=0.00148, valid_loss=0.0015] \n",
      "Epoch: 42/50...: 100%|██████████| 50/50 [00:01<00:00, 48.64it/s, train_loss=0.00131, valid_loss=0.0016] \n",
      "Epoch: 43/50...: 100%|██████████| 50/50 [00:01<00:00, 47.70it/s, train_loss=0.00127, valid_loss=0.00178]\n",
      "Epoch: 44/50...: 100%|██████████| 50/50 [00:01<00:00, 47.59it/s, train_loss=0.00158, valid_loss=0.00152]\n",
      "Epoch: 45/50...: 100%|██████████| 50/50 [00:01<00:00, 42.81it/s, train_loss=0.00162, valid_loss=0.00158]\n",
      "Epoch: 46/50...: 100%|██████████| 50/50 [00:01<00:00, 47.22it/s, train_loss=0.00229, valid_loss=0.00153]\n",
      "Epoch: 47/50...: 100%|██████████| 50/50 [00:00<00:00, 53.09it/s, train_loss=0.00407, valid_loss=0.00301]\n",
      "Epoch: 48/50...: 100%|██████████| 50/50 [00:01<00:00, 47.94it/s, train_loss=0.00159, valid_loss=0.00153]\n",
      "Epoch: 49/50...: 100%|██████████| 50/50 [00:01<00:00, 47.75it/s, train_loss=0.00153, valid_loss=0.0015] \n",
      "Epoch: 50/50...: 100%|██████████| 50/50 [00:01<00:00, 40.91it/s, train_loss=0.0014, valid_loss=0.00156] \n"
     ]
    },
    {
     "name": "stdout",
     "output_type": "stream",
     "text": [
      "train dataset 3\n"
     ]
    },
    {
     "name": "stderr",
     "output_type": "stream",
     "text": [
      "Epoch: 1/50...: 100%|██████████| 50/50 [00:01<00:00, 41.22it/s, train_loss=0.00177, valid_loss=0.00181]\n",
      "Epoch: 2/50...: 100%|██████████| 50/50 [00:01<00:00, 47.48it/s, train_loss=0.00137, valid_loss=0.00146]\n",
      "Epoch: 3/50...: 100%|██████████| 50/50 [00:01<00:00, 47.78it/s, train_loss=0.00147, valid_loss=0.00165]\n",
      "Epoch: 4/50...: 100%|██████████| 50/50 [00:01<00:00, 42.18it/s, train_loss=0.00134, valid_loss=0.00149]\n",
      "Epoch: 5/50...: 100%|██████████| 50/50 [00:00<00:00, 56.77it/s, train_loss=0.00135, valid_loss=0.0014] \n",
      "Epoch: 6/50...: 100%|██████████| 50/50 [00:01<00:00, 49.46it/s, train_loss=0.00142, valid_loss=0.00152]\n",
      "Epoch: 7/50...: 100%|██████████| 50/50 [00:01<00:00, 49.15it/s, train_loss=0.00128, valid_loss=0.00157]\n",
      "Epoch: 8/50...: 100%|██████████| 50/50 [00:01<00:00, 40.91it/s, train_loss=0.0016, valid_loss=0.00154] \n",
      "Epoch: 9/50...: 100%|██████████| 50/50 [00:00<00:00, 51.33it/s, train_loss=0.00147, valid_loss=0.00198]\n",
      "Epoch: 10/50...: 100%|██████████| 50/50 [00:01<00:00, 48.63it/s, train_loss=0.00138, valid_loss=0.00137]\n",
      "Epoch: 11/50...: 100%|██████████| 50/50 [00:01<00:00, 45.17it/s, train_loss=0.0014, valid_loss=0.00158] \n",
      "Epoch: 12/50...: 100%|██████████| 50/50 [00:01<00:00, 38.71it/s, train_loss=0.00144, valid_loss=0.00142]\n",
      "Epoch: 13/50...: 100%|██████████| 50/50 [00:01<00:00, 45.58it/s, train_loss=0.00182, valid_loss=0.00154]\n",
      "Epoch: 14/50...: 100%|██████████| 50/50 [00:01<00:00, 43.56it/s, train_loss=0.00136, valid_loss=0.00144]\n",
      "Epoch: 15/50...: 100%|██████████| 50/50 [00:01<00:00, 47.48it/s, train_loss=0.00199, valid_loss=0.00176]\n",
      "Epoch: 16/50...: 100%|██████████| 50/50 [00:01<00:00, 40.39it/s, train_loss=0.00164, valid_loss=0.00144]\n",
      "Epoch: 17/50...: 100%|██████████| 50/50 [00:01<00:00, 49.36it/s, train_loss=0.00136, valid_loss=0.00137]\n",
      "Epoch: 18/50...: 100%|██████████| 50/50 [00:01<00:00, 48.98it/s, train_loss=0.00141, valid_loss=0.00138]\n",
      "Epoch: 19/50...: 100%|██████████| 50/50 [00:00<00:00, 53.06it/s, train_loss=0.0018, valid_loss=0.00145] \n",
      "Epoch: 20/50...: 100%|██████████| 50/50 [00:01<00:00, 47.08it/s, train_loss=0.00171, valid_loss=0.00287]\n",
      "Epoch: 21/50...: 100%|██████████| 50/50 [00:00<00:00, 54.10it/s, train_loss=0.00138, valid_loss=0.00144]\n",
      "Epoch: 22/50...: 100%|██████████| 50/50 [00:00<00:00, 51.61it/s, train_loss=0.00155, valid_loss=0.00154]\n",
      "Epoch: 23/50...: 100%|██████████| 50/50 [00:00<00:00, 50.62it/s, train_loss=0.00184, valid_loss=0.00208]\n",
      "Epoch: 24/50...: 100%|██████████| 50/50 [00:01<00:00, 46.50it/s, train_loss=0.00156, valid_loss=0.00157]\n",
      "Epoch: 25/50...: 100%|██████████| 50/50 [00:01<00:00, 42.68it/s, train_loss=0.00143, valid_loss=0.00154]\n",
      "Epoch: 26/50...: 100%|██████████| 50/50 [00:01<00:00, 43.24it/s, train_loss=0.00138, valid_loss=0.00157]\n",
      "Epoch: 27/50...: 100%|██████████| 50/50 [00:01<00:00, 46.55it/s, train_loss=0.00153, valid_loss=0.00148]\n",
      "Epoch: 28/50...: 100%|██████████| 50/50 [00:00<00:00, 51.13it/s, train_loss=0.00209, valid_loss=0.00141]\n",
      "Epoch: 29/50...: 100%|██████████| 50/50 [00:01<00:00, 43.75it/s, train_loss=0.00158, valid_loss=0.00141]\n",
      "Epoch: 30/50...: 100%|██████████| 50/50 [00:01<00:00, 41.97it/s, train_loss=0.00161, valid_loss=0.00161]\n",
      "Epoch: 31/50...: 100%|██████████| 50/50 [00:01<00:00, 38.46it/s, train_loss=0.00163, valid_loss=0.00154]\n",
      "Epoch: 32/50...: 100%|██████████| 50/50 [00:01<00:00, 40.79it/s, train_loss=0.00136, valid_loss=0.0014] \n",
      "Epoch: 33/50...: 100%|██████████| 50/50 [00:01<00:00, 33.16it/s, train_loss=0.00158, valid_loss=0.0016] \n",
      "Epoch: 34/50...: 100%|██████████| 50/50 [00:01<00:00, 36.21it/s, train_loss=0.00132, valid_loss=0.00151]\n",
      "Epoch: 35/50...: 100%|██████████| 50/50 [00:01<00:00, 38.18it/s, train_loss=0.00146, valid_loss=0.00174]\n",
      "Epoch: 36/50...: 100%|██████████| 50/50 [00:01<00:00, 46.21it/s, train_loss=0.00204, valid_loss=0.00157]\n",
      "Epoch: 37/50...: 100%|██████████| 50/50 [00:01<00:00, 44.77it/s, train_loss=0.00147, valid_loss=0.00152]\n",
      "Epoch: 38/50...: 100%|██████████| 50/50 [00:01<00:00, 48.90it/s, train_loss=0.00145, valid_loss=0.0015] \n",
      "Epoch: 39/50...: 100%|██████████| 50/50 [00:01<00:00, 47.22it/s, train_loss=0.00131, valid_loss=0.00144]\n",
      "Epoch: 40/50...: 100%|██████████| 50/50 [00:00<00:00, 50.40it/s, train_loss=0.00156, valid_loss=0.0014] \n",
      "Epoch: 41/50...: 100%|██████████| 50/50 [00:01<00:00, 40.34it/s, train_loss=0.00136, valid_loss=0.00146]\n",
      "Epoch: 42/50...: 100%|██████████| 50/50 [00:00<00:00, 50.07it/s, train_loss=0.00209, valid_loss=0.00161]\n",
      "Epoch: 43/50...: 100%|██████████| 50/50 [00:01<00:00, 44.30it/s, train_loss=0.00149, valid_loss=0.00148]\n",
      "Epoch: 44/50...: 100%|██████████| 50/50 [00:01<00:00, 45.70it/s, train_loss=0.00149, valid_loss=0.00139]\n",
      "Epoch: 45/50...: 100%|██████████| 50/50 [00:01<00:00, 38.07it/s, train_loss=0.00164, valid_loss=0.00153]\n",
      "Epoch: 46/50...: 100%|██████████| 50/50 [00:00<00:00, 50.38it/s, train_loss=0.00143, valid_loss=0.00145]\n",
      "Epoch: 47/50...: 100%|██████████| 50/50 [00:01<00:00, 46.81it/s, train_loss=0.00135, valid_loss=0.00145]\n",
      "Epoch: 48/50...: 100%|██████████| 50/50 [00:00<00:00, 50.60it/s, train_loss=0.00145, valid_loss=0.00139]\n",
      "Epoch: 49/50...: 100%|██████████| 50/50 [00:01<00:00, 41.38it/s, train_loss=0.0016, valid_loss=0.00151] \n",
      "Epoch: 50/50...: 100%|██████████| 50/50 [00:00<00:00, 51.65it/s, train_loss=0.00146, valid_loss=0.00136]\n"
     ]
    },
    {
     "name": "stdout",
     "output_type": "stream",
     "text": [
      "train dataset 4\n"
     ]
    },
    {
     "name": "stderr",
     "output_type": "stream",
     "text": [
      "Epoch: 1/50...: 100%|██████████| 50/50 [00:01<00:00, 43.71it/s, train_loss=0.00152, valid_loss=0.00143]\n",
      "Epoch: 2/50...: 100%|██████████| 50/50 [00:00<00:00, 53.91it/s, train_loss=0.00217, valid_loss=0.0023] \n",
      "Epoch: 3/50...: 100%|██████████| 50/50 [00:01<00:00, 38.97it/s, train_loss=0.00131, valid_loss=0.00141]\n",
      "Epoch: 4/50...: 100%|██████████| 50/50 [00:00<00:00, 51.61it/s, train_loss=0.0014, valid_loss=0.0014]  \n",
      "Epoch: 5/50...: 100%|██████████| 50/50 [00:01<00:00, 46.52it/s, train_loss=0.00134, valid_loss=0.00144]\n",
      "Epoch: 6/50...: 100%|██████████| 50/50 [00:01<00:00, 38.31it/s, train_loss=0.00164, valid_loss=0.00159]\n",
      "Epoch: 7/50...: 100%|██████████| 50/50 [00:01<00:00, 32.97it/s, train_loss=0.00166, valid_loss=0.00135]\n",
      "Epoch: 8/50...: 100%|██████████| 50/50 [00:01<00:00, 37.23it/s, train_loss=0.00141, valid_loss=0.00156]\n",
      "Epoch: 9/50...: 100%|██████████| 50/50 [00:01<00:00, 37.97it/s, train_loss=0.00155, valid_loss=0.00146]\n",
      "Epoch: 10/50...: 100%|██████████| 50/50 [00:01<00:00, 37.64it/s, train_loss=0.00128, valid_loss=0.00149]\n",
      "Epoch: 11/50...: 100%|██████████| 50/50 [00:01<00:00, 39.90it/s, train_loss=0.0015, valid_loss=0.00149] \n",
      "Epoch: 12/50...: 100%|██████████| 50/50 [00:01<00:00, 36.09it/s, train_loss=0.00137, valid_loss=0.00139]\n",
      "Epoch: 13/50...: 100%|██████████| 50/50 [00:01<00:00, 43.04it/s, train_loss=0.00133, valid_loss=0.00145]\n",
      "Epoch: 14/50...: 100%|██████████| 50/50 [00:01<00:00, 41.43it/s, train_loss=0.00142, valid_loss=0.00139]\n",
      "Epoch: 15/50...: 100%|██████████| 50/50 [00:01<00:00, 42.08it/s, train_loss=0.00147, valid_loss=0.0015] \n",
      "Epoch: 16/50...: 100%|██████████| 50/50 [00:01<00:00, 33.81it/s, train_loss=0.00161, valid_loss=0.00139]\n",
      "Epoch: 17/50...: 100%|██████████| 50/50 [00:01<00:00, 39.70it/s, train_loss=0.00133, valid_loss=0.00138]\n",
      "Epoch: 18/50...: 100%|██████████| 50/50 [00:01<00:00, 46.40it/s, train_loss=0.0014, valid_loss=0.00137] \n",
      "Epoch: 19/50...: 100%|██████████| 50/50 [00:00<00:00, 58.22it/s, train_loss=0.00143, valid_loss=0.00155]\n",
      "Epoch: 20/50...: 100%|██████████| 50/50 [00:01<00:00, 43.24it/s, train_loss=0.00144, valid_loss=0.00137]\n",
      "Epoch: 21/50...: 100%|██████████| 50/50 [00:01<00:00, 38.27it/s, train_loss=0.00253, valid_loss=0.00197]\n",
      "Epoch: 22/50...: 100%|██████████| 50/50 [00:01<00:00, 44.69it/s, train_loss=0.00186, valid_loss=0.0014] \n",
      "Epoch: 23/50...: 100%|██████████| 50/50 [00:00<00:00, 50.35it/s, train_loss=0.00144, valid_loss=0.00138]\n",
      "Epoch: 24/50...: 100%|██████████| 50/50 [00:01<00:00, 44.77it/s, train_loss=0.00141, valid_loss=0.00135]\n",
      "Epoch: 25/50...: 100%|██████████| 50/50 [00:01<00:00, 48.32it/s, train_loss=0.00144, valid_loss=0.0014] \n",
      "Epoch: 26/50...: 100%|██████████| 50/50 [00:01<00:00, 49.35it/s, train_loss=0.00142, valid_loss=0.00142]\n",
      "Epoch: 27/50...: 100%|██████████| 50/50 [00:01<00:00, 46.18it/s, train_loss=0.00132, valid_loss=0.00138]\n",
      "Epoch: 28/50...: 100%|██████████| 50/50 [00:01<00:00, 37.24it/s, train_loss=0.00153, valid_loss=0.00138]\n",
      "Epoch: 29/50...: 100%|██████████| 50/50 [00:00<00:00, 50.17it/s, train_loss=0.00161, valid_loss=0.00148]\n",
      "Epoch: 30/50...: 100%|██████████| 50/50 [00:00<00:00, 51.52it/s, train_loss=0.00181, valid_loss=0.0015] \n",
      "Epoch: 31/50...: 100%|██████████| 50/50 [00:00<00:00, 51.64it/s, train_loss=0.00149, valid_loss=0.00145]\n",
      "Epoch: 32/50...: 100%|██████████| 50/50 [00:01<00:00, 43.13it/s, train_loss=0.00136, valid_loss=0.00136]\n",
      "Epoch: 33/50...: 100%|██████████| 50/50 [00:00<00:00, 50.95it/s, train_loss=0.00141, valid_loss=0.00139]\n",
      "Epoch: 34/50...: 100%|██████████| 50/50 [00:01<00:00, 49.72it/s, train_loss=0.00138, valid_loss=0.00138]\n",
      "Epoch: 35/50...: 100%|██████████| 50/50 [00:00<00:00, 54.18it/s, train_loss=0.00179, valid_loss=0.00184]\n",
      "Epoch: 36/50...: 100%|██████████| 50/50 [00:00<00:00, 54.31it/s, train_loss=0.00144, valid_loss=0.00147]\n",
      "Epoch: 37/50...: 100%|██████████| 50/50 [00:01<00:00, 46.00it/s, train_loss=0.00137, valid_loss=0.00154]\n",
      "Epoch: 38/50...: 100%|██████████| 50/50 [00:00<00:00, 55.59it/s, train_loss=0.00135, valid_loss=0.00144]\n",
      "Epoch: 39/50...: 100%|██████████| 50/50 [00:00<00:00, 51.71it/s, train_loss=0.00136, valid_loss=0.0015] \n",
      "Epoch: 40/50...: 100%|██████████| 50/50 [00:01<00:00, 48.62it/s, train_loss=0.00161, valid_loss=0.00136]\n",
      "Epoch: 41/50...: 100%|██████████| 50/50 [00:01<00:00, 41.93it/s, train_loss=0.00164, valid_loss=0.00161]\n",
      "Epoch: 42/50...: 100%|██████████| 50/50 [00:00<00:00, 53.85it/s, train_loss=0.00143, valid_loss=0.00155]\n",
      "Epoch: 43/50...: 100%|██████████| 50/50 [00:00<00:00, 56.39it/s, train_loss=0.0014, valid_loss=0.00178] \n",
      "Epoch: 44/50...: 100%|██████████| 50/50 [00:00<00:00, 52.73it/s, train_loss=0.0013, valid_loss=0.00138] \n",
      "Epoch: 45/50...: 100%|██████████| 50/50 [00:01<00:00, 41.07it/s, train_loss=0.00137, valid_loss=0.00154]\n",
      "Epoch: 46/50...: 100%|██████████| 50/50 [00:01<00:00, 48.72it/s, train_loss=0.00134, valid_loss=0.00149]\n",
      "Epoch: 47/50...: 100%|██████████| 50/50 [00:00<00:00, 53.89it/s, train_loss=0.00142, valid_loss=0.00135]\n",
      "Epoch: 48/50...: 100%|██████████| 50/50 [00:00<00:00, 52.39it/s, train_loss=0.00159, valid_loss=0.00156]\n",
      "Epoch: 49/50...: 100%|██████████| 50/50 [00:01<00:00, 43.50it/s, train_loss=0.00145, valid_loss=0.0014] \n",
      "Epoch: 50/50...: 100%|██████████| 50/50 [00:00<00:00, 52.13it/s, train_loss=0.00145, valid_loss=0.00143]\n"
     ]
    }
   ],
   "source": [
    "(MAPE_list, MAE_list, RMSE_list, load_pred, load_true, model) = main()"
   ]
  },
  {
   "cell_type": "code",
   "execution_count": 12,
   "metadata": {
    "ExecuteTime": {
     "end_time": "2021-12-19T03:18:16.356190Z",
     "start_time": "2021-12-19T03:18:16.345632Z"
    },
    "colab": {
     "base_uri": "https://localhost:8080/"
    },
    "executionInfo": {
     "elapsed": 355,
     "status": "ok",
     "timestamp": 1635327898631,
     "user": {
      "displayName": "Mark Dong",
      "photoUrl": "https://lh3.googleusercontent.com/a/default-user=s64",
      "userId": "04537685704836554558"
     },
     "user_tz": -480
    },
    "id": "JRjWNTa5ArIK",
    "outputId": "66b3de2d-7eae-4e7f-d90b-b983ea45e167"
   },
   "outputs": [
    {
     "data": {
      "text/plain": [
       "([0.07489882796990989], [994.782615369872], [2237.311488580672])"
      ]
     },
     "execution_count": 12,
     "metadata": {},
     "output_type": "execute_result"
    }
   ],
   "source": [
    "MAPE_list, MAE_list, RMSE_list"
   ]
  },
  {
   "cell_type": "code",
   "execution_count": 13,
   "metadata": {
    "ExecuteTime": {
     "end_time": "2021-12-19T03:18:18.823240Z",
     "start_time": "2021-12-19T03:18:18.710699Z"
    },
    "colab": {
     "base_uri": "https://localhost:8080/",
     "height": 286
    },
    "executionInfo": {
     "elapsed": 574,
     "status": "ok",
     "timestamp": 1635327930309,
     "user": {
      "displayName": "Mark Dong",
      "photoUrl": "https://lh3.googleusercontent.com/a/default-user=s64",
      "userId": "04537685704836554558"
     },
     "user_tz": -480
    },
    "id": "DoeoVbj-_32I",
    "outputId": "d7db78d1-bdb8-4b1c-994c-6dcff7fc31ed"
   },
   "outputs": [
    {
     "data": {
      "text/plain": [
       "[<matplotlib.lines.Line2D at 0x7f9ef138c9a0>]"
      ]
     },
     "execution_count": 13,
     "metadata": {},
     "output_type": "execute_result"
    },
    {
     "data": {
      "image/png": "[encoded data removed]",
      "text/plain": [
       "<Figure size 432x288 with 1 Axes>"
      ]
     },
     "metadata": {
      "needs_background": "light"
     },
     "output_type": "display_data"
    }
   ],
   "source": [
    "plt.plot(load_pred[0:240], 'r')\n",
    "plt.plot(load_true[0:240], 'g')"
   ]
  }
 ],
 "metadata": {
  "accelerator": "GPU",
  "colab": {
   "collapsed_sections": [],
   "name": "FNN-1027.ipynb",
   "provenance": [
    {
     "file_id": "1JnY81SzKkuYnz0eoAeX6P74aYK2GBTfi",
     "timestamp": 1635316910538
    }
   ]
  },
  "kernelspec": {
   "display_name": "Python 3",
   "language": "python",
   "name": "python3"
  },
  "language_info": {
   "codemirror_mode": {
    "name": "ipython",
    "version": 3
   },
   "file_extension": ".py",
   "mimetype": "text/x-python",
   "name": "python",
   "nbconvert_exporter": "python",
   "pygments_lexer": "ipython3",
   "version": "3.8.12"
  },
  "toc": {
   "base_numbering": 1,
   "nav_menu": {},
   "number_sections": true,
   "sideBar": true,
   "skip_h1_title": false,
   "title_cell": "Table of Contents",
   "title_sidebar": "Contents",
   "toc_cell": false,
   "toc_position": {
    "height": "calc(100% - 180px)",
    "left": "10px",
    "top": "150px",
    "width": "241px"
   },
   "toc_section_display": true,
   "toc_window_display": true
  },
  "varInspector": {
   "cols": {
    "lenName": 16,
    "lenType": 16,
    "lenVar": 40
   },
   "kernels_config": {
    "python": {
     "delete_cmd_postfix": "",
     "delete_cmd_prefix": "del ",
     "library": "var_list.py",
     "varRefreshCmd": "print(var_dic_list())"
    },
    "r": {
     "delete_cmd_postfix": ") ",
     "delete_cmd_prefix": "rm(",
     "library": "var_list.r",
     "varRefreshCmd": "cat(var_dic_list()) "
    }
   },
   "types_to_exclude": [
    "module",
    "function",
    "builtin_function_or_method",
    "instance",
    "_Feature"
   ],
   "window_display": false
  }
 },
 "nbformat": 4,
 "nbformat_minor": 1
}
