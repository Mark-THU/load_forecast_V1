{
 "cells": [
  {
   "cell_type": "markdown",
   "metadata": {},
   "source": [
    "# LSTM用于预测"
   ]
  },
  {
   "cell_type": "code",
   "execution_count": 1,
   "metadata": {
    "ExecuteTime": {
     "end_time": "2021-12-19T03:17:16.253507Z",
     "start_time": "2021-12-19T03:17:15.149550Z"
    },
    "id": "W-jyRZqxUF2-"
   },
   "outputs": [],
   "source": [
    "import pandas as pd\n",
    "import numpy as np\n",
    "import matplotlib.pyplot as plt\n",
    "import pdb\n",
    "import torch\n",
    "import torch.nn as nn\n",
    "\n",
    "from sklearn.preprocessing import StandardScaler, MinMaxScaler\n",
    "from sklearn.model_selection import train_test_split, KFold\n",
    "from sqlalchemy import create_engine\n",
    "from torch.autograd import Variable\n",
    "from torch.utils.data import TensorDataset, DataLoader\n",
    "from tqdm import tqdm"
   ]
  },
  {
   "cell_type": "code",
   "execution_count": 2,
   "metadata": {
    "ExecuteTime": {
     "end_time": "2021-12-19T03:17:19.235438Z",
     "start_time": "2021-12-19T03:17:19.192248Z"
    },
    "id": "mXGB-NgvYQdT"
   },
   "outputs": [],
   "source": [
    "if torch.cuda.is_available():  \n",
    "    dev = \"cuda:0\" \n",
    "else:  \n",
    "    dev = \"cpu\"\n",
    "device = torch.device(dev)"
   ]
  },
  {
   "cell_type": "markdown",
   "metadata": {},
   "source": [
    "## 导入数据"
   ]
  },
  {
   "cell_type": "code",
   "execution_count": 3,
   "metadata": {
    "ExecuteTime": {
     "end_time": "2021-12-19T03:17:26.381913Z",
     "start_time": "2021-12-19T03:17:26.295619Z"
    },
    "id": "14JEOyI5UF3I"
   },
   "outputs": [],
   "source": [
    "# load data\n",
    "url = '../dataset_0101110000.csv'\n",
    "data = pd.read_csv(url, sep=',', index_col='time')"
   ]
  },
  {
   "cell_type": "markdown",
   "metadata": {},
   "source": [
    "## 归一化"
   ]
  },
  {
   "cell_type": "code",
   "execution_count": 4,
   "metadata": {
    "ExecuteTime": {
     "end_time": "2021-12-19T03:18:52.885743Z",
     "start_time": "2021-12-19T03:18:52.879182Z"
    },
    "id": "ZMuY2BhfUF3K"
   },
   "outputs": [],
   "source": [
    "# 归一化\n",
    "def normalization(data):\n",
    "    \"\"\"\n",
    "    data: original data with load\n",
    "    return: normalized data, scaler of load\n",
    "    \"\"\"\n",
    "    normalized_data = MinMaxScaler().fit_transform(data)\n",
    "    scaler_y = MinMaxScaler()\n",
    "    scaler_y.fit_transform(data[['load']])\n",
    "    return normalized_data, scaler_y"
   ]
  },
  {
   "cell_type": "markdown",
   "metadata": {},
   "source": [
    "## 构建监督学习数据集"
   ]
  },
  {
   "cell_type": "code",
   "execution_count": 5,
   "metadata": {
    "ExecuteTime": {
     "end_time": "2021-12-19T03:20:16.102387Z",
     "start_time": "2021-12-19T03:20:16.088961Z"
    },
    "id": "Tza1H7XMUF3K"
   },
   "outputs": [],
   "source": [
    "def Series_To_Supervise(data, seq_len, y_col_index):\n",
    "    \"\"\"\n",
    "    convert series data to supervised data\n",
    "    :param data: original data\n",
    "    :param seq_len: length of sequence\n",
    "    :y_col_index: index of column which acts as output\n",
    "    :return: return two ndarrays-- input and output in format suitable to feed to LSTM\n",
    "    \"\"\"\n",
    "#     pdb.set_trace()\n",
    "    dim_0 = data.shape[0] - seq_len\n",
    "    dim_1 = data.shape[1]\n",
    "    x = np.zeros((dim_0, seq_len, dim_1))\n",
    "    y = np.zeros((dim_0,))\n",
    "    for i in range(dim_0):\n",
    "        x[i] = data[i: i+seq_len]\n",
    "        y[i] = data[i+seq_len, y_col_index]\n",
    "    print(\"Supervised Train Data: Shape of x: {}, Shape of y: {}\".format(x.shape, y.shape))\n",
    "    return x, y\n",
    "def Series_To_Supervise_Test(data, seq_len, y_col_index):\n",
    "    \"\"\"\n",
    "    convert series data to supervised data\n",
    "    :param data: original data\n",
    "    :param seq_len: length of sequence\n",
    "    :y_col_index: index of column which acts as output\n",
    "    :return: return two ndarrays-- input and output in format suitable to feed to LSTM\n",
    "    \"\"\"\n",
    "    dim_0 = int((data.shape[0] - seq_len)/24)+1\n",
    "    dim_1 = data.shape[1]\n",
    "    x = np.zeros((dim_0, seq_len, dim_1))\n",
    "    y = np.zeros((dim_0, 24))\n",
    "    for i in range(0, dim_0):\n",
    "        x[i] = data[i*24: i*24+seq_len]\n",
    "        y[i] = data[i*24+seq_len-24:i*24+seq_len, y_col_index]\n",
    "    print(\"Supervised Test Data: Shape of x: {}, Shape of y: {}\".format(x.shape, y.shape))\n",
    "    return x, y"
   ]
  },
  {
   "cell_type": "markdown",
   "metadata": {},
   "source": [
    "## 五折交叉验证"
   ]
  },
  {
   "cell_type": "code",
   "execution_count": 6,
   "metadata": {
    "ExecuteTime": {
     "end_time": "2021-12-19T03:20:29.731424Z",
     "start_time": "2021-12-19T03:20:29.723349Z"
    },
    "id": "Gt4Wfny1UF3L"
   },
   "outputs": [],
   "source": [
    "# 5-fold cross-validation\n",
    "def split_dataset(X, Y, n_split=5):\n",
    "    \"\"\"\n",
    "    X: original feature, size * 72 * features\n",
    "    Y: labels, size * 1\n",
    "    return: list of train_x, test_x, train_y, test_y\n",
    "    \"\"\"\n",
    "    kf = KFold(n_splits=n_split, shuffle=True, random_state=1)\n",
    "    train_x_list = list()\n",
    "    valid_x_list = list()\n",
    "    train_y_list = list()\n",
    "    valid_y_list = list()\n",
    "    for train_index, valid_index in kf.split(X):\n",
    "        train_x_list.append(X[train_index])\n",
    "        train_y_list.append(Y[train_index])\n",
    "        valid_x_list.append(X[valid_index])\n",
    "        valid_y_list.append(Y[valid_index])\n",
    "    return train_x_list, valid_x_list, train_y_list, valid_y_list"
   ]
  },
  {
   "cell_type": "markdown",
   "metadata": {},
   "source": [
    "## 定义模型"
   ]
  },
  {
   "cell_type": "code",
   "execution_count": 7,
   "metadata": {
    "ExecuteTime": {
     "end_time": "2021-12-19T03:20:38.976755Z",
     "start_time": "2021-12-19T03:20:38.963127Z"
    },
    "id": "DbTWGjDgUF3L"
   },
   "outputs": [],
   "source": [
    "# define model\n",
    "class LSTM(nn.Module):\n",
    "    def __init__(self, input_size, output_size, hidden_dim, n_layers, drop_prob=0.5):\n",
    "        super(LSTM, self).__init__()\n",
    "        # 初始化hidden_state参数\n",
    "        self.hidden_dim = hidden_dim\n",
    "        self.n_layers = n_layers\n",
    "        # 定义层\n",
    "        self.lstm = nn.LSTM(input_size, hidden_dim, n_layers, batch_first=True)\n",
    "        self.dropout = nn.Dropout(drop_prob)\n",
    "        self.fc = nn.Sequential(\n",
    "            nn.Linear(hidden_dim, 30),\n",
    "            nn.ReLU(),\n",
    "            nn.Linear(30,1)\n",
    "        )\n",
    "        self.relu = nn.ReLU()\n",
    "    \n",
    "    def forward(self, x):\n",
    "        batch_size = x.size(0)\n",
    "        hidden = self.init_hidden(batch_size)\n",
    "        \n",
    "        lstm_out, hidden = self.lstm(x, hidden)\n",
    "        # lstm_out = lstm_out.contiguous().view(-1, self.hidden_dim)\n",
    "        lstm_out = lstm_out[:, -1, :]\n",
    "        \n",
    "        out = self.dropout(lstm_out)\n",
    "        out = self.fc(lstm_out)\n",
    "        out = self.relu(out)\n",
    "        \n",
    "        out = out.view(batch_size, -1)\n",
    "        out = out[:, -1]\n",
    "        \n",
    "        return out, hidden\n",
    "    \n",
    "    def init_hidden(self, batch_size):\n",
    "        hidden = (torch.zeros(self.n_layers, batch_size, self.hidden_dim).to(device),\n",
    "                      torch.zeros(self.n_layers, batch_size, self.hidden_dim).to(device))\n",
    "        return hidden"
   ]
  },
  {
   "cell_type": "markdown",
   "metadata": {},
   "source": [
    "## 训练模型"
   ]
  },
  {
   "cell_type": "code",
   "execution_count": 17,
   "metadata": {
    "ExecuteTime": {
     "end_time": "2021-12-19T03:26:50.287335Z",
     "start_time": "2021-12-19T03:26:50.275515Z"
    },
    "id": "ohb3Qmq-UF3M"
   },
   "outputs": [],
   "source": [
    "# train the model\n",
    "def Train_Model(train_x_list, train_y_list, valid_x_list, valid_y_list, hidden_dim, lr, number_epochs=50, batch_size=512,\n",
    "                input_dim=5, n_layers=2, output_size=1, seq_len=48):\n",
    "    model_lstm = LSTM(input_dim, output_size, hidden_dim, n_layers)\n",
    "    model_lstm.to(device)\n",
    "    criterion = nn.MSELoss()\n",
    "    optimizer = torch.optim.Adam(model_lstm.parameters(), lr=lr)\n",
    "    valid_loss_min = np.Inf\n",
    "\n",
    "    for i in range(5):\n",
    "        print('train dataset {}'.format(i))\n",
    "        train_x = train_x_list[i]\n",
    "        train_y = train_y_list[i]\n",
    "        valid_x = valid_x_list[i]\n",
    "        valid_y = valid_y_list[i]\n",
    "        train_x = train_x[:, 0:seq_len]\n",
    "        valid_x = valid_x[:, 0:seq_len]\n",
    "        train_dataset = TensorDataset(torch.FloatTensor(train_x), torch.FloatTensor(train_y))\n",
    "        valid_dataset = TensorDataset(torch.FloatTensor(valid_x), torch.FloatTensor(valid_y))\n",
    "        \n",
    "        train_loader = DataLoader(dataset=train_dataset, batch_size=batch_size, shuffle=True, drop_last=False)\n",
    "        valid_loader = DataLoader(dataset=valid_dataset, batch_size=batch_size, shuffle=True, drop_last=False)\n",
    "        train_losses = list()\n",
    "        \n",
    "        num_without_imp = 0\n",
    "        \n",
    "        # train\n",
    "        for epoch in range(1, number_epochs+1):\n",
    "            loop = tqdm(enumerate(train_loader), total=len(train_loader))\n",
    "            for i, (inputs, labels) in loop:\n",
    "                inputs = inputs.to(device=device)\n",
    "                labels = labels.to(device=device)\n",
    "                optimizer.zero_grad()\n",
    "                outputs, hidden = model_lstm(inputs)\n",
    "                loss = criterion(outputs, labels)\n",
    "                loss.backward()\n",
    "                optimizer.step()\n",
    "                train_losses.append(loss.item())\n",
    "                \n",
    "                if i % 5 == 0:\n",
    "#                     if num_without_imp > 60:\n",
    "#                         return model_lstm\n",
    "                    num_without_imp = num_without_imp + 1\n",
    "                    valid_losses = list()\n",
    "                    model_lstm.eval()\n",
    "                    for inp, lab in valid_loader:\n",
    "                        inp = inp.to(device=device)\n",
    "                        lab = lab.to(device=device)\n",
    "                        out, h = model_lstm(inp)\n",
    "                        valid_loss = criterion(out, lab)\n",
    "                        valid_losses.append(valid_loss.item())\n",
    "                    model_lstm.train()\n",
    "                    loop.set_description(\"Epoch: {}/{}...\".format(\n",
    "                        epoch, number_epochs))\n",
    "                    loop.set_postfix(train_loss=loss.item(),\n",
    "                                     valid_loss=np.mean(valid_losses))\n",
    "                    if np.mean(valid_losses) < valid_loss_min:\n",
    "                        num_without_imp = 0\n",
    "                        torch.save(model_lstm.state_dict(), \"lstm_state_dict.pt\")\n",
    "                        valid_loss_min = np.mean(valid_losses)\n",
    "    return model_lstm"
   ]
  },
  {
   "cell_type": "markdown",
   "metadata": {},
   "source": [
    "## 测试模型"
   ]
  },
  {
   "cell_type": "code",
   "execution_count": 9,
   "metadata": {
    "ExecuteTime": {
     "end_time": "2021-12-19T03:22:33.723201Z",
     "start_time": "2021-12-19T03:22:33.708270Z"
    },
    "id": "LUbDI3Y3SY4H"
   },
   "outputs": [],
   "source": [
    "## test the model 24 hours ahead\n",
    "def Test_Model_24(model, test_x, test_y, batch_size, seq_len, y_col_index, scaler):\n",
    "    test_dataset = TensorDataset(torch.FloatTensor(test_x), torch.FloatTensor(test_y))\n",
    "    test_loader = DataLoader(dataset=test_dataset, batch_size=batch_size, shuffle=False, drop_last=False)\n",
    "    model.load_state_dict(torch.load('lstm_state_dict.pt'))\n",
    "    size = 24\n",
    "    y_pred = list()\n",
    "    y_true = list()\n",
    "    with torch.no_grad():\n",
    "        for inputs, _ in test_loader:\n",
    "            inputs = inputs.to(device=device)\n",
    "            for i in range(size):\n",
    "                inp = inputs[:, 0:i+seq_len]\n",
    "                outputs, hidden = model(inp)\n",
    "                labels = inputs[:, i+seq_len, y_col_index]                \n",
    "                y_pred = y_pred + outputs.cpu().numpy().tolist()\n",
    "                y_true = y_true + labels.cpu().numpy().tolist()\n",
    "                inputs[:, i+seq_len, y_col_index] = outputs\n",
    "    y_true = np.array(y_true)\n",
    "    y_pred = np.array(y_pred)\n",
    "    load_true = scaler.inverse_transform(np.expand_dims(y_true, axis=1))\n",
    "    load_pred = scaler.inverse_transform(np.expand_dims(y_pred, axis=1))\n",
    "    MAPE = np.mean(np.abs(load_true-load_pred)/load_true)\n",
    "    MAE = np.mean(np.abs(load_true-load_pred))\n",
    "    RMSE = np.sqrt(np.mean(np.square(load_true-load_pred)))\n",
    "    return MAPE, MAE, RMSE, load_pred, load_true"
   ]
  },
  {
   "cell_type": "markdown",
   "metadata": {},
   "source": [
    "## 超参数定义"
   ]
  },
  {
   "cell_type": "code",
   "execution_count": 10,
   "metadata": {
    "ExecuteTime": {
     "end_time": "2021-12-19T03:22:41.430911Z",
     "start_time": "2021-12-19T03:22:41.424248Z"
    },
    "id": "thj9qZovUF3N"
   },
   "outputs": [],
   "source": [
    "# model configs\n",
    "def Model_Configs():\n",
    "    batch_sizes = [512]\n",
    "    n_layers = [4]\n",
    "    lrs = [0.01]\n",
    "    hidden_dims = [100]\n",
    "    configs = list()\n",
    "    for i in batch_sizes:\n",
    "        for j in n_layers:\n",
    "            for k in lrs:\n",
    "                for l in hidden_dims:\n",
    "                    configs.append([i, j, k, l])\n",
    "    return configs"
   ]
  },
  {
   "cell_type": "markdown",
   "metadata": {},
   "source": [
    "## 主函数"
   ]
  },
  {
   "cell_type": "code",
   "execution_count": 11,
   "metadata": {
    "ExecuteTime": {
     "end_time": "2021-12-19T03:23:06.271914Z",
     "start_time": "2021-12-19T03:23:06.254691Z"
    },
    "id": "L03esL1dUF3O"
   },
   "outputs": [],
   "source": [
    "def main(n_split=5, seq_len=48, number_epoch=40):\n",
    "    # normalized_data, scaler_y = normalization(data)\n",
    "    # y_index = normalized_data.shape[1] - 1\n",
    "    # num_features = normalized_data.shape[1]\n",
    "    # x, _ = Series_To_Supervise(normalized_data, seq_len=seq_len + 24, y_col_index=y_index)\n",
    "    # _, y = Series_To_Supervise(normalized_data, seq_len=seq_len, y_col_index=y_index)\n",
    "    # y = y[0:-24]\n",
    "    # train_x_list, valid_x_list, test_x_list, train_y_list, valid_y_list, test_y_list = split_dataset(x, y, n_split=n_split)  \n",
    "    # 归一化\n",
    "    normalized_data, scaler_y = normalization(data)\n",
    "    train_data = normalized_data\n",
    "    test_data = normalized_data[-3000:]\n",
    "    # 数据处理，将时间序列数据变为监督学习数据\n",
    "    y_index = normalized_data.shape[1] -1\n",
    "    num_features = normalized_data.shape[1]\n",
    "    _, Y = Series_To_Supervise(train_data, seq_len=seq_len, y_col_index=y_index) \n",
    "    # 五折交叉验证，划分数据集\n",
    "    # 为了方便测试24点准确性， seq_len需要+24\n",
    "    X, _ = Series_To_Supervise(train_data, seq_len=seq_len + 24, y_col_index=y_index)\n",
    "    Y = Y[:-24]\n",
    "    train_x_list, valid_x_list, train_y_list, valid_y_list = split_dataset(X, Y)\n",
    "    test_x, test_y = Series_To_Supervise_Test(test_data, seq_len=seq_len + 24, y_col_index=y_index)\n",
    "    \n",
    "    configs = Model_Configs()\n",
    "    MAPE_list = list()\n",
    "    MAE_list = list()\n",
    "    RMSE_list = list()\n",
    "    for config in configs:\n",
    "        batch_size = config[0]\n",
    "        n_layer = config[1]\n",
    "        lr = config[2]\n",
    "        hidden_dim = config[3]\n",
    "        print(\"Model Config: batch_size--{}, n_layer--{}, lr--{}, hidden_dims--{}\".format(batch_size, n_layer, lr, hidden_dim))\n",
    "      \n",
    "        while(1):\n",
    "            model = Train_Model(train_x_list, train_y_list, valid_x_list, valid_y_list, hidden_dim=hidden_dim, lr=lr, \n",
    "                                number_epochs=number_epoch, batch_size=batch_size,input_dim=num_features, n_layers=n_layer, \n",
    "                                output_size=1, seq_len=seq_len)\n",
    "            (MAPE, MAE, RMSE, load_pred, load_true) = Test_Model_24(model, test_x, test_y, batch_size=batch_size,seq_len=seq_len, y_col_index=y_index, scaler=scaler_y)\n",
    "            if MAPE < 0.1:\n",
    "                break\n",
    "        MAPE_list.append(MAPE)\n",
    "        MAE_list.append(MAE)\n",
    "        RMSE_list.append(RMSE)\n",
    "    return (MAPE_list, MAE_list, RMSE_list, load_pred, load_true, model)\n",
    "        "
   ]
  },
  {
   "cell_type": "markdown",
   "metadata": {},
   "source": [
    "## 运行主函数"
   ]
  },
  {
   "cell_type": "code",
   "execution_count": 19,
   "metadata": {
    "ExecuteTime": {
     "end_time": "2021-12-19T04:33:20.238432Z",
     "start_time": "2021-12-19T03:48:33.941398Z"
    },
    "id": "MQiwVueZQB_c"
   },
   "outputs": [
    {
     "name": "stdout",
     "output_type": "stream",
     "text": [
      "Supervised Train Data: Shape of x: (31611, 48, 23), Shape of y: (31611,)\n",
      "Supervised Train Data: Shape of x: (31587, 72, 23), Shape of y: (31587,)\n",
      "Supervised Test Data: Shape of x: (123, 72, 23), Shape of y: (123, 24)\n",
      "Model Config: batch_size--512, n_layer--4, lr--0.01, hidden_dims--100\n",
      "train dataset 0\n"
     ]
    },
    {
     "name": "stderr",
     "output_type": "stream",
     "text": [
      "Epoch: 1/40...: 100%|██████████| 50/50 [00:06<00:00,  8.18it/s, train_loss=0.185, valid_loss=0.174]\n",
      "Epoch: 2/40...: 100%|██████████| 50/50 [00:06<00:00,  7.57it/s, train_loss=0.17, valid_loss=0.175] \n",
      "Epoch: 3/40...: 100%|██████████| 50/50 [00:06<00:00,  8.11it/s, train_loss=0.179, valid_loss=0.173]\n",
      "Epoch: 4/40...: 100%|██████████| 50/50 [00:05<00:00,  9.86it/s, train_loss=0.175, valid_loss=0.173]\n",
      "Epoch: 5/40...: 100%|██████████| 50/50 [00:05<00:00,  8.55it/s, train_loss=0.184, valid_loss=0.175]\n",
      "Epoch: 6/40...: 100%|██████████| 50/50 [00:07<00:00,  7.04it/s, train_loss=0.165, valid_loss=0.174]\n",
      "Epoch: 7/40...: 100%|██████████| 50/50 [00:08<00:00,  6.24it/s, train_loss=0.175, valid_loss=0.174]\n",
      "Epoch: 8/40...: 100%|██████████| 50/50 [00:08<00:00,  5.73it/s, train_loss=0.168, valid_loss=0.172]\n",
      "Epoch: 9/40...: 100%|██████████| 50/50 [00:04<00:00, 10.43it/s, train_loss=0.183, valid_loss=0.175]\n",
      "Epoch: 10/40...: 100%|██████████| 50/50 [00:06<00:00,  7.55it/s, train_loss=0.184, valid_loss=0.174]\n",
      "Epoch: 11/40...: 100%|██████████| 50/50 [00:04<00:00, 10.45it/s, train_loss=0.176, valid_loss=0.174]\n",
      "Epoch: 12/40...: 100%|██████████| 50/50 [00:04<00:00, 10.94it/s, train_loss=0.175, valid_loss=0.173]\n",
      "Epoch: 13/40...: 100%|██████████| 50/50 [00:04<00:00, 10.72it/s, train_loss=0.187, valid_loss=0.173]\n",
      "Epoch: 14/40...: 100%|██████████| 50/50 [00:06<00:00,  7.82it/s, train_loss=0.182, valid_loss=0.174]\n",
      "Epoch: 15/40...: 100%|██████████| 50/50 [00:06<00:00,  7.33it/s, train_loss=0.194, valid_loss=0.173]\n",
      "Epoch: 16/40...: 100%|██████████| 50/50 [00:04<00:00, 11.13it/s, train_loss=0.18, valid_loss=0.174] \n",
      "Epoch: 17/40...: 100%|██████████| 50/50 [00:04<00:00, 11.10it/s, train_loss=0.193, valid_loss=0.174]\n",
      "Epoch: 18/40...: 100%|██████████| 50/50 [00:08<00:00,  5.68it/s, train_loss=0.171, valid_loss=0.174]\n",
      "Epoch: 19/40...: 100%|██████████| 50/50 [00:06<00:00,  7.19it/s, train_loss=0.167, valid_loss=0.174]\n",
      "Epoch: 20/40...: 100%|██████████| 50/50 [00:08<00:00,  6.12it/s, train_loss=0.169, valid_loss=0.173]\n",
      "Epoch: 21/40...: 100%|██████████| 50/50 [00:05<00:00,  9.01it/s, train_loss=0.177, valid_loss=0.174]\n",
      "Epoch: 22/40...: 100%|██████████| 50/50 [00:04<00:00, 10.69it/s, train_loss=0.166, valid_loss=0.174]\n",
      "Epoch: 23/40...: 100%|██████████| 50/50 [00:03<00:00, 12.70it/s, train_loss=0.173, valid_loss=0.173]\n",
      "Epoch: 24/40...: 100%|██████████| 50/50 [00:07<00:00,  6.76it/s, train_loss=0.187, valid_loss=0.174]\n",
      "Epoch: 25/40...: 100%|██████████| 50/50 [00:04<00:00, 10.21it/s, train_loss=0.176, valid_loss=0.173]\n",
      "Epoch: 26/40...: 100%|██████████| 50/50 [00:06<00:00,  7.35it/s, train_loss=0.179, valid_loss=0.174]\n",
      "Epoch: 27/40...: 100%|██████████| 50/50 [00:07<00:00,  7.08it/s, train_loss=0.181, valid_loss=0.175]\n",
      "Epoch: 28/40...: 100%|██████████| 50/50 [00:04<00:00, 10.32it/s, train_loss=0.179, valid_loss=0.173]\n",
      "Epoch: 29/40...: 100%|██████████| 50/50 [00:04<00:00, 11.07it/s, train_loss=0.173, valid_loss=0.173]\n",
      "Epoch: 30/40...: 100%|██████████| 50/50 [00:05<00:00,  9.82it/s, train_loss=0.186, valid_loss=0.174]\n",
      "Epoch: 31/40...: 100%|██████████| 50/50 [00:07<00:00,  6.84it/s, train_loss=0.157, valid_loss=0.174]\n",
      "Epoch: 32/40...: 100%|██████████| 50/50 [00:07<00:00,  6.60it/s, train_loss=0.156, valid_loss=0.174]\n",
      "Epoch: 33/40...: 100%|██████████| 50/50 [00:06<00:00,  8.23it/s, train_loss=0.165, valid_loss=0.174]\n",
      "Epoch: 34/40...: 100%|██████████| 50/50 [00:08<00:00,  5.57it/s, train_loss=0.178, valid_loss=0.175]\n",
      "Epoch: 35/40...: 100%|██████████| 50/50 [00:08<00:00,  5.76it/s, train_loss=0.156, valid_loss=0.174]\n",
      "Epoch: 36/40...: 100%|██████████| 50/50 [00:06<00:00,  8.07it/s, train_loss=0.182, valid_loss=0.174]\n",
      "Epoch: 37/40...: 100%|██████████| 50/50 [00:07<00:00,  6.53it/s, train_loss=0.174, valid_loss=0.173]\n",
      "Epoch: 38/40...: 100%|██████████| 50/50 [00:06<00:00,  7.57it/s, train_loss=0.163, valid_loss=0.174]\n",
      "Epoch: 39/40...: 100%|██████████| 50/50 [00:06<00:00,  7.65it/s, train_loss=0.17, valid_loss=0.173] \n",
      "Epoch: 40/40...: 100%|██████████| 50/50 [00:07<00:00,  7.11it/s, train_loss=0.165, valid_loss=0.174]\n"
     ]
    },
    {
     "name": "stdout",
     "output_type": "stream",
     "text": [
      "train dataset 1\n"
     ]
    },
    {
     "name": "stderr",
     "output_type": "stream",
     "text": [
      "Epoch: 1/40...: 100%|██████████| 50/50 [00:05<00:00,  8.75it/s, train_loss=0.174, valid_loss=0.173]\n",
      "Epoch: 2/40...: 100%|██████████| 50/50 [00:06<00:00,  7.88it/s, train_loss=0.178, valid_loss=0.174]\n",
      "Epoch: 3/40...: 100%|██████████| 50/50 [00:06<00:00,  8.05it/s, train_loss=0.17, valid_loss=0.174] \n",
      "Epoch: 4/40...: 100%|██████████| 50/50 [00:06<00:00,  7.49it/s, train_loss=0.154, valid_loss=0.174]\n",
      "Epoch: 5/40...: 100%|██████████| 50/50 [00:08<00:00,  6.24it/s, train_loss=0.169, valid_loss=0.174]\n",
      "Epoch: 6/40...: 100%|██████████| 50/50 [00:06<00:00,  7.37it/s, train_loss=0.172, valid_loss=0.173]\n",
      "Epoch: 7/40...: 100%|██████████| 50/50 [00:07<00:00,  6.36it/s, train_loss=0.18, valid_loss=0.174] \n",
      "Epoch: 8/40...: 100%|██████████| 50/50 [00:07<00:00,  6.81it/s, train_loss=0.174, valid_loss=0.173]\n",
      "Epoch: 9/40...: 100%|██████████| 50/50 [00:07<00:00,  6.67it/s, train_loss=0.17, valid_loss=0.172] \n",
      "Epoch: 10/40...: 100%|██████████| 50/50 [00:06<00:00,  7.90it/s, train_loss=0.165, valid_loss=0.174]\n",
      "Epoch: 11/40...: 100%|██████████| 50/50 [00:07<00:00,  6.72it/s, train_loss=0.18, valid_loss=0.174] \n",
      "Epoch: 12/40...: 100%|██████████| 50/50 [00:10<00:00,  5.00it/s, train_loss=0.172, valid_loss=0.173]\n",
      "Epoch: 13/40...: 100%|██████████| 50/50 [00:09<00:00,  5.21it/s, train_loss=0.174, valid_loss=0.174]\n",
      "Epoch: 14/40...: 100%|██████████| 50/50 [00:08<00:00,  5.69it/s, train_loss=0.16, valid_loss=0.173] \n",
      "Epoch: 15/40...: 100%|██████████| 50/50 [00:07<00:00,  7.03it/s, train_loss=0.175, valid_loss=0.173]\n",
      "Epoch: 16/40...: 100%|██████████| 50/50 [00:06<00:00,  7.92it/s, train_loss=0.172, valid_loss=0.174]\n",
      "Epoch: 17/40...: 100%|██████████| 50/50 [00:07<00:00,  7.02it/s, train_loss=0.185, valid_loss=0.175]\n",
      "Epoch: 18/40...: 100%|██████████| 50/50 [00:08<00:00,  5.85it/s, train_loss=0.171, valid_loss=0.174]\n",
      "Epoch: 19/40...: 100%|██████████| 50/50 [00:09<00:00,  5.49it/s, train_loss=0.177, valid_loss=0.173]\n",
      "Epoch: 20/40...: 100%|██████████| 50/50 [00:06<00:00,  7.62it/s, train_loss=0.173, valid_loss=0.173]\n",
      "Epoch: 21/40...: 100%|██████████| 50/50 [00:07<00:00,  6.68it/s, train_loss=0.17, valid_loss=0.174] \n",
      "Epoch: 22/40...: 100%|██████████| 50/50 [00:08<00:00,  5.99it/s, train_loss=0.177, valid_loss=0.174]\n",
      "Epoch: 23/40...: 100%|██████████| 50/50 [00:06<00:00,  7.63it/s, train_loss=0.179, valid_loss=0.174]\n",
      "Epoch: 24/40...: 100%|██████████| 50/50 [00:08<00:00,  6.02it/s, train_loss=0.187, valid_loss=0.174]\n",
      "Epoch: 25/40...: 100%|██████████| 50/50 [00:08<00:00,  5.73it/s, train_loss=0.174, valid_loss=0.174]\n",
      "Epoch: 26/40...: 100%|██████████| 50/50 [00:07<00:00,  6.80it/s, train_loss=0.166, valid_loss=0.174]\n",
      "Epoch: 27/40...: 100%|██████████| 50/50 [00:04<00:00, 10.09it/s, train_loss=0.165, valid_loss=0.173]\n",
      "Epoch: 28/40...: 100%|██████████| 50/50 [00:04<00:00, 11.43it/s, train_loss=0.182, valid_loss=0.173]\n",
      "Epoch: 29/40...: 100%|██████████| 50/50 [00:04<00:00, 11.12it/s, train_loss=0.172, valid_loss=0.173]\n",
      "Epoch: 30/40...: 100%|██████████| 50/50 [00:06<00:00,  7.56it/s, train_loss=0.177, valid_loss=0.174]\n",
      "Epoch: 31/40...: 100%|██████████| 50/50 [00:08<00:00,  5.82it/s, train_loss=0.18, valid_loss=0.174] \n",
      "Epoch: 32/40...: 100%|██████████| 50/50 [00:07<00:00,  6.31it/s, train_loss=0.183, valid_loss=0.173]\n",
      "Epoch: 33/40...: 100%|██████████| 50/50 [00:07<00:00,  6.51it/s, train_loss=0.172, valid_loss=0.174]\n",
      "Epoch: 34/40...: 100%|██████████| 50/50 [00:07<00:00,  6.55it/s, train_loss=0.174, valid_loss=0.173]\n",
      "Epoch: 35/40...: 100%|██████████| 50/50 [00:07<00:00,  6.33it/s, train_loss=0.178, valid_loss=0.174]\n",
      "Epoch: 36/40...: 100%|██████████| 50/50 [00:07<00:00,  6.93it/s, train_loss=0.156, valid_loss=0.173]\n",
      "Epoch: 37/40...: 100%|██████████| 50/50 [00:05<00:00,  8.68it/s, train_loss=0.186, valid_loss=0.174]\n",
      "Epoch: 38/40...: 100%|██████████| 50/50 [00:07<00:00,  7.09it/s, train_loss=0.16, valid_loss=0.173] \n",
      "Epoch: 39/40...: 100%|██████████| 50/50 [00:06<00:00,  7.24it/s, train_loss=0.17, valid_loss=0.174] \n",
      "Epoch: 40/40...: 100%|██████████| 50/50 [00:08<00:00,  5.69it/s, train_loss=0.182, valid_loss=0.173]\n"
     ]
    },
    {
     "name": "stdout",
     "output_type": "stream",
     "text": [
      "train dataset 2\n"
     ]
    },
    {
     "name": "stderr",
     "output_type": "stream",
     "text": [
      "Epoch: 1/40...: 100%|██████████| 50/50 [00:05<00:00,  9.95it/s, train_loss=0.178, valid_loss=0.179]\n",
      "Epoch: 2/40...: 100%|██████████| 50/50 [00:06<00:00,  7.56it/s, train_loss=0.175, valid_loss=0.178]\n",
      "Epoch: 3/40...: 100%|██████████| 50/50 [00:07<00:00,  6.29it/s, train_loss=0.176, valid_loss=0.178]\n",
      "Epoch: 4/40...: 100%|██████████| 50/50 [00:07<00:00,  6.70it/s, train_loss=0.166, valid_loss=0.177]\n",
      "Epoch: 5/40...: 100%|██████████| 50/50 [00:07<00:00,  7.10it/s, train_loss=0.173, valid_loss=0.177]\n",
      "Epoch: 6/40...: 100%|██████████| 50/50 [00:07<00:00,  6.62it/s, train_loss=0.169, valid_loss=0.177]\n",
      "Epoch: 7/40...: 100%|██████████| 50/50 [00:07<00:00,  6.77it/s, train_loss=0.18, valid_loss=0.178] \n",
      "Epoch: 8/40...: 100%|██████████| 50/50 [00:06<00:00,  7.92it/s, train_loss=0.154, valid_loss=0.177]\n",
      "Epoch: 9/40...: 100%|██████████| 50/50 [00:06<00:00,  8.07it/s, train_loss=0.164, valid_loss=0.177]\n",
      "Epoch: 10/40...: 100%|██████████| 50/50 [00:06<00:00,  7.50it/s, train_loss=0.179, valid_loss=0.177]\n",
      "Epoch: 11/40...: 100%|██████████| 50/50 [00:06<00:00,  8.25it/s, train_loss=0.165, valid_loss=0.178]\n",
      "Epoch: 12/40...: 100%|██████████| 50/50 [00:05<00:00,  8.36it/s, train_loss=0.172, valid_loss=0.178]\n",
      "Epoch: 13/40...: 100%|██████████| 50/50 [00:08<00:00,  5.73it/s, train_loss=0.17, valid_loss=0.177] \n",
      "Epoch: 14/40...: 100%|██████████| 50/50 [00:08<00:00,  6.00it/s, train_loss=0.176, valid_loss=0.177]\n",
      "Epoch: 15/40...: 100%|██████████| 50/50 [00:05<00:00,  9.01it/s, train_loss=0.178, valid_loss=0.178]\n",
      "Epoch: 16/40...: 100%|██████████| 50/50 [00:04<00:00, 11.11it/s, train_loss=0.169, valid_loss=0.178]\n",
      "Epoch: 17/40...: 100%|██████████| 50/50 [00:04<00:00, 12.09it/s, train_loss=0.163, valid_loss=0.177]\n",
      "Epoch: 18/40...: 100%|██████████| 50/50 [00:04<00:00, 10.29it/s, train_loss=0.171, valid_loss=0.177]\n",
      "Epoch: 19/40...: 100%|██████████| 50/50 [00:04<00:00, 10.10it/s, train_loss=0.169, valid_loss=0.178]\n",
      "Epoch: 20/40...: 100%|██████████| 50/50 [00:09<00:00,  5.18it/s, train_loss=0.172, valid_loss=0.178]\n",
      "Epoch: 21/40...: 100%|██████████| 50/50 [00:07<00:00,  6.58it/s, train_loss=0.16, valid_loss=0.178] \n",
      "Epoch: 22/40...: 100%|██████████| 50/50 [00:06<00:00,  7.90it/s, train_loss=0.168, valid_loss=0.178]\n",
      "Epoch: 23/40...: 100%|██████████| 50/50 [00:10<00:00,  4.85it/s, train_loss=0.173, valid_loss=0.177]\n",
      "Epoch: 24/40...: 100%|██████████| 50/50 [00:07<00:00,  6.37it/s, train_loss=0.17, valid_loss=0.178] \n",
      "Epoch: 25/40...: 100%|██████████| 50/50 [00:06<00:00,  8.32it/s, train_loss=0.17, valid_loss=0.179] \n",
      "Epoch: 26/40...: 100%|██████████| 50/50 [00:05<00:00,  9.62it/s, train_loss=0.176, valid_loss=0.178]\n",
      "Epoch: 27/40...: 100%|██████████| 50/50 [00:06<00:00,  7.69it/s, train_loss=0.176, valid_loss=0.178]\n",
      "Epoch: 28/40...: 100%|██████████| 50/50 [00:05<00:00,  8.66it/s, train_loss=0.171, valid_loss=0.177]\n",
      "Epoch: 29/40...: 100%|██████████| 50/50 [00:08<00:00,  6.18it/s, train_loss=0.182, valid_loss=0.177]\n",
      "Epoch: 30/40...: 100%|██████████| 50/50 [00:07<00:00,  6.82it/s, train_loss=0.181, valid_loss=0.178]\n",
      "Epoch: 31/40...: 100%|██████████| 50/50 [00:06<00:00,  8.18it/s, train_loss=0.176, valid_loss=0.178]\n",
      "Epoch: 32/40...: 100%|██████████| 50/50 [00:08<00:00,  6.00it/s, train_loss=0.165, valid_loss=0.177]\n",
      "Epoch: 33/40...: 100%|██████████| 50/50 [00:07<00:00,  6.61it/s, train_loss=0.174, valid_loss=0.178]\n",
      "Epoch: 34/40...: 100%|██████████| 50/50 [00:08<00:00,  6.02it/s, train_loss=0.165, valid_loss=0.177]\n",
      "Epoch: 35/40...: 100%|██████████| 50/50 [00:08<00:00,  6.11it/s, train_loss=0.17, valid_loss=0.178] \n",
      "Epoch: 36/40...: 100%|██████████| 50/50 [00:07<00:00,  6.44it/s, train_loss=0.169, valid_loss=0.177]\n",
      "Epoch: 37/40...: 100%|██████████| 50/50 [00:08<00:00,  6.14it/s, train_loss=0.162, valid_loss=0.177]\n",
      "Epoch: 38/40...: 100%|██████████| 50/50 [00:07<00:00,  6.50it/s, train_loss=0.172, valid_loss=0.177]\n",
      "Epoch: 39/40...: 100%|██████████| 50/50 [00:09<00:00,  5.20it/s, train_loss=0.177, valid_loss=0.177]\n",
      "Epoch: 40/40...: 100%|██████████| 50/50 [00:09<00:00,  5.33it/s, train_loss=0.157, valid_loss=0.179]\n"
     ]
    },
    {
     "name": "stdout",
     "output_type": "stream",
     "text": [
      "train dataset 3\n"
     ]
    },
    {
     "name": "stderr",
     "output_type": "stream",
     "text": [
      "Epoch: 1/40...: 100%|██████████| 50/50 [00:07<00:00,  6.81it/s, train_loss=0.184, valid_loss=0.172]\n",
      "Epoch: 2/40...: 100%|██████████| 50/50 [00:06<00:00,  8.23it/s, train_loss=0.169, valid_loss=0.171]\n",
      "Epoch: 3/40...: 100%|██████████| 50/50 [00:05<00:00,  8.42it/s, train_loss=0.18, valid_loss=0.171] \n",
      "Epoch: 4/40...: 100%|██████████| 50/50 [00:07<00:00,  6.82it/s, train_loss=0.173, valid_loss=0.171]\n",
      "Epoch: 5/40...: 100%|██████████| 50/50 [00:06<00:00,  7.42it/s, train_loss=0.181, valid_loss=0.173]\n",
      "Epoch: 6/40...: 100%|██████████| 50/50 [00:07<00:00,  6.74it/s, train_loss=0.184, valid_loss=0.173]\n",
      "Epoch: 7/40...: 100%|██████████| 50/50 [00:07<00:00,  6.55it/s, train_loss=0.17, valid_loss=0.172] \n",
      "Epoch: 8/40...: 100%|██████████| 50/50 [00:07<00:00,  6.82it/s, train_loss=0.182, valid_loss=0.173]\n",
      "Epoch: 9/40...: 100%|██████████| 50/50 [00:07<00:00,  6.37it/s, train_loss=0.167, valid_loss=0.172]\n",
      "Epoch: 10/40...: 100%|██████████| 50/50 [00:07<00:00,  6.68it/s, train_loss=0.168, valid_loss=0.172]\n",
      "Epoch: 11/40...: 100%|██████████| 50/50 [00:07<00:00,  6.92it/s, train_loss=0.173, valid_loss=0.173]\n",
      "Epoch: 12/40...: 100%|██████████| 50/50 [00:06<00:00,  7.99it/s, train_loss=0.169, valid_loss=0.171]\n",
      "Epoch: 13/40...: 100%|██████████| 50/50 [00:06<00:00,  7.95it/s, train_loss=0.173, valid_loss=0.171]\n",
      "Epoch: 14/40...: 100%|██████████| 50/50 [00:06<00:00,  7.32it/s, train_loss=0.169, valid_loss=0.172]\n",
      "Epoch: 15/40...: 100%|██████████| 50/50 [00:06<00:00,  7.43it/s, train_loss=0.176, valid_loss=0.172]\n",
      "Epoch: 16/40...: 100%|██████████| 50/50 [00:06<00:00,  7.72it/s, train_loss=0.164, valid_loss=0.172]\n",
      "Epoch: 17/40...: 100%|██████████| 50/50 [00:08<00:00,  5.92it/s, train_loss=0.166, valid_loss=0.172]\n",
      "Epoch: 18/40...: 100%|██████████| 50/50 [00:09<00:00,  5.12it/s, train_loss=0.183, valid_loss=0.172]\n",
      "Epoch: 19/40...: 100%|██████████| 50/50 [00:08<00:00,  5.98it/s, train_loss=0.175, valid_loss=0.172]\n",
      "Epoch: 20/40...: 100%|██████████| 50/50 [00:08<00:00,  5.82it/s, train_loss=0.172, valid_loss=0.172]\n",
      "Epoch: 21/40...: 100%|██████████| 50/50 [00:07<00:00,  6.66it/s, train_loss=0.165, valid_loss=0.172]\n",
      "Epoch: 22/40...: 100%|██████████| 50/50 [00:08<00:00,  5.76it/s, train_loss=0.176, valid_loss=0.172]\n",
      "Epoch: 23/40...: 100%|██████████| 50/50 [00:07<00:00,  6.51it/s, train_loss=0.176, valid_loss=0.171]\n",
      "Epoch: 24/40...: 100%|██████████| 50/50 [00:09<00:00,  5.11it/s, train_loss=0.185, valid_loss=0.172]\n",
      "Epoch: 25/40...: 100%|██████████| 50/50 [00:06<00:00,  7.89it/s, train_loss=0.167, valid_loss=0.171]\n",
      "Epoch: 26/40...: 100%|██████████| 50/50 [00:07<00:00,  6.64it/s, train_loss=0.175, valid_loss=0.173]\n",
      "Epoch: 27/40...: 100%|██████████| 50/50 [00:07<00:00,  6.75it/s, train_loss=0.176, valid_loss=0.173]\n",
      "Epoch: 28/40...: 100%|██████████| 50/50 [00:07<00:00,  6.48it/s, train_loss=0.171, valid_loss=0.173]\n",
      "Epoch: 29/40...: 100%|██████████| 50/50 [00:08<00:00,  5.64it/s, train_loss=0.173, valid_loss=0.172]\n",
      "Epoch: 30/40...: 100%|██████████| 50/50 [00:07<00:00,  6.83it/s, train_loss=0.171, valid_loss=0.172]\n",
      "Epoch: 31/40...: 100%|██████████| 50/50 [00:06<00:00,  7.47it/s, train_loss=0.179, valid_loss=0.172]\n",
      "Epoch: 32/40...: 100%|██████████| 50/50 [00:07<00:00,  7.07it/s, train_loss=0.173, valid_loss=0.172]\n",
      "Epoch: 33/40...: 100%|██████████| 50/50 [00:07<00:00,  6.31it/s, train_loss=0.174, valid_loss=0.172]\n",
      "Epoch: 34/40...: 100%|██████████| 50/50 [00:07<00:00,  6.28it/s, train_loss=0.169, valid_loss=0.171]\n",
      "Epoch: 35/40...: 100%|██████████| 50/50 [00:07<00:00,  7.05it/s, train_loss=0.175, valid_loss=0.172]\n",
      "Epoch: 36/40...: 100%|██████████| 50/50 [00:07<00:00,  7.04it/s, train_loss=0.179, valid_loss=0.172]\n",
      "Epoch: 37/40...: 100%|██████████| 50/50 [00:07<00:00,  6.45it/s, train_loss=0.175, valid_loss=0.174]\n",
      "Epoch: 38/40...: 100%|██████████| 50/50 [00:08<00:00,  6.11it/s, train_loss=0.166, valid_loss=0.171]\n",
      "Epoch: 39/40...: 100%|██████████| 50/50 [00:07<00:00,  6.60it/s, train_loss=0.17, valid_loss=0.171] \n",
      "Epoch: 40/40...: 100%|██████████| 50/50 [00:07<00:00,  6.91it/s, train_loss=0.184, valid_loss=0.171]\n"
     ]
    },
    {
     "name": "stdout",
     "output_type": "stream",
     "text": [
      "train dataset 4\n"
     ]
    },
    {
     "name": "stderr",
     "output_type": "stream",
     "text": [
      "Epoch: 1/40...: 100%|██████████| 50/50 [00:07<00:00,  6.37it/s, train_loss=0.172, valid_loss=0.17] \n",
      "Epoch: 2/40...: 100%|██████████| 50/50 [00:07<00:00,  6.46it/s, train_loss=0.178, valid_loss=0.171]\n",
      "Epoch: 3/40...: 100%|██████████| 50/50 [00:08<00:00,  6.09it/s, train_loss=0.171, valid_loss=0.171]\n",
      "Epoch: 4/40...: 100%|██████████| 50/50 [00:08<00:00,  6.05it/s, train_loss=0.175, valid_loss=0.171]\n",
      "Epoch: 5/40...: 100%|██████████| 50/50 [00:07<00:00,  6.54it/s, train_loss=0.175, valid_loss=0.171]\n",
      "Epoch: 6/40...: 100%|██████████| 50/50 [00:06<00:00,  7.20it/s, train_loss=0.178, valid_loss=0.17] \n",
      "Epoch: 7/40...: 100%|██████████| 50/50 [00:07<00:00,  6.87it/s, train_loss=0.168, valid_loss=0.171]\n",
      "Epoch: 8/40...: 100%|██████████| 50/50 [00:07<00:00,  6.72it/s, train_loss=0.187, valid_loss=0.171]\n",
      "Epoch: 9/40...: 100%|██████████| 50/50 [00:06<00:00,  7.18it/s, train_loss=0.176, valid_loss=0.171]\n",
      "Epoch: 10/40...: 100%|██████████| 50/50 [00:08<00:00,  6.17it/s, train_loss=0.172, valid_loss=0.17] \n",
      "Epoch: 11/40...: 100%|██████████| 50/50 [00:06<00:00,  7.33it/s, train_loss=0.169, valid_loss=0.17] \n",
      "Epoch: 12/40...: 100%|██████████| 50/50 [00:08<00:00,  5.98it/s, train_loss=0.177, valid_loss=0.171]\n",
      "Epoch: 13/40...: 100%|██████████| 50/50 [00:07<00:00,  6.40it/s, train_loss=0.177, valid_loss=0.171]\n",
      "Epoch: 14/40...: 100%|██████████| 50/50 [00:06<00:00,  7.46it/s, train_loss=0.182, valid_loss=0.171]\n",
      "Epoch: 15/40...: 100%|██████████| 50/50 [00:08<00:00,  5.90it/s, train_loss=0.171, valid_loss=0.171]\n",
      "Epoch: 16/40...: 100%|██████████| 50/50 [00:07<00:00,  6.65it/s, train_loss=0.181, valid_loss=0.171]\n",
      "Epoch: 17/40...: 100%|██████████| 50/50 [00:07<00:00,  6.72it/s, train_loss=0.18, valid_loss=0.17]  \n",
      "Epoch: 18/40...: 100%|██████████| 50/50 [00:07<00:00,  6.84it/s, train_loss=0.172, valid_loss=0.171]\n",
      "Epoch: 19/40...: 100%|██████████| 50/50 [00:08<00:00,  6.17it/s, train_loss=0.173, valid_loss=0.172]\n",
      "Epoch: 20/40...: 100%|██████████| 50/50 [00:05<00:00,  8.61it/s, train_loss=0.159, valid_loss=0.171]\n",
      "Epoch: 21/40...: 100%|██████████| 50/50 [00:07<00:00,  6.62it/s, train_loss=0.172, valid_loss=0.172]\n",
      "Epoch: 22/40...: 100%|██████████| 50/50 [00:07<00:00,  6.41it/s, train_loss=0.161, valid_loss=0.171]\n",
      "Epoch: 23/40...: 100%|██████████| 50/50 [00:06<00:00,  7.46it/s, train_loss=0.174, valid_loss=0.172]\n",
      "Epoch: 24/40...: 100%|██████████| 50/50 [00:06<00:00,  7.23it/s, train_loss=0.176, valid_loss=0.171]\n",
      "Epoch: 25/40...: 100%|██████████| 50/50 [00:07<00:00,  6.55it/s, train_loss=0.179, valid_loss=0.171]\n",
      "Epoch: 26/40...: 100%|██████████| 50/50 [00:07<00:00,  7.02it/s, train_loss=0.175, valid_loss=0.171]\n",
      "Epoch: 27/40...: 100%|██████████| 50/50 [00:07<00:00,  6.83it/s, train_loss=0.175, valid_loss=0.171]\n",
      "Epoch: 28/40...: 100%|██████████| 50/50 [00:06<00:00,  7.52it/s, train_loss=0.182, valid_loss=0.172]\n",
      "Epoch: 29/40...: 100%|██████████| 50/50 [00:07<00:00,  6.44it/s, train_loss=0.179, valid_loss=0.171]\n",
      "Epoch: 30/40...: 100%|██████████| 50/50 [00:07<00:00,  6.95it/s, train_loss=0.178, valid_loss=0.171]\n",
      "Epoch: 31/40...: 100%|██████████| 50/50 [00:07<00:00,  6.96it/s, train_loss=0.177, valid_loss=0.171]\n",
      "Epoch: 32/40...: 100%|██████████| 50/50 [00:05<00:00,  9.06it/s, train_loss=0.184, valid_loss=0.171]\n",
      "Epoch: 33/40...: 100%|██████████| 50/50 [00:05<00:00,  9.91it/s, train_loss=0.165, valid_loss=0.171]\n",
      "Epoch: 34/40...: 100%|██████████| 50/50 [00:04<00:00, 10.80it/s, train_loss=0.175, valid_loss=0.171]\n",
      "Epoch: 35/40...: 100%|██████████| 50/50 [00:04<00:00, 11.19it/s, train_loss=0.163, valid_loss=0.171]\n",
      "Epoch: 36/40...: 100%|██████████| 50/50 [00:04<00:00, 11.17it/s, train_loss=0.182, valid_loss=0.172]\n",
      "Epoch: 37/40...: 100%|██████████| 50/50 [00:04<00:00, 10.82it/s, train_loss=0.176, valid_loss=0.171]\n",
      "Epoch: 38/40...: 100%|██████████| 50/50 [00:04<00:00, 11.51it/s, train_loss=0.175, valid_loss=0.171]\n",
      "Epoch: 39/40...: 100%|██████████| 50/50 [00:05<00:00,  9.95it/s, train_loss=0.18, valid_loss=0.171] \n",
      "Epoch: 40/40...: 100%|██████████| 50/50 [00:05<00:00,  9.61it/s, train_loss=0.176, valid_loss=0.17] \n"
     ]
    },
    {
     "name": "stdout",
     "output_type": "stream",
     "text": [
      "train dataset 0\n"
     ]
    },
    {
     "name": "stderr",
     "output_type": "stream",
     "text": [
      "Epoch: 1/40...: 100%|██████████| 50/50 [00:05<00:00,  9.91it/s, train_loss=0.175, valid_loss=0.173]\n",
      "Epoch: 2/40...: 100%|██████████| 50/50 [00:04<00:00, 11.85it/s, train_loss=0.174, valid_loss=0.173]\n",
      "Epoch: 3/40...: 100%|██████████| 50/50 [00:04<00:00, 11.49it/s, train_loss=0.164, valid_loss=0.174]\n",
      "Epoch: 4/40...: 100%|██████████| 50/50 [00:04<00:00, 10.51it/s, train_loss=0.163, valid_loss=0.173]\n",
      "Epoch: 5/40...: 100%|██████████| 50/50 [00:04<00:00, 10.12it/s, train_loss=0.174, valid_loss=0.174]\n",
      "Epoch: 6/40...: 100%|██████████| 50/50 [00:03<00:00, 12.86it/s, train_loss=0.166, valid_loss=0.174]\n",
      "Epoch: 7/40...: 100%|██████████| 50/50 [00:04<00:00, 12.09it/s, train_loss=0.184, valid_loss=0.175]\n",
      "Epoch: 8/40...: 100%|██████████| 50/50 [00:04<00:00, 10.57it/s, train_loss=0.175, valid_loss=0.174]\n",
      "Epoch: 9/40...: 100%|██████████| 50/50 [00:04<00:00, 10.44it/s, train_loss=0.165, valid_loss=0.174]\n",
      "Epoch: 10/40...: 100%|██████████| 50/50 [00:05<00:00,  9.99it/s, train_loss=0.175, valid_loss=0.174]\n",
      "Epoch: 11/40...: 100%|██████████| 50/50 [00:05<00:00,  9.87it/s, train_loss=0.165, valid_loss=0.174]\n",
      "Epoch: 12/40...: 100%|██████████| 50/50 [00:04<00:00, 11.61it/s, train_loss=0.175, valid_loss=0.174]\n",
      "Epoch: 13/40...: 100%|██████████| 50/50 [00:03<00:00, 13.61it/s, train_loss=0.169, valid_loss=0.172]\n",
      "Epoch: 14/40...: 100%|██████████| 50/50 [00:04<00:00, 10.14it/s, train_loss=0.175, valid_loss=0.174]\n",
      "Epoch: 15/40...: 100%|██████████| 50/50 [00:04<00:00, 10.91it/s, train_loss=0.172, valid_loss=0.174]\n",
      "Epoch: 16/40...: 100%|██████████| 50/50 [00:03<00:00, 13.22it/s, train_loss=0.165, valid_loss=0.174]\n",
      "Epoch: 17/40...: 100%|██████████| 50/50 [00:04<00:00, 11.14it/s, train_loss=0.165, valid_loss=0.173]\n",
      "Epoch: 18/40...: 100%|██████████| 50/50 [00:04<00:00, 10.38it/s, train_loss=0.176, valid_loss=0.174]\n",
      "Epoch: 19/40...: 100%|██████████| 50/50 [00:04<00:00, 10.72it/s, train_loss=0.186, valid_loss=0.174]\n",
      "Epoch: 20/40...: 100%|██████████| 50/50 [00:04<00:00, 10.05it/s, train_loss=0.177, valid_loss=0.173]\n",
      "Epoch: 21/40...: 100%|██████████| 50/50 [00:04<00:00, 10.48it/s, train_loss=0.166, valid_loss=0.174]\n",
      "Epoch: 22/40...: 100%|██████████| 50/50 [00:05<00:00,  8.66it/s, train_loss=0.175, valid_loss=0.174]\n",
      "Epoch: 23/40...: 100%|██████████| 50/50 [00:04<00:00, 11.68it/s, train_loss=0.164, valid_loss=0.174]\n",
      "Epoch: 24/40...: 100%|██████████| 50/50 [00:05<00:00,  9.65it/s, train_loss=0.178, valid_loss=0.174]\n",
      "Epoch: 25/40...: 100%|██████████| 50/50 [00:04<00:00, 10.81it/s, train_loss=0.179, valid_loss=0.174]\n",
      "Epoch: 26/40...: 100%|██████████| 50/50 [00:04<00:00, 10.79it/s, train_loss=0.165, valid_loss=0.173]\n",
      "Epoch: 27/40...: 100%|██████████| 50/50 [00:04<00:00, 10.71it/s, train_loss=0.159, valid_loss=0.173]\n",
      "Epoch: 28/40...: 100%|██████████| 50/50 [00:03<00:00, 12.87it/s, train_loss=0.168, valid_loss=0.174]\n",
      "Epoch: 29/40...: 100%|██████████| 50/50 [00:05<00:00,  8.89it/s, train_loss=0.169, valid_loss=0.173]\n",
      "Epoch: 30/40...: 100%|██████████| 50/50 [00:04<00:00, 11.32it/s, train_loss=0.17, valid_loss=0.174] \n",
      "Epoch: 31/40...: 100%|██████████| 50/50 [00:04<00:00, 11.01it/s, train_loss=0.173, valid_loss=0.174]\n",
      "Epoch: 32/40...: 100%|██████████| 50/50 [00:04<00:00, 10.94it/s, train_loss=0.176, valid_loss=0.174]\n",
      "Epoch: 33/40...: 100%|██████████| 50/50 [00:03<00:00, 12.89it/s, train_loss=0.168, valid_loss=0.173]\n",
      "Epoch: 34/40...: 100%|██████████| 50/50 [00:04<00:00, 10.39it/s, train_loss=0.177, valid_loss=0.173]\n",
      "Epoch: 35/40...: 100%|██████████| 50/50 [00:03<00:00, 14.06it/s, train_loss=0.179, valid_loss=0.174]\n",
      "Epoch: 36/40...: 100%|██████████| 50/50 [00:04<00:00, 11.75it/s, train_loss=0.187, valid_loss=0.174]\n",
      "Epoch: 37/40...: 100%|██████████| 50/50 [00:04<00:00, 10.16it/s, train_loss=0.179, valid_loss=0.174]\n",
      "Epoch: 38/40...: 100%|██████████| 50/50 [00:05<00:00,  9.86it/s, train_loss=0.171, valid_loss=0.173]\n",
      "Epoch: 39/40...: 100%|██████████| 50/50 [00:04<00:00, 11.64it/s, train_loss=0.186, valid_loss=0.174]\n",
      "Epoch: 40/40...: 100%|██████████| 50/50 [00:04<00:00, 11.68it/s, train_loss=0.18, valid_loss=0.173] \n"
     ]
    },
    {
     "name": "stdout",
     "output_type": "stream",
     "text": [
      "train dataset 1\n"
     ]
    },
    {
     "name": "stderr",
     "output_type": "stream",
     "text": [
      "Epoch: 1/40...: 100%|██████████| 50/50 [00:05<00:00,  9.88it/s, train_loss=0.169, valid_loss=0.175]\n",
      "Epoch: 2/40...: 100%|██████████| 50/50 [00:04<00:00, 10.15it/s, train_loss=0.173, valid_loss=0.174]\n",
      "Epoch: 3/40...: 100%|██████████| 50/50 [00:04<00:00, 11.49it/s, train_loss=0.167, valid_loss=0.174]\n",
      "Epoch: 4/40...: 100%|██████████| 50/50 [00:04<00:00, 10.44it/s, train_loss=0.183, valid_loss=0.173]\n",
      "Epoch: 5/40...: 100%|██████████| 50/50 [00:03<00:00, 13.14it/s, train_loss=0.183, valid_loss=0.173]\n",
      "Epoch: 6/40...: 100%|██████████| 50/50 [00:04<00:00, 10.50it/s, train_loss=0.165, valid_loss=0.173]\n",
      "Epoch: 7/40...: 100%|██████████| 50/50 [00:04<00:00, 11.45it/s, train_loss=0.169, valid_loss=0.173]\n",
      "Epoch: 8/40...: 100%|██████████| 50/50 [00:04<00:00, 10.86it/s, train_loss=0.177, valid_loss=0.174]\n",
      "Epoch: 9/40...: 100%|██████████| 50/50 [00:04<00:00, 10.27it/s, train_loss=0.175, valid_loss=0.173]\n",
      "Epoch: 10/40...: 100%|██████████| 50/50 [00:04<00:00, 10.22it/s, train_loss=0.182, valid_loss=0.174]\n",
      "Epoch: 11/40...: 100%|██████████| 50/50 [00:04<00:00, 12.46it/s, train_loss=0.172, valid_loss=0.173]\n",
      "Epoch: 12/40...: 100%|██████████| 50/50 [00:04<00:00, 10.62it/s, train_loss=0.169, valid_loss=0.175]\n",
      "Epoch: 13/40...: 100%|██████████| 50/50 [00:04<00:00, 10.10it/s, train_loss=0.17, valid_loss=0.173] \n",
      "Epoch: 14/40...: 100%|██████████| 50/50 [00:04<00:00, 10.52it/s, train_loss=0.171, valid_loss=0.173]\n",
      "Epoch: 15/40...: 100%|██████████| 50/50 [00:03<00:00, 14.53it/s, train_loss=0.181, valid_loss=0.174]\n",
      "Epoch: 16/40...: 100%|██████████| 50/50 [00:04<00:00, 11.05it/s, train_loss=0.184, valid_loss=0.174]\n",
      "Epoch: 17/40...: 100%|██████████| 50/50 [00:04<00:00, 11.71it/s, train_loss=0.174, valid_loss=0.174]\n",
      "Epoch: 18/40...: 100%|██████████| 50/50 [00:04<00:00, 10.03it/s, train_loss=0.165, valid_loss=0.174]\n",
      "Epoch: 19/40...: 100%|██████████| 50/50 [00:05<00:00,  9.35it/s, train_loss=0.165, valid_loss=0.173]\n",
      "Epoch: 20/40...: 100%|██████████| 50/50 [00:04<00:00, 11.74it/s, train_loss=0.166, valid_loss=0.173]\n",
      "Epoch: 21/40...: 100%|██████████| 50/50 [00:04<00:00, 11.92it/s, train_loss=0.176, valid_loss=0.175]\n",
      "Epoch: 22/40...: 100%|██████████| 50/50 [00:04<00:00, 10.61it/s, train_loss=0.175, valid_loss=0.173]\n",
      "Epoch: 23/40...: 100%|██████████| 50/50 [00:04<00:00, 10.94it/s, train_loss=0.171, valid_loss=0.175]\n",
      "Epoch: 24/40...: 100%|██████████| 50/50 [00:04<00:00, 10.41it/s, train_loss=0.18, valid_loss=0.173] \n",
      "Epoch: 25/40...: 100%|██████████| 50/50 [00:04<00:00, 10.42it/s, train_loss=0.183, valid_loss=0.174]\n",
      "Epoch: 26/40...: 100%|██████████| 50/50 [00:04<00:00, 10.36it/s, train_loss=0.167, valid_loss=0.174]\n",
      "Epoch: 27/40...: 100%|██████████| 50/50 [00:04<00:00, 10.61it/s, train_loss=0.164, valid_loss=0.173]\n",
      "Epoch: 28/40...: 100%|██████████| 50/50 [00:04<00:00, 10.87it/s, train_loss=0.177, valid_loss=0.173]\n",
      "Epoch: 29/40...: 100%|██████████| 50/50 [00:04<00:00, 10.82it/s, train_loss=0.186, valid_loss=0.173]\n",
      "Epoch: 30/40...: 100%|██████████| 50/50 [00:03<00:00, 13.90it/s, train_loss=0.171, valid_loss=0.174]\n",
      "Epoch: 31/40...: 100%|██████████| 50/50 [00:03<00:00, 14.05it/s, train_loss=0.176, valid_loss=0.173]\n",
      "Epoch: 32/40...: 100%|██████████| 50/50 [00:03<00:00, 13.29it/s, train_loss=0.171, valid_loss=0.173]\n",
      "Epoch: 33/40...: 100%|██████████| 50/50 [00:03<00:00, 12.89it/s, train_loss=0.178, valid_loss=0.173]\n",
      "Epoch: 34/40...: 100%|██████████| 50/50 [00:05<00:00,  9.80it/s, train_loss=0.173, valid_loss=0.174]\n",
      "Epoch: 35/40...: 100%|██████████| 50/50 [00:03<00:00, 12.93it/s, train_loss=0.167, valid_loss=0.173]\n",
      "Epoch: 36/40...: 100%|██████████| 50/50 [00:04<00:00, 11.03it/s, train_loss=0.175, valid_loss=0.174]\n",
      "Epoch: 37/40...: 100%|██████████| 50/50 [00:05<00:00,  9.55it/s, train_loss=0.184, valid_loss=0.174]\n",
      "Epoch: 38/40...: 100%|██████████| 50/50 [00:04<00:00, 10.01it/s, train_loss=0.169, valid_loss=0.173]\n",
      "Epoch: 39/40...: 100%|██████████| 50/50 [00:05<00:00,  9.64it/s, train_loss=0.175, valid_loss=0.173]\n",
      "Epoch: 40/40...: 100%|██████████| 50/50 [00:04<00:00, 10.24it/s, train_loss=0.172, valid_loss=0.173]\n"
     ]
    },
    {
     "name": "stdout",
     "output_type": "stream",
     "text": [
      "train dataset 2\n"
     ]
    },
    {
     "name": "stderr",
     "output_type": "stream",
     "text": [
      "Epoch: 1/40...: 100%|██████████| 50/50 [00:04<00:00, 11.85it/s, train_loss=0.177, valid_loss=0.178]\n",
      "Epoch: 2/40...: 100%|██████████| 50/50 [00:04<00:00, 11.46it/s, train_loss=0.182, valid_loss=0.178]\n",
      "Epoch: 3/40...: 100%|██████████| 50/50 [00:04<00:00, 10.26it/s, train_loss=0.167, valid_loss=0.178]\n",
      "Epoch: 4/40...: 100%|██████████| 50/50 [00:04<00:00, 10.07it/s, train_loss=0.176, valid_loss=0.178]\n",
      "Epoch: 5/40...: 100%|██████████| 50/50 [00:05<00:00,  8.92it/s, train_loss=0.163, valid_loss=0.178]\n",
      "Epoch: 6/40...: 100%|██████████| 50/50 [00:05<00:00,  8.80it/s, train_loss=0.168, valid_loss=0.178]\n",
      "Epoch: 7/40...: 100%|██████████| 50/50 [00:04<00:00, 10.05it/s, train_loss=0.171, valid_loss=0.178]\n",
      "Epoch: 8/40...: 100%|██████████| 50/50 [00:04<00:00, 11.70it/s, train_loss=0.181, valid_loss=0.178]\n",
      "Epoch: 9/40...: 100%|██████████| 50/50 [00:04<00:00, 10.07it/s, train_loss=0.16, valid_loss=0.178] \n",
      "Epoch: 10/40...: 100%|██████████| 50/50 [00:04<00:00, 10.85it/s, train_loss=0.167, valid_loss=0.177]\n",
      "Epoch: 11/40...: 100%|██████████| 50/50 [00:04<00:00, 11.90it/s, train_loss=0.176, valid_loss=0.178]\n",
      "Epoch: 12/40...: 100%|██████████| 50/50 [00:04<00:00, 11.03it/s, train_loss=0.172, valid_loss=0.177]\n",
      "Epoch: 13/40...: 100%|██████████| 50/50 [00:04<00:00, 11.77it/s, train_loss=0.173, valid_loss=0.177]\n",
      "Epoch: 14/40...: 100%|██████████| 50/50 [00:04<00:00, 10.25it/s, train_loss=0.175, valid_loss=0.178]\n",
      "Epoch: 15/40...: 100%|██████████| 50/50 [00:04<00:00, 10.24it/s, train_loss=0.178, valid_loss=0.178]\n",
      "Epoch: 16/40...: 100%|██████████| 50/50 [00:05<00:00,  9.80it/s, train_loss=0.178, valid_loss=0.178]\n",
      "Epoch: 17/40...: 100%|██████████| 50/50 [00:04<00:00, 10.39it/s, train_loss=0.171, valid_loss=0.177]\n",
      "Epoch: 18/40...: 100%|██████████| 50/50 [00:03<00:00, 13.25it/s, train_loss=0.181, valid_loss=0.178]\n",
      "Epoch: 19/40...: 100%|██████████| 50/50 [00:03<00:00, 13.14it/s, train_loss=0.176, valid_loss=0.177]\n",
      "Epoch: 20/40...: 100%|██████████| 50/50 [00:03<00:00, 13.60it/s, train_loss=0.177, valid_loss=0.178]\n",
      "Epoch: 21/40...: 100%|██████████| 50/50 [00:03<00:00, 14.07it/s, train_loss=0.159, valid_loss=0.178]\n",
      "Epoch: 22/40...: 100%|██████████| 50/50 [00:04<00:00, 12.39it/s, train_loss=0.179, valid_loss=0.177]\n",
      "Epoch: 23/40...: 100%|██████████| 50/50 [00:04<00:00, 10.76it/s, train_loss=0.175, valid_loss=0.177]\n",
      "Epoch: 24/40...: 100%|██████████| 50/50 [00:05<00:00,  9.81it/s, train_loss=0.169, valid_loss=0.178]\n",
      "Epoch: 25/40...: 100%|██████████| 50/50 [00:04<00:00, 10.34it/s, train_loss=0.175, valid_loss=0.177]\n",
      "Epoch: 26/40...: 100%|██████████| 50/50 [00:04<00:00, 11.63it/s, train_loss=0.165, valid_loss=0.179]\n",
      "Epoch: 27/40...: 100%|██████████| 50/50 [00:04<00:00, 12.04it/s, train_loss=0.169, valid_loss=0.177]\n",
      "Epoch: 28/40...: 100%|██████████| 50/50 [00:04<00:00, 10.25it/s, train_loss=0.173, valid_loss=0.178]\n",
      "Epoch: 29/40...: 100%|██████████| 50/50 [00:04<00:00, 11.35it/s, train_loss=0.17, valid_loss=0.177] \n",
      "Epoch: 30/40...: 100%|██████████| 50/50 [00:03<00:00, 16.18it/s, train_loss=0.186, valid_loss=0.177]\n",
      "Epoch: 31/40...: 100%|██████████| 50/50 [00:03<00:00, 15.57it/s, train_loss=0.177, valid_loss=0.177]\n",
      "Epoch: 32/40...: 100%|██████████| 50/50 [00:03<00:00, 13.07it/s, train_loss=0.169, valid_loss=0.177]\n",
      "Epoch: 33/40...: 100%|██████████| 50/50 [00:04<00:00, 10.06it/s, train_loss=0.17, valid_loss=0.177] \n",
      "Epoch: 34/40...: 100%|██████████| 50/50 [00:05<00:00,  9.91it/s, train_loss=0.162, valid_loss=0.178]\n",
      "Epoch: 35/40...: 100%|██████████| 50/50 [00:04<00:00, 11.30it/s, train_loss=0.172, valid_loss=0.178]\n",
      "Epoch: 36/40...: 100%|██████████| 50/50 [00:04<00:00, 10.13it/s, train_loss=0.169, valid_loss=0.177]\n",
      "Epoch: 37/40...: 100%|██████████| 50/50 [00:04<00:00, 11.27it/s, train_loss=0.173, valid_loss=0.177]\n",
      "Epoch: 38/40...: 100%|██████████| 50/50 [00:04<00:00, 12.05it/s, train_loss=0.173, valid_loss=0.177]\n",
      "Epoch: 39/40...: 100%|██████████| 50/50 [00:04<00:00, 10.59it/s, train_loss=0.177, valid_loss=0.178]\n",
      "Epoch: 40/40...: 100%|██████████| 50/50 [00:04<00:00, 10.55it/s, train_loss=0.177, valid_loss=0.178]\n"
     ]
    },
    {
     "name": "stdout",
     "output_type": "stream",
     "text": [
      "train dataset 3\n"
     ]
    },
    {
     "name": "stderr",
     "output_type": "stream",
     "text": [
      "Epoch: 1/40...: 100%|██████████| 50/50 [00:05<00:00,  9.84it/s, train_loss=0.183, valid_loss=0.172]\n",
      "Epoch: 2/40...: 100%|██████████| 50/50 [00:04<00:00, 10.07it/s, train_loss=0.175, valid_loss=0.172]\n",
      "Epoch: 3/40...: 100%|██████████| 50/50 [00:04<00:00, 10.36it/s, train_loss=0.174, valid_loss=0.173]\n",
      "Epoch: 4/40...: 100%|██████████| 50/50 [00:04<00:00, 12.18it/s, train_loss=0.168, valid_loss=0.172]\n",
      "Epoch: 5/40...: 100%|██████████| 50/50 [00:03<00:00, 13.15it/s, train_loss=0.193, valid_loss=0.172]\n",
      "Epoch: 6/40...: 100%|██████████| 50/50 [00:03<00:00, 13.27it/s, train_loss=0.171, valid_loss=0.172]\n",
      "Epoch: 7/40...: 100%|██████████| 50/50 [00:04<00:00, 12.43it/s, train_loss=0.178, valid_loss=0.172]\n",
      "Epoch: 8/40...: 100%|██████████| 50/50 [00:04<00:00, 11.76it/s, train_loss=0.169, valid_loss=0.172]\n",
      "Epoch: 9/40...: 100%|██████████| 50/50 [00:04<00:00, 11.60it/s, train_loss=0.177, valid_loss=0.171]\n",
      "Epoch: 10/40...: 100%|██████████| 50/50 [00:04<00:00, 10.95it/s, train_loss=0.181, valid_loss=0.172]\n",
      "Epoch: 11/40...: 100%|██████████| 50/50 [00:04<00:00, 10.24it/s, train_loss=0.176, valid_loss=0.172]\n",
      "Epoch: 12/40...: 100%|██████████| 50/50 [00:04<00:00, 11.07it/s, train_loss=0.174, valid_loss=0.171]\n",
      "Epoch: 13/40...: 100%|██████████| 50/50 [00:03<00:00, 13.27it/s, train_loss=0.173, valid_loss=0.172]\n",
      "Epoch: 14/40...: 100%|██████████| 50/50 [00:04<00:00, 11.91it/s, train_loss=0.178, valid_loss=0.172]\n",
      "Epoch: 15/40...: 100%|██████████| 50/50 [00:04<00:00, 11.99it/s, train_loss=0.17, valid_loss=0.172] \n",
      "Epoch: 16/40...: 100%|██████████| 50/50 [00:04<00:00, 12.19it/s, train_loss=0.173, valid_loss=0.172]\n",
      "Epoch: 17/40...: 100%|██████████| 50/50 [00:03<00:00, 14.02it/s, train_loss=0.164, valid_loss=0.172]\n",
      "Epoch: 18/40...: 100%|██████████| 50/50 [00:03<00:00, 15.85it/s, train_loss=0.173, valid_loss=0.172]\n",
      "Epoch: 19/40...: 100%|██████████| 50/50 [00:03<00:00, 14.20it/s, train_loss=0.179, valid_loss=0.172]\n",
      "Epoch: 20/40...: 100%|██████████| 50/50 [00:04<00:00, 10.54it/s, train_loss=0.178, valid_loss=0.171]\n",
      "Epoch: 21/40...: 100%|██████████| 50/50 [00:04<00:00, 11.26it/s, train_loss=0.177, valid_loss=0.172]\n",
      "Epoch: 22/40...: 100%|██████████| 50/50 [00:04<00:00, 10.60it/s, train_loss=0.175, valid_loss=0.173]\n",
      "Epoch: 23/40...: 100%|██████████| 50/50 [00:03<00:00, 13.32it/s, train_loss=0.184, valid_loss=0.171]\n",
      "Epoch: 24/40...: 100%|██████████| 50/50 [00:04<00:00, 11.50it/s, train_loss=0.179, valid_loss=0.171]\n",
      "Epoch: 25/40...: 100%|██████████| 50/50 [00:03<00:00, 12.71it/s, train_loss=0.173, valid_loss=0.172]\n",
      "Epoch: 26/40...: 100%|██████████| 50/50 [00:03<00:00, 12.65it/s, train_loss=0.178, valid_loss=0.172]\n",
      "Epoch: 27/40...: 100%|██████████| 50/50 [00:04<00:00, 10.99it/s, train_loss=0.163, valid_loss=0.172]\n",
      "Epoch: 28/40...: 100%|██████████| 50/50 [00:04<00:00, 11.50it/s, train_loss=0.173, valid_loss=0.174]\n",
      "Epoch: 29/40...: 100%|██████████| 50/50 [00:04<00:00, 11.14it/s, train_loss=0.173, valid_loss=0.172]\n",
      "Epoch: 30/40...: 100%|██████████| 50/50 [00:03<00:00, 12.97it/s, train_loss=0.175, valid_loss=0.172]\n",
      "Epoch: 31/40...: 100%|██████████| 50/50 [00:04<00:00, 11.99it/s, train_loss=0.173, valid_loss=0.171]\n",
      "Epoch: 32/40...: 100%|██████████| 50/50 [00:03<00:00, 14.04it/s, train_loss=0.183, valid_loss=0.172]\n",
      "Epoch: 33/40...: 100%|██████████| 50/50 [00:03<00:00, 13.20it/s, train_loss=0.165, valid_loss=0.172]\n",
      "Epoch: 34/40...: 100%|██████████| 50/50 [00:03<00:00, 13.71it/s, train_loss=0.184, valid_loss=0.172]\n",
      "Epoch: 35/40...: 100%|██████████| 50/50 [00:04<00:00, 11.11it/s, train_loss=0.169, valid_loss=0.172]\n",
      "Epoch: 36/40...: 100%|██████████| 50/50 [00:04<00:00, 11.52it/s, train_loss=0.178, valid_loss=0.172]\n",
      "Epoch: 37/40...: 100%|██████████| 50/50 [00:05<00:00,  9.50it/s, train_loss=0.167, valid_loss=0.171]\n",
      "Epoch: 38/40...: 100%|██████████| 50/50 [00:04<00:00, 10.44it/s, train_loss=0.169, valid_loss=0.171]\n",
      "Epoch: 39/40...: 100%|██████████| 50/50 [00:04<00:00, 10.04it/s, train_loss=0.163, valid_loss=0.171]\n",
      "Epoch: 40/40...: 100%|██████████| 50/50 [00:03<00:00, 12.52it/s, train_loss=0.193, valid_loss=0.172]\n"
     ]
    },
    {
     "name": "stdout",
     "output_type": "stream",
     "text": [
      "train dataset 4\n"
     ]
    },
    {
     "name": "stderr",
     "output_type": "stream",
     "text": [
      "Epoch: 1/40...: 100%|██████████| 50/50 [00:02<00:00, 17.79it/s, train_loss=0.177, valid_loss=0.172]\n",
      "Epoch: 2/40...: 100%|██████████| 50/50 [00:02<00:00, 17.18it/s, train_loss=0.168, valid_loss=0.171]\n",
      "Epoch: 3/40...: 100%|██████████| 50/50 [00:02<00:00, 20.35it/s, train_loss=0.179, valid_loss=0.171]\n",
      "Epoch: 4/40...: 100%|██████████| 50/50 [00:02<00:00, 18.56it/s, train_loss=0.166, valid_loss=0.171]\n",
      "Epoch: 5/40...: 100%|██████████| 50/50 [00:02<00:00, 19.57it/s, train_loss=0.167, valid_loss=0.171]\n",
      "Epoch: 6/40...: 100%|██████████| 50/50 [00:03<00:00, 15.64it/s, train_loss=0.169, valid_loss=0.171]\n",
      "Epoch: 7/40...: 100%|██████████| 50/50 [00:03<00:00, 15.08it/s, train_loss=0.181, valid_loss=0.171]\n",
      "Epoch: 8/40...: 100%|██████████| 50/50 [00:03<00:00, 15.81it/s, train_loss=0.17, valid_loss=0.171] \n",
      "Epoch: 9/40...: 100%|██████████| 50/50 [00:03<00:00, 13.10it/s, train_loss=0.174, valid_loss=0.171]\n",
      "Epoch: 10/40...: 100%|██████████| 50/50 [00:03<00:00, 16.64it/s, train_loss=0.17, valid_loss=0.171] \n",
      "Epoch: 11/40...: 100%|██████████| 50/50 [00:02<00:00, 18.92it/s, train_loss=0.178, valid_loss=0.172]\n",
      "Epoch: 12/40...: 100%|██████████| 50/50 [00:02<00:00, 20.09it/s, train_loss=0.172, valid_loss=0.171]\n",
      "Epoch: 13/40...: 100%|██████████| 50/50 [00:02<00:00, 17.13it/s, train_loss=0.175, valid_loss=0.173]\n",
      "Epoch: 14/40...: 100%|██████████| 50/50 [00:03<00:00, 14.29it/s, train_loss=0.17, valid_loss=0.172] \n",
      "Epoch: 15/40...: 100%|██████████| 50/50 [00:03<00:00, 15.78it/s, train_loss=0.165, valid_loss=0.172]\n",
      "Epoch: 16/40...: 100%|██████████| 50/50 [00:03<00:00, 14.20it/s, train_loss=0.171, valid_loss=0.171]\n",
      "Epoch: 17/40...: 100%|██████████| 50/50 [00:03<00:00, 15.38it/s, train_loss=0.182, valid_loss=0.171]\n",
      "Epoch: 18/40...: 100%|██████████| 50/50 [00:03<00:00, 15.48it/s, train_loss=0.162, valid_loss=0.172]\n",
      "Epoch: 19/40...: 100%|██████████| 50/50 [00:03<00:00, 15.27it/s, train_loss=0.171, valid_loss=0.171]\n",
      "Epoch: 20/40...: 100%|██████████| 50/50 [00:03<00:00, 15.52it/s, train_loss=0.174, valid_loss=0.171]\n",
      "Epoch: 21/40...: 100%|██████████| 50/50 [00:03<00:00, 15.69it/s, train_loss=0.176, valid_loss=0.171]\n",
      "Epoch: 22/40...: 100%|██████████| 50/50 [00:02<00:00, 17.22it/s, train_loss=0.179, valid_loss=0.17] \n",
      "Epoch: 23/40...: 100%|██████████| 50/50 [00:02<00:00, 16.73it/s, train_loss=0.176, valid_loss=0.172]\n",
      "Epoch: 24/40...: 100%|██████████| 50/50 [00:03<00:00, 15.45it/s, train_loss=0.166, valid_loss=0.171]\n",
      "Epoch: 25/40...: 100%|██████████| 50/50 [00:02<00:00, 18.82it/s, train_loss=0.178, valid_loss=0.172]\n",
      "Epoch: 26/40...: 100%|██████████| 50/50 [00:02<00:00, 16.72it/s, train_loss=0.173, valid_loss=0.171]\n",
      "Epoch: 27/40...: 100%|██████████| 50/50 [00:02<00:00, 17.76it/s, train_loss=0.183, valid_loss=0.171]\n",
      "Epoch: 28/40...: 100%|██████████| 50/50 [00:02<00:00, 17.99it/s, train_loss=0.177, valid_loss=0.17] \n",
      "Epoch: 29/40...: 100%|██████████| 50/50 [00:02<00:00, 18.17it/s, train_loss=0.171, valid_loss=0.171]\n",
      "Epoch: 30/40...: 100%|██████████| 50/50 [00:02<00:00, 19.67it/s, train_loss=0.173, valid_loss=0.171]\n",
      "Epoch: 31/40...: 100%|██████████| 50/50 [00:02<00:00, 19.19it/s, train_loss=0.164, valid_loss=0.172]\n",
      "Epoch: 32/40...: 100%|██████████| 50/50 [00:02<00:00, 17.03it/s, train_loss=0.18, valid_loss=0.171] \n",
      "Epoch: 33/40...: 100%|██████████| 50/50 [00:03<00:00, 14.60it/s, train_loss=0.175, valid_loss=0.171]\n",
      "Epoch: 34/40...: 100%|██████████| 50/50 [00:03<00:00, 15.17it/s, train_loss=0.172, valid_loss=0.172]\n",
      "Epoch: 35/40...: 100%|██████████| 50/50 [00:02<00:00, 16.79it/s, train_loss=0.174, valid_loss=0.171]\n",
      "Epoch: 36/40...: 100%|██████████| 50/50 [00:02<00:00, 16.86it/s, train_loss=0.168, valid_loss=0.172]\n",
      "Epoch: 37/40...: 100%|██████████| 50/50 [00:02<00:00, 19.84it/s, train_loss=0.173, valid_loss=0.171]\n",
      "Epoch: 38/40...: 100%|██████████| 50/50 [00:02<00:00, 16.94it/s, train_loss=0.178, valid_loss=0.171]\n",
      "Epoch: 39/40...: 100%|██████████| 50/50 [00:03<00:00, 14.70it/s, train_loss=0.171, valid_loss=0.171]\n",
      "Epoch: 40/40...: 100%|██████████| 50/50 [00:02<00:00, 16.85it/s, train_loss=0.18, valid_loss=0.17]  \n"
     ]
    },
    {
     "name": "stdout",
     "output_type": "stream",
     "text": [
      "train dataset 0\n"
     ]
    },
    {
     "name": "stderr",
     "output_type": "stream",
     "text": [
      "Epoch: 1/40...: 100%|██████████| 50/50 [00:03<00:00, 14.84it/s, train_loss=0.0286, valid_loss=0.0325]\n",
      "Epoch: 2/40...: 100%|██████████| 50/50 [00:03<00:00, 16.53it/s, train_loss=0.0359, valid_loss=0.032] \n",
      "Epoch: 3/40...: 100%|██████████| 50/50 [00:02<00:00, 16.84it/s, train_loss=0.0304, valid_loss=0.0321]\n",
      "Epoch: 4/40...: 100%|██████████| 50/50 [00:03<00:00, 14.05it/s, train_loss=0.0316, valid_loss=0.0324]\n",
      "Epoch: 5/40...: 100%|██████████| 50/50 [00:02<00:00, 16.80it/s, train_loss=0.0233, valid_loss=0.0256]\n",
      "Epoch: 6/40...: 100%|██████████| 50/50 [00:03<00:00, 12.61it/s, train_loss=0.0234, valid_loss=0.0209]\n",
      "Epoch: 7/40...: 100%|██████████| 50/50 [00:03<00:00, 15.25it/s, train_loss=0.00233, valid_loss=0.00287]\n",
      "Epoch: 8/40...: 100%|██████████| 50/50 [00:03<00:00, 15.77it/s, train_loss=0.00267, valid_loss=0.00157]  \n",
      "Epoch: 9/40...: 100%|██████████| 50/50 [00:03<00:00, 14.68it/s, train_loss=0.000517, valid_loss=0.000517]\n",
      "Epoch: 10/40...: 100%|██████████| 50/50 [00:03<00:00, 14.00it/s, train_loss=0.000412, valid_loss=0.000416]\n",
      "Epoch: 11/40...: 100%|██████████| 50/50 [00:03<00:00, 13.76it/s, train_loss=0.000437, valid_loss=0.000372]\n",
      "Epoch: 12/40...: 100%|██████████| 50/50 [00:03<00:00, 14.63it/s, train_loss=0.000474, valid_loss=0.000447]\n",
      "Epoch: 13/40...: 100%|██████████| 50/50 [00:03<00:00, 13.91it/s, train_loss=0.000369, valid_loss=0.000342]\n",
      "Epoch: 14/40...: 100%|██████████| 50/50 [00:03<00:00, 14.22it/s, train_loss=0.000338, valid_loss=0.000343]\n",
      "Epoch: 15/40...: 100%|██████████| 50/50 [00:03<00:00, 14.26it/s, train_loss=0.000276, valid_loss=0.000271]\n",
      "Epoch: 16/40...: 100%|██████████| 50/50 [00:03<00:00, 16.54it/s, train_loss=0.000265, valid_loss=0.000263]\n",
      "Epoch: 17/40...: 100%|██████████| 50/50 [00:02<00:00, 17.26it/s, train_loss=0.000275, valid_loss=0.000391]\n",
      "Epoch: 18/40...: 100%|██████████| 50/50 [00:02<00:00, 20.08it/s, train_loss=0.000363, valid_loss=0.000274]\n",
      "Epoch: 19/40...: 100%|██████████| 50/50 [00:02<00:00, 17.28it/s, train_loss=0.00022, valid_loss=0.000206] \n",
      "Epoch: 20/40...: 100%|██████████| 50/50 [00:03<00:00, 15.52it/s, train_loss=0.000289, valid_loss=0.000251]\n",
      "Epoch: 21/40...: 100%|██████████| 50/50 [00:03<00:00, 16.66it/s, train_loss=0.000201, valid_loss=0.000165]\n",
      "Epoch: 22/40...: 100%|██████████| 50/50 [00:03<00:00, 15.87it/s, train_loss=0.000248, valid_loss=0.00017] \n",
      "Epoch: 23/40...: 100%|██████████| 50/50 [00:03<00:00, 15.75it/s, train_loss=0.000147, valid_loss=0.000191]\n",
      "Epoch: 24/40...: 100%|██████████| 50/50 [00:03<00:00, 14.93it/s, train_loss=0.000162, valid_loss=0.000165]\n",
      "Epoch: 25/40...: 100%|██████████| 50/50 [00:03<00:00, 15.87it/s, train_loss=0.000166, valid_loss=0.000223]\n",
      "Epoch: 26/40...: 100%|██████████| 50/50 [00:03<00:00, 14.95it/s, train_loss=0.00031, valid_loss=0.000268] \n",
      "Epoch: 27/40...: 100%|██████████| 50/50 [00:03<00:00, 15.38it/s, train_loss=0.000135, valid_loss=0.000138]\n",
      "Epoch: 28/40...: 100%|██████████| 50/50 [00:03<00:00, 15.33it/s, train_loss=0.000204, valid_loss=0.000186]\n",
      "Epoch: 29/40...: 100%|██████████| 50/50 [00:03<00:00, 14.76it/s, train_loss=0.000163, valid_loss=0.000163]\n",
      "Epoch: 30/40...: 100%|██████████| 50/50 [00:02<00:00, 19.81it/s, train_loss=0.000184, valid_loss=0.000246]\n",
      "Epoch: 31/40...: 100%|██████████| 50/50 [00:02<00:00, 18.20it/s, train_loss=0.000134, valid_loss=0.000185]\n",
      "Epoch: 32/40...: 100%|██████████| 50/50 [00:02<00:00, 19.09it/s, train_loss=0.000125, valid_loss=0.000135]\n",
      "Epoch: 33/40...: 100%|██████████| 50/50 [00:03<00:00, 13.89it/s, train_loss=0.000118, valid_loss=0.000127]\n",
      "Epoch: 34/40...: 100%|██████████| 50/50 [00:03<00:00, 14.04it/s, train_loss=0.000168, valid_loss=0.000232]\n",
      "Epoch: 35/40...: 100%|██████████| 50/50 [00:02<00:00, 20.49it/s, train_loss=0.000134, valid_loss=0.000137]\n",
      "Epoch: 36/40...: 100%|██████████| 50/50 [00:02<00:00, 18.27it/s, train_loss=0.000333, valid_loss=0.000334]\n",
      "Epoch: 37/40...: 100%|██████████| 50/50 [00:02<00:00, 19.69it/s, train_loss=0.000216, valid_loss=0.000239]\n",
      "Epoch: 38/40...: 100%|██████████| 50/50 [00:02<00:00, 17.69it/s, train_loss=0.000198, valid_loss=0.000324]\n",
      "Epoch: 39/40...: 100%|██████████| 50/50 [00:03<00:00, 14.70it/s, train_loss=0.00012, valid_loss=0.000145] \n",
      "Epoch: 40/40...: 100%|██████████| 50/50 [00:03<00:00, 16.58it/s, train_loss=0.000109, valid_loss=0.000235]\n"
     ]
    },
    {
     "name": "stdout",
     "output_type": "stream",
     "text": [
      "train dataset 1\n"
     ]
    },
    {
     "name": "stderr",
     "output_type": "stream",
     "text": [
      "Epoch: 1/40...: 100%|██████████| 50/50 [00:02<00:00, 18.61it/s, train_loss=0.000138, valid_loss=0.000132]\n",
      "Epoch: 2/40...: 100%|██████████| 50/50 [00:02<00:00, 20.74it/s, train_loss=0.000141, valid_loss=0.000219]\n",
      "Epoch: 3/40...: 100%|██████████| 50/50 [00:02<00:00, 20.65it/s, train_loss=0.000125, valid_loss=0.000156]\n",
      "Epoch: 4/40...: 100%|██████████| 50/50 [00:02<00:00, 19.32it/s, train_loss=0.000226, valid_loss=0.000195]\n",
      "Epoch: 5/40...: 100%|██████████| 50/50 [00:02<00:00, 21.08it/s, train_loss=0.000153, valid_loss=0.000145]\n",
      "Epoch: 6/40...: 100%|██████████| 50/50 [00:02<00:00, 19.44it/s, train_loss=0.000189, valid_loss=0.000171]\n",
      "Epoch: 7/40...: 100%|██████████| 50/50 [00:02<00:00, 20.93it/s, train_loss=0.000109, valid_loss=0.000198]\n",
      "Epoch: 8/40...: 100%|██████████| 50/50 [00:02<00:00, 20.71it/s, train_loss=0.000117, valid_loss=0.000193]\n",
      "Epoch: 9/40...: 100%|██████████| 50/50 [00:02<00:00, 20.04it/s, train_loss=0.000177, valid_loss=0.000205]\n",
      "Epoch: 10/40...: 100%|██████████| 50/50 [00:02<00:00, 20.72it/s, train_loss=0.000109, valid_loss=0.000134]\n",
      "Epoch: 11/40...: 100%|██████████| 50/50 [00:02<00:00, 19.51it/s, train_loss=0.000138, valid_loss=0.000112]\n",
      "Epoch: 12/40...: 100%|██████████| 50/50 [00:02<00:00, 20.62it/s, train_loss=0.000138, valid_loss=0.000121]\n",
      "Epoch: 13/40...: 100%|██████████| 50/50 [00:02<00:00, 20.77it/s, train_loss=0.000203, valid_loss=0.000127]\n",
      "Epoch: 14/40...: 100%|██████████| 50/50 [00:02<00:00, 19.81it/s, train_loss=0.00014, valid_loss=0.000133] \n",
      "Epoch: 15/40...: 100%|██████████| 50/50 [00:02<00:00, 21.00it/s, train_loss=0.000163, valid_loss=0.00014] \n",
      "Epoch: 16/40...: 100%|██████████| 50/50 [00:02<00:00, 19.65it/s, train_loss=8.62e-5, valid_loss=0.000114] \n",
      "Epoch: 17/40...: 100%|██████████| 50/50 [00:02<00:00, 20.82it/s, train_loss=0.000134, valid_loss=0.000136]\n",
      "Epoch: 18/40...: 100%|██████████| 50/50 [00:02<00:00, 20.76it/s, train_loss=0.000109, valid_loss=0.000113]\n",
      "Epoch: 19/40...: 100%|██████████| 50/50 [00:02<00:00, 19.68it/s, train_loss=0.000197, valid_loss=0.000152]\n",
      "Epoch: 20/40...: 100%|██████████| 50/50 [00:02<00:00, 21.01it/s, train_loss=8.95e-5, valid_loss=0.000115] \n",
      "Epoch: 21/40...: 100%|██████████| 50/50 [00:02<00:00, 19.52it/s, train_loss=0.000105, valid_loss=0.00011] \n",
      "Epoch: 22/40...: 100%|██████████| 50/50 [00:02<00:00, 20.46it/s, train_loss=0.000106, valid_loss=0.000119]\n",
      "Epoch: 23/40...: 100%|██████████| 50/50 [00:02<00:00, 20.76it/s, train_loss=0.000111, valid_loss=0.000113]\n",
      "Epoch: 24/40...: 100%|██████████| 50/50 [00:02<00:00, 19.50it/s, train_loss=0.00014, valid_loss=0.000235] \n",
      "Epoch: 25/40...: 100%|██████████| 50/50 [00:02<00:00, 20.85it/s, train_loss=0.000114, valid_loss=0.000134]\n",
      "Epoch: 26/40...: 100%|██████████| 50/50 [00:02<00:00, 21.47it/s, train_loss=0.000121, valid_loss=0.000109]\n",
      "Epoch: 27/40...: 100%|██████████| 50/50 [00:01<00:00, 28.06it/s, train_loss=0.000127, valid_loss=0.000256]\n",
      "Epoch: 28/40...: 100%|██████████| 50/50 [00:01<00:00, 28.92it/s, train_loss=0.000159, valid_loss=0.00013] \n",
      "Epoch: 29/40...: 100%|██████████| 50/50 [00:01<00:00, 26.13it/s, train_loss=9.45e-5, valid_loss=0.000111] \n",
      "Epoch: 30/40...: 100%|██████████| 50/50 [00:01<00:00, 25.53it/s, train_loss=0.000118, valid_loss=0.000113]\n",
      "Epoch: 31/40...: 100%|██████████| 50/50 [00:02<00:00, 23.30it/s, train_loss=0.000106, valid_loss=0.000124]\n",
      "Epoch: 32/40...: 100%|██████████| 50/50 [00:02<00:00, 22.69it/s, train_loss=0.000117, valid_loss=0.000105]\n",
      "Epoch: 33/40...: 100%|██████████| 50/50 [00:02<00:00, 21.36it/s, train_loss=0.000108, valid_loss=0.000119]\n",
      "Epoch: 34/40...: 100%|██████████| 50/50 [00:02<00:00, 21.14it/s, train_loss=0.00015, valid_loss=0.000247] \n",
      "Epoch: 35/40...: 100%|██████████| 50/50 [00:02<00:00, 24.80it/s, train_loss=0.000141, valid_loss=0.000123]\n",
      "Epoch: 36/40...: 100%|██████████| 50/50 [00:02<00:00, 19.92it/s, train_loss=0.000144, valid_loss=0.000215]\n",
      "Epoch: 37/40...: 100%|██████████| 50/50 [00:02<00:00, 24.24it/s, train_loss=0.000195, valid_loss=0.000217]\n",
      "Epoch: 38/40...: 100%|██████████| 50/50 [00:01<00:00, 25.98it/s, train_loss=0.000106, valid_loss=0.000105]\n",
      "Epoch: 39/40...: 100%|██████████| 50/50 [00:02<00:00, 22.40it/s, train_loss=0.000115, valid_loss=0.000169]\n",
      "Epoch: 40/40...: 100%|██████████| 50/50 [00:02<00:00, 23.93it/s, train_loss=8.48e-5, valid_loss=0.000137] \n"
     ]
    },
    {
     "name": "stdout",
     "output_type": "stream",
     "text": [
      "train dataset 2\n"
     ]
    },
    {
     "name": "stderr",
     "output_type": "stream",
     "text": [
      "Epoch: 1/40...: 100%|██████████| 50/50 [00:02<00:00, 24.12it/s, train_loss=9.62e-5, valid_loss=9.9e-5]   \n",
      "Epoch: 2/40...: 100%|██████████| 50/50 [00:01<00:00, 26.00it/s, train_loss=8.27e-5, valid_loss=8.79e-5]  \n",
      "Epoch: 3/40...: 100%|██████████| 50/50 [00:01<00:00, 26.02it/s, train_loss=9.6e-5, valid_loss=9.02e-5]   \n",
      "Epoch: 4/40...: 100%|██████████| 50/50 [00:02<00:00, 24.53it/s, train_loss=0.000216, valid_loss=0.000274]\n",
      "Epoch: 5/40...: 100%|██████████| 50/50 [00:01<00:00, 25.96it/s, train_loss=7.96e-5, valid_loss=0.000145] \n",
      "Epoch: 6/40...: 100%|██████████| 50/50 [00:02<00:00, 24.65it/s, train_loss=0.000106, valid_loss=0.000113]\n",
      "Epoch: 7/40...: 100%|██████████| 50/50 [00:01<00:00, 26.73it/s, train_loss=0.000123, valid_loss=0.000172]\n",
      "Epoch: 8/40...: 100%|██████████| 50/50 [00:01<00:00, 26.24it/s, train_loss=0.000134, valid_loss=0.000107]\n",
      "Epoch: 9/40...: 100%|██████████| 50/50 [00:02<00:00, 24.33it/s, train_loss=0.00011, valid_loss=0.000225] \n",
      "Epoch: 10/40...: 100%|██████████| 50/50 [00:01<00:00, 26.18it/s, train_loss=0.000128, valid_loss=0.000134]\n",
      "Epoch: 11/40...: 100%|██████████| 50/50 [00:02<00:00, 24.55it/s, train_loss=0.000147, valid_loss=0.000299]\n",
      "Epoch: 12/40...: 100%|██████████| 50/50 [00:01<00:00, 26.18it/s, train_loss=0.00012, valid_loss=0.000104] \n",
      "Epoch: 13/40...: 100%|██████████| 50/50 [00:01<00:00, 26.42it/s, train_loss=8.08e-5, valid_loss=9.63e-5]  \n",
      "Epoch: 14/40...: 100%|██████████| 50/50 [00:02<00:00, 22.48it/s, train_loss=0.00012, valid_loss=0.000132] \n",
      "Epoch: 15/40...: 100%|██████████| 50/50 [00:01<00:00, 26.04it/s, train_loss=7.52e-5, valid_loss=9.06e-5]  \n",
      "Epoch: 16/40...: 100%|██████████| 50/50 [00:02<00:00, 24.29it/s, train_loss=9.57e-5, valid_loss=0.000116] \n",
      "Epoch: 17/40...: 100%|██████████| 50/50 [00:01<00:00, 27.36it/s, train_loss=8.06e-5, valid_loss=9.26e-5]  \n",
      "Epoch: 18/40...: 100%|██████████| 50/50 [00:02<00:00, 23.00it/s, train_loss=8.66e-5, valid_loss=0.00011]  \n",
      "Epoch: 19/40...: 100%|██████████| 50/50 [00:02<00:00, 24.13it/s, train_loss=8.86e-5, valid_loss=0.000102] \n",
      "Epoch: 20/40...: 100%|██████████| 50/50 [00:01<00:00, 26.46it/s, train_loss=0.000105, valid_loss=0.000126]\n",
      "Epoch: 21/40...: 100%|██████████| 50/50 [00:01<00:00, 25.20it/s, train_loss=0.000105, valid_loss=9.92e-5] \n",
      "Epoch: 22/40...: 100%|██████████| 50/50 [00:01<00:00, 26.82it/s, train_loss=8.64e-5, valid_loss=0.000108] \n",
      "Epoch: 23/40...: 100%|██████████| 50/50 [00:01<00:00, 26.91it/s, train_loss=0.000101, valid_loss=0.000105]\n",
      "Epoch: 24/40...: 100%|██████████| 50/50 [00:01<00:00, 25.70it/s, train_loss=0.00011, valid_loss=0.000115] \n",
      "Epoch: 25/40...: 100%|██████████| 50/50 [00:01<00:00, 26.49it/s, train_loss=0.000141, valid_loss=9.86e-5] \n",
      "Epoch: 26/40...: 100%|██████████| 50/50 [00:01<00:00, 25.40it/s, train_loss=7.31e-5, valid_loss=0.000126] \n",
      "Epoch: 27/40...: 100%|██████████| 50/50 [00:01<00:00, 26.94it/s, train_loss=6.95e-5, valid_loss=9.42e-5]  \n",
      "Epoch: 28/40...: 100%|██████████| 50/50 [00:01<00:00, 26.64it/s, train_loss=8.3e-5, valid_loss=9.39e-5]   \n",
      "Epoch: 29/40...: 100%|██████████| 50/50 [00:01<00:00, 25.20it/s, train_loss=0.000214, valid_loss=0.000193]\n",
      "Epoch: 30/40...: 100%|██████████| 50/50 [00:01<00:00, 26.01it/s, train_loss=0.000131, valid_loss=0.00017] \n",
      "Epoch: 31/40...: 100%|██████████| 50/50 [00:02<00:00, 23.66it/s, train_loss=0.000102, valid_loss=0.000139]\n",
      "Epoch: 32/40...: 100%|██████████| 50/50 [00:02<00:00, 22.50it/s, train_loss=9.72e-5, valid_loss=9.92e-5]  \n",
      "Epoch: 33/40...: 100%|██████████| 50/50 [00:02<00:00, 22.40it/s, train_loss=0.000123, valid_loss=0.000103]\n",
      "Epoch: 34/40...: 100%|██████████| 50/50 [00:02<00:00, 21.40it/s, train_loss=8.79e-5, valid_loss=9.27e-5] \n",
      "Epoch: 35/40...: 100%|██████████| 50/50 [00:02<00:00, 23.68it/s, train_loss=0.000136, valid_loss=0.000161]\n",
      "Epoch: 36/40...: 100%|██████████| 50/50 [00:02<00:00, 24.79it/s, train_loss=0.000129, valid_loss=9.23e-5] \n",
      "Epoch: 37/40...: 100%|██████████| 50/50 [00:01<00:00, 25.95it/s, train_loss=8.47e-5, valid_loss=8.97e-5]  \n",
      "Epoch: 38/40...: 100%|██████████| 50/50 [00:01<00:00, 25.82it/s, train_loss=8.31e-5, valid_loss=9.83e-5]  \n",
      "Epoch: 39/40...: 100%|██████████| 50/50 [00:01<00:00, 25.45it/s, train_loss=7.74e-5, valid_loss=0.000101] \n",
      "Epoch: 40/40...: 100%|██████████| 50/50 [00:01<00:00, 27.11it/s, train_loss=0.000102, valid_loss=0.000173]\n"
     ]
    },
    {
     "name": "stdout",
     "output_type": "stream",
     "text": [
      "train dataset 3\n"
     ]
    },
    {
     "name": "stderr",
     "output_type": "stream",
     "text": [
      "Epoch: 1/40...: 100%|██████████| 50/50 [00:01<00:00, 27.68it/s, train_loss=0.000107, valid_loss=0.00013] \n",
      "Epoch: 2/40...: 100%|██████████| 50/50 [00:01<00:00, 29.38it/s, train_loss=0.000111, valid_loss=0.000101]\n",
      "Epoch: 3/40...: 100%|██████████| 50/50 [00:01<00:00, 29.36it/s, train_loss=7.72e-5, valid_loss=0.000112]\n",
      "Epoch: 4/40...: 100%|██████████| 50/50 [00:01<00:00, 27.83it/s, train_loss=0.000143, valid_loss=8.61e-5] \n",
      "Epoch: 5/40...: 100%|██████████| 50/50 [00:01<00:00, 28.77it/s, train_loss=0.000119, valid_loss=9.31e-5] \n",
      "Epoch: 6/40...: 100%|██████████| 50/50 [00:01<00:00, 27.74it/s, train_loss=6.12e-5, valid_loss=7.85e-5] \n",
      "Epoch: 7/40...: 100%|██████████| 50/50 [00:01<00:00, 29.54it/s, train_loss=9.54e-5, valid_loss=0.000112] \n",
      "Epoch: 8/40...: 100%|██████████| 50/50 [00:01<00:00, 29.54it/s, train_loss=0.000441, valid_loss=0.000177]\n",
      "Epoch: 9/40...: 100%|██████████| 50/50 [00:01<00:00, 27.48it/s, train_loss=0.000123, valid_loss=0.000135]\n",
      "Epoch: 10/40...: 100%|██████████| 50/50 [00:01<00:00, 29.49it/s, train_loss=7.51e-5, valid_loss=8.07e-5]  \n",
      "Epoch: 11/40...: 100%|██████████| 50/50 [00:01<00:00, 27.73it/s, train_loss=0.000142, valid_loss=8.22e-5] \n",
      "Epoch: 12/40...: 100%|██████████| 50/50 [00:01<00:00, 25.25it/s, train_loss=6.79e-5, valid_loss=8.24e-5] \n",
      "Epoch: 13/40...: 100%|██████████| 50/50 [00:01<00:00, 27.17it/s, train_loss=8.56e-5, valid_loss=0.000121] \n",
      "Epoch: 14/40...: 100%|██████████| 50/50 [00:01<00:00, 27.91it/s, train_loss=0.000124, valid_loss=8.27e-5]\n",
      "Epoch: 15/40...: 100%|██████████| 50/50 [00:01<00:00, 25.68it/s, train_loss=0.000186, valid_loss=0.000212]\n",
      "Epoch: 16/40...: 100%|██████████| 50/50 [00:01<00:00, 27.06it/s, train_loss=0.000233, valid_loss=0.000114]\n",
      "Epoch: 17/40...: 100%|██████████| 50/50 [00:01<00:00, 26.78it/s, train_loss=6.41e-5, valid_loss=9.43e-5]  \n",
      "Epoch: 18/40...: 100%|██████████| 50/50 [00:01<00:00, 25.37it/s, train_loss=0.000169, valid_loss=0.000155]\n",
      "Epoch: 19/40...: 100%|██████████| 50/50 [00:02<00:00, 24.82it/s, train_loss=0.000176, valid_loss=0.000218]\n",
      "Epoch: 20/40...: 100%|██████████| 50/50 [00:02<00:00, 20.83it/s, train_loss=6.42e-5, valid_loss=9.08e-5]  \n",
      "Epoch: 21/40...: 100%|██████████| 50/50 [00:02<00:00, 19.60it/s, train_loss=9.35e-5, valid_loss=8.54e-5] \n",
      "Epoch: 22/40...: 100%|██████████| 50/50 [00:02<00:00, 20.79it/s, train_loss=9.63e-5, valid_loss=8.73e-5]  \n",
      "Epoch: 23/40...: 100%|██████████| 50/50 [00:02<00:00, 20.71it/s, train_loss=0.000152, valid_loss=0.000244]\n",
      "Epoch: 24/40...: 100%|██████████| 50/50 [00:01<00:00, 27.76it/s, train_loss=0.000155, valid_loss=0.000118]\n",
      "Epoch: 25/40...: 100%|██████████| 50/50 [00:01<00:00, 29.62it/s, train_loss=7.91e-5, valid_loss=0.000112] \n",
      "Epoch: 26/40...: 100%|██████████| 50/50 [00:01<00:00, 27.93it/s, train_loss=0.000104, valid_loss=9.16e-5] \n",
      "Epoch: 27/40...: 100%|██████████| 50/50 [00:01<00:00, 29.68it/s, train_loss=7.24e-5, valid_loss=8.17e-5] \n",
      "Epoch: 28/40...: 100%|██████████| 50/50 [00:01<00:00, 28.19it/s, train_loss=0.000158, valid_loss=0.000161]\n",
      "Epoch: 29/40...: 100%|██████████| 50/50 [00:01<00:00, 29.62it/s, train_loss=7.05e-5, valid_loss=8.48e-5]  \n",
      "Epoch: 30/40...: 100%|██████████| 50/50 [00:01<00:00, 29.74it/s, train_loss=0.000143, valid_loss=0.000124]\n",
      "Epoch: 31/40...: 100%|██████████| 50/50 [00:01<00:00, 27.95it/s, train_loss=6.72e-5, valid_loss=8.73e-5] \n",
      "Epoch: 32/40...: 100%|██████████| 50/50 [00:01<00:00, 29.56it/s, train_loss=9.53e-5, valid_loss=0.000128] \n",
      "Epoch: 33/40...: 100%|██████████| 50/50 [00:01<00:00, 29.62it/s, train_loss=6.52e-5, valid_loss=9.43e-5]  \n",
      "Epoch: 34/40...: 100%|██████████| 50/50 [00:01<00:00, 28.06it/s, train_loss=0.000137, valid_loss=0.000133]\n",
      "Epoch: 35/40...: 100%|██████████| 50/50 [00:01<00:00, 29.61it/s, train_loss=0.000498, valid_loss=0.000625]\n",
      "Epoch: 36/40...: 100%|██████████| 50/50 [00:02<00:00, 24.72it/s, train_loss=6.82e-5, valid_loss=9.22e-5]  \n",
      "Epoch: 37/40...: 100%|██████████| 50/50 [00:01<00:00, 26.48it/s, train_loss=9.6e-5, valid_loss=8.4e-5]    \n",
      "Epoch: 38/40...: 100%|██████████| 50/50 [00:01<00:00, 28.10it/s, train_loss=8.37e-5, valid_loss=8.37e-5] \n",
      "Epoch: 39/40...: 100%|██████████| 50/50 [00:01<00:00, 29.67it/s, train_loss=0.000215, valid_loss=0.000214]\n",
      "Epoch: 40/40...: 100%|██████████| 50/50 [00:01<00:00, 29.41it/s, train_loss=8.33e-5, valid_loss=0.000106] \n"
     ]
    },
    {
     "name": "stdout",
     "output_type": "stream",
     "text": [
      "train dataset 4\n"
     ]
    },
    {
     "name": "stderr",
     "output_type": "stream",
     "text": [
      "Epoch: 1/40...: 100%|██████████| 50/50 [00:01<00:00, 27.75it/s, train_loss=7.08e-5, valid_loss=7.09e-5] \n",
      "Epoch: 2/40...: 100%|██████████| 50/50 [00:01<00:00, 29.57it/s, train_loss=7.63e-5, valid_loss=6.93e-5] \n",
      "Epoch: 3/40...: 100%|██████████| 50/50 [00:01<00:00, 28.03it/s, train_loss=8.8e-5, valid_loss=7.03e-5]   \n",
      "Epoch: 4/40...: 100%|██████████| 50/50 [00:01<00:00, 29.68it/s, train_loss=9.97e-5, valid_loss=0.0001]   \n",
      "Epoch: 5/40...: 100%|██████████| 50/50 [00:01<00:00, 29.48it/s, train_loss=0.000109, valid_loss=7.83e-5] \n",
      "Epoch: 6/40...: 100%|██████████| 50/50 [00:01<00:00, 28.07it/s, train_loss=0.000161, valid_loss=9.32e-5] \n",
      "Epoch: 7/40...: 100%|██████████| 50/50 [00:01<00:00, 29.34it/s, train_loss=0.000102, valid_loss=8.32e-5] \n",
      "Epoch: 8/40...: 100%|██████████| 50/50 [00:01<00:00, 28.25it/s, train_loss=0.000102, valid_loss=0.000108]\n",
      "Epoch: 9/40...: 100%|██████████| 50/50 [00:01<00:00, 29.59it/s, train_loss=9.13e-5, valid_loss=0.000112] \n",
      "Epoch: 10/40...: 100%|██████████| 50/50 [00:01<00:00, 29.83it/s, train_loss=7.27e-5, valid_loss=7.71e-5]  \n",
      "Epoch: 11/40...: 100%|██████████| 50/50 [00:01<00:00, 27.98it/s, train_loss=8.37e-5, valid_loss=7.47e-5]  \n",
      "Epoch: 12/40...: 100%|██████████| 50/50 [00:01<00:00, 29.99it/s, train_loss=9.49e-5, valid_loss=0.000101]\n",
      "Epoch: 13/40...: 100%|██████████| 50/50 [00:01<00:00, 28.32it/s, train_loss=8.23e-5, valid_loss=9.21e-5]  \n",
      "Epoch: 14/40...: 100%|██████████| 50/50 [00:01<00:00, 29.94it/s, train_loss=7.34e-5, valid_loss=8.54e-5]\n",
      "Epoch: 15/40...: 100%|██████████| 50/50 [00:01<00:00, 27.98it/s, train_loss=0.000115, valid_loss=9.78e-5] \n",
      "Epoch: 16/40...: 100%|██████████| 50/50 [00:01<00:00, 27.88it/s, train_loss=6.74e-5, valid_loss=7.29e-5] \n",
      "Epoch: 17/40...: 100%|██████████| 50/50 [00:01<00:00, 29.73it/s, train_loss=0.000101, valid_loss=8.91e-5] \n",
      "Epoch: 18/40...: 100%|██████████| 50/50 [00:01<00:00, 27.37it/s, train_loss=9.03e-5, valid_loss=0.000118] \n",
      "Epoch: 19/40...: 100%|██████████| 50/50 [00:01<00:00, 28.47it/s, train_loss=8.39e-5, valid_loss=8.15e-5]  \n",
      "Epoch: 20/40...: 100%|██████████| 50/50 [00:01<00:00, 29.55it/s, train_loss=0.000177, valid_loss=0.000125]\n",
      "Epoch: 21/40...: 100%|██████████| 50/50 [00:01<00:00, 27.67it/s, train_loss=8.16e-5, valid_loss=7.41e-5]  \n",
      "Epoch: 22/40...: 100%|██████████| 50/50 [00:01<00:00, 29.62it/s, train_loss=7.29e-5, valid_loss=7.83e-5] \n",
      "Epoch: 23/40...: 100%|██████████| 50/50 [00:01<00:00, 28.07it/s, train_loss=5.58e-5, valid_loss=7.18e-5]  \n",
      "Epoch: 24/40...: 100%|██████████| 50/50 [00:01<00:00, 29.60it/s, train_loss=9.71e-5, valid_loss=0.000117] \n",
      "Epoch: 25/40...: 100%|██████████| 50/50 [00:01<00:00, 29.71it/s, train_loss=0.000208, valid_loss=0.000155]\n",
      "Epoch: 26/40...: 100%|██████████| 50/50 [00:01<00:00, 28.08it/s, train_loss=6.72e-5, valid_loss=8.07e-5] \n",
      "Epoch: 27/40...: 100%|██████████| 50/50 [00:01<00:00, 29.60it/s, train_loss=0.000114, valid_loss=9.01e-5] \n",
      "Epoch: 28/40...: 100%|██████████| 50/50 [00:01<00:00, 26.49it/s, train_loss=0.000101, valid_loss=8.36e-5] \n",
      "Epoch: 29/40...: 100%|██████████| 50/50 [00:01<00:00, 28.45it/s, train_loss=9.5e-5, valid_loss=7.62e-5] \n",
      "Epoch: 30/40...: 100%|██████████| 50/50 [00:01<00:00, 29.92it/s, train_loss=9.8e-5, valid_loss=0.000142]  \n",
      "Epoch: 31/40...: 100%|██████████| 50/50 [00:01<00:00, 28.03it/s, train_loss=7.35e-5, valid_loss=8.14e-5]  \n",
      "Epoch: 32/40...: 100%|██████████| 50/50 [00:01<00:00, 29.86it/s, train_loss=0.000227, valid_loss=0.000145]\n",
      "Epoch: 33/40...: 100%|██████████| 50/50 [00:01<00:00, 25.97it/s, train_loss=0.000115, valid_loss=0.000111]\n",
      "Epoch: 34/40...: 100%|██████████| 50/50 [00:01<00:00, 26.47it/s, train_loss=0.000144, valid_loss=0.000164]\n",
      "Epoch: 35/40...: 100%|██████████| 50/50 [00:01<00:00, 26.58it/s, train_loss=6.63e-5, valid_loss=7.42e-5]  \n",
      "Epoch: 36/40...: 100%|██████████| 50/50 [00:02<00:00, 24.30it/s, train_loss=5.89e-5, valid_loss=8.3e-5]   \n",
      "Epoch: 37/40...: 100%|██████████| 50/50 [00:01<00:00, 25.68it/s, train_loss=6.87e-5, valid_loss=8.22e-5] \n",
      "Epoch: 38/40...: 100%|██████████| 50/50 [00:02<00:00, 23.58it/s, train_loss=8.93e-5, valid_loss=0.000147] \n",
      "Epoch: 39/40...: 100%|██████████| 50/50 [00:02<00:00, 24.88it/s, train_loss=8.38e-5, valid_loss=9.78e-5]\n",
      "Epoch: 40/40...: 100%|██████████| 50/50 [00:01<00:00, 25.59it/s, train_loss=7.67e-5, valid_loss=0.000119] \n"
     ]
    }
   ],
   "source": [
    "(MAPE_list, MAE_list, RMSE_list, load_pred, load_true, model) = main()"
   ]
  },
  {
   "cell_type": "code",
   "execution_count": 21,
   "metadata": {
    "ExecuteTime": {
     "end_time": "2021-12-19T04:49:27.246164Z",
     "start_time": "2021-12-19T04:49:27.239789Z"
    },
    "colab": {
     "base_uri": "https://localhost:8080/"
    },
    "executionInfo": {
     "elapsed": 478,
     "status": "ok",
     "timestamp": 1635418477714,
     "user": {
      "displayName": "Mark Dong",
      "photoUrl": "https://lh3.googleusercontent.com/a/default-user=s64",
      "userId": "04537685704836554558"
     },
     "user_tz": -480
    },
    "id": "QCu2pRKHAACq",
    "outputId": "049d3a90-5ee8-432d-d0ad-602602346141"
   },
   "outputs": [
    {
     "data": {
      "text/plain": [
       "([0.03330508499484424], [446.3783938637115], [677.5956753190536])"
      ]
     },
     "execution_count": 21,
     "metadata": {},
     "output_type": "execute_result"
    }
   ],
   "source": [
    "MAPE_list, MAE_list, RMSE_list"
   ]
  },
  {
   "cell_type": "code",
   "execution_count": 22,
   "metadata": {
    "ExecuteTime": {
     "end_time": "2021-12-19T04:49:32.340175Z",
     "start_time": "2021-12-19T04:49:32.200173Z"
    },
    "colab": {
     "base_uri": "https://localhost:8080/",
     "height": 481
    },
    "executionInfo": {
     "elapsed": 2368,
     "status": "ok",
     "timestamp": 1635418654593,
     "user": {
      "displayName": "Mark Dong",
      "photoUrl": "https://lh3.googleusercontent.com/a/default-user=s64",
      "userId": "04537685704836554558"
     },
     "user_tz": -480
    },
    "id": "6dBnpARySA-v",
    "outputId": "fbc3d9ea-e5f9-42a8-87e7-7fa5e13cce96"
   },
   "outputs": [
    {
     "data": {
      "text/plain": [
       "[<matplotlib.lines.Line2D at 0x7f997c4f82b0>]"
      ]
     },
     "execution_count": 22,
     "metadata": {},
     "output_type": "execute_result"
    },
    {
     "data": {
      "image/png": "[encoded data removed]",
      "text/plain": [
       "<Figure size 1440x720 with 1 Axes>"
      ]
     },
     "metadata": {
      "needs_background": "light"
     },
     "output_type": "display_data"
    }
   ],
   "source": [
    "plt.figure(figsize=(20,10))\n",
    "plt.plot(load_pred[:240], 'r')\n",
    "plt.plot(load_true[:240], 'g')"
   ]
  },
  {
   "cell_type": "code",
   "execution_count": null,
   "metadata": {
    "collapsed": true,
    "id": "DgD1KKyhMQOA"
   },
   "outputs": [],
   "source": [
    "np.save('./load_pred_lstm.npy', load_pred)\n",
    "np.save('./load_true_lstm.npy', load_true)\n",
    "torch.save(model.state_dict(), \"lstm_state_dict.pt\")"
   ]
  }
 ],
 "metadata": {
  "accelerator": "GPU",
  "colab": {
   "collapsed_sections": [],
   "name": "LSTM-1027.ipynb",
   "provenance": [
    {
     "file_id": "1ui5FhFfNDFgoxw3lydWjEnwqGqf1HePm",
     "timestamp": 1635342653854
    }
   ]
  },
  "kernelspec": {
   "display_name": "Python 3",
   "language": "python",
   "name": "python3"
  },
  "language_info": {
   "codemirror_mode": {
    "name": "ipython",
    "version": 3
   },
   "file_extension": ".py",
   "mimetype": "text/x-python",
   "name": "python",
   "nbconvert_exporter": "python",
   "pygments_lexer": "ipython3",
   "version": "3.8.12"
  },
  "toc": {
   "base_numbering": 1,
   "nav_menu": {},
   "number_sections": true,
   "sideBar": true,
   "skip_h1_title": false,
   "title_cell": "Table of Contents",
   "title_sidebar": "Contents",
   "toc_cell": false,
   "toc_position": {
    "height": "calc(100% - 180px)",
    "left": "10px",
    "top": "150px",
    "width": "332.797px"
   },
   "toc_section_display": true,
   "toc_window_display": true
  },
  "varInspector": {
   "cols": {
    "lenName": 16,
    "lenType": 16,
    "lenVar": 40
   },
   "kernels_config": {
    "python": {
     "delete_cmd_postfix": "",
     "delete_cmd_prefix": "del ",
     "library": "var_list.py",
     "varRefreshCmd": "print(var_dic_list())"
    },
    "r": {
     "delete_cmd_postfix": ") ",
     "delete_cmd_prefix": "rm(",
     "library": "var_list.r",
     "varRefreshCmd": "cat(var_dic_list()) "
    }
   },
   "types_to_exclude": [
    "module",
    "function",
    "builtin_function_or_method",
    "instance",
    "_Feature"
   ],
   "window_display": false
  }
 },
 "nbformat": 4,
 "nbformat_minor": 1
}
