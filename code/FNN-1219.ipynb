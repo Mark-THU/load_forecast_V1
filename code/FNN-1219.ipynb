{
 "cells": [
  {
   "cell_type": "markdown",
   "metadata": {},
   "source": [
    "# FNN 预测电力负荷"
   ]
  },
  {
   "cell_type": "code",
   "execution_count": 15,
   "metadata": {
    "ExecuteTime": {
     "end_time": "2021-12-22T01:49:53.645762Z",
     "start_time": "2021-12-22T01:49:53.637303Z"
    },
    "colab": {
     "base_uri": "https://localhost:8080/"
    },
    "executionInfo": {
     "elapsed": 38506,
     "status": "ok",
     "timestamp": 1635417279274,
     "user": {
      "displayName": "Mark Dong",
      "photoUrl": "https://lh3.googleusercontent.com/a/default-user=s64",
      "userId": "04537685704836554558"
     },
     "user_tz": -480
    },
    "id": "k73zvW4ktS3o",
    "outputId": "02a86d11-4817-4059-9f07-2ed33621217f"
   },
   "outputs": [],
   "source": [
    "import pandas as pd\n",
    "import numpy as np\n",
    "import matplotlib.pyplot as plt\n",
    "import pdb\n",
    "import torch\n",
    "import torch.nn as nn\n",
    "\n",
    "from sklearn.preprocessing import StandardScaler, MinMaxScaler\n",
    "from sklearn.model_selection import train_test_split, KFold, TimeSeriesSplit\n",
    "from sqlalchemy import create_engine\n",
    "from torch.autograd import Variable\n",
    "from torch.utils.data import TensorDataset, DataLoader\n",
    "from tqdm import tqdm\n",
    "from xgboost import XGBRegressor\n",
    "if torch.cuda.is_available():  \n",
    "    dev = \"cuda:0\" \n",
    "else:  \n",
    "    dev = \"cpu\"\n",
    "device = torch.device(dev)"
   ]
  },
  {
   "cell_type": "markdown",
   "metadata": {},
   "source": [
    "## 导入数据"
   ]
  },
  {
   "cell_type": "code",
   "execution_count": 4,
   "metadata": {
    "ExecuteTime": {
     "end_time": "2021-12-22T01:49:03.658288Z",
     "start_time": "2021-12-22T01:49:03.567161Z"
    },
    "id": "exclb4QytS3v"
   },
   "outputs": [],
   "source": [
    "url = '../dataset_0101110000.csv'\n",
    "data = pd.read_csv(url, sep=',', index_col='time')"
   ]
  },
  {
   "cell_type": "markdown",
   "metadata": {},
   "source": [
    "## 归一化"
   ]
  },
  {
   "cell_type": "code",
   "execution_count": 5,
   "metadata": {
    "ExecuteTime": {
     "end_time": "2021-12-22T01:49:03.662740Z",
     "start_time": "2021-12-22T01:49:03.660081Z"
    },
    "id": "H6ag8TcBtS3w"
   },
   "outputs": [],
   "source": [
    "# 归一化\n",
    "def normalization(data):\n",
    "    \"\"\"\n",
    "    data: original data with load\n",
    "    return: normalized data, scaler of load\n",
    "    \"\"\"\n",
    "    normalized_data = MinMaxScaler().fit_transform(data)\n",
    "    scaler_y = MinMaxScaler()\n",
    "    scaler_y.fit_transform(data[['load']])\n",
    "    return normalized_data, scaler_y"
   ]
  },
  {
   "cell_type": "markdown",
   "metadata": {},
   "source": [
    "## 构建监督学习数据"
   ]
  },
  {
   "cell_type": "code",
   "execution_count": 6,
   "metadata": {
    "ExecuteTime": {
     "end_time": "2021-12-22T01:49:03.668894Z",
     "start_time": "2021-12-22T01:49:03.664075Z"
    },
    "id": "HMBeK7TutS3x"
   },
   "outputs": [],
   "source": [
    "# build supervised data\n",
    "def Series_To_Supervise(data, seq_len, y_col_index):\n",
    "    \"\"\"\n",
    "    convert series data to supervised data\n",
    "    :param data: original data\n",
    "    :param seq_len: length of sequence\n",
    "    :y_col_index: index of column which acts as output\n",
    "    :return: return two ndarrays-- input and output in format suitable to feed to LSTM\n",
    "    \"\"\"\n",
    "    dim_0 = data.shape[0] - seq_len\n",
    "    dim_1 = data.shape[1]\n",
    "    x = np.zeros((dim_0, seq_len, dim_1))\n",
    "    y = np.zeros((dim_0,))\n",
    "    for i in range(dim_0):\n",
    "        x[i] = data[i: i+seq_len]\n",
    "        y[i] = data[i+seq_len, y_col_index]\n",
    "    print(\"Supervised Train Data: Shape of x: {}, Shape of y: {}\".format(x.shape, y.shape))\n",
    "    return x, y\n",
    "\n",
    "def Series_To_Supervise_Test(data, seq_len, y_col_index):\n",
    "    \"\"\"\n",
    "    convert series data to supervised data\n",
    "    :param data: original data\n",
    "    :param seq_len: length of sequence\n",
    "    :y_col_index: index of column which acts as output\n",
    "    :return: return two ndarrays-- input and output in format suitable to feed to LSTM\n",
    "    \"\"\"\n",
    "    dim_0 = int((data.shape[0] - seq_len)/24)+1\n",
    "    dim_1 = data.shape[1]\n",
    "    x = np.zeros((dim_0, seq_len, dim_1))\n",
    "    y = np.zeros((dim_0, 24))\n",
    "    for i in range(0, dim_0):\n",
    "        x[i] = data[i*24: i*24+seq_len]\n",
    "        y[i] = data[i*24+seq_len-24:i*24+seq_len, y_col_index]\n",
    "    print(\"Supervised Test Data: Shape of x: {}, hape of y: {}\".format(x.shape, y.shape))\n",
    "    return x, y"
   ]
  },
  {
   "cell_type": "markdown",
   "metadata": {},
   "source": [
    "## 特征选择"
   ]
  },
  {
   "cell_type": "code",
   "execution_count": 7,
   "metadata": {
    "ExecuteTime": {
     "end_time": "2021-12-22T01:49:03.673577Z",
     "start_time": "2021-12-22T01:49:03.670678Z"
    },
    "id": "aKDJrd2rtS3x"
   },
   "outputs": [],
   "source": [
    "# 选择重要特征\n",
    "def select_feature(X, Y, feature_num=100):\n",
    "    \"\"\"\n",
    "    X: features, size * 48 * features\n",
    "    Y: labels, size *  1\n",
    "    feature_num: num of selected features\n",
    "    return: index of selected features\n",
    "    \"\"\"\n",
    "    X = X.reshape(X.shape[0], -1)\n",
    "    model = XGBRegressor()\n",
    "    model.fit(X, Y)\n",
    "    model.importance_type = 'weight'\n",
    "    ind = (-model.feature_importances_).argsort()[0:feature_num]\n",
    "    return ind"
   ]
  },
  {
   "cell_type": "markdown",
   "metadata": {},
   "source": [
    "## 五折交叉"
   ]
  },
  {
   "cell_type": "code",
   "execution_count": 8,
   "metadata": {
    "ExecuteTime": {
     "end_time": "2021-12-22T01:49:03.677956Z",
     "start_time": "2021-12-22T01:49:03.674655Z"
    },
    "id": "GZm1OQW3tS3x"
   },
   "outputs": [],
   "source": [
    "# 5-fold cross-validation\n",
    "def split_dataset(X, Y, n_split=5):\n",
    "    \"\"\"\n",
    "    X: original feature, size * 72 * features\n",
    "    Y: labels, size * 1\n",
    "    return: list of train_x, test_x, train_y, test_y\n",
    "    \"\"\"\n",
    "#     kf = KFold(n_splits=n_split, shuffle=True, random_state=1)\n",
    "    kf = TimeSeriesSplit(n_splits=n_split)\n",
    "    train_x_list = list()\n",
    "    valid_x_list = list()\n",
    "    train_y_list = list()\n",
    "    valid_y_list = list()\n",
    "    for train_index, valid_index in kf.split(X):\n",
    "        train_x_list.append(X[train_index])\n",
    "        train_y_list.append(Y[train_index])\n",
    "        valid_x_list.append(X[valid_index])\n",
    "        valid_y_list.append(Y[valid_index])\n",
    "    return train_x_list, valid_x_list, train_y_list, valid_y_list"
   ]
  },
  {
   "cell_type": "markdown",
   "metadata": {},
   "source": [
    "## FNN定义"
   ]
  },
  {
   "cell_type": "code",
   "execution_count": 9,
   "metadata": {
    "ExecuteTime": {
     "end_time": "2021-12-22T01:49:03.683073Z",
     "start_time": "2021-12-22T01:49:03.679115Z"
    },
    "id": "sqWX9_T8tS3y"
   },
   "outputs": [],
   "source": [
    "# define FNN model \n",
    "class FNN(nn.Module):\n",
    "    \"\"\"\n",
    "    A fnn neural network\n",
    "    \"\"\"\n",
    "    def __init__(self, input_size, hidden_dim):\n",
    "        super(FNN, self).__init__()\n",
    "        \n",
    "        self.fnn = nn.Sequential(\n",
    "            nn.Linear(input_size, 50),\n",
    "            nn.ReLU(),\n",
    "            nn.Linear(50, 25),\n",
    "            nn.ReLU(),\n",
    "            nn.Linear(25, 10),\n",
    "            nn.ReLU(),\n",
    "            nn.Linear(10, hidden_dim),\n",
    "            nn.ReLU(),\n",
    "            nn.Linear(hidden_dim,1),\n",
    "            nn.ReLU(),\n",
    "        )\n",
    "    \n",
    "    def forward(self, x):\n",
    "        out = self.fnn(x)\n",
    "        out = out[:, -1]\n",
    "        return out"
   ]
  },
  {
   "cell_type": "markdown",
   "metadata": {},
   "source": [
    "## 模型训练函数"
   ]
  },
  {
   "cell_type": "code",
   "execution_count": 10,
   "metadata": {
    "ExecuteTime": {
     "end_time": "2021-12-22T01:49:03.693532Z",
     "start_time": "2021-12-22T01:49:03.685634Z"
    },
    "id": "hzfsNsTHtS3y"
   },
   "outputs": [],
   "source": [
    "# train the model\n",
    "def Train_Model(train_x_list, train_y_list, valid_x_list, valid_y_list,\n",
    "                batch_size, lr, number_epoch, input_size, hidden_dim, seq_len,\n",
    "                ind):\n",
    "    #     pdb.set_trace()\n",
    "    model_fnn = FNN(input_size, hidden_dim)\n",
    "    model_fnn.to(device=device)\n",
    "    criterion = nn.MSELoss()\n",
    "    optimizer = torch.optim.Adam(model_fnn.parameters(), lr=lr)\n",
    "    valid_loss_min = np.Inf\n",
    "    for i in range(5):\n",
    "        print('train dataset {}'.format(i))\n",
    "        train_x = train_x_list[i]\n",
    "        train_y = train_y_list[i]\n",
    "        valid_x = valid_x_list[i]\n",
    "        valid_y = valid_y_list[i]\n",
    "        # choose the most important features\n",
    "        train_x = train_x[:, 0:seq_len].reshape(train_x.shape[0], -1)[:, ind]\n",
    "        valid_x = valid_x[:, 0:seq_len].reshape(valid_x.shape[0], -1)[:, ind]\n",
    "        train_dataset = TensorDataset(torch.FloatTensor(train_x),\n",
    "                                      torch.FloatTensor(train_y))\n",
    "        valid_dataset = TensorDataset(torch.FloatTensor(valid_x),\n",
    "                                      torch.FloatTensor(valid_y))\n",
    "        train_loader = DataLoader(dataset=train_dataset,\n",
    "                                  batch_size=batch_size,\n",
    "                                  shuffle=True,\n",
    "                                  drop_last=False)\n",
    "        valid_loader = DataLoader(dataset=valid_dataset,\n",
    "                                  batch_size=batch_size,\n",
    "                                  shuffle=True,\n",
    "                                  drop_last=False)\n",
    "        num_without_imp = 0\n",
    "        for epoch in range(1, number_epoch + 1):\n",
    "            loop = tqdm(enumerate(train_loader),\n",
    "                        total=len(train_loader),\n",
    "                        leave=True)\n",
    "            for i, (inputs, labels) in loop:\n",
    "                inputs = inputs.to(device=device)\n",
    "                labels = labels.to(device=device)\n",
    "                optimizer.zero_grad()\n",
    "                outputs = model_fnn(inputs)\n",
    "                loss = criterion(outputs, labels)\n",
    "                loss.backward()\n",
    "                optimizer.step()\n",
    "                if i % 10 == 0:\n",
    "                    #                     if num_without_imp > 30:\n",
    "                    #                         return model_fnn\n",
    "                    num_without_imp = num_without_imp + 1\n",
    "                    valid_losses = list()\n",
    "                    model_fnn.eval()\n",
    "                    for inp, lab in valid_loader:\n",
    "                        inp = inp.to(device)\n",
    "                        lab = lab.to(device)\n",
    "                        out = model_fnn(inp)\n",
    "                        valid_loss = criterion(out, lab)\n",
    "                        valid_losses.append(valid_loss.item())\n",
    "\n",
    "                    model_fnn.train()\n",
    "                    loop.set_description(\"Epoch: {}/{}...\".format(\n",
    "                        epoch, number_epoch))\n",
    "                    loop.set_postfix(train_loss=loss.item(),\n",
    "                                     valid_loss=np.mean(valid_losses))\n",
    "                    if np.mean(valid_losses) < valid_loss_min:\n",
    "                        num_without_imp = 0\n",
    "                        torch.save(model_fnn.state_dict(), \"fnn_state_dict.pt\")\n",
    "                        valid_loss_min = np.mean(valid_losses)\n",
    "    return model_fnn"
   ]
  },
  {
   "cell_type": "markdown",
   "metadata": {},
   "source": [
    "## 测试模型"
   ]
  },
  {
   "cell_type": "code",
   "execution_count": 11,
   "metadata": {
    "ExecuteTime": {
     "end_time": "2021-12-22T01:49:03.700679Z",
     "start_time": "2021-12-22T01:49:03.695212Z"
    },
    "id": "AS1RZ_wEtS30"
   },
   "outputs": [],
   "source": [
    "# test model by day\n",
    "def Test_Model_24(model, test_x, test_y, batch_size, seq_len, y_col_index, ind, scaler):\n",
    "    test_dataset = TensorDataset(torch.FloatTensor(test_x), torch.FloatTensor(test_y))\n",
    "    test_loader = DataLoader(dataset=test_dataset, batch_size=batch_size, shuffle=False, drop_last=False)\n",
    "    model.load_state_dict(torch.load('fnn_state_dict.pt'))\n",
    "    size = 24\n",
    "    y_pred = list()\n",
    "    y_true = list()\n",
    "    with torch.no_grad():\n",
    "        for inputs, _ in test_loader:\n",
    "            inputs = inputs.to(device=device)\n",
    "            for i in range(size):\n",
    "#                 pdb.set_trace()\n",
    "                inp = inputs[:, i:i+seq_len]\n",
    "                inp = inp.reshape(inp.shape[0], -1)[:, ind]\n",
    "                out = model(inp)\n",
    "                y_pred = y_pred + out.cpu().numpy().tolist()\n",
    "                y_true = y_true + inputs[:, i+seq_len, y_col_index].cpu().numpy().tolist()\n",
    "                inputs[:, i+seq_len, y_col_index] = out\n",
    "    y_pred = np.array(y_pred)\n",
    "    y_true = np.array(y_true)\n",
    "    y_pred = y_pred.reshape(-1, 1)\n",
    "    y_true = y_true.reshape(-1, 1)    \n",
    "    load_pred = scaler.inverse_transform(y_pred)\n",
    "    load_true = scaler.inverse_transform(y_true)\n",
    "    MAPE = np.mean(np.abs(load_true-load_pred)/load_true)\n",
    "    MAE = np.mean(np.abs(load_true-load_pred))\n",
    "    RMSE = np.sqrt(np.mean(np.square(load_true-load_pred)))\n",
    "    return MAPE, MAE, RMSE, load_pred, load_true"
   ]
  },
  {
   "cell_type": "markdown",
   "metadata": {},
   "source": [
    "## 超参数设置"
   ]
  },
  {
   "cell_type": "code",
   "execution_count": 12,
   "metadata": {
    "ExecuteTime": {
     "end_time": "2021-12-22T01:49:03.704608Z",
     "start_time": "2021-12-22T01:49:03.701717Z"
    },
    "id": "hqlFR9TCtS30"
   },
   "outputs": [],
   "source": [
    "# model configs\n",
    "def Model_Configs():\n",
    "    batch_sizes = [512]\n",
    "    lrs = [0.01]\n",
    "    number_epochs = [80]\n",
    "    hidden_dims = [5]\n",
    "    configs = list()\n",
    "    for i in batch_sizes:\n",
    "        for j in lrs:\n",
    "            for k in number_epochs:\n",
    "                for l in hidden_dims:\n",
    "                    configs.append([i, j ,k ,l])\n",
    "    return configs"
   ]
  },
  {
   "cell_type": "markdown",
   "metadata": {},
   "source": [
    "## 主函数"
   ]
  },
  {
   "cell_type": "code",
   "execution_count": 13,
   "metadata": {
    "ExecuteTime": {
     "end_time": "2021-12-22T01:49:03.711274Z",
     "start_time": "2021-12-22T01:49:03.706129Z"
    },
    "id": "ksq14TXuY661"
   },
   "outputs": [],
   "source": [
    "def main(feature_num=100, seq_len=48):\n",
    "    # 归一化\n",
    "    normalized_data, scaler_y = normalization(data)\n",
    "    train_data = normalized_data[:-3000]\n",
    "    test_data = normalized_data[-3000:]\n",
    "    # 数据处理，将时间序列数据变为监督学习数据\n",
    "    y_index = normalized_data.shape[1] -1\n",
    "    X, Y = Series_To_Supervise(train_data, seq_len=seq_len, y_col_index=y_index) \n",
    "    # 选择重要特征\n",
    "    index = select_feature(X, Y, feature_num=feature_num)\n",
    "    # 五折交叉验证，划分数据集\n",
    "    # 为了方便测试24点准确性， seq_len需要+24\n",
    "    X, _ = Series_To_Supervise(train_data, seq_len=seq_len + 24, y_col_index=y_index)\n",
    "    Y = Y[:-24]\n",
    "    train_x_list, valid_x_list, train_y_list, valid_y_list = split_dataset(X, Y)\n",
    "    test_x, test_y = Series_To_Supervise_Test(test_data, seq_len=seq_len + 24, y_col_index=y_index)\n",
    "    configs = Model_Configs()\n",
    "    MAPE_list = list()\n",
    "    MAE_list = list()\n",
    "    RMSE_list = list()\n",
    "    for config in configs:\n",
    "        batch_size = config[0]\n",
    "        lr = config[1]\n",
    "        number_epoch = config[2]\n",
    "        hidden_dim = config[3]\n",
    "        print(\"Model Config: batch_size--{}, lr--{}, number_epoch--{}, hidden_dim--{}\".format(config[0], config[1], config[2], config[3]))\n",
    "        while(1):\n",
    "            model = Train_Model(train_x_list, train_y_list, valid_x_list, valid_y_list, batch_size, lr, number_epoch,\n",
    "                            input_size=feature_num, hidden_dim=hidden_dim, seq_len=seq_len, ind=index)\n",
    "            (MAPE, MAE, RMSE, load_pred, load_true) = Test_Model_24(model, test_x, test_y, batch_size, seq_len,\n",
    "                                  y_col_index=y_index, ind=index, scaler=scaler_y)\n",
    "            if MAPE < 0.1:\n",
    "                break\n",
    "        MAPE_list.append(MAPE)\n",
    "        MAE_list.append(MAE)\n",
    "        RMSE_list.append(RMSE)\n",
    "    return (MAPE_list, MAE_list, RMSE_list, load_pred, load_true, model)"
   ]
  },
  {
   "cell_type": "markdown",
   "metadata": {},
   "source": [
    "## 运行"
   ]
  },
  {
   "cell_type": "code",
   "execution_count": 16,
   "metadata": {
    "ExecuteTime": {
     "end_time": "2021-12-22T01:51:54.462779Z",
     "start_time": "2021-12-22T01:50:00.931749Z"
    },
    "colab": {
     "base_uri": "https://localhost:8080/"
    },
    "executionInfo": {
     "elapsed": 201181,
     "status": "ok",
     "timestamp": 1635417546333,
     "user": {
      "displayName": "Mark Dong",
      "photoUrl": "https://lh3.googleusercontent.com/a/default-user=s64",
      "userId": "04537685704836554558"
     },
     "user_tz": -480
    },
    "id": "QlXRJj0etS31",
    "outputId": "45a871c8-b0a0-4a3e-cbcf-c44a40457a68"
   },
   "outputs": [
    {
     "name": "stdout",
     "output_type": "stream",
     "text": [
      "Supervised Train Data: Shape of x: (28611, 48, 23), Shape of y: (28611,)\n",
      "Supervised Train Data: Shape of x: (28587, 72, 23), Shape of y: (28587,)\n",
      "Supervised Test Data: Shape of x: (123, 72, 23), hape of y: (123, 24)\n",
      "Model Config: batch_size--512, lr--0.01, number_epoch--80, hidden_dim--5\n",
      "train dataset 0\n"
     ]
    },
    {
     "name": "stderr",
     "output_type": "stream",
     "text": [
      "Epoch: 1/80...: 100%|██████████| 10/10 [00:00<00:00, 11.83it/s, train_loss=0.103, valid_loss=0.1]\n",
      "Epoch: 2/80...: 100%|██████████| 10/10 [00:00<00:00, 121.48it/s, train_loss=0.0242, valid_loss=0.0431]\n",
      "Epoch: 3/80...: 100%|██████████| 10/10 [00:00<00:00, 119.84it/s, train_loss=0.0221, valid_loss=0.0247]\n",
      "Epoch: 4/80...: 100%|██████████| 10/10 [00:00<00:00, 119.66it/s, train_loss=0.0186, valid_loss=0.0247]\n",
      "Epoch: 5/80...: 100%|██████████| 10/10 [00:00<00:00, 121.97it/s, train_loss=0.00796, valid_loss=0.0071]\n",
      "Epoch: 6/80...: 100%|██████████| 10/10 [00:00<00:00, 118.97it/s, train_loss=0.0051, valid_loss=0.00359]\n",
      "Epoch: 7/80...: 100%|██████████| 10/10 [00:00<00:00, 119.52it/s, train_loss=0.0031, valid_loss=0.00259]\n",
      "Epoch: 8/80...: 100%|██████████| 10/10 [00:00<00:00, 120.10it/s, train_loss=0.00225, valid_loss=0.00188]\n",
      "Epoch: 9/80...: 100%|██████████| 10/10 [00:00<00:00, 121.47it/s, train_loss=0.00145, valid_loss=0.00167]\n",
      "Epoch: 10/80...: 100%|██████████| 10/10 [00:00<00:00, 120.21it/s, train_loss=0.00149, valid_loss=0.00143]\n",
      "Epoch: 11/80...: 100%|██████████| 10/10 [00:00<00:00, 50.28it/s, train_loss=0.00123, valid_loss=0.00137]\n",
      "Epoch: 12/80...: 100%|██████████| 10/10 [00:00<00:00, 122.33it/s, train_loss=0.00132, valid_loss=0.00125]\n",
      "Epoch: 13/80...: 100%|██████████| 10/10 [00:00<00:00, 122.86it/s, train_loss=0.000898, valid_loss=0.00128]\n",
      "Epoch: 14/80...: 100%|██████████| 10/10 [00:00<00:00, 118.37it/s, train_loss=0.00096, valid_loss=0.0011]\n",
      "Epoch: 15/80...: 100%|██████████| 10/10 [00:00<00:00, 122.85it/s, train_loss=0.000808, valid_loss=0.00103]\n",
      "Epoch: 16/80...: 100%|██████████| 10/10 [00:00<00:00, 118.32it/s, train_loss=0.00109, valid_loss=0.000972]\n",
      "Epoch: 17/80...: 100%|██████████| 10/10 [00:00<00:00, 122.69it/s, train_loss=0.000974, valid_loss=0.000969]\n",
      "Epoch: 18/80...: 100%|██████████| 10/10 [00:00<00:00, 116.48it/s, train_loss=0.00102, valid_loss=0.000914]\n",
      "Epoch: 19/80...: 100%|██████████| 10/10 [00:00<00:00, 121.74it/s, train_loss=0.000812, valid_loss=0.000935]\n",
      "Epoch: 20/80...: 100%|██████████| 10/10 [00:00<00:00, 121.13it/s, train_loss=0.000693, valid_loss=0.000933]\n",
      "Epoch: 21/80...: 100%|██████████| 10/10 [00:00<00:00, 122.19it/s, train_loss=0.000684, valid_loss=0.000842]\n",
      "Epoch: 22/80...: 100%|██████████| 10/10 [00:00<00:00, 120.43it/s, train_loss=0.000673, valid_loss=0.000786]\n",
      "Epoch: 23/80...: 100%|██████████| 10/10 [00:00<00:00, 121.17it/s, train_loss=0.000556, valid_loss=0.00077]\n",
      "Epoch: 24/80...: 100%|██████████| 10/10 [00:00<00:00, 122.13it/s, train_loss=0.00068, valid_loss=0.000781]\n",
      "Epoch: 25/80...: 100%|██████████| 10/10 [00:00<00:00, 121.42it/s, train_loss=0.000629, valid_loss=0.00103]\n",
      "Epoch: 26/80...: 100%|██████████| 10/10 [00:00<00:00, 119.70it/s, train_loss=0.000533, valid_loss=0.000652]\n",
      "Epoch: 27/80...: 100%|██████████| 10/10 [00:00<00:00, 119.88it/s, train_loss=0.000504, valid_loss=0.000686]\n",
      "Epoch: 28/80...: 100%|██████████| 10/10 [00:00<00:00, 121.71it/s, train_loss=0.000515, valid_loss=0.000658]\n",
      "Epoch: 29/80...: 100%|██████████| 10/10 [00:00<00:00, 61.62it/s, train_loss=0.000583, valid_loss=0.000656]\n",
      "Epoch: 30/80...: 100%|██████████| 10/10 [00:00<00:00, 121.87it/s, train_loss=0.000569, valid_loss=0.000593]\n",
      "Epoch: 31/80...: 100%|██████████| 10/10 [00:00<00:00, 121.61it/s, train_loss=0.000779, valid_loss=0.000783]\n",
      "Epoch: 32/80...: 100%|██████████| 10/10 [00:00<00:00, 120.75it/s, train_loss=0.000437, valid_loss=0.00064]\n",
      "Epoch: 33/80...: 100%|██████████| 10/10 [00:00<00:00, 120.04it/s, train_loss=0.000386, valid_loss=0.00054]\n",
      "Epoch: 34/80...: 100%|██████████| 10/10 [00:00<00:00, 120.98it/s, train_loss=0.000658, valid_loss=0.000607]\n",
      "Epoch: 35/80...: 100%|██████████| 10/10 [00:00<00:00, 120.73it/s, train_loss=0.000574, valid_loss=0.000675]\n",
      "Epoch: 36/80...: 100%|██████████| 10/10 [00:00<00:00, 103.34it/s, train_loss=0.000477, valid_loss=0.000465]\n",
      "Epoch: 37/80...: 100%|██████████| 10/10 [00:00<00:00, 110.41it/s, train_loss=0.000383, valid_loss=0.000534]\n",
      "Epoch: 38/80...: 100%|██████████| 10/10 [00:00<00:00, 120.01it/s, train_loss=0.000503, valid_loss=0.000569]\n",
      "Epoch: 39/80...: 100%|██████████| 10/10 [00:00<00:00, 119.32it/s, train_loss=0.000456, valid_loss=0.000919]\n",
      "Epoch: 40/80...: 100%|██████████| 10/10 [00:00<00:00, 111.06it/s, train_loss=0.000391, valid_loss=0.000549]\n",
      "Epoch: 41/80...: 100%|██████████| 10/10 [00:00<00:00, 115.32it/s, train_loss=0.00049, valid_loss=0.000437]\n",
      "Epoch: 42/80...: 100%|██████████| 10/10 [00:00<00:00, 121.06it/s, train_loss=0.000354, valid_loss=0.000466]\n",
      "Epoch: 43/80...: 100%|██████████| 10/10 [00:00<00:00, 122.89it/s, train_loss=0.000513, valid_loss=0.000438]\n",
      "Epoch: 44/80...: 100%|██████████| 10/10 [00:00<00:00, 119.52it/s, train_loss=0.000496, valid_loss=0.000843]\n",
      "Epoch: 45/80...: 100%|██████████| 10/10 [00:00<00:00, 121.14it/s, train_loss=0.000337, valid_loss=0.000447]\n",
      "Epoch: 46/80...: 100%|██████████| 10/10 [00:00<00:00, 118.01it/s, train_loss=0.000318, valid_loss=0.000435]\n",
      "Epoch: 47/80...: 100%|██████████| 10/10 [00:00<00:00, 119.25it/s, train_loss=0.000346, valid_loss=0.000379]\n",
      "Epoch: 48/80...: 100%|██████████| 10/10 [00:00<00:00, 121.77it/s, train_loss=0.000493, valid_loss=0.00041]\n",
      "Epoch: 49/80...: 100%|██████████| 10/10 [00:00<00:00, 121.25it/s, train_loss=0.000338, valid_loss=0.000606]\n",
      "Epoch: 50/80...: 100%|██████████| 10/10 [00:00<00:00, 124.17it/s, train_loss=0.000406, valid_loss=0.000495]\n",
      "Epoch: 51/80...: 100%|██████████| 10/10 [00:00<00:00, 121.31it/s, train_loss=0.000325, valid_loss=0.00053]\n",
      "Epoch: 52/80...: 100%|██████████| 10/10 [00:00<00:00, 122.95it/s, train_loss=0.000362, valid_loss=0.000404]\n",
      "Epoch: 53/80...: 100%|██████████| 10/10 [00:00<00:00, 120.02it/s, train_loss=0.000326, valid_loss=0.000349]\n",
      "Epoch: 54/80...: 100%|██████████| 10/10 [00:00<00:00, 120.52it/s, train_loss=0.000349, valid_loss=0.000373]\n",
      "Epoch: 55/80...: 100%|██████████| 10/10 [00:00<00:00, 120.75it/s, train_loss=0.000421, valid_loss=0.000391]\n",
      "Epoch: 56/80...: 100%|██████████| 10/10 [00:00<00:00, 122.25it/s, train_loss=0.000444, valid_loss=0.000401]\n",
      "Epoch: 57/80...: 100%|██████████| 10/10 [00:00<00:00, 121.78it/s, train_loss=0.000315, valid_loss=0.000361]\n",
      "Epoch: 58/80...: 100%|██████████| 10/10 [00:00<00:00, 107.79it/s, train_loss=0.000317, valid_loss=0.000413]\n",
      "Epoch: 59/80...: 100%|██████████| 10/10 [00:00<00:00, 118.87it/s, train_loss=0.000398, valid_loss=0.00102]\n",
      "Epoch: 60/80...: 100%|██████████| 10/10 [00:00<00:00, 122.25it/s, train_loss=0.000253, valid_loss=0.000412]\n",
      "Epoch: 61/80...: 100%|██████████| 10/10 [00:00<00:00, 125.80it/s, train_loss=0.000261, valid_loss=0.000371]\n",
      "Epoch: 62/80...: 100%|██████████| 10/10 [00:00<00:00, 120.90it/s, train_loss=0.0003, valid_loss=0.000345]\n",
      "Epoch: 63/80...: 100%|██████████| 10/10 [00:00<00:00, 119.86it/s, train_loss=0.000448, valid_loss=0.000344]\n",
      "Epoch: 64/80...: 100%|██████████| 10/10 [00:00<00:00, 62.64it/s, train_loss=0.00027, valid_loss=0.000401]\n",
      "Epoch: 65/80...: 100%|██████████| 10/10 [00:00<00:00, 123.19it/s, train_loss=0.000469, valid_loss=0.000496]\n",
      "Epoch: 66/80...: 100%|██████████| 10/10 [00:00<00:00, 118.41it/s, train_loss=0.00029, valid_loss=0.000338]\n",
      "Epoch: 67/80...: 100%|██████████| 10/10 [00:00<00:00, 123.36it/s, train_loss=0.000305, valid_loss=0.000339]\n",
      "Epoch: 68/80...: 100%|██████████| 10/10 [00:00<00:00, 122.77it/s, train_loss=0.000218, valid_loss=0.000404]\n",
      "Epoch: 69/80...: 100%|██████████| 10/10 [00:00<00:00, 118.26it/s, train_loss=0.000276, valid_loss=0.000332]\n",
      "Epoch: 70/80...: 100%|██████████| 10/10 [00:00<00:00, 103.64it/s, train_loss=0.000269, valid_loss=0.000437]\n",
      "Epoch: 71/80...: 100%|██████████| 10/10 [00:00<00:00, 110.75it/s, train_loss=0.000448, valid_loss=0.000522]\n",
      "Epoch: 72/80...: 100%|██████████| 10/10 [00:00<00:00, 120.31it/s, train_loss=0.000329, valid_loss=0.00053]\n",
      "Epoch: 73/80...: 100%|██████████| 10/10 [00:00<00:00, 121.42it/s, train_loss=0.000262, valid_loss=0.000322]\n",
      "Epoch: 74/80...: 100%|██████████| 10/10 [00:00<00:00, 96.14it/s, train_loss=0.000265, valid_loss=0.000439]\n",
      "Epoch: 75/80...: 100%|██████████| 10/10 [00:00<00:00, 112.50it/s, train_loss=0.000314, valid_loss=0.000939]\n",
      "Epoch: 76/80...: 100%|██████████| 10/10 [00:00<00:00, 119.91it/s, train_loss=0.000308, valid_loss=0.000488]\n"
     ]
    },
    {
     "name": "stderr",
     "output_type": "stream",
     "text": [
      "Epoch: 77/80...: 100%|██████████| 10/10 [00:00<00:00, 121.14it/s, train_loss=0.000235, valid_loss=0.000351]\n",
      "Epoch: 78/80...: 100%|██████████| 10/10 [00:00<00:00, 108.94it/s, train_loss=0.000355, valid_loss=0.000427]\n",
      "Epoch: 79/80...: 100%|██████████| 10/10 [00:00<00:00, 116.61it/s, train_loss=0.000298, valid_loss=0.000428]\n",
      "Epoch: 80/80...: 100%|██████████| 10/10 [00:00<00:00, 124.03it/s, train_loss=0.000279, valid_loss=0.000345]\n"
     ]
    },
    {
     "name": "stdout",
     "output_type": "stream",
     "text": [
      "train dataset 1\n"
     ]
    },
    {
     "name": "stderr",
     "output_type": "stream",
     "text": [
      "Epoch: 1/80...: 100%|██████████| 19/19 [00:00<00:00, 92.95it/s, train_loss=0.000409, valid_loss=0.000526]\n",
      "Epoch: 2/80...: 100%|██████████| 19/19 [00:00<00:00, 79.85it/s, train_loss=0.000298, valid_loss=0.000415] \n",
      "Epoch: 3/80...: 100%|██████████| 19/19 [00:00<00:00, 121.48it/s, train_loss=0.00045, valid_loss=0.000426]\n",
      "Epoch: 4/80...: 100%|██████████| 19/19 [00:00<00:00, 119.69it/s, train_loss=0.000228, valid_loss=0.000388]\n",
      "Epoch: 5/80...: 100%|██████████| 19/19 [00:00<00:00, 121.42it/s, train_loss=0.000537, valid_loss=0.000798]\n",
      "Epoch: 6/80...: 100%|██████████| 19/19 [00:00<00:00, 121.16it/s, train_loss=0.000277, valid_loss=0.000337]\n",
      "Epoch: 7/80...: 100%|██████████| 19/19 [00:00<00:00, 120.32it/s, train_loss=0.000275, valid_loss=0.000311]\n",
      "Epoch: 8/80...: 100%|██████████| 19/19 [00:00<00:00, 119.59it/s, train_loss=0.000316, valid_loss=0.000459]\n",
      "Epoch: 9/80...: 100%|██████████| 19/19 [00:00<00:00, 119.40it/s, train_loss=0.000214, valid_loss=0.00047]\n",
      "Epoch: 10/80...: 100%|██████████| 19/19 [00:00<00:00, 120.63it/s, train_loss=0.000234, valid_loss=0.000312]\n",
      "Epoch: 11/80...: 100%|██████████| 19/19 [00:00<00:00, 118.45it/s, train_loss=0.00033, valid_loss=0.000322]\n",
      "Epoch: 12/80...: 100%|██████████| 19/19 [00:00<00:00, 119.30it/s, train_loss=0.000258, valid_loss=0.000302]\n",
      "Epoch: 13/80...: 100%|██████████| 19/19 [00:00<00:00, 119.51it/s, train_loss=0.000393, valid_loss=0.00034]\n",
      "Epoch: 14/80...: 100%|██████████| 19/19 [00:00<00:00, 79.44it/s, train_loss=0.000264, valid_loss=0.000453]\n",
      "Epoch: 15/80...: 100%|██████████| 19/19 [00:00<00:00, 121.21it/s, train_loss=0.000354, valid_loss=0.000534]\n",
      "Epoch: 16/80...: 100%|██████████| 19/19 [00:00<00:00, 121.57it/s, train_loss=0.000267, valid_loss=0.000303]\n",
      "Epoch: 17/80...: 100%|██████████| 19/19 [00:00<00:00, 122.50it/s, train_loss=0.000203, valid_loss=0.000312]\n",
      "Epoch: 18/80...: 100%|██████████| 19/19 [00:00<00:00, 117.75it/s, train_loss=0.000208, valid_loss=0.000298]\n",
      "Epoch: 19/80...: 100%|██████████| 19/19 [00:00<00:00, 120.37it/s, train_loss=0.000231, valid_loss=0.000388]\n",
      "Epoch: 20/80...: 100%|██████████| 19/19 [00:00<00:00, 119.42it/s, train_loss=0.00032, valid_loss=0.000411]\n",
      "Epoch: 21/80...: 100%|██████████| 19/19 [00:00<00:00, 120.27it/s, train_loss=0.000202, valid_loss=0.000308]\n",
      "Epoch: 22/80...: 100%|██████████| 19/19 [00:00<00:00, 118.12it/s, train_loss=0.000205, valid_loss=0.000362]\n",
      "Epoch: 23/80...: 100%|██████████| 19/19 [00:00<00:00, 120.60it/s, train_loss=0.000228, valid_loss=0.000347]\n",
      "Epoch: 24/80...: 100%|██████████| 19/19 [00:00<00:00, 120.21it/s, train_loss=0.000187, valid_loss=0.00029]\n",
      "Epoch: 25/80...: 100%|██████████| 19/19 [00:00<00:00, 119.09it/s, train_loss=0.000229, valid_loss=0.000306]\n",
      "Epoch: 26/80...: 100%|██████████| 19/19 [00:00<00:00, 79.34it/s, train_loss=0.000309, valid_loss=0.000408]\n",
      "Epoch: 27/80...: 100%|██████████| 19/19 [00:00<00:00, 121.83it/s, train_loss=0.000256, valid_loss=0.000285]\n",
      "Epoch: 28/80...: 100%|██████████| 19/19 [00:00<00:00, 119.07it/s, train_loss=0.000203, valid_loss=0.0003]\n",
      "Epoch: 29/80...: 100%|██████████| 19/19 [00:00<00:00, 120.70it/s, train_loss=0.000183, valid_loss=0.000308]\n",
      "Epoch: 30/80...: 100%|██████████| 19/19 [00:00<00:00, 119.80it/s, train_loss=0.000277, valid_loss=0.000295]\n",
      "Epoch: 31/80...: 100%|██████████| 19/19 [00:00<00:00, 119.84it/s, train_loss=0.000209, valid_loss=0.000281]\n",
      "Epoch: 32/80...: 100%|██████████| 19/19 [00:00<00:00, 120.06it/s, train_loss=0.000438, valid_loss=0.00029]\n",
      "Epoch: 33/80...: 100%|██████████| 19/19 [00:00<00:00, 122.64it/s, train_loss=0.000242, valid_loss=0.000293]\n",
      "Epoch: 34/80...: 100%|██████████| 19/19 [00:00<00:00, 107.97it/s, train_loss=0.000224, valid_loss=0.000273]\n",
      "Epoch: 35/80...: 100%|██████████| 19/19 [00:00<00:00, 116.72it/s, train_loss=0.000347, valid_loss=0.000406]\n",
      "Epoch: 36/80...: 100%|██████████| 19/19 [00:00<00:00, 120.93it/s, train_loss=0.000181, valid_loss=0.000259]\n",
      "Epoch: 37/80...: 100%|██████████| 19/19 [00:00<00:00, 113.72it/s, train_loss=0.000307, valid_loss=0.000345]\n",
      "Epoch: 38/80...: 100%|██████████| 19/19 [00:00<00:00, 80.56it/s, train_loss=0.000201, valid_loss=0.000267]\n",
      "Epoch: 39/80...: 100%|██████████| 19/19 [00:00<00:00, 105.47it/s, train_loss=0.000205, valid_loss=0.000286]\n",
      "Epoch: 40/80...: 100%|██████████| 19/19 [00:00<00:00, 118.69it/s, train_loss=0.000194, valid_loss=0.000285]\n",
      "Epoch: 41/80...: 100%|██████████| 19/19 [00:00<00:00, 119.28it/s, train_loss=0.000178, valid_loss=0.000256]\n",
      "Epoch: 42/80...: 100%|██████████| 19/19 [00:00<00:00, 119.83it/s, train_loss=0.000198, valid_loss=0.000288]\n",
      "Epoch: 43/80...: 100%|██████████| 19/19 [00:00<00:00, 118.58it/s, train_loss=0.000355, valid_loss=0.000314]\n",
      "Epoch: 44/80...: 100%|██████████| 19/19 [00:00<00:00, 120.34it/s, train_loss=0.00024, valid_loss=0.00029]\n",
      "Epoch: 45/80...: 100%|██████████| 19/19 [00:00<00:00, 118.99it/s, train_loss=0.00019, valid_loss=0.00027]\n",
      "Epoch: 46/80...: 100%|██████████| 19/19 [00:00<00:00, 108.67it/s, train_loss=0.000164, valid_loss=0.000277]\n",
      "Epoch: 47/80...: 100%|██████████| 19/19 [00:00<00:00, 115.40it/s, train_loss=0.000237, valid_loss=0.000311]\n",
      "Epoch: 48/80...: 100%|██████████| 19/19 [00:00<00:00, 102.74it/s, train_loss=0.000461, valid_loss=0.000271]\n",
      "Epoch: 49/80...: 100%|██████████| 19/19 [00:00<00:00, 109.13it/s, train_loss=0.000249, valid_loss=0.000349]\n",
      "Epoch: 50/80...: 100%|██████████| 19/19 [00:00<00:00, 79.82it/s, train_loss=0.000223, valid_loss=0.000285]\n",
      "Epoch: 51/80...: 100%|██████████| 19/19 [00:00<00:00, 120.15it/s, train_loss=0.000198, valid_loss=0.000258]\n",
      "Epoch: 52/80...: 100%|██████████| 19/19 [00:00<00:00, 120.45it/s, train_loss=0.000164, valid_loss=0.000258]\n",
      "Epoch: 53/80...: 100%|██████████| 19/19 [00:00<00:00, 120.31it/s, train_loss=0.000167, valid_loss=0.000419]\n",
      "Epoch: 54/80...: 100%|██████████| 19/19 [00:00<00:00, 117.48it/s, train_loss=0.000135, valid_loss=0.000244]\n",
      "Epoch: 55/80...: 100%|██████████| 19/19 [00:00<00:00, 120.38it/s, train_loss=0.000298, valid_loss=0.000255]\n",
      "Epoch: 56/80...: 100%|██████████| 19/19 [00:00<00:00, 118.45it/s, train_loss=0.000195, valid_loss=0.000259]\n",
      "Epoch: 57/80...: 100%|██████████| 19/19 [00:00<00:00, 118.43it/s, train_loss=0.000163, valid_loss=0.000289]\n",
      "Epoch: 58/80...: 100%|██████████| 19/19 [00:00<00:00, 119.01it/s, train_loss=0.000136, valid_loss=0.000248]\n",
      "Epoch: 59/80...: 100%|██████████| 19/19 [00:00<00:00, 119.55it/s, train_loss=0.000139, valid_loss=0.000253]\n",
      "Epoch: 60/80...: 100%|██████████| 19/19 [00:00<00:00, 118.75it/s, train_loss=0.000175, valid_loss=0.000376]\n",
      "Epoch: 61/80...: 100%|██████████| 19/19 [00:00<00:00, 108.21it/s, train_loss=0.000211, valid_loss=0.000253]\n",
      "Epoch: 62/80...: 100%|██████████| 19/19 [00:00<00:00, 119.70it/s, train_loss=0.000191, valid_loss=0.000258]\n",
      "Epoch: 63/80...: 100%|██████████| 19/19 [00:00<00:00, 78.80it/s, train_loss=0.000235, valid_loss=0.000267]\n",
      "Epoch: 64/80...: 100%|██████████| 19/19 [00:00<00:00, 120.19it/s, train_loss=0.000186, valid_loss=0.000297]\n",
      "Epoch: 65/80...: 100%|██████████| 19/19 [00:00<00:00, 119.52it/s, train_loss=0.000183, valid_loss=0.000301]\n",
      "Epoch: 66/80...: 100%|██████████| 19/19 [00:00<00:00, 101.68it/s, train_loss=0.000192, valid_loss=0.000322]\n",
      "Epoch: 67/80...: 100%|██████████| 19/19 [00:00<00:00, 120.52it/s, train_loss=0.000152, valid_loss=0.000248]\n",
      "Epoch: 68/80...: 100%|██████████| 19/19 [00:00<00:00, 118.39it/s, train_loss=0.000163, valid_loss=0.000257]\n",
      "Epoch: 69/80...: 100%|██████████| 19/19 [00:00<00:00, 121.03it/s, train_loss=0.000262, valid_loss=0.000451]\n",
      "Epoch: 70/80...: 100%|██████████| 19/19 [00:00<00:00, 119.70it/s, train_loss=0.000184, valid_loss=0.00055]\n",
      "Epoch: 71/80...: 100%|██████████| 19/19 [00:00<00:00, 118.58it/s, train_loss=0.000253, valid_loss=0.000521]\n",
      "Epoch: 72/80...: 100%|██████████| 19/19 [00:00<00:00, 119.67it/s, train_loss=0.000221, valid_loss=0.000263]\n",
      "Epoch: 73/80...: 100%|██████████| 19/19 [00:00<00:00, 120.30it/s, train_loss=0.000238, valid_loss=0.000295]\n",
      "Epoch: 74/80...: 100%|██████████| 19/19 [00:00<00:00, 121.75it/s, train_loss=0.000473, valid_loss=0.000369]\n",
      "Epoch: 75/80...: 100%|██████████| 19/19 [00:00<00:00, 79.72it/s, train_loss=0.000176, valid_loss=0.000276]\n",
      "Epoch: 76/80...: 100%|██████████| 19/19 [00:00<00:00, 119.46it/s, train_loss=0.000145, valid_loss=0.000232]\n"
     ]
    },
    {
     "name": "stderr",
     "output_type": "stream",
     "text": [
      "Epoch: 77/80...: 100%|██████████| 19/19 [00:00<00:00, 118.71it/s, train_loss=0.000137, valid_loss=0.00023]\n",
      "Epoch: 78/80...: 100%|██████████| 19/19 [00:00<00:00, 119.28it/s, train_loss=0.00024, valid_loss=0.0004]\n",
      "Epoch: 79/80...: 100%|██████████| 19/19 [00:00<00:00, 121.18it/s, train_loss=0.000156, valid_loss=0.000294]\n",
      "Epoch: 80/80...: 100%|██████████| 19/19 [00:00<00:00, 122.06it/s, train_loss=0.000177, valid_loss=0.000283]\n"
     ]
    },
    {
     "name": "stdout",
     "output_type": "stream",
     "text": [
      "train dataset 2\n"
     ]
    },
    {
     "name": "stderr",
     "output_type": "stream",
     "text": [
      "Epoch: 1/80...: 100%|██████████| 28/28 [00:00<00:00, 103.54it/s, train_loss=0.000176, valid_loss=0.00018]\n",
      "Epoch: 2/80...: 100%|██████████| 28/28 [00:00<00:00, 120.26it/s, train_loss=0.000216, valid_loss=0.000242]\n",
      "Epoch: 3/80...: 100%|██████████| 28/28 [00:00<00:00, 117.89it/s, train_loss=0.000211, valid_loss=0.000349]\n",
      "Epoch: 4/80...: 100%|██████████| 28/28 [00:00<00:00, 118.70it/s, train_loss=0.000303, valid_loss=0.000222]\n",
      "Epoch: 5/80...: 100%|██████████| 28/28 [00:00<00:00, 118.96it/s, train_loss=0.000151, valid_loss=0.000159]\n",
      "Epoch: 6/80...: 100%|██████████| 28/28 [00:00<00:00, 119.29it/s, train_loss=0.000312, valid_loss=0.000174]\n",
      "Epoch: 7/80...: 100%|██████████| 28/28 [00:00<00:00, 83.08it/s, train_loss=0.000235, valid_loss=0.000187]\n",
      "Epoch: 8/80...: 100%|██████████| 28/28 [00:00<00:00, 115.06it/s, train_loss=0.000293, valid_loss=0.000328]\n",
      "Epoch: 9/80...: 100%|██████████| 28/28 [00:00<00:00, 118.86it/s, train_loss=0.000194, valid_loss=0.000209]\n",
      "Epoch: 10/80...: 100%|██████████| 28/28 [00:00<00:00, 120.42it/s, train_loss=0.000181, valid_loss=0.00035]\n",
      "Epoch: 11/80...: 100%|██████████| 28/28 [00:00<00:00, 113.24it/s, train_loss=0.000168, valid_loss=0.000236]\n",
      "Epoch: 12/80...: 100%|██████████| 28/28 [00:00<00:00, 119.03it/s, train_loss=0.000379, valid_loss=0.000501]\n",
      "Epoch: 13/80...: 100%|██████████| 28/28 [00:00<00:00, 112.16it/s, train_loss=0.000172, valid_loss=0.00015]\n",
      "Epoch: 14/80...: 100%|██████████| 28/28 [00:00<00:00, 83.64it/s, train_loss=0.00029, valid_loss=0.000274] \n",
      "Epoch: 15/80...: 100%|██████████| 28/28 [00:00<00:00, 117.81it/s, train_loss=0.00016, valid_loss=0.000193]\n",
      "Epoch: 16/80...: 100%|██████████| 28/28 [00:00<00:00, 119.15it/s, train_loss=0.00033, valid_loss=0.000193]\n",
      "Epoch: 17/80...: 100%|██████████| 28/28 [00:00<00:00, 118.66it/s, train_loss=0.000286, valid_loss=0.000422]\n",
      "Epoch: 18/80...: 100%|██████████| 28/28 [00:00<00:00, 118.98it/s, train_loss=0.000212, valid_loss=0.000307]\n",
      "Epoch: 19/80...: 100%|██████████| 28/28 [00:00<00:00, 120.03it/s, train_loss=0.00022, valid_loss=0.000172]\n",
      "Epoch: 20/80...: 100%|██████████| 28/28 [00:00<00:00, 119.49it/s, train_loss=0.000154, valid_loss=0.000139]\n",
      "Epoch: 21/80...: 100%|██████████| 28/28 [00:00<00:00, 114.33it/s, train_loss=0.0002, valid_loss=0.000184] \n",
      "Epoch: 22/80...: 100%|██████████| 28/28 [00:00<00:00, 118.79it/s, train_loss=0.000199, valid_loss=0.000171]\n",
      "Epoch: 23/80...: 100%|██████████| 28/28 [00:00<00:00, 118.59it/s, train_loss=0.000166, valid_loss=0.000175]\n",
      "Epoch: 24/80...: 100%|██████████| 28/28 [00:00<00:00, 119.27it/s, train_loss=0.000231, valid_loss=0.000318]\n",
      "Epoch: 25/80...: 100%|██████████| 28/28 [00:00<00:00, 84.35it/s, train_loss=0.000297, valid_loss=0.00015] \n",
      "Epoch: 26/80...: 100%|██████████| 28/28 [00:00<00:00, 116.32it/s, train_loss=0.000176, valid_loss=0.000143]\n",
      "Epoch: 27/80...: 100%|██████████| 28/28 [00:00<00:00, 119.34it/s, train_loss=0.000151, valid_loss=0.000149]\n",
      "Epoch: 28/80...: 100%|██████████| 28/28 [00:00<00:00, 119.12it/s, train_loss=0.000145, valid_loss=0.000152]\n",
      "Epoch: 29/80...: 100%|██████████| 28/28 [00:00<00:00, 121.14it/s, train_loss=0.000165, valid_loss=0.00019]\n",
      "Epoch: 30/80...: 100%|██████████| 28/28 [00:00<00:00, 110.53it/s, train_loss=0.000271, valid_loss=0.000147]\n",
      "Epoch: 31/80...: 100%|██████████| 28/28 [00:00<00:00, 85.97it/s, train_loss=0.00015, valid_loss=0.000149] \n",
      "Epoch: 32/80...: 100%|██████████| 28/28 [00:00<00:00, 120.18it/s, train_loss=0.000273, valid_loss=0.000214]\n",
      "Epoch: 33/80...: 100%|██████████| 28/28 [00:00<00:00, 121.24it/s, train_loss=0.000214, valid_loss=0.000153]\n",
      "Epoch: 34/80...: 100%|██████████| 28/28 [00:00<00:00, 118.42it/s, train_loss=0.000164, valid_loss=0.000305]\n",
      "Epoch: 35/80...: 100%|██████████| 28/28 [00:00<00:00, 119.85it/s, train_loss=0.000163, valid_loss=0.000296]\n",
      "Epoch: 36/80...: 100%|██████████| 28/28 [00:00<00:00, 118.78it/s, train_loss=0.000151, valid_loss=0.000151]\n",
      "Epoch: 37/80...: 100%|██████████| 28/28 [00:00<00:00, 88.20it/s, train_loss=0.00014, valid_loss=0.000138] \n",
      "Epoch: 38/80...: 100%|██████████| 28/28 [00:00<00:00, 119.16it/s, train_loss=0.000222, valid_loss=0.000141]\n",
      "Epoch: 39/80...: 100%|██████████| 28/28 [00:00<00:00, 119.44it/s, train_loss=0.000133, valid_loss=0.000143]\n",
      "Epoch: 40/80...: 100%|██████████| 28/28 [00:00<00:00, 119.21it/s, train_loss=0.00017, valid_loss=0.000137]\n",
      "Epoch: 41/80...: 100%|██████████| 28/28 [00:00<00:00, 107.89it/s, train_loss=0.000148, valid_loss=0.00014]\n",
      "Epoch: 42/80...: 100%|██████████| 28/28 [00:00<00:00, 118.53it/s, train_loss=0.000164, valid_loss=0.000148]\n",
      "Epoch: 43/80...: 100%|██████████| 28/28 [00:00<00:00, 89.04it/s, train_loss=0.000165, valid_loss=0.000254]\n",
      "Epoch: 44/80...: 100%|██████████| 28/28 [00:00<00:00, 108.49it/s, train_loss=0.000189, valid_loss=0.000152]\n",
      "Epoch: 45/80...: 100%|██████████| 28/28 [00:00<00:00, 117.22it/s, train_loss=0.000155, valid_loss=0.000163]\n",
      "Epoch: 46/80...: 100%|██████████| 28/28 [00:00<00:00, 120.47it/s, train_loss=0.000268, valid_loss=0.000441]\n",
      "Epoch: 47/80...: 100%|██████████| 28/28 [00:00<00:00, 119.47it/s, train_loss=0.000208, valid_loss=0.000217]\n",
      "Epoch: 48/80...: 100%|██████████| 28/28 [00:00<00:00, 118.85it/s, train_loss=0.000179, valid_loss=0.000248]\n",
      "Epoch: 49/80...: 100%|██████████| 28/28 [00:00<00:00, 119.45it/s, train_loss=0.000168, valid_loss=0.00015]\n",
      "Epoch: 50/80...: 100%|██████████| 28/28 [00:00<00:00, 119.92it/s, train_loss=0.000192, valid_loss=0.000168]\n",
      "Epoch: 51/80...: 100%|██████████| 28/28 [00:00<00:00, 121.46it/s, train_loss=0.000178, valid_loss=0.000145]\n",
      "Epoch: 52/80...: 100%|██████████| 28/28 [00:00<00:00, 117.74it/s, train_loss=0.000252, valid_loss=0.000149]\n",
      "Epoch: 53/80...: 100%|██████████| 28/28 [00:00<00:00, 88.79it/s, train_loss=0.000192, valid_loss=0.000135]\n",
      "Epoch: 54/80...: 100%|██████████| 28/28 [00:00<00:00, 119.19it/s, train_loss=0.000215, valid_loss=0.000139]\n",
      "Epoch: 55/80...: 100%|██████████| 28/28 [00:00<00:00, 119.62it/s, train_loss=0.000136, valid_loss=0.000138]\n",
      "Epoch: 56/80...: 100%|██████████| 28/28 [00:00<00:00, 117.95it/s, train_loss=0.000162, valid_loss=0.000142]\n",
      "Epoch: 57/80...: 100%|██████████| 28/28 [00:00<00:00, 119.52it/s, train_loss=0.000159, valid_loss=0.000165]\n",
      "Epoch: 58/80...: 100%|██████████| 28/28 [00:00<00:00, 118.39it/s, train_loss=0.000159, valid_loss=0.000141]\n",
      "Epoch: 59/80...: 100%|██████████| 28/28 [00:00<00:00, 88.99it/s, train_loss=0.00013, valid_loss=0.000137] \n",
      "Epoch: 60/80...: 100%|██████████| 28/28 [00:00<00:00, 119.03it/s, train_loss=0.000265, valid_loss=0.000297]\n",
      "Epoch: 61/80...: 100%|██████████| 28/28 [00:00<00:00, 120.35it/s, train_loss=0.000133, valid_loss=0.000178]\n",
      "Epoch: 62/80...: 100%|██████████| 28/28 [00:00<00:00, 121.77it/s, train_loss=0.00015, valid_loss=0.000134]\n",
      "Epoch: 63/80...: 100%|██████████| 28/28 [00:00<00:00, 120.59it/s, train_loss=0.000253, valid_loss=0.000267]\n",
      "Epoch: 64/80...: 100%|██████████| 28/28 [00:00<00:00, 118.78it/s, train_loss=0.000169, valid_loss=0.000137]\n",
      "Epoch: 65/80...: 100%|██████████| 28/28 [00:00<00:00, 118.76it/s, train_loss=0.000231, valid_loss=0.000159]\n",
      "Epoch: 66/80...: 100%|██████████| 28/28 [00:00<00:00, 118.75it/s, train_loss=0.000167, valid_loss=0.000286]\n",
      "Epoch: 67/80...: 100%|██████████| 28/28 [00:00<00:00, 120.19it/s, train_loss=0.000346, valid_loss=0.000141]\n",
      "Epoch: 68/80...: 100%|██████████| 28/28 [00:00<00:00, 118.26it/s, train_loss=0.00019, valid_loss=0.000141]\n",
      "Epoch: 69/80...: 100%|██████████| 28/28 [00:00<00:00, 119.63it/s, train_loss=0.000166, valid_loss=0.000147]\n",
      "Epoch: 70/80...: 100%|██████████| 28/28 [00:00<00:00, 119.12it/s, train_loss=0.000202, valid_loss=0.000141]\n",
      "Epoch: 71/80...: 100%|██████████| 28/28 [00:00<00:00, 88.19it/s, train_loss=0.000401, valid_loss=0.000243]\n",
      "Epoch: 72/80...: 100%|██████████| 28/28 [00:00<00:00, 118.97it/s, train_loss=0.000152, valid_loss=0.00014]\n",
      "Epoch: 73/80...: 100%|██████████| 28/28 [00:00<00:00, 118.85it/s, train_loss=0.00015, valid_loss=0.000139]\n",
      "Epoch: 74/80...: 100%|██████████| 28/28 [00:00<00:00, 119.35it/s, train_loss=0.000166, valid_loss=0.000146]\n",
      "Epoch: 75/80...: 100%|██████████| 28/28 [00:00<00:00, 119.15it/s, train_loss=0.000154, valid_loss=0.000132]\n",
      "Epoch: 76/80...: 100%|██████████| 28/28 [00:00<00:00, 119.26it/s, train_loss=0.000137, valid_loss=0.000129]\n"
     ]
    },
    {
     "name": "stderr",
     "output_type": "stream",
     "text": [
      "Epoch: 77/80...: 100%|██████████| 28/28 [00:00<00:00, 88.73it/s, train_loss=0.00014, valid_loss=0.000168] \n",
      "Epoch: 78/80...: 100%|██████████| 28/28 [00:00<00:00, 122.19it/s, train_loss=0.000521, valid_loss=0.000666]\n",
      "Epoch: 79/80...: 100%|██████████| 28/28 [00:00<00:00, 120.10it/s, train_loss=0.000227, valid_loss=0.000164]\n",
      "Epoch: 80/80...: 100%|██████████| 28/28 [00:00<00:00, 119.36it/s, train_loss=0.000236, valid_loss=0.000148]\n"
     ]
    },
    {
     "name": "stdout",
     "output_type": "stream",
     "text": [
      "train dataset 3\n"
     ]
    },
    {
     "name": "stderr",
     "output_type": "stream",
     "text": [
      "Epoch: 1/80...: 100%|██████████| 38/38 [00:00<00:00, 109.05it/s, train_loss=0.00016, valid_loss=0.000129]\n",
      "Epoch: 2/80...: 100%|██████████| 38/38 [00:00<00:00, 117.07it/s, train_loss=0.0002, valid_loss=0.000222]  \n",
      "Epoch: 3/80...: 100%|██████████| 38/38 [00:00<00:00, 118.08it/s, train_loss=0.000163, valid_loss=0.000136]\n",
      "Epoch: 4/80...: 100%|██████████| 38/38 [00:00<00:00, 93.69it/s, train_loss=0.000158, valid_loss=0.00021] \n",
      "Epoch: 5/80...: 100%|██████████| 38/38 [00:00<00:00, 120.19it/s, train_loss=0.000162, valid_loss=0.000177]\n",
      "Epoch: 6/80...: 100%|██████████| 38/38 [00:00<00:00, 122.05it/s, train_loss=0.00019, valid_loss=0.000133] \n",
      "Epoch: 7/80...: 100%|██████████| 38/38 [00:00<00:00, 122.24it/s, train_loss=0.000251, valid_loss=0.000155]\n",
      "Epoch: 8/80...: 100%|██████████| 38/38 [00:00<00:00, 121.84it/s, train_loss=0.00014, valid_loss=0.00013]  \n",
      "Epoch: 9/80...: 100%|██████████| 38/38 [00:00<00:00, 91.33it/s, train_loss=0.000178, valid_loss=0.000166] \n",
      "Epoch: 10/80...: 100%|██████████| 38/38 [00:00<00:00, 121.82it/s, train_loss=0.000147, valid_loss=0.000157]\n",
      "Epoch: 11/80...: 100%|██████████| 38/38 [00:00<00:00, 115.86it/s, train_loss=0.000153, valid_loss=0.000192]\n",
      "Epoch: 12/80...: 100%|██████████| 38/38 [00:00<00:00, 121.11it/s, train_loss=0.000167, valid_loss=0.000224]\n",
      "Epoch: 13/80...: 100%|██████████| 38/38 [00:00<00:00, 122.01it/s, train_loss=0.000119, valid_loss=0.000155]\n",
      "Epoch: 14/80...: 100%|██████████| 38/38 [00:00<00:00, 121.83it/s, train_loss=0.000261, valid_loss=0.000231]\n",
      "Epoch: 15/80...: 100%|██████████| 38/38 [00:00<00:00, 88.83it/s, train_loss=0.000224, valid_loss=0.000191] \n",
      "Epoch: 16/80...: 100%|██████████| 38/38 [00:00<00:00, 113.70it/s, train_loss=0.000131, valid_loss=0.000219]\n",
      "Epoch: 17/80...: 100%|██████████| 38/38 [00:00<00:00, 116.42it/s, train_loss=0.000149, valid_loss=0.000219]\n",
      "Epoch: 18/80...: 100%|██████████| 38/38 [00:00<00:00, 121.62it/s, train_loss=0.000184, valid_loss=0.000163]\n",
      "Epoch: 19/80...: 100%|██████████| 38/38 [00:00<00:00, 119.84it/s, train_loss=0.000134, valid_loss=0.000147]\n",
      "Epoch: 20/80...: 100%|██████████| 38/38 [00:00<00:00, 122.54it/s, train_loss=0.000232, valid_loss=0.000129]\n",
      "Epoch: 21/80...: 100%|██████████| 38/38 [00:00<00:00, 110.50it/s, train_loss=0.00026, valid_loss=0.000202]\n",
      "Epoch: 22/80...: 100%|██████████| 38/38 [00:00<00:00, 120.69it/s, train_loss=0.000319, valid_loss=0.0002]  \n",
      "Epoch: 23/80...: 100%|██████████| 38/38 [00:00<00:00, 119.80it/s, train_loss=0.000159, valid_loss=0.00016] \n",
      "Epoch: 24/80...: 100%|██████████| 38/38 [00:00<00:00, 96.14it/s, train_loss=0.000191, valid_loss=0.000135] \n",
      "Epoch: 25/80...: 100%|██████████| 38/38 [00:00<00:00, 121.02it/s, train_loss=0.000147, valid_loss=0.000118]\n",
      "Epoch: 26/80...: 100%|██████████| 38/38 [00:00<00:00, 118.34it/s, train_loss=0.00012, valid_loss=0.000246] \n",
      "Epoch: 27/80...: 100%|██████████| 38/38 [00:00<00:00, 121.06it/s, train_loss=0.000164, valid_loss=0.00022] \n",
      "Epoch: 28/80...: 100%|██████████| 38/38 [00:00<00:00, 120.39it/s, train_loss=0.000123, valid_loss=0.000129]\n",
      "Epoch: 29/80...: 100%|██████████| 38/38 [00:00<00:00, 121.88it/s, train_loss=0.000135, valid_loss=0.000127]\n",
      "Epoch: 30/80...: 100%|██████████| 38/38 [00:00<00:00, 86.58it/s, train_loss=0.000123, valid_loss=0.000162]\n",
      "Epoch: 31/80...: 100%|██████████| 38/38 [00:00<00:00, 122.18it/s, train_loss=0.000148, valid_loss=0.000163]\n",
      "Epoch: 32/80...: 100%|██████████| 38/38 [00:00<00:00, 122.03it/s, train_loss=0.00013, valid_loss=0.000142] \n",
      "Epoch: 33/80...: 100%|██████████| 38/38 [00:00<00:00, 122.69it/s, train_loss=0.000194, valid_loss=0.000147]\n",
      "Epoch: 34/80...: 100%|██████████| 38/38 [00:00<00:00, 88.67it/s, train_loss=0.00026, valid_loss=0.000241] \n",
      "Epoch: 35/80...: 100%|██████████| 38/38 [00:00<00:00, 120.68it/s, train_loss=0.000193, valid_loss=0.000167]\n",
      "Epoch: 36/80...: 100%|██████████| 38/38 [00:00<00:00, 121.32it/s, train_loss=0.000164, valid_loss=0.00016] \n",
      "Epoch: 37/80...: 100%|██████████| 38/38 [00:00<00:00, 120.63it/s, train_loss=0.000166, valid_loss=0.000121]\n",
      "Epoch: 38/80...: 100%|██████████| 38/38 [00:00<00:00, 123.00it/s, train_loss=0.000127, valid_loss=0.000148]\n",
      "Epoch: 39/80...: 100%|██████████| 38/38 [00:00<00:00, 92.93it/s, train_loss=0.000176, valid_loss=0.00019] \n",
      "Epoch: 40/80...: 100%|██████████| 38/38 [00:00<00:00, 121.25it/s, train_loss=0.000122, valid_loss=0.000115]\n",
      "Epoch: 41/80...: 100%|██████████| 38/38 [00:00<00:00, 122.19it/s, train_loss=0.000188, valid_loss=0.000151]\n",
      "Epoch: 42/80...: 100%|██████████| 38/38 [00:00<00:00, 117.95it/s, train_loss=0.000154, valid_loss=0.000134]\n",
      "Epoch: 43/80...: 100%|██████████| 38/38 [00:00<00:00, 115.07it/s, train_loss=0.000117, valid_loss=0.000147]\n",
      "Epoch: 44/80...: 100%|██████████| 38/38 [00:00<00:00, 122.51it/s, train_loss=0.000127, valid_loss=0.000132]\n",
      "Epoch: 45/80...: 100%|██████████| 38/38 [00:00<00:00, 96.05it/s, train_loss=0.000141, valid_loss=0.000124]\n",
      "Epoch: 46/80...: 100%|██████████| 38/38 [00:00<00:00, 118.68it/s, train_loss=0.000133, valid_loss=0.000129]\n",
      "Epoch: 47/80...: 100%|██████████| 38/38 [00:00<00:00, 118.25it/s, train_loss=0.000131, valid_loss=0.000125]\n",
      "Epoch: 48/80...: 100%|██████████| 38/38 [00:00<00:00, 121.19it/s, train_loss=0.000148, valid_loss=0.00019] \n",
      "Epoch: 49/80...: 100%|██████████| 38/38 [00:00<00:00, 115.63it/s, train_loss=0.000178, valid_loss=0.000296]\n",
      "Epoch: 50/80...: 100%|██████████| 38/38 [00:00<00:00, 121.00it/s, train_loss=0.000154, valid_loss=0.00011] \n",
      "Epoch: 51/80...: 100%|██████████| 38/38 [00:00<00:00, 118.84it/s, train_loss=0.000146, valid_loss=0.00015]\n",
      "Epoch: 52/80...: 100%|██████████| 38/38 [00:00<00:00, 121.00it/s, train_loss=0.000134, valid_loss=0.000147]\n",
      "Epoch: 53/80...: 100%|██████████| 38/38 [00:00<00:00, 121.11it/s, train_loss=0.000266, valid_loss=0.000163]\n",
      "Epoch: 54/80...: 100%|██████████| 38/38 [00:00<00:00, 92.45it/s, train_loss=0.000176, valid_loss=0.000187]\n",
      "Epoch: 55/80...: 100%|██████████| 38/38 [00:00<00:00, 119.90it/s, train_loss=0.000139, valid_loss=0.000125]\n",
      "Epoch: 56/80...: 100%|██████████| 38/38 [00:00<00:00, 115.76it/s, train_loss=0.000129, valid_loss=0.000129]\n",
      "Epoch: 57/80...: 100%|██████████| 38/38 [00:00<00:00, 121.38it/s, train_loss=0.000128, valid_loss=0.00011]\n",
      "Epoch: 58/80...: 100%|██████████| 38/38 [00:00<00:00, 114.15it/s, train_loss=0.000121, valid_loss=0.000117]\n",
      "Epoch: 59/80...: 100%|██████████| 38/38 [00:00<00:00, 121.64it/s, train_loss=0.000145, valid_loss=0.000112]\n",
      "Epoch: 60/80...: 100%|██████████| 38/38 [00:00<00:00, 90.97it/s, train_loss=0.000138, valid_loss=0.000143]\n",
      "Epoch: 61/80...: 100%|██████████| 38/38 [00:00<00:00, 130.54it/s, train_loss=0.000201, valid_loss=0.000284]\n",
      "Epoch: 62/80...: 100%|██████████| 38/38 [00:00<00:00, 135.82it/s, train_loss=0.000141, valid_loss=0.000165]\n",
      "Epoch: 63/80...: 100%|██████████| 38/38 [00:00<00:00, 137.17it/s, train_loss=0.000148, valid_loss=0.000118]\n",
      "Epoch: 64/80...: 100%|██████████| 38/38 [00:00<00:00, 135.06it/s, train_loss=0.000157, valid_loss=0.000131]\n",
      "Epoch: 65/80...: 100%|██████████| 38/38 [00:00<00:00, 103.90it/s, train_loss=0.000109, valid_loss=0.000116]\n",
      "Epoch: 66/80...: 100%|██████████| 38/38 [00:00<00:00, 135.68it/s, train_loss=0.000119, valid_loss=0.000114]\n",
      "Epoch: 67/80...: 100%|██████████| 38/38 [00:00<00:00, 136.09it/s, train_loss=0.000194, valid_loss=0.000215]\n",
      "Epoch: 68/80...: 100%|██████████| 38/38 [00:00<00:00, 136.39it/s, train_loss=0.000147, valid_loss=0.000204]\n",
      "Epoch: 69/80...: 100%|██████████| 38/38 [00:00<00:00, 103.98it/s, train_loss=0.000325, valid_loss=0.000199]\n",
      "Epoch: 70/80...: 100%|██████████| 38/38 [00:00<00:00, 137.16it/s, train_loss=0.000344, valid_loss=0.000531]\n",
      "Epoch: 71/80...: 100%|██████████| 38/38 [00:00<00:00, 127.81it/s, train_loss=0.000171, valid_loss=0.000177]\n",
      "Epoch: 72/80...: 100%|██████████| 38/38 [00:00<00:00, 137.48it/s, train_loss=0.000127, valid_loss=0.000115]\n",
      "Epoch: 73/80...: 100%|██████████| 38/38 [00:00<00:00, 136.95it/s, train_loss=0.000128, valid_loss=0.000129]\n",
      "Epoch: 74/80...: 100%|██████████| 38/38 [00:00<00:00, 128.61it/s, train_loss=0.000176, valid_loss=0.000178]\n",
      "Epoch: 75/80...: 100%|██████████| 38/38 [00:00<00:00, 137.26it/s, train_loss=0.000165, valid_loss=0.000113]\n",
      "Epoch: 76/80...: 100%|██████████| 38/38 [00:00<00:00, 127.14it/s, train_loss=0.000139, valid_loss=0.000126]\n"
     ]
    },
    {
     "name": "stderr",
     "output_type": "stream",
     "text": [
      "Epoch: 77/80...: 100%|██████████| 38/38 [00:00<00:00, 103.30it/s, train_loss=0.000128, valid_loss=0.000124]\n",
      "Epoch: 78/80...: 100%|██████████| 38/38 [00:00<00:00, 127.92it/s, train_loss=0.000144, valid_loss=0.000315]\n",
      "Epoch: 79/80...: 100%|██████████| 38/38 [00:00<00:00, 136.06it/s, train_loss=0.000125, valid_loss=0.000118]\n",
      "Epoch: 80/80...: 100%|██████████| 38/38 [00:00<00:00, 126.78it/s, train_loss=0.000304, valid_loss=0.000192]\n"
     ]
    },
    {
     "name": "stdout",
     "output_type": "stream",
     "text": [
      "train dataset 4\n"
     ]
    },
    {
     "name": "stderr",
     "output_type": "stream",
     "text": [
      "Epoch: 1/80...: 100%|██████████| 47/47 [00:00<00:00, 93.63it/s, train_loss=0.000112, valid_loss=8.92e-5] \n",
      "Epoch: 2/80...: 100%|██████████| 47/47 [00:00<00:00, 136.50it/s, train_loss=0.000235, valid_loss=0.000149]\n",
      "Epoch: 3/80...: 100%|██████████| 47/47 [00:00<00:00, 129.10it/s, train_loss=0.000133, valid_loss=9e-5]    \n",
      "Epoch: 4/80...: 100%|██████████| 47/47 [00:00<00:00, 138.16it/s, train_loss=0.000282, valid_loss=0.00013] \n",
      "Epoch: 5/80...: 100%|██████████| 47/47 [00:00<00:00, 137.69it/s, train_loss=0.00015, valid_loss=0.000146] \n",
      "Epoch: 6/80...: 100%|██████████| 47/47 [00:00<00:00, 109.84it/s, train_loss=0.000116, valid_loss=8.47e-5] \n",
      "Epoch: 7/80...: 100%|██████████| 47/47 [00:00<00:00, 137.70it/s, train_loss=0.000159, valid_loss=9.23e-5] \n",
      "Epoch: 8/80...: 100%|██████████| 47/47 [00:00<00:00, 137.30it/s, train_loss=0.000137, valid_loss=9.84e-5] \n",
      "Epoch: 9/80...: 100%|██████████| 47/47 [00:00<00:00, 137.25it/s, train_loss=0.000136, valid_loss=9.03e-5] \n",
      "Epoch: 10/80...: 100%|██████████| 47/47 [00:00<00:00, 137.41it/s, train_loss=9.75e-5, valid_loss=0.000102] \n",
      "Epoch: 11/80...: 100%|██████████| 47/47 [00:00<00:00, 110.11it/s, train_loss=0.000127, valid_loss=8.77e-5] \n",
      "Epoch: 12/80...: 100%|██████████| 47/47 [00:00<00:00, 128.39it/s, train_loss=9.9e-5, valid_loss=9.36e-5]   \n",
      "Epoch: 13/80...: 100%|██████████| 47/47 [00:00<00:00, 137.16it/s, train_loss=0.000126, valid_loss=0.000191]\n",
      "Epoch: 14/80...: 100%|██████████| 47/47 [00:00<00:00, 128.01it/s, train_loss=0.00012, valid_loss=9.05e-5]  \n",
      "Epoch: 15/80...: 100%|██████████| 47/47 [00:00<00:00, 136.79it/s, train_loss=0.00013, valid_loss=9.1e-5]   \n",
      "Epoch: 16/80...: 100%|██████████| 47/47 [00:00<00:00, 110.06it/s, train_loss=0.00012, valid_loss=0.000161] \n",
      "Epoch: 17/80...: 100%|██████████| 47/47 [00:00<00:00, 137.18it/s, train_loss=0.000177, valid_loss=0.000138]\n",
      "Epoch: 18/80...: 100%|██████████| 47/47 [00:00<00:00, 137.76it/s, train_loss=0.00013, valid_loss=8.1e-5]   \n",
      "Epoch: 19/80...: 100%|██████████| 47/47 [00:00<00:00, 137.44it/s, train_loss=0.000157, valid_loss=8.6e-5]  \n",
      "Epoch: 20/80...: 100%|██████████| 47/47 [00:00<00:00, 137.13it/s, train_loss=0.000162, valid_loss=8.56e-5]\n",
      "Epoch: 21/80...: 100%|██████████| 47/47 [00:00<00:00, 109.64it/s, train_loss=0.000141, valid_loss=0.000103]\n",
      "Epoch: 22/80...: 100%|██████████| 47/47 [00:00<00:00, 138.03it/s, train_loss=0.000166, valid_loss=0.000141]\n",
      "Epoch: 23/80...: 100%|██████████| 47/47 [00:00<00:00, 137.79it/s, train_loss=0.000344, valid_loss=0.000214]\n",
      "Epoch: 24/80...: 100%|██████████| 47/47 [00:00<00:00, 137.89it/s, train_loss=0.000133, valid_loss=9.37e-5] \n",
      "Epoch: 25/80...: 100%|██████████| 47/47 [00:00<00:00, 137.64it/s, train_loss=0.000105, valid_loss=8.69e-5] \n",
      "Epoch: 26/80...: 100%|██████████| 47/47 [00:00<00:00, 110.42it/s, train_loss=0.000205, valid_loss=0.000143]\n",
      "Epoch: 27/80...: 100%|██████████| 47/47 [00:00<00:00, 137.49it/s, train_loss=0.000116, valid_loss=8.66e-5] \n",
      "Epoch: 28/80...: 100%|██████████| 47/47 [00:00<00:00, 136.45it/s, train_loss=0.000146, valid_loss=9.32e-5] \n",
      "Epoch: 29/80...: 100%|██████████| 47/47 [00:00<00:00, 137.86it/s, train_loss=0.000127, valid_loss=0.000158]\n",
      "Epoch: 30/80...: 100%|██████████| 47/47 [00:00<00:00, 110.35it/s, train_loss=0.00018, valid_loss=9.36e-5]  \n",
      "Epoch: 31/80...: 100%|██████████| 47/47 [00:00<00:00, 136.02it/s, train_loss=0.000169, valid_loss=8.7e-5]  \n",
      "Epoch: 32/80...: 100%|██████████| 47/47 [00:00<00:00, 137.14it/s, train_loss=0.000119, valid_loss=0.000158]\n",
      "Epoch: 33/80...: 100%|██████████| 47/47 [00:00<00:00, 136.67it/s, train_loss=0.000259, valid_loss=0.000283]\n",
      "Epoch: 34/80...: 100%|██████████| 47/47 [00:00<00:00, 136.99it/s, train_loss=0.000105, valid_loss=8.35e-5]\n",
      "Epoch: 35/80...: 100%|██████████| 47/47 [00:00<00:00, 130.92it/s, train_loss=0.000132, valid_loss=8.96e-5] \n",
      "Epoch: 36/80...: 100%|██████████| 47/47 [00:00<00:00, 109.95it/s, train_loss=9.92e-5, valid_loss=9.8e-5]   \n",
      "Epoch: 37/80...: 100%|██████████| 47/47 [00:00<00:00, 136.90it/s, train_loss=0.000125, valid_loss=9.31e-5]\n",
      "Epoch: 38/80...: 100%|██████████| 47/47 [00:00<00:00, 136.71it/s, train_loss=0.00016, valid_loss=0.000249] \n",
      "Epoch: 39/80...: 100%|██████████| 47/47 [00:00<00:00, 137.81it/s, train_loss=0.000101, valid_loss=0.000105]\n",
      "Epoch: 40/80...: 100%|██████████| 47/47 [00:00<00:00, 109.83it/s, train_loss=0.000115, valid_loss=0.000104]\n",
      "Epoch: 41/80...: 100%|██████████| 47/47 [00:00<00:00, 135.70it/s, train_loss=0.000106, valid_loss=8e-5]    \n",
      "Epoch: 42/80...: 100%|██████████| 47/47 [00:00<00:00, 137.36it/s, train_loss=0.000115, valid_loss=9.48e-5]\n",
      "Epoch: 43/80...: 100%|██████████| 47/47 [00:00<00:00, 137.49it/s, train_loss=0.000109, valid_loss=9.04e-5] \n",
      "Epoch: 44/80...: 100%|██████████| 47/47 [00:00<00:00, 128.53it/s, train_loss=0.000104, valid_loss=0.000111]\n",
      "Epoch: 45/80...: 100%|██████████| 47/47 [00:00<00:00, 109.94it/s, train_loss=0.000121, valid_loss=9.6e-5] \n",
      "Epoch: 46/80...: 100%|██████████| 47/47 [00:00<00:00, 135.12it/s, train_loss=0.000125, valid_loss=8.43e-5] \n",
      "Epoch: 47/80...: 100%|██████████| 47/47 [00:00<00:00, 137.15it/s, train_loss=0.000236, valid_loss=0.000458]\n",
      "Epoch: 48/80...: 100%|██████████| 47/47 [00:00<00:00, 138.24it/s, train_loss=0.000109, valid_loss=9.59e-5] \n",
      "Epoch: 49/80...: 100%|██████████| 47/47 [00:00<00:00, 137.70it/s, train_loss=0.000101, valid_loss=0.000118]\n",
      "Epoch: 50/80...: 100%|██████████| 47/47 [00:00<00:00, 110.72it/s, train_loss=0.00014, valid_loss=9.41e-5]  \n",
      "Epoch: 51/80...: 100%|██████████| 47/47 [00:00<00:00, 135.62it/s, train_loss=0.000223, valid_loss=0.000258]\n",
      "Epoch: 52/80...: 100%|██████████| 47/47 [00:00<00:00, 137.29it/s, train_loss=0.000114, valid_loss=0.000119]\n",
      "Epoch: 53/80...: 100%|██████████| 47/47 [00:00<00:00, 136.36it/s, train_loss=0.000134, valid_loss=0.000109]\n",
      "Epoch: 54/80...: 100%|██████████| 47/47 [00:00<00:00, 130.45it/s, train_loss=0.000102, valid_loss=9.72e-5]\n",
      "Epoch: 55/80...: 100%|██████████| 47/47 [00:00<00:00, 108.21it/s, train_loss=0.000102, valid_loss=8.46e-5]\n",
      "Epoch: 56/80...: 100%|██████████| 47/47 [00:00<00:00, 123.31it/s, train_loss=0.000119, valid_loss=9.16e-5] \n",
      "Epoch: 57/80...: 100%|██████████| 47/47 [00:00<00:00, 137.99it/s, train_loss=0.000102, valid_loss=0.000105]\n",
      "Epoch: 58/80...: 100%|██████████| 47/47 [00:00<00:00, 137.76it/s, train_loss=0.00018, valid_loss=0.000172] \n",
      "Epoch: 59/80...: 100%|██████████| 47/47 [00:00<00:00, 136.93it/s, train_loss=0.000292, valid_loss=0.000187]\n",
      "Epoch: 60/80...: 100%|██████████| 47/47 [00:00<00:00, 110.89it/s, train_loss=0.0001, valid_loss=0.000125]  \n",
      "Epoch: 61/80...: 100%|██████████| 47/47 [00:00<00:00, 136.84it/s, train_loss=0.000154, valid_loss=8.29e-5]\n",
      "Epoch: 62/80...: 100%|██████████| 47/47 [00:00<00:00, 136.57it/s, train_loss=0.000111, valid_loss=0.000134]\n",
      "Epoch: 63/80...: 100%|██████████| 47/47 [00:00<00:00, 136.00it/s, train_loss=0.000209, valid_loss=0.000235]\n",
      "Epoch: 64/80...: 100%|██████████| 47/47 [00:00<00:00, 129.31it/s, train_loss=0.000165, valid_loss=0.000109]\n",
      "Epoch: 65/80...: 100%|██████████| 47/47 [00:00<00:00, 105.83it/s, train_loss=0.000127, valid_loss=8.38e-5]\n",
      "Epoch: 66/80...: 100%|██████████| 47/47 [00:00<00:00, 128.90it/s, train_loss=0.000101, valid_loss=0.000109]\n",
      "Epoch: 67/80...: 100%|██████████| 47/47 [00:00<00:00, 128.36it/s, train_loss=8.89e-5, valid_loss=9.85e-5]  \n",
      "Epoch: 68/80...: 100%|██████████| 47/47 [00:00<00:00, 137.14it/s, train_loss=0.000162, valid_loss=0.000135]\n",
      "Epoch: 69/80...: 100%|██████████| 47/47 [00:00<00:00, 105.57it/s, train_loss=0.000114, valid_loss=0.000101]\n",
      "Epoch: 70/80...: 100%|██████████| 47/47 [00:00<00:00, 137.67it/s, train_loss=0.000165, valid_loss=0.000113]\n",
      "Epoch: 71/80...: 100%|██████████| 47/47 [00:00<00:00, 137.89it/s, train_loss=0.000104, valid_loss=8.37e-5] \n",
      "Epoch: 72/80...: 100%|██████████| 47/47 [00:00<00:00, 137.80it/s, train_loss=0.000114, valid_loss=8.48e-5]\n",
      "Epoch: 73/80...: 100%|██████████| 47/47 [00:00<00:00, 136.08it/s, train_loss=0.000156, valid_loss=0.000105]\n",
      "Epoch: 74/80...: 100%|██████████| 47/47 [00:00<00:00, 136.27it/s, train_loss=0.000143, valid_loss=0.000252]\n",
      "Epoch: 75/80...: 100%|██████████| 47/47 [00:00<00:00, 110.34it/s, train_loss=0.0001, valid_loss=8.38e-5]  \n",
      "Epoch: 76/80...: 100%|██████████| 47/47 [00:00<00:00, 130.31it/s, train_loss=0.000179, valid_loss=0.000115]\n"
     ]
    },
    {
     "name": "stderr",
     "output_type": "stream",
     "text": [
      "Epoch: 77/80...: 100%|██████████| 47/47 [00:00<00:00, 136.68it/s, train_loss=0.000129, valid_loss=0.000132]\n",
      "Epoch: 78/80...: 100%|██████████| 47/47 [00:00<00:00, 131.78it/s, train_loss=0.000126, valid_loss=8.26e-5]\n",
      "Epoch: 79/80...: 100%|██████████| 47/47 [00:00<00:00, 110.14it/s, train_loss=0.00011, valid_loss=0.000117]\n",
      "Epoch: 80/80...: 100%|██████████| 47/47 [00:00<00:00, 137.80it/s, train_loss=0.000109, valid_loss=9.04e-5]\n"
     ]
    }
   ],
   "source": [
    "(MAPE_list, MAE_list, RMSE_list, load_pred, load_true, model) = main()"
   ]
  },
  {
   "cell_type": "code",
   "execution_count": 17,
   "metadata": {
    "ExecuteTime": {
     "end_time": "2021-12-22T01:53:24.861716Z",
     "start_time": "2021-12-22T01:53:24.851376Z"
    },
    "colab": {
     "base_uri": "https://localhost:8080/"
    },
    "executionInfo": {
     "elapsed": 603,
     "status": "ok",
     "timestamp": 1635417551942,
     "user": {
      "displayName": "Mark Dong",
      "photoUrl": "https://lh3.googleusercontent.com/a/default-user=s64",
      "userId": "04537685704836554558"
     },
     "user_tz": -480
    },
    "id": "E6G5RxT5vWUt",
    "outputId": "d07e5ae0-1fb3-4477-a95a-e2226b01a9f4"
   },
   "outputs": [
    {
     "data": {
      "text/plain": [
       "([0.035570979679415526], [463.057766411815], [699.2252911752639])"
      ]
     },
     "execution_count": 17,
     "metadata": {},
     "output_type": "execute_result"
    }
   ],
   "source": [
    "MAPE_list, MAE_list, RMSE_list"
   ]
  },
  {
   "cell_type": "code",
   "execution_count": 18,
   "metadata": {
    "ExecuteTime": {
     "end_time": "2021-12-22T01:53:27.572924Z",
     "start_time": "2021-12-22T01:53:27.430533Z"
    },
    "colab": {
     "base_uri": "https://localhost:8080/",
     "height": 610
    },
    "executionInfo": {
     "elapsed": 597,
     "status": "ok",
     "timestamp": 1635343552851,
     "user": {
      "displayName": "Mark Dong",
      "photoUrl": "https://lh3.googleusercontent.com/a/default-user=s64",
      "userId": "04537685704836554558"
     },
     "user_tz": -480
    },
    "id": "ZBQDuTK3QtqT",
    "outputId": "fe72fd87-9248-45d1-fe87-16fbd0f54e5c"
   },
   "outputs": [
    {
     "data": {
      "text/plain": [
       "[<matplotlib.lines.Line2D at 0x7fe5a6044490>]"
      ]
     },
     "execution_count": 18,
     "metadata": {},
     "output_type": "execute_result"
    },
    {
     "data": {
      "image/png": "[encoded data removed]",
      "text/plain": [
       "<Figure size 1440x720 with 1 Axes>"
      ]
     },
     "metadata": {
      "needs_background": "light"
     },
     "output_type": "display_data"
    }
   ],
   "source": [
    "plt.figure(figsize=(20, 10))\n",
    "plt.plot(load_pred[0:240], 'r')\n",
    "plt.plot(load_true[0:240], 'g')"
   ]
  },
  {
   "cell_type": "code",
   "execution_count": null,
   "metadata": {
    "id": "6fs3OXB7RXfn"
   },
   "outputs": [],
   "source": [
    "np.save('./load_pred_fnn.npy', load_pred)\n",
    "np.save('./load_true_fnn.npy', load_true)\n",
    "torch.save(model.state_dict(), \"fnn_state_dict.pt\")"
   ]
  }
 ],
 "metadata": {
  "accelerator": "GPU",
  "colab": {
   "collapsed_sections": [],
   "name": "FNN-1027-1.ipynb",
   "provenance": [
    {
     "file_id": "1JnY81SzKkuYnz0eoAeX6P74aYK2GBTfi",
     "timestamp": 1635327979963
    }
   ]
  },
  "kernelspec": {
   "display_name": "Python 3",
   "language": "python",
   "name": "python3"
  },
  "language_info": {
   "codemirror_mode": {
    "name": "ipython",
    "version": 3
   },
   "file_extension": ".py",
   "mimetype": "text/x-python",
   "name": "python",
   "nbconvert_exporter": "python",
   "pygments_lexer": "ipython3",
   "version": "3.8.12"
  },
  "toc": {
   "base_numbering": 1,
   "nav_menu": {},
   "number_sections": true,
   "sideBar": true,
   "skip_h1_title": false,
   "title_cell": "Table of Contents",
   "title_sidebar": "Contents",
   "toc_cell": false,
   "toc_position": {},
   "toc_section_display": true,
   "toc_window_display": true
  },
  "varInspector": {
   "cols": {
    "lenName": 16,
    "lenType": 16,
    "lenVar": 40
   },
   "kernels_config": {
    "python": {
     "delete_cmd_postfix": "",
     "delete_cmd_prefix": "del ",
     "library": "var_list.py",
     "varRefreshCmd": "print(var_dic_list())"
    },
    "r": {
     "delete_cmd_postfix": ") ",
     "delete_cmd_prefix": "rm(",
     "library": "var_list.r",
     "varRefreshCmd": "cat(var_dic_list()) "
    }
   },
   "types_to_exclude": [
    "module",
    "function",
    "builtin_function_or_method",
    "instance",
    "_Feature"
   ],
   "window_display": false
  }
 },
 "nbformat": 4,
 "nbformat_minor": 1
}
