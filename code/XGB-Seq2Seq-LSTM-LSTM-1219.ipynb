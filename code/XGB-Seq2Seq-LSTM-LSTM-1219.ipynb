{
 "cells": [
  {
   "cell_type": "markdown",
   "metadata": {},
   "source": [
    "# XGB-Seq2Seq用于负荷预测"
   ]
  },
  {
   "cell_type": "code",
   "execution_count": 1,
   "metadata": {
    "ExecuteTime": {
     "end_time": "2021-12-19T03:45:03.000866Z",
     "start_time": "2021-12-19T03:45:01.097895Z"
    },
    "colab": {
     "base_uri": "https://localhost:8080/"
    },
    "executionInfo": {
     "elapsed": 35209,
     "status": "ok",
     "timestamp": 1635397355382,
     "user": {
      "displayName": "Mark Dong",
      "photoUrl": "https://lh3.googleusercontent.com/a/default-user=s64",
      "userId": "04537685704836554558"
     },
     "user_tz": -480
    },
    "id": "W-jyRZqxUF2-",
    "outputId": "407c3d21-d078-401e-bcbe-3338d1865f5c"
   },
   "outputs": [],
   "source": [
    "from xgboost import XGBRegressor\n",
    "# prediction by seq2seq model which consists of LSTM-LSTM\n",
    "import pandas as pd\n",
    "import numpy as np\n",
    "import matplotlib.pyplot as plt\n",
    "import pdb\n",
    "import random\n",
    "import torch\n",
    "import torch.nn as nn\n",
    "import torch.nn.functional as F\n",
    "\n",
    "from sklearn.preprocessing import StandardScaler, MinMaxScaler\n",
    "from sklearn.model_selection import train_test_split, KFold\n",
    "from sqlalchemy import create_engine\n",
    "from torch.autograd import Variable\n",
    "from torch.utils.data import TensorDataset, DataLoader\n",
    "from tqdm import tqdm"
   ]
  },
  {
   "cell_type": "code",
   "execution_count": 2,
   "metadata": {
    "ExecuteTime": {
     "end_time": "2021-12-19T03:45:03.017536Z",
     "start_time": "2021-12-19T03:45:03.002742Z"
    },
    "executionInfo": {
     "elapsed": 38,
     "status": "ok",
     "timestamp": 1635397355386,
     "user": {
      "displayName": "Mark Dong",
      "photoUrl": "https://lh3.googleusercontent.com/a/default-user=s64",
      "userId": "04537685704836554558"
     },
     "user_tz": -480
    },
    "id": "mXGB-NgvYQdT"
   },
   "outputs": [],
   "source": [
    "if torch.cuda.is_available():  \n",
    "    dev = \"cuda:0\" \n",
    "else:  \n",
    "    dev = \"cpu\"\n",
    "device = torch.device(dev)"
   ]
  },
  {
   "cell_type": "markdown",
   "metadata": {},
   "source": [
    "## 导入数据"
   ]
  },
  {
   "cell_type": "code",
   "execution_count": 3,
   "metadata": {
    "ExecuteTime": {
     "end_time": "2021-12-19T03:45:03.157125Z",
     "start_time": "2021-12-19T03:45:03.019289Z"
    },
    "executionInfo": {
     "elapsed": 770,
     "status": "ok",
     "timestamp": 1635397356144,
     "user": {
      "displayName": "Mark Dong",
      "photoUrl": "https://lh3.googleusercontent.com/a/default-user=s64",
      "userId": "04537685704836554558"
     },
     "user_tz": -480
    },
    "id": "14JEOyI5UF3I"
   },
   "outputs": [],
   "source": [
    "# load data\n",
    "url = '../dataset_0101110000.csv'\n",
    "data = pd.read_csv(url, sep=',', index_col='time')"
   ]
  },
  {
   "cell_type": "markdown",
   "metadata": {},
   "source": [
    "## 归一化"
   ]
  },
  {
   "cell_type": "code",
   "execution_count": 4,
   "metadata": {
    "ExecuteTime": {
     "end_time": "2021-12-19T03:45:03.162566Z",
     "start_time": "2021-12-19T03:45:03.158986Z"
    },
    "executionInfo": {
     "elapsed": 32,
     "status": "ok",
     "timestamp": 1635397356145,
     "user": {
      "displayName": "Mark Dong",
      "photoUrl": "https://lh3.googleusercontent.com/a/default-user=s64",
      "userId": "04537685704836554558"
     },
     "user_tz": -480
    },
    "id": "ZMuY2BhfUF3K"
   },
   "outputs": [],
   "source": [
    "def normalization(data):\n",
    "    \"\"\"\n",
    "    data: original data with load\n",
    "    return: normalized data, scaler of load\n",
    "    \"\"\"\n",
    "    normalized_data = MinMaxScaler().fit_transform(data)\n",
    "    scaler_y = MinMaxScaler()\n",
    "    scaler_y.fit_transform(data[['load']])\n",
    "    return normalized_data, scaler_y"
   ]
  },
  {
   "cell_type": "markdown",
   "metadata": {},
   "source": [
    "## 选择重要特征"
   ]
  },
  {
   "cell_type": "code",
   "execution_count": 5,
   "metadata": {
    "ExecuteTime": {
     "end_time": "2021-12-19T03:45:03.168250Z",
     "start_time": "2021-12-19T03:45:03.164246Z"
    },
    "executionInfo": {
     "elapsed": 31,
     "status": "ok",
     "timestamp": 1635397356145,
     "user": {
      "displayName": "Mark Dong",
      "photoUrl": "https://lh3.googleusercontent.com/a/default-user=s64",
      "userId": "04537685704836554558"
     },
     "user_tz": -480
    },
    "id": "85xo-ESkGwvV"
   },
   "outputs": [],
   "source": [
    "def select_feature(X, feature_num=10):\n",
    "    \"\"\"\n",
    "    X: features, size * 48 * features\n",
    "    Y: labels, size *  1\n",
    "    feature_num: num of selected features\n",
    "    return: index of selected features\n",
    "    \"\"\"\n",
    "    x = X[:, :-1]\n",
    "    y = X[:, -1:]\n",
    "    model = XGBRegressor()\n",
    "    model.fit(x, y)\n",
    "    model.importance_type = 'weight'\n",
    "    ind = (-model.feature_importances_).argsort()[0:feature_num]\n",
    "    ind = np.append(ind, -1)\n",
    "    return X[:, ind]"
   ]
  },
  {
   "cell_type": "markdown",
   "metadata": {},
   "source": [
    "## 构建监督学习数据集"
   ]
  },
  {
   "cell_type": "code",
   "execution_count": 16,
   "metadata": {
    "ExecuteTime": {
     "end_time": "2021-12-19T03:45:57.441068Z",
     "start_time": "2021-12-19T03:45:57.432846Z"
    },
    "executionInfo": {
     "elapsed": 29,
     "status": "ok",
     "timestamp": 1635397356146,
     "user": {
      "displayName": "Mark Dong",
      "photoUrl": "https://lh3.googleusercontent.com/a/default-user=s64",
      "userId": "04537685704836554558"
     },
     "user_tz": -480
    },
    "id": "Tza1H7XMUF3K"
   },
   "outputs": [],
   "source": [
    "def Series_To_Supervise(data, seq_len, target_len, y_col_index):\n",
    "    \"\"\"\n",
    "    convert series data to supervised data\n",
    "    :param data: original data\n",
    "    :param seq_len: length of sequence\n",
    "    :y_col_index: index of column which acts as output\n",
    "    :return: return two ndarrays-- input and output in format suitable to feed to LSTM\n",
    "    \"\"\"\n",
    "#     pdb.set_trace()\n",
    "    dim_0 = data.shape[0] - seq_len\n",
    "    dim_1 = data.shape[1]\n",
    "    x = np.zeros((dim_0, seq_len, dim_1))\n",
    "    y = np.zeros((dim_0, target_len))\n",
    "    for i in range(dim_0):\n",
    "        x[i] = data[i: i+seq_len]\n",
    "        y[i] = data[i+seq_len-target_len:i+seq_len, y_col_index]\n",
    "    print(\"Supervised Train Data: Shape of x: {}, Shape of y: {}\".format(x.shape, y.shape))\n",
    "    return x, y\n",
    "\n",
    "def Series_To_Supervise_Test(data, seq_len, target_len, y_col_index):\n",
    "    \"\"\"\n",
    "    convert series data to supervised data\n",
    "    :param data: original data\n",
    "    :param seq_len: length of sequence\n",
    "    :y_col_index: index of column which acts as output\n",
    "    :return: return two ndarrays-- input and output in format suitable to feed to LSTM\n",
    "    \"\"\"\n",
    "    dim_0 = int((data.shape[0] - seq_len)/24)+1\n",
    "    dim_1 = data.shape[1]\n",
    "    x = np.zeros((dim_0, seq_len, dim_1))\n",
    "    y = np.zeros((dim_0, target_len))\n",
    "    for i in range(0, dim_0):\n",
    "        x[i] = data[i*24: i*24+seq_len]\n",
    "        y[i] = data[i*24+seq_len-target_len:i*24+seq_len, y_col_index]\n",
    "    print(\"Supervised Test Data: Shape of x: {}, Shape of y: {}\".format(x.shape, y.shape))\n",
    "    return x, y"
   ]
  },
  {
   "cell_type": "markdown",
   "metadata": {},
   "source": [
    "## 五折交叉验证"
   ]
  },
  {
   "cell_type": "code",
   "execution_count": 7,
   "metadata": {
    "ExecuteTime": {
     "end_time": "2021-12-19T03:45:03.183618Z",
     "start_time": "2021-12-19T03:45:03.179168Z"
    },
    "executionInfo": {
     "elapsed": 28,
     "status": "ok",
     "timestamp": 1635397356147,
     "user": {
      "displayName": "Mark Dong",
      "photoUrl": "https://lh3.googleusercontent.com/a/default-user=s64",
      "userId": "04537685704836554558"
     },
     "user_tz": -480
    },
    "id": "Gt4Wfny1UF3L"
   },
   "outputs": [],
   "source": [
    "# 5-fold cross-validation\n",
    "def split_dataset(X, Y, n_split=5):\n",
    "    \"\"\"\n",
    "    X: original feature, size * 72 * features\n",
    "    Y: labels, size * 1\n",
    "    return: list of train_x, test_x, train_y, test_y\n",
    "    \"\"\"\n",
    "    kf = KFold(n_splits=n_split, shuffle=True, random_state=1)\n",
    "    train_x_list = list()\n",
    "    valid_x_list = list()\n",
    "    train_y_list = list()\n",
    "    valid_y_list = list()\n",
    "    for train_index, valid_index in kf.split(X):\n",
    "        train_x_list.append(X[train_index])\n",
    "        train_y_list.append(Y[train_index])\n",
    "        valid_x_list.append(X[valid_index])\n",
    "        valid_y_list.append(Y[valid_index])\n",
    "    return train_x_list, valid_x_list, train_y_list, valid_y_list"
   ]
  },
  {
   "cell_type": "markdown",
   "metadata": {},
   "source": [
    "## 定义LSTM-Encoder"
   ]
  },
  {
   "cell_type": "code",
   "execution_count": 8,
   "metadata": {
    "ExecuteTime": {
     "end_time": "2021-12-19T03:45:03.192226Z",
     "start_time": "2021-12-19T03:45:03.186082Z"
    },
    "executionInfo": {
     "elapsed": 27,
     "status": "ok",
     "timestamp": 1635397356148,
     "user": {
      "displayName": "Mark Dong",
      "photoUrl": "https://lh3.googleusercontent.com/a/default-user=s64",
      "userId": "04537685704836554558"
     },
     "user_tz": -480
    },
    "id": "_gOiLShV2Y_A"
   },
   "outputs": [],
   "source": [
    "# define lstm_encoder\n",
    "class LSTMEncoder(nn.Module):\n",
    "    def __init__(self, input_size, hidden_dim, n_layers, drop_prob=0.5):\n",
    "        super(LSTMEncoder, self).__init__()\n",
    "        # 初始化hidden_state参数\n",
    "        self.hidden_dim = hidden_dim\n",
    "        self.n_layers = n_layers\n",
    "        # 定义层\n",
    "        self.lstm = nn.LSTM(input_size, hidden_dim, n_layers, batch_first=True)\n",
    "        self.dropout = nn.Dropout(drop_prob)\n",
    "    \n",
    "    def forward(self, x):\n",
    "        batch_size = x.size(0)\n",
    "        hidden = self.init_hidden(batch_size)\n",
    "        \n",
    "        lstm_out, hidden = self.lstm(x, hidden)\n",
    "        return lstm_out, hidden\n",
    "    \n",
    "    def init_hidden(self, batch_size):\n",
    "        hidden = (torch.zeros(self.n_layers, batch_size, self.hidden_dim).to(device),\n",
    "                      torch.zeros(self.n_layers, batch_size, self.hidden_dim).to(device))\n",
    "        return hidden"
   ]
  },
  {
   "cell_type": "markdown",
   "metadata": {},
   "source": [
    "## 定义Attn-LSTM-Decoder"
   ]
  },
  {
   "cell_type": "code",
   "execution_count": 9,
   "metadata": {
    "ExecuteTime": {
     "end_time": "2021-12-19T03:45:03.204509Z",
     "start_time": "2021-12-19T03:45:03.194094Z"
    },
    "executionInfo": {
     "elapsed": 26,
     "status": "ok",
     "timestamp": 1635397356149,
     "user": {
      "displayName": "Mark Dong",
      "photoUrl": "https://lh3.googleusercontent.com/a/default-user=s64",
      "userId": "04537685704836554558"
     },
     "user_tz": -480
    },
    "id": "lXetdwqC2Y_B"
   },
   "outputs": [],
   "source": [
    "# define attn_lstm_decoder\n",
    "class AttnLSTMDecoder(nn.Module):\n",
    "    def __init__(self, input_size, hidden_dim, output_size=1, n_layers=1, drop_prob=0.1, seq_len=48):\n",
    "        super(AttnLSTMDecoder, self).__init__()\n",
    "        self.input_size = input_size\n",
    "        self.hidden_dim = hidden_dim\n",
    "        self.output_size = output_size\n",
    "        self.n_layers = n_layers\n",
    "        self.drop_prob = drop_prob\n",
    "        # 计算attention\n",
    "        self.seq_len = seq_len\n",
    "        \n",
    "        self.embedding = nn.Linear(self.input_size, self.hidden_dim * self.n_layers)\n",
    "        self.attn = nn.Linear(self.hidden_dim * self.n_layers * 2, self.seq_len)\n",
    "        self.attn_combine = nn.Linear(self.hidden_dim * (self.n_layers + 1), self.hidden_dim)\n",
    "        self.dropout = nn.Dropout(self.drop_prob)\n",
    "        self.lstm = nn.LSTM(self.hidden_dim, self.hidden_dim, self.n_layers, batch_first=True)\n",
    "        self.out = nn.Linear(self.hidden_dim, self.output_size)\n",
    "    \n",
    "    def forward(self, input, hidden, encoder_outputs):\n",
    "        \"\"\"\n",
    "        :input size(batch_size, 1, input_size)\n",
    "        :hidden size(batch_size, 1, hidden_dim)\n",
    "        :encoder_outputs size(batch_size, seq_len, hidden_dim)\n",
    "        \"\"\"\n",
    "        embedded = self.embedding(input)\n",
    "        \n",
    "        # flat hidden to calculte weights\n",
    "        # pdb.set_trace()\n",
    "        hidden_flat = hidden[0].transpose(0, 1)\n",
    "        hidden_flat = hidden_flat.contiguous().view(hidden_flat.shape[0], 1, -1)\n",
    "        \n",
    "        attn_weights = F.softmax(self.attn(torch.cat((embedded, hidden_flat), 2)), dim=2)\n",
    "        attn_applied = torch.bmm(attn_weights, encoder_outputs)\n",
    "        \n",
    "        output = torch.cat((embedded, attn_applied), 2)\n",
    "        output = self.attn_combine(output)\n",
    "        output = F.relu(output)\n",
    "        \n",
    "        output, hidden = self.lstm(output, hidden)        \n",
    "        \n",
    "        output = self.out(output)      \n",
    "        \n",
    "        return output, hidden        "
   ]
  },
  {
   "cell_type": "markdown",
   "metadata": {},
   "source": [
    "## 训练模型"
   ]
  },
  {
   "cell_type": "code",
   "execution_count": 10,
   "metadata": {
    "ExecuteTime": {
     "end_time": "2021-12-19T03:45:03.229300Z",
     "start_time": "2021-12-19T03:45:03.205946Z"
    },
    "executionInfo": {
     "elapsed": 25,
     "status": "ok",
     "timestamp": 1635397356150,
     "user": {
      "displayName": "Mark Dong",
      "photoUrl": "https://lh3.googleusercontent.com/a/default-user=s64",
      "userId": "04537685704836554558"
     },
     "user_tz": -480
    },
    "id": "Lzq1qRjC2Y_C"
   },
   "outputs": [],
   "source": [
    "def train_model(train_x_list, train_y_list, valid_x_list, valid_y_list, input_size=23, hidden_dim=70, n_layers=1,\n",
    "                seq_len=48, target_len=24, number_epochs=40, batch_size=512, teacher_forcing_ratio=0.5,\n",
    "                lr=0.01, training_prediction='teacher_forcing', dynamic_tf=False):\n",
    "    encoder = LSTMEncoder(input_size, hidden_dim, n_layers)\n",
    "    decoder = AttnLSTMDecoder(input_size, hidden_dim, n_layers=n_layers)\n",
    "    encoder = encoder.to(device)\n",
    "    decoder = decoder.to(device)\n",
    "    criterion = nn.MSELoss()\n",
    "    encoder_optimizer = torch.optim.Adam(encoder.parameters(), lr=lr)\n",
    "    decoder_optimizer = torch.optim.Adam(decoder.parameters(), lr=lr)\n",
    "    valid_loss_min = np.Inf\n",
    "    for i in range(5):\n",
    "        print('train dataset {}'.format(i))\n",
    "        train_x = train_x_list[i]\n",
    "        train_y = train_y_list[i]\n",
    "        valid_x = valid_x_list[i]\n",
    "        valid_y = valid_y_list[i]\n",
    "        train_dataset = TensorDataset(torch.FloatTensor(train_x), torch.FloatTensor(train_y))\n",
    "        valid_dataset = TensorDataset(torch.FloatTensor(valid_x), torch.FloatTensor(valid_y))\n",
    "        \n",
    "        train_loader = DataLoader(dataset=train_dataset, batch_size=batch_size, shuffle=True, drop_last=True)\n",
    "        valid_loader = DataLoader(dataset=valid_dataset, batch_size=batch_size, shuffle=True, drop_last=True)\n",
    "        train_losses = list()\n",
    "  \n",
    "        num_without_imp = 0\n",
    "        \n",
    "        y_index = train_x.shape[2] - 1\n",
    "        #train\n",
    "        for epoch in range(1, number_epochs + 1):\n",
    "            loop = tqdm(enumerate(train_loader), total=len(train_loader), leave=True)\n",
    "            for i, (inputs, labels) in loop:\n",
    "                inputs = inputs.to(device)\n",
    "                labels = labels.to(device)\n",
    "                outputs = torch.zeros(batch_size, target_len).to(device)\n",
    "                encoder_optimizer.zero_grad()\n",
    "                decoder_optimizer.zero_grad()\n",
    "                # encoder\n",
    "                input_tensor = inputs[:, 0:seq_len, :]\n",
    "                target_tensor = inputs[:, seq_len:, :]\n",
    "                encoder_outputs, encoder_hidden = encoder(input_tensor)\n",
    "                # decoder\n",
    "                decoder_input = inputs[:, seq_len-1, :].unsqueeze(1)\n",
    "                decoder_hidden = encoder_hidden\n",
    "                \n",
    "                if training_prediction == 'recursive':\n",
    "                    # predict recursively\n",
    "                    for t in range(target_len):\n",
    "                        # pdb.set_trace()\n",
    "                        decoder_output, decoder_hidden = decoder(decoder_input, decoder_hidden, encoder_outputs)\n",
    "                        outputs[:, t] = decoder_output.squeeze()\n",
    "                        decoder_input = torch.cat((target_tensor[:, t, :-1].unsqueeze(1), decoder_output.detach()), 2)\n",
    "                \n",
    "                if training_prediction == 'teacher_forcing':\n",
    "                    # use teacher forcing\n",
    "                    if random.random() < teacher_forcing_ratio:\n",
    "                        for t in range(target_len):\n",
    "                            decoder_output, decoder_hidden = decoder(decoder_input, decoder_hidden, encoder_outputs)\n",
    "                            outputs[:, t] = decoder_output.squeeze()\n",
    "                            decoder_input = target_tensor[:, t, :].unsqueeze(1)\n",
    "                    # predict recurisively\n",
    "                    else:\n",
    "                        for t in range(target_len):\n",
    "                            decoder_output, decoder_hidden = decoder(decoder_input, decoder_hidden, encoder_outputs)\n",
    "                            outputs[:, t] = decoder_output.squeeze()\n",
    "                            decoder_input = torch.cat((target_tensor[:, t, :-1].unsqueeze(1), decoder_output.detach()), 2)\n",
    "                \n",
    "                if training_prediction == 'mixed_teacher_forcing':\n",
    "                    # predict using mixed teacher forcing\n",
    "                    for t in range(target_len):\n",
    "                        decoder_output, decoder_hidden = decoder(decoder_input, decoder_hidden, encoder_outputs)\n",
    "                        outputs[:, t] = decoder_output.squeeze()\n",
    "                        # predict with teacher forcing\n",
    "                        if random.random() < teacher_forcing_ratio:\n",
    "                            decoder_input = target_tensor[:, t, :].unsqueeze(1)\n",
    "                                \n",
    "                        # predict recursively \n",
    "                        else:\n",
    "                            decoder_input = torch.cat((target_tensor[:, t, :-1].unsqueeze(1), decoder_output.detach()), 2)\n",
    "                loss = criterion(outputs, labels)\n",
    "                train_losses.append(loss.item)\n",
    "                loss.backward()\n",
    "                encoder_optimizer.step()\n",
    "                decoder_optimizer.step()\n",
    "                \n",
    "                # eval\n",
    "                if i % 5 == 0:\n",
    "                    # if num_without_imp > 60:\n",
    "                    #     return encoder, decoder\n",
    "                    num_without_imp = num_without_imp + 1\n",
    "                    valid_losses = list()\n",
    "                    encoder.eval()\n",
    "                    decoder.eval()\n",
    "                    for inp, lab in valid_loader:\n",
    "                        inp = inp.to(device)\n",
    "                        lab = lab.to(device)\n",
    "                        out = torch.zeros(batch_size, target_len).to(device)\n",
    "                        # encoder\n",
    "                        input_tensor = inp[:, 0:seq_len, :]\n",
    "                        target_tensor = inp[:, seq_len:, 0:-1]\n",
    "                        encoder_outputs, encoder_hidden = encoder(input_tensor)\n",
    "                        # decoder\n",
    "                        decoder_input = inp[:, seq_len-1, :].unsqueeze(1)\n",
    "                        decoder_hidden = encoder_hidden\n",
    "                        # predict recuisively\n",
    "                        for t in range(target_len):\n",
    "                            decoder_output, decoder_hidden = decoder(decoder_input, decoder_hidden, encoder_outputs)\n",
    "                            out[:, t] = decoder_output.squeeze()\n",
    "                            decoder_input = torch.cat((target_tensor[:, t, :].unsqueeze(1), decoder_output.detach()), 2)\n",
    "                        valid_loss = criterion(out, lab)\n",
    "                        valid_losses.append(valid_loss.item())\n",
    "                    encoder.train()\n",
    "                    decoder.train()\n",
    "                    loop.set_description(\"Epoch: {}/{}...\".format(\n",
    "                        epoch, number_epochs))\n",
    "                    loop.set_postfix(train_loss=loss.item(),\n",
    "                                     valid_loss=np.mean(valid_losses))\n",
    "                    if np.mean(valid_losses) < valid_loss_min:\n",
    "                        num_without_imp = 0\n",
    "                        torch.save(encoder.state_dict(), \"encoder_state_dict.pt\")\n",
    "                        torch.save(decoder.state_dict(), \"decoder_state_dict.pt\")\n",
    "                        valid_loss_min = np.mean(valid_losses)\n",
    "    return encoder, decoder"
   ]
  },
  {
   "cell_type": "markdown",
   "metadata": {},
   "source": [
    "## 测试模型"
   ]
  },
  {
   "cell_type": "code",
   "execution_count": 11,
   "metadata": {
    "ExecuteTime": {
     "end_time": "2021-12-19T03:45:03.240341Z",
     "start_time": "2021-12-19T03:45:03.230800Z"
    },
    "executionInfo": {
     "elapsed": 24,
     "status": "ok",
     "timestamp": 1635397356151,
     "user": {
      "displayName": "Mark Dong",
      "photoUrl": "https://lh3.googleusercontent.com/a/default-user=s64",
      "userId": "04537685704836554558"
     },
     "user_tz": -480
    },
    "id": "BWIEjvjH2Y_K"
   },
   "outputs": [],
   "source": [
    "def test_model(encoder, decoder, test_x, test_y, batch_size, seq_len, target_len, scaler):\n",
    "    # pdb.set_trace()\n",
    "    test_dataset = TensorDataset(torch.FloatTensor(test_x), torch.FloatTensor(test_y))\n",
    "    test_loader = DataLoader(dataset=test_dataset, batch_size=batch_size, shuffle=False)\n",
    "    encoder.load_state_dict(torch.load('encoder_state_dict.pt'))\n",
    "    decoder.load_state_dict(torch.load('decoder_state_dict.pt'))\n",
    "    y_pred = list()\n",
    "    y_true = list()\n",
    "    y_index = test_x.shape[2] - 1\n",
    "    with torch.no_grad():\n",
    "        for inputs, labels in test_loader:\n",
    "            inputs = inputs.to(device=device)\n",
    "            labels = labels.to(device=device)\n",
    "            outputs = torch.zeros(batch_size, target_len).to(device)\n",
    "            # encoder\n",
    "            input_tensor = inputs[:, 0:seq_len, :]\n",
    "            target_tensor = inputs[:, seq_len:, :]\n",
    "            encoder_outputs, encoder_hidden = encoder(input_tensor)\n",
    "            # decoder\n",
    "            decoder_input = inputs[:, seq_len-1, :].unsqueeze(1)\n",
    "            decoder_hidden = encoder_hidden\n",
    "            # predict recursively\n",
    "            for t in range(target_len):\n",
    "                decoder_output, decoder_hidden = decoder(decoder_input, decoder_hidden, encoder_outputs)\n",
    "                outputs[:, t] = decoder_output.squeeze()\n",
    "                decoder_input = torch.cat((target_tensor[:, t, :-1].unsqueeze(1), decoder_output.detach()), 2)\n",
    "            y_pred = y_pred + outputs.view(-1).cpu().numpy().tolist()\n",
    "            y_true = y_true + labels.view(-1).cpu().numpy().tolist()\n",
    "    y_true = np.array(y_true)\n",
    "    y_pred = np.array(y_pred)\n",
    "    load_true = scaler.inverse_transform(np.expand_dims(y_true, axis=1))\n",
    "    load_pred = scaler.inverse_transform(np.expand_dims(y_pred, axis=1))\n",
    "    MAPE = np.mean(np.abs(load_true-load_pred)/load_true)\n",
    "    MAE = np.mean(np.abs(load_true-load_pred))\n",
    "    RMSE = np.sqrt(np.mean(np.square(load_true-load_pred)))\n",
    "    return MAPE, MAE, RMSE, load_pred, load_true"
   ]
  },
  {
   "cell_type": "markdown",
   "metadata": {},
   "source": [
    "## 超参数"
   ]
  },
  {
   "cell_type": "code",
   "execution_count": 12,
   "metadata": {
    "ExecuteTime": {
     "end_time": "2021-12-19T03:45:03.245243Z",
     "start_time": "2021-12-19T03:45:03.241776Z"
    },
    "executionInfo": {
     "elapsed": 24,
     "status": "ok",
     "timestamp": 1635397356152,
     "user": {
      "displayName": "Mark Dong",
      "photoUrl": "https://lh3.googleusercontent.com/a/default-user=s64",
      "userId": "04537685704836554558"
     },
     "user_tz": -480
    },
    "id": "thj9qZovUF3N"
   },
   "outputs": [],
   "source": [
    "def Model_Configs():\n",
    "    batch_sizes = [512]\n",
    "    n_layers = [1]\n",
    "    lrs = [0.01]\n",
    "    hidden_dims = [70]\n",
    "    configs = list()\n",
    "    for i in batch_sizes:\n",
    "        for j in n_layers:\n",
    "            for k in lrs:\n",
    "                for l in hidden_dims:\n",
    "                    configs.append([i, j, k, l])\n",
    "    return configs"
   ]
  },
  {
   "cell_type": "markdown",
   "metadata": {},
   "source": [
    "## 主函数"
   ]
  },
  {
   "cell_type": "code",
   "execution_count": 15,
   "metadata": {
    "ExecuteTime": {
     "end_time": "2021-12-19T03:45:29.397590Z",
     "start_time": "2021-12-19T03:45:29.386304Z"
    },
    "executionInfo": {
     "elapsed": 5,
     "status": "ok",
     "timestamp": 1635397356697,
     "user": {
      "displayName": "Mark Dong",
      "photoUrl": "https://lh3.googleusercontent.com/a/default-user=s64",
      "userId": "04537685704836554558"
     },
     "user_tz": -480
    },
    "id": "L03esL1dUF3O"
   },
   "outputs": [],
   "source": [
    "def main(n_split=5, seq_len=48, target_len=24, plot=False):\n",
    "    normalized_data, scaler_y = normalization(data)\n",
    "    normalized_data = select_feature(normalized_data, feature_num=10)\n",
    "    train_data = normalized_data\n",
    "    test_data = normalized_data[-3000:]\n",
    "    y_index = normalized_data.shape[1] - 1\n",
    "    num_features = normalized_data.shape[1]\n",
    "    x, y = Series_To_Supervise(train_data,\n",
    "                               seq_len=seq_len + target_len,\n",
    "                               target_len=target_len,\n",
    "                               y_col_index=y_index)\n",
    "    train_x_list, valid_x_list, train_y_list, valid_y_list = split_dataset(\n",
    "        x, y, n_split=n_split)\n",
    "    test_x, test_y = Series_To_Supervise_Test(test_data,\n",
    "                                              seq_len=seq_len + target_len,\n",
    "                                              target_len=target_len,\n",
    "                                              y_col_index=y_index)\n",
    "\n",
    "    configs = Model_Configs()\n",
    "    MAPE_list = list()\n",
    "    MAE_list = list()\n",
    "    RMSE_list = list()\n",
    "    for config in configs:\n",
    "        batch_size = config[0]\n",
    "        n_layer = config[1]\n",
    "        lr = config[2]\n",
    "        hidden_dim = config[3]\n",
    "        print(\"Model Config: batch_size--{}, n_layer--{}, lr--{}, hidden_dims--{}\".\n",
    "              format(batch_size, n_layer, lr, hidden_dim))\n",
    "\n",
    "        while (1):\n",
    "            encoder, decoder = train_model(\n",
    "                train_x_list,\n",
    "                train_y_list,\n",
    "                valid_x_list,\n",
    "                valid_y_list,\n",
    "                input_size=num_features,\n",
    "                hidden_dim=hidden_dim,\n",
    "                batch_size=batch_size,\n",
    "                n_layers=n_layer,\n",
    "                lr=lr,\n",
    "                seq_len=seq_len,\n",
    "                target_len=target_len,\n",
    "                training_prediction='teacher_forcing')\n",
    "            (MAPE, MAE, RMSE, load_pred,\n",
    "             load_true) = test_model(encoder,\n",
    "                                     decoder,\n",
    "                                     test_x,\n",
    "                                     test_y,\n",
    "                                     batch_size=1,\n",
    "                                     seq_len=seq_len,\n",
    "                                     target_len=target_len,\n",
    "                                     scaler=scaler_y)\n",
    "            if MAPE < 0.1:\n",
    "                break\n",
    "        MAPE_list.append(MAPE)\n",
    "        MAE_list.append(MAE)\n",
    "        RMSE_list.append(RMSE)\n",
    "    return (MAPE_list, MAE_list, RMSE_list, load_pred, load_true, encoder,\n",
    "            decoder)"
   ]
  },
  {
   "cell_type": "markdown",
   "metadata": {},
   "source": [
    "## 运行主函数"
   ]
  },
  {
   "cell_type": "code",
   "execution_count": 17,
   "metadata": {
    "ExecuteTime": {
     "end_time": "2021-12-19T04:26:56.459181Z",
     "start_time": "2021-12-19T03:46:00.526285Z"
    },
    "colab": {
     "base_uri": "https://localhost:8080/"
    },
    "executionInfo": {
     "elapsed": 787489,
     "status": "ok",
     "timestamp": 1635398198740,
     "user": {
      "displayName": "Mark Dong",
      "photoUrl": "https://lh3.googleusercontent.com/a/default-user=s64",
      "userId": "04537685704836554558"
     },
     "user_tz": -480
    },
    "id": "FBZDkAX9g590",
    "outputId": "88204445-5627-4f46-fb3a-9c26981efbe8"
   },
   "outputs": [
    {
     "name": "stdout",
     "output_type": "stream",
     "text": [
      "Supervised Train Data: Shape of x: (31587, 72, 11), Shape of y: (31587, 24)\n",
      "Supervised Test Data: Shape of x: (123, 72, 11), Shape of y: (123, 24)\n",
      "Model Config: batch_size--512, n_layer--1, lr--0.01, hidden_dims--70\n",
      "train dataset 0\n"
     ]
    },
    {
     "name": "stderr",
     "output_type": "stream",
     "text": [
      "Epoch: 1/40...: 100%|██████████| 49/49 [00:11<00:00,  4.12it/s, train_loss=0.0227, valid_loss=0.0204]\n",
      "Epoch: 2/40...: 100%|██████████| 49/49 [00:11<00:00,  4.27it/s, train_loss=0.00267, valid_loss=0.00815]\n",
      "Epoch: 3/40...: 100%|██████████| 49/49 [00:11<00:00,  4.31it/s, train_loss=0.00199, valid_loss=0.00558]\n",
      "Epoch: 4/40...: 100%|██████████| 49/49 [00:11<00:00,  4.33it/s, train_loss=0.00597, valid_loss=0.00588]\n",
      "Epoch: 5/40...: 100%|██████████| 49/49 [00:13<00:00,  3.53it/s, train_loss=0.0013, valid_loss=0.00669] \n",
      "Epoch: 6/40...: 100%|██████████| 49/49 [00:13<00:00,  3.72it/s, train_loss=0.00375, valid_loss=0.00388]\n",
      "Epoch: 7/40...: 100%|██████████| 49/49 [00:12<00:00,  3.79it/s, train_loss=0.00356, valid_loss=0.00342] \n",
      "Epoch: 8/40...: 100%|██████████| 49/49 [00:11<00:00,  4.13it/s, train_loss=0.00492, valid_loss=0.00589] \n",
      "Epoch: 9/40...: 100%|██████████| 49/49 [00:09<00:00,  5.24it/s, train_loss=0.0031, valid_loss=0.00397]  \n",
      "Epoch: 10/40...: 100%|██████████| 49/49 [00:07<00:00,  6.29it/s, train_loss=0.00271, valid_loss=0.00295] \n",
      "Epoch: 11/40...: 100%|██████████| 49/49 [00:07<00:00,  6.33it/s, train_loss=0.00337, valid_loss=0.00509]\n",
      "Epoch: 12/40...: 100%|██████████| 49/49 [00:08<00:00,  5.71it/s, train_loss=0.00278, valid_loss=0.0027]  \n",
      "Epoch: 13/40...: 100%|██████████| 49/49 [00:08<00:00,  5.76it/s, train_loss=0.0025, valid_loss=0.0022]   \n",
      "Epoch: 14/40...: 100%|██████████| 49/49 [00:14<00:00,  3.31it/s, train_loss=0.00916, valid_loss=0.0104]  \n",
      "Epoch: 15/40...: 100%|██████████| 49/49 [00:14<00:00,  3.37it/s, train_loss=0.000876, valid_loss=0.003] \n",
      "Epoch: 16/40...: 100%|██████████| 49/49 [00:17<00:00,  2.88it/s, train_loss=0.000687, valid_loss=0.00715]\n",
      "Epoch: 17/40...: 100%|██████████| 49/49 [00:15<00:00,  3.13it/s, train_loss=0.000739, valid_loss=0.00255]\n",
      "Epoch: 18/40...: 100%|██████████| 49/49 [00:14<00:00,  3.35it/s, train_loss=0.000941, valid_loss=0.00304]\n",
      "Epoch: 19/40...: 100%|██████████| 49/49 [00:21<00:00,  2.32it/s, train_loss=0.000417, valid_loss=0.00177]\n",
      "Epoch: 20/40...: 100%|██████████| 49/49 [00:17<00:00,  2.76it/s, train_loss=0.000362, valid_loss=0.002]  \n",
      "Epoch: 21/40...: 100%|██████████| 49/49 [00:12<00:00,  3.87it/s, train_loss=0.00173, valid_loss=0.0016]  \n",
      "Epoch: 22/40...: 100%|██████████| 49/49 [00:14<00:00,  3.42it/s, train_loss=0.00134, valid_loss=0.00421] \n",
      "Epoch: 23/40...: 100%|██████████| 49/49 [00:12<00:00,  3.98it/s, train_loss=0.00148, valid_loss=0.00263] \n",
      "Epoch: 24/40...: 100%|██████████| 49/49 [00:15<00:00,  3.10it/s, train_loss=0.000628, valid_loss=0.00192]\n",
      "Epoch: 25/40...: 100%|██████████| 49/49 [00:13<00:00,  3.60it/s, train_loss=0.000314, valid_loss=0.00144]\n",
      "Epoch: 26/40...: 100%|██████████| 49/49 [00:10<00:00,  4.84it/s, train_loss=0.00176, valid_loss=0.00148] \n",
      "Epoch: 27/40...: 100%|██████████| 49/49 [00:14<00:00,  3.49it/s, train_loss=0.00152, valid_loss=0.0017]  \n",
      "Epoch: 28/40...: 100%|██████████| 49/49 [00:14<00:00,  3.40it/s, train_loss=0.000287, valid_loss=0.00172]\n",
      "Epoch: 29/40...: 100%|██████████| 49/49 [00:11<00:00,  4.35it/s, train_loss=0.00243, valid_loss=0.00692] \n",
      "Epoch: 30/40...: 100%|██████████| 49/49 [00:11<00:00,  4.14it/s, train_loss=0.00162, valid_loss=0.00145] \n",
      "Epoch: 31/40...: 100%|██████████| 49/49 [00:14<00:00,  3.38it/s, train_loss=0.000334, valid_loss=0.00138]\n",
      "Epoch: 32/40...: 100%|██████████| 49/49 [00:11<00:00,  4.22it/s, train_loss=0.00133, valid_loss=0.00154] \n",
      "Epoch: 33/40...: 100%|██████████| 49/49 [00:15<00:00,  3.17it/s, train_loss=0.00187, valid_loss=0.00158] \n",
      "Epoch: 34/40...: 100%|██████████| 49/49 [00:11<00:00,  4.27it/s, train_loss=0.00137, valid_loss=0.00135] \n",
      "Epoch: 35/40...: 100%|██████████| 49/49 [00:14<00:00,  3.48it/s, train_loss=0.00137, valid_loss=0.00135] \n",
      "Epoch: 36/40...: 100%|██████████| 49/49 [00:14<00:00,  3.45it/s, train_loss=0.00128, valid_loss=0.00124] \n",
      "Epoch: 37/40...: 100%|██████████| 49/49 [00:13<00:00,  3.56it/s, train_loss=0.0006, valid_loss=0.00732]  \n",
      "Epoch: 38/40...: 100%|██████████| 49/49 [00:12<00:00,  3.83it/s, train_loss=0.00125, valid_loss=0.00131] \n",
      "Epoch: 39/40...: 100%|██████████| 49/49 [00:12<00:00,  3.82it/s, train_loss=0.00167, valid_loss=0.00131] \n",
      "Epoch: 40/40...: 100%|██████████| 49/49 [00:13<00:00,  3.52it/s, train_loss=0.00126, valid_loss=0.00139] \n"
     ]
    },
    {
     "name": "stdout",
     "output_type": "stream",
     "text": [
      "train dataset 1\n"
     ]
    },
    {
     "name": "stderr",
     "output_type": "stream",
     "text": [
      "Epoch: 1/40...: 100%|██████████| 49/49 [00:12<00:00,  3.86it/s, train_loss=0.00124, valid_loss=0.0012]  \n",
      "Epoch: 2/40...: 100%|██████████| 49/49 [00:12<00:00,  3.80it/s, train_loss=0.000786, valid_loss=0.00241]\n",
      "Epoch: 3/40...: 100%|██████████| 49/49 [00:12<00:00,  4.02it/s, train_loss=0.00149, valid_loss=0.00178] \n",
      "Epoch: 4/40...: 100%|██████████| 49/49 [00:10<00:00,  4.73it/s, train_loss=0.000677, valid_loss=0.00152]\n",
      "Epoch: 5/40...: 100%|██████████| 49/49 [00:12<00:00,  3.91it/s, train_loss=0.000309, valid_loss=0.00141]\n",
      "Epoch: 6/40...: 100%|██████████| 49/49 [00:11<00:00,  4.34it/s, train_loss=0.000519, valid_loss=0.00175]\n",
      "Epoch: 7/40...: 100%|██████████| 49/49 [00:13<00:00,  3.54it/s, train_loss=0.00205, valid_loss=0.00284] \n",
      "Epoch: 8/40...: 100%|██████████| 49/49 [00:14<00:00,  3.42it/s, train_loss=0.000447, valid_loss=0.00158]\n",
      "Epoch: 9/40...: 100%|██████████| 49/49 [00:13<00:00,  3.77it/s, train_loss=0.00118, valid_loss=0.00124] \n",
      "Epoch: 10/40...: 100%|██████████| 49/49 [00:12<00:00,  4.01it/s, train_loss=0.00259, valid_loss=0.00313] \n",
      "Epoch: 11/40...: 100%|██████████| 49/49 [00:14<00:00,  3.35it/s, train_loss=0.000435, valid_loss=0.00162]\n",
      "Epoch: 12/40...: 100%|██████████| 49/49 [00:15<00:00,  3.14it/s, train_loss=0.00122, valid_loss=0.00114] \n",
      "Epoch: 13/40...: 100%|██████████| 49/49 [00:11<00:00,  4.16it/s, train_loss=0.00118, valid_loss=0.00111] \n",
      "Epoch: 14/40...: 100%|██████████| 49/49 [00:14<00:00,  3.32it/s, train_loss=0.000702, valid_loss=0.00187]\n",
      "Epoch: 15/40...: 100%|██████████| 49/49 [00:11<00:00,  4.09it/s, train_loss=0.00113, valid_loss=0.00118] \n",
      "Epoch: 16/40...: 100%|██████████| 49/49 [00:11<00:00,  4.10it/s, train_loss=0.00172, valid_loss=0.00208] \n",
      "Epoch: 17/40...: 100%|██████████| 49/49 [00:12<00:00,  3.82it/s, train_loss=0.00118, valid_loss=0.00123] \n",
      "Epoch: 18/40...: 100%|██████████| 49/49 [00:11<00:00,  4.34it/s, train_loss=0.00127, valid_loss=0.00133] \n",
      "Epoch: 19/40...: 100%|██████████| 49/49 [00:15<00:00,  3.26it/s, train_loss=0.00232, valid_loss=0.00164] \n",
      "Epoch: 20/40...: 100%|██████████| 49/49 [00:12<00:00,  4.01it/s, train_loss=0.00127, valid_loss=0.00114] \n",
      "Epoch: 21/40...: 100%|██████████| 49/49 [00:14<00:00,  3.49it/s, train_loss=0.00102, valid_loss=0.00143] \n",
      "Epoch: 22/40...: 100%|██████████| 49/49 [00:14<00:00,  3.49it/s, train_loss=0.00285, valid_loss=0.00157] \n",
      "Epoch: 23/40...: 100%|██████████| 49/49 [00:15<00:00,  3.08it/s, train_loss=0.00119, valid_loss=0.00118] \n",
      "Epoch: 24/40...: 100%|██████████| 49/49 [00:12<00:00,  4.02it/s, train_loss=0.00112, valid_loss=0.00108] \n",
      "Epoch: 25/40...: 100%|██████████| 49/49 [00:13<00:00,  3.74it/s, train_loss=0.000996, valid_loss=0.00104]\n",
      "Epoch: 26/40...: 100%|██████████| 49/49 [00:13<00:00,  3.64it/s, train_loss=0.00226, valid_loss=0.00263]\n",
      "Epoch: 27/40...: 100%|██████████| 49/49 [00:12<00:00,  3.93it/s, train_loss=0.00048, valid_loss=0.00221] \n",
      "Epoch: 28/40...: 100%|██████████| 49/49 [00:13<00:00,  3.67it/s, train_loss=0.000474, valid_loss=0.00157]\n",
      "Epoch: 29/40...: 100%|██████████| 49/49 [00:11<00:00,  4.42it/s, train_loss=0.000277, valid_loss=0.00128]\n",
      "Epoch: 30/40...: 100%|██████████| 49/49 [00:14<00:00,  3.32it/s, train_loss=0.00137, valid_loss=0.00119] \n",
      "Epoch: 31/40...: 100%|██████████| 49/49 [00:14<00:00,  3.38it/s, train_loss=0.00201, valid_loss=0.00133] \n",
      "Epoch: 32/40...: 100%|██████████| 49/49 [00:14<00:00,  3.42it/s, train_loss=0.000253, valid_loss=0.00116]\n",
      "Epoch: 33/40...: 100%|██████████| 49/49 [00:15<00:00,  3.24it/s, train_loss=0.00102, valid_loss=0.00381] \n",
      "Epoch: 34/40...: 100%|██████████| 49/49 [00:15<00:00,  3.17it/s, train_loss=0.0012, valid_loss=0.0013]   \n",
      "Epoch: 35/40...: 100%|██████████| 49/49 [00:13<00:00,  3.75it/s, train_loss=0.000226, valid_loss=0.00122]\n",
      "Epoch: 36/40...: 100%|██████████| 49/49 [00:15<00:00,  3.26it/s, train_loss=0.000332, valid_loss=0.0012] \n",
      "Epoch: 37/40...: 100%|██████████| 49/49 [00:12<00:00,  3.96it/s, train_loss=0.0013, valid_loss=0.00131]  \n",
      "Epoch: 38/40...: 100%|██████████| 49/49 [00:14<00:00,  3.43it/s, train_loss=0.000339, valid_loss=0.00127]\n",
      "Epoch: 39/40...: 100%|██████████| 49/49 [00:12<00:00,  3.87it/s, train_loss=0.00112, valid_loss=0.00112] \n",
      "Epoch: 40/40...: 100%|██████████| 49/49 [00:15<00:00,  3.17it/s, train_loss=0.000243, valid_loss=0.00171]\n"
     ]
    },
    {
     "name": "stdout",
     "output_type": "stream",
     "text": [
      "train dataset 2\n"
     ]
    },
    {
     "name": "stderr",
     "output_type": "stream",
     "text": [
      "Epoch: 1/40...: 100%|██████████| 49/49 [00:14<00:00,  3.27it/s, train_loss=0.00127, valid_loss=0.00141] \n",
      "Epoch: 2/40...: 100%|██████████| 49/49 [00:10<00:00,  4.73it/s, train_loss=0.0013, valid_loss=0.00117]  \n",
      "Epoch: 3/40...: 100%|██████████| 49/49 [00:14<00:00,  3.39it/s, train_loss=0.00124, valid_loss=0.00158] \n",
      "Epoch: 4/40...: 100%|██████████| 49/49 [00:14<00:00,  3.38it/s, train_loss=0.000238, valid_loss=0.00143]\n",
      "Epoch: 5/40...: 100%|██████████| 49/49 [00:15<00:00,  3.17it/s, train_loss=0.00349, valid_loss=0.00285] \n",
      "Epoch: 6/40...: 100%|██████████| 49/49 [00:14<00:00,  3.36it/s, train_loss=0.000358, valid_loss=0.00186]\n",
      "Epoch: 7/40...: 100%|██████████| 49/49 [00:14<00:00,  3.43it/s, train_loss=0.000302, valid_loss=0.00136]\n",
      "Epoch: 8/40...: 100%|██████████| 49/49 [00:14<00:00,  3.34it/s, train_loss=0.000238, valid_loss=0.0012] \n",
      "Epoch: 9/40...: 100%|██████████| 49/49 [00:14<00:00,  3.37it/s, train_loss=0.00113, valid_loss=0.00118] \n",
      "Epoch: 10/40...: 100%|██████████| 49/49 [00:12<00:00,  3.83it/s, train_loss=0.000414, valid_loss=0.00158]\n",
      "Epoch: 11/40...: 100%|██████████| 49/49 [00:15<00:00,  3.25it/s, train_loss=0.00106, valid_loss=0.00136] \n",
      "Epoch: 12/40...: 100%|██████████| 49/49 [00:14<00:00,  3.38it/s, train_loss=0.000282, valid_loss=0.00117]\n",
      "Epoch: 13/40...: 100%|██████████| 49/49 [00:16<00:00,  3.01it/s, train_loss=0.000253, valid_loss=0.00167]\n",
      "Epoch: 14/40...: 100%|██████████| 49/49 [00:14<00:00,  3.45it/s, train_loss=0.00119, valid_loss=0.00133] \n",
      "Epoch: 15/40...: 100%|██████████| 49/49 [00:12<00:00,  3.78it/s, train_loss=0.000296, valid_loss=0.00162]\n",
      "Epoch: 16/40...: 100%|██████████| 49/49 [00:12<00:00,  3.81it/s, train_loss=0.000222, valid_loss=0.00117]\n",
      "Epoch: 17/40...: 100%|██████████| 49/49 [00:11<00:00,  4.20it/s, train_loss=0.00126, valid_loss=0.00129] \n",
      "Epoch: 18/40...: 100%|██████████| 49/49 [00:11<00:00,  4.13it/s, train_loss=0.00103, valid_loss=0.00115] \n",
      "Epoch: 19/40...: 100%|██████████| 49/49 [00:15<00:00,  3.15it/s, train_loss=0.000638, valid_loss=0.00244]\n",
      "Epoch: 20/40...: 100%|██████████| 49/49 [00:13<00:00,  3.66it/s, train_loss=0.000313, valid_loss=0.00125]\n",
      "Epoch: 21/40...: 100%|██████████| 49/49 [00:14<00:00,  3.49it/s, train_loss=0.000208, valid_loss=0.00106]\n",
      "Epoch: 22/40...: 100%|██████████| 49/49 [00:13<00:00,  3.74it/s, train_loss=0.0002, valid_loss=0.00114]  \n",
      "Epoch: 23/40...: 100%|██████████| 49/49 [00:11<00:00,  4.39it/s, train_loss=0.000267, valid_loss=0.00215]\n",
      "Epoch: 24/40...: 100%|██████████| 49/49 [00:11<00:00,  4.41it/s, train_loss=0.00112, valid_loss=0.00128] \n",
      "Epoch: 25/40...: 100%|██████████| 49/49 [00:12<00:00,  4.07it/s, train_loss=0.00104, valid_loss=0.00099] \n",
      "Epoch: 26/40...: 100%|██████████| 49/49 [00:13<00:00,  3.75it/s, train_loss=0.00123, valid_loss=0.00102] \n",
      "Epoch: 27/40...: 100%|██████████| 49/49 [00:14<00:00,  3.28it/s, train_loss=0.000311, valid_loss=0.00122]\n",
      "Epoch: 28/40...: 100%|██████████| 49/49 [00:15<00:00,  3.21it/s, train_loss=0.0005, valid_loss=0.00193]  \n",
      "Epoch: 29/40...: 100%|██████████| 49/49 [00:14<00:00,  3.48it/s, train_loss=0.00112, valid_loss=0.00116] \n",
      "Epoch: 30/40...: 100%|██████████| 49/49 [00:13<00:00,  3.51it/s, train_loss=0.00117, valid_loss=0.00108] \n",
      "Epoch: 31/40...: 100%|██████████| 49/49 [00:14<00:00,  3.44it/s, train_loss=0.000224, valid_loss=0.00272]\n",
      "Epoch: 32/40...: 100%|██████████| 49/49 [00:13<00:00,  3.61it/s, train_loss=0.00104, valid_loss=0.00113] \n",
      "Epoch: 33/40...: 100%|██████████| 49/49 [00:13<00:00,  3.71it/s, train_loss=0.000319, valid_loss=0.00159]\n",
      "Epoch: 34/40...: 100%|██████████| 49/49 [00:11<00:00,  4.43it/s, train_loss=0.000375, valid_loss=0.00125]\n",
      "Epoch: 35/40...: 100%|██████████| 49/49 [00:09<00:00,  5.07it/s, train_loss=0.000206, valid_loss=0.00107]\n",
      "Epoch: 36/40...: 100%|██████████| 49/49 [00:11<00:00,  4.24it/s, train_loss=0.000223, valid_loss=0.000988]\n",
      "Epoch: 37/40...: 100%|██████████| 49/49 [00:11<00:00,  4.15it/s, train_loss=0.00141, valid_loss=0.00101] \n",
      "Epoch: 38/40...: 100%|██████████| 49/49 [00:10<00:00,  4.57it/s, train_loss=0.000198, valid_loss=0.0013] \n",
      "Epoch: 39/40...: 100%|██████████| 49/49 [00:09<00:00,  5.01it/s, train_loss=0.000202, valid_loss=0.00117]\n",
      "Epoch: 40/40...: 100%|██████████| 49/49 [00:10<00:00,  4.61it/s, train_loss=0.000988, valid_loss=0.00104] \n"
     ]
    },
    {
     "name": "stdout",
     "output_type": "stream",
     "text": [
      "train dataset 3\n"
     ]
    },
    {
     "name": "stderr",
     "output_type": "stream",
     "text": [
      "Epoch: 1/40...: 100%|██████████| 49/49 [00:10<00:00,  4.51it/s, train_loss=0.00185, valid_loss=0.00154] \n",
      "Epoch: 2/40...: 100%|██████████| 49/49 [00:09<00:00,  5.28it/s, train_loss=0.000325, valid_loss=0.00121] \n",
      "Epoch: 3/40...: 100%|██████████| 49/49 [00:10<00:00,  4.46it/s, train_loss=0.000432, valid_loss=0.000939]\n",
      "Epoch: 4/40...: 100%|██████████| 49/49 [00:11<00:00,  4.20it/s, train_loss=0.000277, valid_loss=0.00127]\n",
      "Epoch: 5/40...: 100%|██████████| 49/49 [00:10<00:00,  4.54it/s, train_loss=0.00086, valid_loss=0.000989]\n",
      "Epoch: 6/40...: 100%|██████████| 49/49 [00:11<00:00,  4.22it/s, train_loss=0.00077, valid_loss=0.00286] \n",
      "Epoch: 7/40...: 100%|██████████| 49/49 [00:11<00:00,  4.17it/s, train_loss=0.000898, valid_loss=0.00147]\n",
      "Epoch: 8/40...: 100%|██████████| 49/49 [00:12<00:00,  4.07it/s, train_loss=0.00176, valid_loss=0.000949] \n",
      "Epoch: 9/40...: 100%|██████████| 49/49 [00:07<00:00,  6.31it/s, train_loss=0.000232, valid_loss=0.000954]\n",
      "Epoch: 10/40...: 100%|██████████| 49/49 [00:09<00:00,  5.23it/s, train_loss=0.000206, valid_loss=0.000937]\n",
      "Epoch: 11/40...: 100%|██████████| 49/49 [00:11<00:00,  4.39it/s, train_loss=0.000838, valid_loss=0.000912]\n",
      "Epoch: 12/40...: 100%|██████████| 49/49 [00:11<00:00,  4.24it/s, train_loss=0.000168, valid_loss=0.00127] \n",
      "Epoch: 13/40...: 100%|██████████| 49/49 [00:11<00:00,  4.26it/s, train_loss=0.00071, valid_loss=0.0024]   \n",
      "Epoch: 14/40...: 100%|██████████| 49/49 [00:10<00:00,  4.58it/s, train_loss=0.000413, valid_loss=0.00129]\n",
      "Epoch: 15/40...: 100%|██████████| 49/49 [00:09<00:00,  5.31it/s, train_loss=0.000243, valid_loss=0.00105]\n",
      "Epoch: 16/40...: 100%|██████████| 49/49 [00:09<00:00,  4.96it/s, train_loss=0.000372, valid_loss=0.00115]\n",
      "Epoch: 17/40...: 100%|██████████| 49/49 [00:07<00:00,  6.21it/s, train_loss=0.000925, valid_loss=0.000997]\n",
      "Epoch: 18/40...: 100%|██████████| 49/49 [00:11<00:00,  4.11it/s, train_loss=0.000166, valid_loss=0.000911]\n",
      "Epoch: 19/40...: 100%|██████████| 49/49 [00:12<00:00,  3.87it/s, train_loss=0.00142, valid_loss=0.00688]  \n",
      "Epoch: 20/40...: 100%|██████████| 49/49 [00:09<00:00,  5.22it/s, train_loss=0.00106, valid_loss=0.0011]  \n",
      "Epoch: 21/40...: 100%|██████████| 49/49 [00:10<00:00,  4.81it/s, train_loss=0.000208, valid_loss=0.00107] \n",
      "Epoch: 22/40...: 100%|██████████| 49/49 [00:11<00:00,  4.40it/s, train_loss=0.00023, valid_loss=0.00101]  \n",
      "Epoch: 23/40...: 100%|██████████| 49/49 [00:10<00:00,  4.52it/s, train_loss=0.00178, valid_loss=0.00105] \n",
      "Epoch: 24/40...: 100%|██████████| 49/49 [00:10<00:00,  4.49it/s, train_loss=0.000227, valid_loss=0.00125] \n",
      "Epoch: 25/40...: 100%|██████████| 49/49 [00:10<00:00,  4.56it/s, train_loss=0.00021, valid_loss=0.00104] \n",
      "Epoch: 26/40...: 100%|██████████| 49/49 [00:10<00:00,  4.46it/s, train_loss=0.000907, valid_loss=0.001]   \n",
      "Epoch: 27/40...: 100%|██████████| 49/49 [00:12<00:00,  4.05it/s, train_loss=0.000516, valid_loss=0.00119]\n",
      "Epoch: 28/40...: 100%|██████████| 49/49 [00:11<00:00,  4.35it/s, train_loss=0.000199, valid_loss=0.000929]\n",
      "Epoch: 29/40...: 100%|██████████| 49/49 [00:10<00:00,  4.50it/s, train_loss=0.00124, valid_loss=0.00125]  \n",
      "Epoch: 30/40...: 100%|██████████| 49/49 [00:11<00:00,  4.14it/s, train_loss=0.0002, valid_loss=0.000886]  \n",
      "Epoch: 31/40...: 100%|██████████| 49/49 [00:11<00:00,  4.44it/s, train_loss=0.000177, valid_loss=0.000938]\n",
      "Epoch: 32/40...: 100%|██████████| 49/49 [00:09<00:00,  4.94it/s, train_loss=0.0011, valid_loss=0.000882]  \n",
      "Epoch: 33/40...: 100%|██████████| 49/49 [00:10<00:00,  4.87it/s, train_loss=0.00101, valid_loss=0.00102]  \n",
      "Epoch: 34/40...: 100%|██████████| 49/49 [00:11<00:00,  4.33it/s, train_loss=0.000204, valid_loss=0.00121] \n",
      "Epoch: 35/40...: 100%|██████████| 49/49 [00:11<00:00,  4.22it/s, train_loss=0.000784, valid_loss=0.0008]  \n",
      "Epoch: 36/40...: 100%|██████████| 49/49 [00:10<00:00,  4.73it/s, train_loss=0.00143, valid_loss=0.00103]  \n",
      "Epoch: 37/40...: 100%|██████████| 49/49 [00:11<00:00,  4.20it/s, train_loss=0.000355, valid_loss=0.00129]\n",
      "Epoch: 38/40...: 100%|██████████| 49/49 [00:10<00:00,  4.82it/s, train_loss=0.00108, valid_loss=0.000905] \n",
      "Epoch: 39/40...: 100%|██████████| 49/49 [00:11<00:00,  4.39it/s, train_loss=0.000173, valid_loss=0.000823]\n",
      "Epoch: 40/40...: 100%|██████████| 49/49 [00:11<00:00,  4.17it/s, train_loss=0.000162, valid_loss=0.00141] \n"
     ]
    },
    {
     "name": "stdout",
     "output_type": "stream",
     "text": [
      "train dataset 4\n"
     ]
    },
    {
     "name": "stderr",
     "output_type": "stream",
     "text": [
      "Epoch: 1/40...: 100%|██████████| 49/49 [00:12<00:00,  3.99it/s, train_loss=0.000264, valid_loss=0.00089]\n",
      "Epoch: 2/40...: 100%|██████████| 49/49 [00:12<00:00,  3.95it/s, train_loss=0.000152, valid_loss=0.000836]\n",
      "Epoch: 3/40...: 100%|██████████| 49/49 [00:11<00:00,  4.13it/s, train_loss=0.000414, valid_loss=0.00151] \n",
      "Epoch: 4/40...: 100%|██████████| 49/49 [00:11<00:00,  4.44it/s, train_loss=0.000791, valid_loss=0.000844]\n",
      "Epoch: 5/40...: 100%|██████████| 49/49 [00:12<00:00,  3.82it/s, train_loss=0.000665, valid_loss=0.00153] \n",
      "Epoch: 6/40...: 100%|██████████| 49/49 [00:12<00:00,  3.92it/s, train_loss=0.000179, valid_loss=0.0016]  \n",
      "Epoch: 7/40...: 100%|██████████| 49/49 [00:09<00:00,  5.06it/s, train_loss=0.000339, valid_loss=0.000916]\n",
      "Epoch: 8/40...: 100%|██████████| 49/49 [00:12<00:00,  3.95it/s, train_loss=0.00076, valid_loss=0.00075]  \n",
      "Epoch: 9/40...: 100%|██████████| 49/49 [00:12<00:00,  3.79it/s, train_loss=0.000828, valid_loss=0.000896]\n",
      "Epoch: 10/40...: 100%|██████████| 49/49 [00:12<00:00,  3.85it/s, train_loss=0.00017, valid_loss=0.00149]  \n",
      "Epoch: 11/40...: 100%|██████████| 49/49 [00:10<00:00,  4.63it/s, train_loss=0.000182, valid_loss=0.000871]\n",
      "Epoch: 12/40...: 100%|██████████| 49/49 [00:11<00:00,  4.34it/s, train_loss=0.000167, valid_loss=0.000972]\n",
      "Epoch: 13/40...: 100%|██████████| 49/49 [00:11<00:00,  4.14it/s, train_loss=0.000834, valid_loss=0.000845]\n",
      "Epoch: 14/40...: 100%|██████████| 49/49 [00:10<00:00,  4.48it/s, train_loss=0.00151, valid_loss=0.00152]  \n",
      "Epoch: 15/40...: 100%|██████████| 49/49 [00:13<00:00,  3.71it/s, train_loss=0.000612, valid_loss=0.000716]\n",
      "Epoch: 16/40...: 100%|██████████| 49/49 [00:12<00:00,  3.85it/s, train_loss=0.000683, valid_loss=0.000741]\n",
      "Epoch: 17/40...: 100%|██████████| 49/49 [00:10<00:00,  4.58it/s, train_loss=0.0002, valid_loss=0.00101]   \n",
      "Epoch: 18/40...: 100%|██████████| 49/49 [00:11<00:00,  4.37it/s, train_loss=0.00121, valid_loss=0.00246]  \n",
      "Epoch: 19/40...: 100%|██████████| 49/49 [00:09<00:00,  5.23it/s, train_loss=0.000762, valid_loss=0.000757]\n",
      "Epoch: 20/40...: 100%|██████████| 49/49 [00:11<00:00,  4.09it/s, train_loss=0.000196, valid_loss=0.0013]  \n",
      "Epoch: 21/40...: 100%|██████████| 49/49 [00:10<00:00,  4.75it/s, train_loss=0.00105, valid_loss=0.000828] \n",
      "Epoch: 22/40...: 100%|██████████| 49/49 [00:09<00:00,  5.12it/s, train_loss=0.000695, valid_loss=0.000749]\n",
      "Epoch: 23/40...: 100%|██████████| 49/49 [00:10<00:00,  4.60it/s, train_loss=0.000666, valid_loss=0.000661]\n",
      "Epoch: 24/40...: 100%|██████████| 49/49 [00:09<00:00,  4.91it/s, train_loss=0.000167, valid_loss=0.000918]\n",
      "Epoch: 25/40...: 100%|██████████| 49/49 [00:09<00:00,  5.05it/s, train_loss=0.000894, valid_loss=0.000761]\n",
      "Epoch: 26/40...: 100%|██████████| 49/49 [00:07<00:00,  6.67it/s, train_loss=0.000123, valid_loss=0.000739]\n",
      "Epoch: 27/40...: 100%|██████████| 49/49 [00:09<00:00,  5.03it/s, train_loss=0.000146, valid_loss=0.00104] \n",
      "Epoch: 28/40...: 100%|██████████| 49/49 [00:09<00:00,  5.31it/s, train_loss=0.0028, valid_loss=0.00238]   \n",
      "Epoch: 29/40...: 100%|██████████| 49/49 [00:08<00:00,  5.45it/s, train_loss=0.000251, valid_loss=0.00273] \n",
      "Epoch: 30/40...: 100%|██████████| 49/49 [00:10<00:00,  4.46it/s, train_loss=0.000686, valid_loss=0.000686]\n",
      "Epoch: 31/40...: 100%|██████████| 49/49 [00:09<00:00,  4.90it/s, train_loss=0.000149, valid_loss=0.000982]\n",
      "Epoch: 32/40...: 100%|██████████| 49/49 [00:08<00:00,  5.49it/s, train_loss=0.000125, valid_loss=0.00107] \n",
      "Epoch: 33/40...: 100%|██████████| 49/49 [00:09<00:00,  5.21it/s, train_loss=0.000618, valid_loss=0.000668]\n",
      "Epoch: 34/40...: 100%|██████████| 49/49 [00:09<00:00,  5.09it/s, train_loss=0.000148, valid_loss=0.000652]\n",
      "Epoch: 35/40...: 100%|██████████| 49/49 [00:07<00:00,  6.39it/s, train_loss=0.00121, valid_loss=0.00122]  \n",
      "Epoch: 36/40...: 100%|██████████| 49/49 [00:08<00:00,  6.09it/s, train_loss=0.00116, valid_loss=0.000892] \n",
      "Epoch: 37/40...: 100%|██████████| 49/49 [00:09<00:00,  4.90it/s, train_loss=0.000182, valid_loss=0.00111] \n",
      "Epoch: 38/40...: 100%|██████████| 49/49 [00:09<00:00,  5.36it/s, train_loss=0.000625, valid_loss=0.000648]\n",
      "Epoch: 39/40...: 100%|██████████| 49/49 [00:09<00:00,  5.22it/s, train_loss=0.000265, valid_loss=0.00141] \n",
      "Epoch: 40/40...: 100%|██████████| 49/49 [00:08<00:00,  5.95it/s, train_loss=0.000199, valid_loss=0.000987]\n"
     ]
    }
   ],
   "source": [
    "(MAPE_list, MAE_list, RMSE_list, load_pred, load_true, encoder, decoder) = main()"
   ]
  },
  {
   "cell_type": "code",
   "execution_count": 20,
   "metadata": {
    "ExecuteTime": {
     "end_time": "2021-12-18T13:20:02.215088Z",
     "start_time": "2021-12-18T13:20:02.204345Z"
    },
    "colab": {
     "base_uri": "https://localhost:8080/"
    },
    "executionInfo": {
     "elapsed": 575,
     "status": "ok",
     "timestamp": 1635398404593,
     "user": {
      "displayName": "Mark Dong",
      "photoUrl": "https://lh3.googleusercontent.com/a/default-user=s64",
      "userId": "04537685704836554558"
     },
     "user_tz": -480
    },
    "id": "KOc4Wyigjzey",
    "outputId": "92a1f647-6dce-435d-8e0e-99b1ccee5ee5"
   },
   "outputs": [
    {
     "data": {
      "text/plain": [
       "([0.025288567420924786], [322.5270497321123], [467.72053650724143])"
      ]
     },
     "execution_count": 20,
     "metadata": {},
     "output_type": "execute_result"
    }
   ],
   "source": [
    "MAPE_list, MAE_list, RMSE_list"
   ]
  },
  {
   "cell_type": "code",
   "execution_count": 21,
   "metadata": {
    "ExecuteTime": {
     "end_time": "2021-12-18T13:20:06.491219Z",
     "start_time": "2021-12-18T13:20:06.334899Z"
    },
    "colab": {
     "base_uri": "https://localhost:8080/",
     "height": 610
    },
    "executionInfo": {
     "elapsed": 1173,
     "status": "ok",
     "timestamp": 1635398423342,
     "user": {
      "displayName": "Mark Dong",
      "photoUrl": "https://lh3.googleusercontent.com/a/default-user=s64",
      "userId": "04537685704836554558"
     },
     "user_tz": -480
    },
    "id": "mulQQMkng_dT",
    "outputId": "6464b713-5272-4bfa-c2a7-ffd5791ec34a"
   },
   "outputs": [
    {
     "data": {
      "text/plain": [
       "[<matplotlib.lines.Line2D at 0x7f052c41ad00>]"
      ]
     },
     "execution_count": 21,
     "metadata": {},
     "output_type": "execute_result"
    },
    {
     "data": {
      "image/png": "[encoded data removed]",
      "text/plain": [
       "<Figure size 1440x720 with 1 Axes>"
      ]
     },
     "metadata": {
      "needs_background": "light"
     },
     "output_type": "display_data"
    }
   ],
   "source": [
    "plt.figure(figsize=(20,10))\n",
    "plt.plot(load_pred[:240], 'r')\n",
    "plt.plot(load_true[:240], 'g')"
   ]
  },
  {
   "cell_type": "code",
   "execution_count": 17,
   "metadata": {
    "executionInfo": {
     "elapsed": 625,
     "status": "ok",
     "timestamp": 1635398432029,
     "user": {
      "displayName": "Mark Dong",
      "photoUrl": "https://lh3.googleusercontent.com/a/default-user=s64",
      "userId": "04537685704836554558"
     },
     "user_tz": -480
    },
    "id": "Bl0PnYykhO6T"
   },
   "outputs": [],
   "source": [
    "np.save('./load_pred_xgbseq2seq.npy', load_pred)\n",
    "np.save('./load_true_xgbseq2seq.npy', load_true)\n",
    "torch.save(encoder.state_dict(), \"xgb_encoder_state_dict.pt\")\n",
    "torch.save(decoder.state_dict(), \"xgb_decoder_state_dict.pt\")"
   ]
  }
 ],
 "metadata": {
  "accelerator": "GPU",
  "colab": {
   "collapsed_sections": [],
   "name": "XGB-Seq2Seq-LSTM-LSTM-1027.ipynb",
   "provenance": [
    {
     "file_id": "12UbdSV6sEiLokxpm-kiSlokl46SST_u3",
     "timestamp": 1635386260907
    }
   ]
  },
  "kernelspec": {
   "display_name": "Python 3",
   "language": "python",
   "name": "python3"
  },
  "language_info": {
   "codemirror_mode": {
    "name": "ipython",
    "version": 3
   },
   "file_extension": ".py",
   "mimetype": "text/x-python",
   "name": "python",
   "nbconvert_exporter": "python",
   "pygments_lexer": "ipython3",
   "version": "3.8.12"
  },
  "toc": {
   "base_numbering": 1,
   "nav_menu": {},
   "number_sections": true,
   "sideBar": true,
   "skip_h1_title": false,
   "title_cell": "Table of Contents",
   "title_sidebar": "Contents",
   "toc_cell": false,
   "toc_position": {},
   "toc_section_display": true,
   "toc_window_display": true
  },
  "varInspector": {
   "cols": {
    "lenName": 16,
    "lenType": 16,
    "lenVar": 40
   },
   "kernels_config": {
    "python": {
     "delete_cmd_postfix": "",
     "delete_cmd_prefix": "del ",
     "library": "var_list.py",
     "varRefreshCmd": "print(var_dic_list())"
    },
    "r": {
     "delete_cmd_postfix": ") ",
     "delete_cmd_prefix": "rm(",
     "library": "var_list.r",
     "varRefreshCmd": "cat(var_dic_list()) "
    }
   },
   "types_to_exclude": [
    "module",
    "function",
    "builtin_function_or_method",
    "instance",
    "_Feature"
   ],
   "window_display": false
  }
 },
 "nbformat": 4,
 "nbformat_minor": 1
}
