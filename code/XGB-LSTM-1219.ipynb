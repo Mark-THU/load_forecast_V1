{
 "cells": [
  {
   "cell_type": "markdown",
   "metadata": {},
   "source": [
    "# XGB-LSTM 用于预测"
   ]
  },
  {
   "cell_type": "code",
   "execution_count": 1,
   "metadata": {
    "ExecuteTime": {
     "end_time": "2021-12-19T03:28:37.203402Z",
     "start_time": "2021-12-19T03:28:35.039725Z"
    },
    "colab": {
     "base_uri": "https://localhost:8080/"
    },
    "executionInfo": {
     "elapsed": 35122,
     "status": "ok",
     "timestamp": 1635420314319,
     "user": {
      "displayName": "Mark Dong",
      "photoUrl": "https://lh3.googleusercontent.com/a/default-user=s64",
      "userId": "04537685704836554558"
     },
     "user_tz": -480
    },
    "id": "W-jyRZqxUF2-",
    "outputId": "772d733d-abcc-43d1-c6c5-3450740b84db"
   },
   "outputs": [],
   "source": [
    "import pandas as pd\n",
    "import numpy as np\n",
    "import matplotlib.pyplot as plt\n",
    "import pdb\n",
    "import torch\n",
    "import torch.nn as nn\n",
    "\n",
    "from sklearn.preprocessing import StandardScaler, MinMaxScaler\n",
    "from sklearn.model_selection import train_test_split, KFold\n",
    "from sqlalchemy import create_engine\n",
    "from torch.autograd import Variable\n",
    "from torch.utils.data import TensorDataset, DataLoader\n",
    "from xgboost import XGBRegressor\n",
    "from tqdm import tqdm"
   ]
  },
  {
   "cell_type": "code",
   "execution_count": 2,
   "metadata": {
    "ExecuteTime": {
     "end_time": "2021-12-19T03:28:43.245184Z",
     "start_time": "2021-12-19T03:28:43.210096Z"
    },
    "executionInfo": {
     "elapsed": 57,
     "status": "ok",
     "timestamp": 1635420314323,
     "user": {
      "displayName": "Mark Dong",
      "photoUrl": "https://lh3.googleusercontent.com/a/default-user=s64",
      "userId": "04537685704836554558"
     },
     "user_tz": -480
    },
    "id": "mXGB-NgvYQdT"
   },
   "outputs": [],
   "source": [
    "if torch.cuda.is_available():  \n",
    "    dev = \"cuda:0\" \n",
    "else:  \n",
    "    dev = \"cpu\"\n",
    "device = torch.device(dev)"
   ]
  },
  {
   "cell_type": "markdown",
   "metadata": {
    "ExecuteTime": {
     "end_time": "2021-12-19T03:28:53.661985Z",
     "start_time": "2021-12-19T03:28:53.659208Z"
    }
   },
   "source": [
    "## 导入数据"
   ]
  },
  {
   "cell_type": "code",
   "execution_count": 4,
   "metadata": {
    "ExecuteTime": {
     "end_time": "2021-12-19T03:29:05.165379Z",
     "start_time": "2021-12-19T03:29:04.995415Z"
    },
    "executionInfo": {
     "elapsed": 663,
     "status": "ok",
     "timestamp": 1635420314965,
     "user": {
      "displayName": "Mark Dong",
      "photoUrl": "https://lh3.googleusercontent.com/a/default-user=s64",
      "userId": "04537685704836554558"
     },
     "user_tz": -480
    },
    "id": "14JEOyI5UF3I"
   },
   "outputs": [],
   "source": [
    "# load data\n",
    "url = '../dataset_0101110000.csv'\n",
    "data = pd.read_csv(url, sep=',', index_col='time')"
   ]
  },
  {
   "cell_type": "markdown",
   "metadata": {},
   "source": [
    "## 归一化"
   ]
  },
  {
   "cell_type": "code",
   "execution_count": 13,
   "metadata": {
    "ExecuteTime": {
     "end_time": "2021-12-19T03:37:44.778295Z",
     "start_time": "2021-12-19T03:37:44.775002Z"
    },
    "executionInfo": {
     "elapsed": 36,
     "status": "ok",
     "timestamp": 1635420314966,
     "user": {
      "displayName": "Mark Dong",
      "photoUrl": "https://lh3.googleusercontent.com/a/default-user=s64",
      "userId": "04537685704836554558"
     },
     "user_tz": -480
    },
    "id": "ZMuY2BhfUF3K"
   },
   "outputs": [],
   "source": [
    "# 归一化\n",
    "def normalization(data):\n",
    "    \"\"\"\n",
    "    data: original data with load\n",
    "    return: normalized data, scaler of load\n",
    "    \"\"\"\n",
    "    normalized_data = MinMaxScaler().fit_transform(data)\n",
    "    scaler_y = MinMaxScaler()\n",
    "    scaler_y.fit_transform(data[['load']])\n",
    "    return normalized_data, scaler_y"
   ]
  },
  {
   "cell_type": "markdown",
   "metadata": {},
   "source": [
    "## 特征选择"
   ]
  },
  {
   "cell_type": "code",
   "execution_count": 5,
   "metadata": {
    "ExecuteTime": {
     "end_time": "2021-12-19T03:31:37.050873Z",
     "start_time": "2021-12-19T03:31:37.043184Z"
    },
    "executionInfo": {
     "elapsed": 40,
     "status": "ok",
     "timestamp": 1635420314973,
     "user": {
      "displayName": "Mark Dong",
      "photoUrl": "https://lh3.googleusercontent.com/a/default-user=s64",
      "userId": "04537685704836554558"
     },
     "user_tz": -480
    },
    "id": "6KPfH92y-vSt"
   },
   "outputs": [],
   "source": [
    "# 选择重要特征\n",
    "def select_feature(X, feature_num=10):\n",
    "    \"\"\"\n",
    "    X: features, size * 48 * features\n",
    "    Y: labels, size *  1\n",
    "    feature_num: num of selected features\n",
    "    return: index of selected features\n",
    "    \"\"\"\n",
    "    x = X[:, :-1]\n",
    "    y = X[:, -1:]\n",
    "    model = XGBRegressor()\n",
    "    model.fit(x, y)\n",
    "    model.importance_type = 'weight'\n",
    "    ind = (-model.feature_importances_).argsort()[0:feature_num]\n",
    "    ind = np.append(ind, -1)\n",
    "    return X[:, ind]"
   ]
  },
  {
   "cell_type": "markdown",
   "metadata": {},
   "source": [
    "## 构建监督数据集"
   ]
  },
  {
   "cell_type": "code",
   "execution_count": 15,
   "metadata": {
    "ExecuteTime": {
     "end_time": "2021-12-19T03:38:09.638638Z",
     "start_time": "2021-12-19T03:38:09.630811Z"
    },
    "executionInfo": {
     "elapsed": 40,
     "status": "ok",
     "timestamp": 1635420314975,
     "user": {
      "displayName": "Mark Dong",
      "photoUrl": "https://lh3.googleusercontent.com/a/default-user=s64",
      "userId": "04537685704836554558"
     },
     "user_tz": -480
    },
    "id": "Tza1H7XMUF3K"
   },
   "outputs": [],
   "source": [
    "def Series_To_Supervise(data, seq_len, y_col_index):\n",
    "    \"\"\"\n",
    "    convert series data to supervised data\n",
    "    :param data: original data\n",
    "    :param seq_len: length of sequence\n",
    "    :y_col_index: index of column which acts as output\n",
    "    :return: return two ndarrays-- input and output in format suitable to feed to LSTM\n",
    "    \"\"\"\n",
    "#     pdb.set_trace()\n",
    "    dim_0 = data.shape[0] - seq_len\n",
    "    dim_1 = data.shape[1]\n",
    "    x = np.zeros((dim_0, seq_len, dim_1))\n",
    "    y = np.zeros((dim_0,))\n",
    "    for i in range(dim_0):\n",
    "        x[i] = data[i: i+seq_len]\n",
    "        y[i] = data[i+seq_len, y_col_index]\n",
    "    print(\"Supervised Train Data: Shape of x: {}, Shape of y: {}\".format(x.shape, y.shape))\n",
    "    return x, y\n",
    "\n",
    "def Series_To_Supervise_Test(data, seq_len, y_col_index):\n",
    "    \"\"\"\n",
    "    convert series data to supervised data\n",
    "    :param data: original data\n",
    "    :param seq_len: length of sequence\n",
    "    :y_col_index: index of column which acts as output\n",
    "    :return: return two ndarrays-- input and output in format suitable to feed to LSTM\n",
    "    \"\"\"\n",
    "    dim_0 = int((data.shape[0] - seq_len)/24)+1\n",
    "    dim_1 = data.shape[1]\n",
    "    x = np.zeros((dim_0, seq_len, dim_1))\n",
    "    y = np.zeros((dim_0, 24))\n",
    "    for i in range(0, dim_0):\n",
    "        x[i] = data[i*24: i*24+seq_len]\n",
    "        y[i] = data[i*24+seq_len-24:i*24+seq_len, y_col_index]\n",
    "    print(\"Supervised Test Data: Shape of x: {}, Shape of y: {}\".format(x.shape, y.shape))\n",
    "    return x, y"
   ]
  },
  {
   "cell_type": "markdown",
   "metadata": {},
   "source": [
    "## 五折交叉验证"
   ]
  },
  {
   "cell_type": "code",
   "execution_count": 6,
   "metadata": {
    "ExecuteTime": {
     "end_time": "2021-12-19T03:34:31.434378Z",
     "start_time": "2021-12-19T03:34:31.429402Z"
    },
    "executionInfo": {
     "elapsed": 39,
     "status": "ok",
     "timestamp": 1635420314976,
     "user": {
      "displayName": "Mark Dong",
      "photoUrl": "https://lh3.googleusercontent.com/a/default-user=s64",
      "userId": "04537685704836554558"
     },
     "user_tz": -480
    },
    "id": "Gt4Wfny1UF3L"
   },
   "outputs": [],
   "source": [
    "# 5-fold cross-validation\n",
    "def split_dataset(X, Y, n_split=5):\n",
    "    \"\"\"\n",
    "    X: original feature, size * 72 * features\n",
    "    Y: labels, size * 1\n",
    "    return: list of train_x, test_x, train_y, test_y\n",
    "    \"\"\"\n",
    "    kf = KFold(n_splits=n_split, shuffle=True, random_state=1)\n",
    "    train_x_list = list()\n",
    "    valid_x_list = list()\n",
    "    train_y_list = list()\n",
    "    valid_y_list = list()\n",
    "    for train_index, valid_index in kf.split(X):\n",
    "        train_x_list.append(X[train_index])\n",
    "        train_y_list.append(Y[train_index])\n",
    "        valid_x_list.append(X[valid_index])\n",
    "        valid_y_list.append(Y[valid_index])\n",
    "    return train_x_list, valid_x_list, train_y_list, valid_y_list"
   ]
  },
  {
   "cell_type": "markdown",
   "metadata": {},
   "source": [
    "## 定义模型"
   ]
  },
  {
   "cell_type": "code",
   "execution_count": 7,
   "metadata": {
    "ExecuteTime": {
     "end_time": "2021-12-19T03:34:52.609840Z",
     "start_time": "2021-12-19T03:34:52.601139Z"
    },
    "executionInfo": {
     "elapsed": 38,
     "status": "ok",
     "timestamp": 1635420314978,
     "user": {
      "displayName": "Mark Dong",
      "photoUrl": "https://lh3.googleusercontent.com/a/default-user=s64",
      "userId": "04537685704836554558"
     },
     "user_tz": -480
    },
    "id": "DbTWGjDgUF3L"
   },
   "outputs": [],
   "source": [
    "class LSTM(nn.Module):\n",
    "    def __init__(self, input_size, output_size, hidden_dim, n_layers, drop_prob=0.5):\n",
    "        super(LSTM, self).__init__()\n",
    "        # 初始化hidden_state参数\n",
    "        self.hidden_dim = hidden_dim\n",
    "        self.n_layers = n_layers\n",
    "        # 定义层\n",
    "        self.lstm = nn.LSTM(input_size, hidden_dim, n_layers, batch_first=True)\n",
    "        self.dropout = nn.Dropout(drop_prob)\n",
    "        self.fc = nn.Sequential(\n",
    "            nn.Linear(hidden_dim, 30),\n",
    "            nn.ReLU(),\n",
    "            nn.Linear(30,1)\n",
    "        )\n",
    "        self.relu = nn.ReLU()\n",
    "    \n",
    "    def forward(self, x):\n",
    "        batch_size = x.size(0)\n",
    "        hidden = self.init_hidden(batch_size)\n",
    "        \n",
    "        lstm_out, hidden = self.lstm(x, hidden)\n",
    "        # lstm_out = lstm_out.contiguous().view(-1, self.hidden_dim)\n",
    "        lstm_out = lstm_out[:, -1, :]\n",
    "        \n",
    "        out = self.dropout(lstm_out)\n",
    "        out = self.fc(lstm_out)\n",
    "        out = self.relu(out)\n",
    "        \n",
    "        out = out.view(batch_size, -1)\n",
    "        out = out[:, -1]\n",
    "        \n",
    "        return out, hidden\n",
    "    \n",
    "    def init_hidden(self, batch_size):\n",
    "        hidden = (torch.zeros(self.n_layers, batch_size, self.hidden_dim).to(device),\n",
    "                      torch.zeros(self.n_layers, batch_size, self.hidden_dim).to(device))\n",
    "        return hidden"
   ]
  },
  {
   "cell_type": "markdown",
   "metadata": {},
   "source": [
    "## 训练模型"
   ]
  },
  {
   "cell_type": "code",
   "execution_count": 8,
   "metadata": {
    "ExecuteTime": {
     "end_time": "2021-12-19T03:36:15.567556Z",
     "start_time": "2021-12-19T03:36:15.420891Z"
    },
    "executionInfo": {
     "elapsed": 1134,
     "status": "ok",
     "timestamp": 1635422156299,
     "user": {
      "displayName": "Mark Dong",
      "photoUrl": "https://lh3.googleusercontent.com/a/default-user=s64",
      "userId": "04537685704836554558"
     },
     "user_tz": -480
    },
    "id": "ohb3Qmq-UF3M"
   },
   "outputs": [],
   "source": [
    "# train the model\n",
    "def Train_Model(train_x_list, train_y_list, valid_x_list, valid_y_list, hidden_dim, lr, number_epochs=50, batch_size=512,\n",
    "                input_dim=5, n_layers=2, output_size=1, seq_len=48):\n",
    "    model_lstm = LSTM(input_dim, output_size, hidden_dim, n_layers)\n",
    "    model_lstm.to(device)\n",
    "    criterion = nn.MSELoss()\n",
    "    optimizer = torch.optim.Adam(model_lstm.parameters(), lr=lr)\n",
    "    valid_loss_min = np.Inf\n",
    "\n",
    "    for i in range(5):\n",
    "        print('train dataset {}'.format(i))\n",
    "        train_x = train_x_list[i]\n",
    "        train_y = train_y_list[i]\n",
    "        valid_x = valid_x_list[i]\n",
    "        valid_y = valid_y_list[i]\n",
    "        train_x = train_x[:, 0:seq_len]\n",
    "        valid_x = valid_x[:, 0:seq_len]\n",
    "        train_dataset = TensorDataset(torch.FloatTensor(train_x), torch.FloatTensor(train_y))\n",
    "        valid_dataset = TensorDataset(torch.FloatTensor(valid_x), torch.FloatTensor(valid_y))\n",
    "        \n",
    "        train_loader = DataLoader(dataset=train_dataset, batch_size=batch_size, shuffle=True, drop_last=False)\n",
    "        valid_loader = DataLoader(dataset=valid_dataset, batch_size=batch_size, shuffle=True, drop_last=False)\n",
    "        train_losses = list()\n",
    "        \n",
    "        num_without_imp = 0\n",
    "        \n",
    "        # train\n",
    "        for epoch in range(1, number_epochs+1):\n",
    "            loop = tqdm(enumerate(train_loader), total=len(train_loader))\n",
    "            for i, (inputs, labels) in loop:\n",
    "                inputs = inputs.to(device=device)\n",
    "                labels = labels.to(device=device)\n",
    "                optimizer.zero_grad()\n",
    "                outputs, hidden = model_lstm(inputs)\n",
    "                loss = criterion(outputs, labels)\n",
    "                loss.backward()\n",
    "                optimizer.step()\n",
    "                train_losses.append(loss.item())\n",
    "                \n",
    "                if i % 5 == 0:\n",
    "                    # if num_without_imp > 60:\n",
    "                    #     return model_lstm\n",
    "                    num_without_imp = num_without_imp + 1\n",
    "                    valid_losses = list()\n",
    "                    model_lstm.eval()\n",
    "                    for inp, lab in valid_loader:\n",
    "                        inp = inp.to(device=device)\n",
    "                        lab = lab.to(device=device)\n",
    "                        out, h = model_lstm(inp)\n",
    "                        valid_loss = criterion(out, lab)\n",
    "                        valid_losses.append(valid_loss.item())\n",
    "                    model_lstm.train()\n",
    "                    loop.set_description(\"Epoch: {}/{}...\".format(\n",
    "                        epoch, number_epochs))\n",
    "                    loop.set_postfix(train_loss=loss.item(),\n",
    "                                     valid_loss=np.mean(valid_losses))\n",
    "                    if np.mean(valid_losses) < valid_loss_min:\n",
    "                        num_without_imp = 0\n",
    "                        torch.save(model_lstm.state_dict(), \"lstm_state_dict.pt\")\n",
    "                        valid_loss_min = np.mean(valid_losses)\n",
    "    return model_lstm"
   ]
  },
  {
   "cell_type": "markdown",
   "metadata": {},
   "source": [
    "## 测试模型"
   ]
  },
  {
   "cell_type": "code",
   "execution_count": 9,
   "metadata": {
    "ExecuteTime": {
     "end_time": "2021-12-19T03:36:32.401226Z",
     "start_time": "2021-12-19T03:36:32.393435Z"
    },
    "executionInfo": {
     "elapsed": 38,
     "status": "ok",
     "timestamp": 1635420314982,
     "user": {
      "displayName": "Mark Dong",
      "photoUrl": "https://lh3.googleusercontent.com/a/default-user=s64",
      "userId": "04537685704836554558"
     },
     "user_tz": -480
    },
    "id": "LUbDI3Y3SY4H"
   },
   "outputs": [],
   "source": [
    "## test the model 24 hours ahead\n",
    "def Test_Model_24(model, test_x, test_y, batch_size, seq_len, y_col_index, scaler):\n",
    "    test_dataset = TensorDataset(torch.FloatTensor(test_x), torch.FloatTensor(test_y))\n",
    "    test_loader = DataLoader(dataset=test_dataset, batch_size=batch_size, shuffle=False, drop_last=False)\n",
    "    model.load_state_dict(torch.load('lstm_state_dict.pt'))\n",
    "    size = 24\n",
    "    y_pred = list()\n",
    "    y_true = list()\n",
    "    with torch.no_grad():\n",
    "        for inputs, _ in test_loader:\n",
    "            inputs = inputs.to(device=device)\n",
    "            for i in range(size):\n",
    "                inp = inputs[:, 0:i+seq_len]\n",
    "                outputs, hidden = model(inp)\n",
    "                labels = inputs[:, i+seq_len, y_col_index]                \n",
    "                y_pred = y_pred + outputs.cpu().numpy().tolist()\n",
    "                y_true = y_true + labels.cpu().numpy().tolist()\n",
    "                inputs[:, i+seq_len, y_col_index] = outputs\n",
    "    y_true = np.array(y_true)\n",
    "    y_pred = np.array(y_pred)\n",
    "    load_true = scaler.inverse_transform(np.expand_dims(y_true, axis=1))\n",
    "    load_pred = scaler.inverse_transform(np.expand_dims(y_pred, axis=1))\n",
    "    MAPE = np.mean(np.abs(load_true-load_pred)/load_true)\n",
    "    MAE = np.mean(np.abs(load_true-load_pred))\n",
    "    RMSE = np.sqrt(np.mean(np.square(load_true-load_pred)))\n",
    "    return MAPE, MAE, RMSE, load_pred, load_true"
   ]
  },
  {
   "cell_type": "markdown",
   "metadata": {},
   "source": [
    "## 定义超参数"
   ]
  },
  {
   "cell_type": "code",
   "execution_count": 10,
   "metadata": {
    "ExecuteTime": {
     "end_time": "2021-12-19T03:36:51.075138Z",
     "start_time": "2021-12-19T03:36:51.071430Z"
    },
    "executionInfo": {
     "elapsed": 38,
     "status": "ok",
     "timestamp": 1635420314984,
     "user": {
      "displayName": "Mark Dong",
      "photoUrl": "https://lh3.googleusercontent.com/a/default-user=s64",
      "userId": "04537685704836554558"
     },
     "user_tz": -480
    },
    "id": "thj9qZovUF3N"
   },
   "outputs": [],
   "source": [
    "# model configs\n",
    "def Model_Configs():\n",
    "    batch_sizes = [512]\n",
    "    n_layers = [4]\n",
    "    lrs = [0.01]\n",
    "    hidden_dims = [100]\n",
    "    configs = list()\n",
    "    for i in batch_sizes:\n",
    "        for j in n_layers:\n",
    "            for k in lrs:\n",
    "                for l in hidden_dims:\n",
    "                    configs.append([i, j, k, l])\n",
    "    return configs"
   ]
  },
  {
   "cell_type": "markdown",
   "metadata": {},
   "source": [
    "## 定义主函数"
   ]
  },
  {
   "cell_type": "code",
   "execution_count": 11,
   "metadata": {
    "ExecuteTime": {
     "end_time": "2021-12-19T03:37:17.508441Z",
     "start_time": "2021-12-19T03:37:17.499772Z"
    },
    "executionInfo": {
     "elapsed": 1949,
     "status": "ok",
     "timestamp": 1635421918791,
     "user": {
      "displayName": "Mark Dong",
      "photoUrl": "https://lh3.googleusercontent.com/a/default-user=s64",
      "userId": "04537685704836554558"
     },
     "user_tz": -480
    },
    "id": "L03esL1dUF3O"
   },
   "outputs": [],
   "source": [
    "def main(n_split=5, seq_len=48, number_epoch=40):\n",
    "    # normalized_data, scaler_y = normalization(data)\n",
    "    # y_index = normalized_data.shape[1] - 1\n",
    "    # num_features = normalized_data.shape[1]\n",
    "    # x, _ = Series_To_Supervise(normalized_data, seq_len=seq_len + 24, y_col_index=y_index)\n",
    "    # _, y = Series_To_Supervise(normalized_data, seq_len=seq_len, y_col_index=y_index)\n",
    "    # y = y[0:-24]\n",
    "    # train_x_list, valid_x_list, test_x_list, train_y_list, valid_y_list, test_y_list = split_dataset(x, y, n_split=n_split)  \n",
    "    # 归一化\n",
    "    normalized_data, scaler_y = normalization(data)\n",
    "    normalized_data = select_feature(normalized_data, feature_num=15)\n",
    "    train_data = normalized_data\n",
    "    test_data = normalized_data[-3000:]\n",
    "    # 数据处理，将时间序列数据变为监督学习数据\n",
    "    y_index = normalized_data.shape[1] -1\n",
    "    num_features = normalized_data.shape[1]\n",
    "    _, Y = Series_To_Supervise(train_data, seq_len=seq_len, y_col_index=y_index) \n",
    "    # 五折交叉验证，划分数据集\n",
    "    # 为了方便测试24点准确性， seq_len需要+24\n",
    "    X, _ = Series_To_Supervise(train_data, seq_len=seq_len + 24, y_col_index=y_index)\n",
    "    Y = Y[:-24]\n",
    "    train_x_list, valid_x_list, train_y_list, valid_y_list = split_dataset(X, Y)\n",
    "    test_x, test_y = Series_To_Supervise_Test(test_data, seq_len=seq_len + 24, y_col_index=y_index)  \n",
    "    \n",
    "    configs = Model_Configs()\n",
    "    MAPE_list = list()\n",
    "    MAE_list = list()\n",
    "    RMSE_list = list()\n",
    "    for config in configs:\n",
    "        batch_size = config[0]\n",
    "        n_layer = config[1]\n",
    "        lr = config[2]\n",
    "        hidden_dim = config[3]\n",
    "        print(\"Model Config: batch_size--{}, n_layer--{}, lr--{}, hidden_dims--{}\".format(batch_size, n_layer, lr, hidden_dim))\n",
    "      \n",
    "        while(1):\n",
    "            model = Train_Model(train_x_list, train_y_list, valid_x_list, valid_y_list, hidden_dim=hidden_dim, lr=lr, \n",
    "                                number_epochs=number_epoch, batch_size=batch_size,input_dim=num_features, n_layers=n_layer, \n",
    "                                output_size=1, seq_len=seq_len)\n",
    "            (MAPE, MAE, RMSE, load_pred, load_true) = Test_Model_24(model, test_x, test_y, batch_size=batch_size,seq_len=seq_len, y_col_index=y_index, scaler=scaler_y)\n",
    "            if MAPE < 0.1:\n",
    "                break\n",
    "        MAPE_list.append(MAPE)\n",
    "        MAE_list.append(MAE)\n",
    "        RMSE_list.append(RMSE)\n",
    "    return (MAPE_list, MAE_list, RMSE_list, load_pred, load_true, model)\n",
    "        "
   ]
  },
  {
   "cell_type": "markdown",
   "metadata": {},
   "source": [
    "## 运行主函数"
   ]
  },
  {
   "cell_type": "code",
   "execution_count": 18,
   "metadata": {
    "ExecuteTime": {
     "end_time": "2021-12-19T04:23:53.537011Z",
     "start_time": "2021-12-19T03:48:26.156913Z"
    },
    "colab": {
     "base_uri": "https://localhost:8080/"
    },
    "executionInfo": {
     "elapsed": 459691,
     "status": "ok",
     "timestamp": 1635423468540,
     "user": {
      "displayName": "Mark Dong",
      "photoUrl": "https://lh3.googleusercontent.com/a/default-user=s64",
      "userId": "04537685704836554558"
     },
     "user_tz": -480
    },
    "id": "MQiwVueZQB_c",
    "outputId": "b3efa023-8d44-4394-c3b9-ab7cf2337758"
   },
   "outputs": [
    {
     "name": "stdout",
     "output_type": "stream",
     "text": [
      "Supervised Train Data: Shape of x: (31611, 48, 16), Shape of y: (31611,)\n",
      "Supervised Train Data: Shape of x: (31587, 72, 16), Shape of y: (31587,)\n",
      "Supervised Test Data: Shape of x: (123, 72, 16), Shape of y: (123, 24)\n",
      "Model Config: batch_size--512, n_layer--4, lr--0.01, hidden_dims--100\n",
      "train dataset 0\n"
     ]
    },
    {
     "name": "stderr",
     "output_type": "stream",
     "text": [
      "Epoch: 1/40...: 100%|██████████| 50/50 [00:10<00:00,  4.70it/s, train_loss=0.172, valid_loss=0.174]\n",
      "Epoch: 2/40...: 100%|██████████| 50/50 [00:14<00:00,  3.48it/s, train_loss=0.158, valid_loss=0.174]\n",
      "Epoch: 3/40...: 100%|██████████| 50/50 [00:12<00:00,  3.88it/s, train_loss=0.176, valid_loss=0.173]\n",
      "Epoch: 4/40...: 100%|██████████| 50/50 [00:12<00:00,  3.86it/s, train_loss=0.166, valid_loss=0.174]\n",
      "Epoch: 5/40...: 100%|██████████| 50/50 [00:16<00:00,  2.95it/s, train_loss=0.19, valid_loss=0.174] \n",
      "Epoch: 6/40...: 100%|██████████| 50/50 [00:06<00:00,  8.22it/s, train_loss=0.181, valid_loss=0.174]\n",
      "Epoch: 7/40...: 100%|██████████| 50/50 [00:10<00:00,  4.96it/s, train_loss=0.175, valid_loss=0.173]\n",
      "Epoch: 8/40...: 100%|██████████| 50/50 [00:09<00:00,  5.52it/s, train_loss=0.17, valid_loss=0.173] \n",
      "Epoch: 9/40...: 100%|██████████| 50/50 [00:10<00:00,  4.79it/s, train_loss=0.161, valid_loss=0.175]\n",
      "Epoch: 10/40...: 100%|██████████| 50/50 [00:08<00:00,  6.02it/s, train_loss=0.174, valid_loss=0.174]\n",
      "Epoch: 11/40...: 100%|██████████| 50/50 [00:15<00:00,  3.22it/s, train_loss=0.166, valid_loss=0.173]\n",
      "Epoch: 12/40...: 100%|██████████| 50/50 [00:13<00:00,  3.70it/s, train_loss=0.176, valid_loss=0.173]\n",
      "Epoch: 13/40...: 100%|██████████| 50/50 [00:12<00:00,  4.08it/s, train_loss=0.176, valid_loss=0.174]\n",
      "Epoch: 14/40...: 100%|██████████| 50/50 [00:07<00:00,  6.36it/s, train_loss=0.159, valid_loss=0.174]\n",
      "Epoch: 15/40...: 100%|██████████| 50/50 [00:10<00:00,  4.69it/s, train_loss=0.182, valid_loss=0.173]\n",
      "Epoch: 16/40...: 100%|██████████| 50/50 [00:11<00:00,  4.43it/s, train_loss=0.181, valid_loss=0.172]\n",
      "Epoch: 17/40...: 100%|██████████| 50/50 [00:05<00:00,  9.68it/s, train_loss=0.179, valid_loss=0.174]\n",
      "Epoch: 18/40...: 100%|██████████| 50/50 [00:05<00:00,  8.78it/s, train_loss=0.165, valid_loss=0.175]\n",
      "Epoch: 19/40...: 100%|██████████| 50/50 [00:08<00:00,  5.98it/s, train_loss=0.169, valid_loss=0.174]\n",
      "Epoch: 20/40...: 100%|██████████| 50/50 [00:08<00:00,  5.74it/s, train_loss=0.176, valid_loss=0.174]\n",
      "Epoch: 21/40...: 100%|██████████| 50/50 [00:11<00:00,  4.49it/s, train_loss=0.167, valid_loss=0.175]\n",
      "Epoch: 22/40...: 100%|██████████| 50/50 [00:13<00:00,  3.57it/s, train_loss=0.175, valid_loss=0.173]\n",
      "Epoch: 23/40...: 100%|██████████| 50/50 [00:09<00:00,  5.47it/s, train_loss=0.172, valid_loss=0.175]\n",
      "Epoch: 24/40...: 100%|██████████| 50/50 [00:06<00:00,  7.86it/s, train_loss=0.177, valid_loss=0.174]\n",
      "Epoch: 25/40...: 100%|██████████| 50/50 [00:10<00:00,  4.56it/s, train_loss=0.174, valid_loss=0.174]\n",
      "Epoch: 26/40...: 100%|██████████| 50/50 [00:13<00:00,  3.78it/s, train_loss=0.174, valid_loss=0.174]\n",
      "Epoch: 27/40...: 100%|██████████| 50/50 [00:11<00:00,  4.25it/s, train_loss=0.166, valid_loss=0.174]\n",
      "Epoch: 28/40...: 100%|██████████| 50/50 [00:14<00:00,  3.49it/s, train_loss=0.184, valid_loss=0.173]\n",
      "Epoch: 29/40...: 100%|██████████| 50/50 [00:19<00:00,  2.60it/s, train_loss=0.182, valid_loss=0.174]\n",
      "Epoch: 30/40...: 100%|██████████| 50/50 [00:14<00:00,  3.47it/s, train_loss=0.156, valid_loss=0.175]\n",
      "Epoch: 31/40...: 100%|██████████| 50/50 [00:12<00:00,  4.16it/s, train_loss=0.188, valid_loss=0.174]\n",
      "Epoch: 32/40...: 100%|██████████| 50/50 [00:12<00:00,  3.97it/s, train_loss=0.172, valid_loss=0.174]\n",
      "Epoch: 33/40...: 100%|██████████| 50/50 [00:09<00:00,  5.46it/s, train_loss=0.183, valid_loss=0.174]\n",
      "Epoch: 34/40...: 100%|██████████| 50/50 [00:09<00:00,  5.02it/s, train_loss=0.176, valid_loss=0.173]\n",
      "Epoch: 35/40...: 100%|██████████| 50/50 [00:12<00:00,  3.88it/s, train_loss=0.157, valid_loss=0.174]\n",
      "Epoch: 36/40...: 100%|██████████| 50/50 [00:13<00:00,  3.79it/s, train_loss=0.19, valid_loss=0.174] \n",
      "Epoch: 37/40...: 100%|██████████| 50/50 [00:13<00:00,  3.79it/s, train_loss=0.181, valid_loss=0.173]\n",
      "Epoch: 38/40...: 100%|██████████| 50/50 [00:14<00:00,  3.41it/s, train_loss=0.185, valid_loss=0.174]\n",
      "Epoch: 39/40...: 100%|██████████| 50/50 [00:11<00:00,  4.53it/s, train_loss=0.166, valid_loss=0.174]\n",
      "Epoch: 40/40...: 100%|██████████| 50/50 [00:17<00:00,  2.89it/s, train_loss=0.163, valid_loss=0.174]\n"
     ]
    },
    {
     "name": "stdout",
     "output_type": "stream",
     "text": [
      "train dataset 1\n"
     ]
    },
    {
     "name": "stderr",
     "output_type": "stream",
     "text": [
      "Epoch: 1/40...: 100%|██████████| 50/50 [00:15<00:00,  3.14it/s, train_loss=0.174, valid_loss=0.173]\n",
      "Epoch: 2/40...: 100%|██████████| 50/50 [00:15<00:00,  3.31it/s, train_loss=0.174, valid_loss=0.174]\n",
      "Epoch: 3/40...: 100%|██████████| 50/50 [00:16<00:00,  2.97it/s, train_loss=0.167, valid_loss=0.174]\n",
      "Epoch: 4/40...: 100%|██████████| 50/50 [00:18<00:00,  2.70it/s, train_loss=0.172, valid_loss=0.173]\n",
      "Epoch: 5/40...: 100%|██████████| 50/50 [00:13<00:00,  3.76it/s, train_loss=0.176, valid_loss=0.174]\n",
      "Epoch: 6/40...: 100%|██████████| 50/50 [00:13<00:00,  3.68it/s, train_loss=0.171, valid_loss=0.173]\n",
      "Epoch: 7/40...: 100%|██████████| 50/50 [00:13<00:00,  3.79it/s, train_loss=0.175, valid_loss=0.174]\n",
      "Epoch: 8/40...: 100%|██████████| 50/50 [00:12<00:00,  4.11it/s, train_loss=0.183, valid_loss=0.174]\n",
      "Epoch: 9/40...: 100%|██████████| 50/50 [00:16<00:00,  3.11it/s, train_loss=0.161, valid_loss=0.172]\n",
      "Epoch: 10/40...: 100%|██████████| 50/50 [00:10<00:00,  4.68it/s, train_loss=0.176, valid_loss=0.174]\n",
      "Epoch: 11/40...: 100%|██████████| 50/50 [00:10<00:00,  4.81it/s, train_loss=0.179, valid_loss=0.174]\n",
      "Epoch: 12/40...: 100%|██████████| 50/50 [00:11<00:00,  4.28it/s, train_loss=0.174, valid_loss=0.173]\n",
      "Epoch: 13/40...: 100%|██████████| 50/50 [00:11<00:00,  4.43it/s, train_loss=0.169, valid_loss=0.175]\n",
      "Epoch: 14/40...: 100%|██████████| 50/50 [00:10<00:00,  4.82it/s, train_loss=0.173, valid_loss=0.173]\n",
      "Epoch: 15/40...: 100%|██████████| 50/50 [00:08<00:00,  6.03it/s, train_loss=0.171, valid_loss=0.174]\n",
      "Epoch: 16/40...: 100%|██████████| 50/50 [00:08<00:00,  5.68it/s, train_loss=0.17, valid_loss=0.173] \n",
      "Epoch: 17/40...: 100%|██████████| 50/50 [00:15<00:00,  3.23it/s, train_loss=0.175, valid_loss=0.173]\n",
      "Epoch: 18/40...: 100%|██████████| 50/50 [00:13<00:00,  3.82it/s, train_loss=0.164, valid_loss=0.174]\n",
      "Epoch: 19/40...: 100%|██████████| 50/50 [00:07<00:00,  6.71it/s, train_loss=0.181, valid_loss=0.173]\n",
      "Epoch: 20/40...: 100%|██████████| 50/50 [00:15<00:00,  3.21it/s, train_loss=0.18, valid_loss=0.173] \n",
      "Epoch: 21/40...: 100%|██████████| 50/50 [00:11<00:00,  4.27it/s, train_loss=0.175, valid_loss=0.174]\n",
      "Epoch: 22/40...: 100%|██████████| 50/50 [00:06<00:00,  8.02it/s, train_loss=0.169, valid_loss=0.173]\n",
      "Epoch: 23/40...: 100%|██████████| 50/50 [00:14<00:00,  3.57it/s, train_loss=0.182, valid_loss=0.173]\n",
      "Epoch: 24/40...: 100%|██████████| 50/50 [00:08<00:00,  5.98it/s, train_loss=0.17, valid_loss=0.175] \n",
      "Epoch: 25/40...: 100%|██████████| 50/50 [00:10<00:00,  4.60it/s, train_loss=0.178, valid_loss=0.173]\n",
      "Epoch: 26/40...: 100%|██████████| 50/50 [00:10<00:00,  4.83it/s, train_loss=0.176, valid_loss=0.174]\n",
      "Epoch: 27/40...: 100%|██████████| 50/50 [00:15<00:00,  3.13it/s, train_loss=0.181, valid_loss=0.173]\n",
      "Epoch: 28/40...: 100%|██████████| 50/50 [00:14<00:00,  3.50it/s, train_loss=0.174, valid_loss=0.174]\n",
      "Epoch: 29/40...: 100%|██████████| 50/50 [00:18<00:00,  2.67it/s, train_loss=0.177, valid_loss=0.173]\n",
      "Epoch: 30/40...: 100%|██████████| 50/50 [00:11<00:00,  4.24it/s, train_loss=0.176, valid_loss=0.173]\n",
      "Epoch: 31/40...: 100%|██████████| 50/50 [00:13<00:00,  3.73it/s, train_loss=0.169, valid_loss=0.173]\n",
      "Epoch: 32/40...: 100%|██████████| 50/50 [00:16<00:00,  3.11it/s, train_loss=0.17, valid_loss=0.174] \n",
      "Epoch: 33/40...: 100%|██████████| 50/50 [00:15<00:00,  3.27it/s, train_loss=0.173, valid_loss=0.173]\n",
      "Epoch: 34/40...: 100%|██████████| 50/50 [00:08<00:00,  5.57it/s, train_loss=0.175, valid_loss=0.173]\n",
      "Epoch: 35/40...: 100%|██████████| 50/50 [00:11<00:00,  4.26it/s, train_loss=0.172, valid_loss=0.174]\n",
      "Epoch: 36/40...: 100%|██████████| 50/50 [00:15<00:00,  3.15it/s, train_loss=0.176, valid_loss=0.174]\n",
      "Epoch: 37/40...: 100%|██████████| 50/50 [00:13<00:00,  3.64it/s, train_loss=0.167, valid_loss=0.174]\n",
      "Epoch: 38/40...: 100%|██████████| 50/50 [00:11<00:00,  4.51it/s, train_loss=0.174, valid_loss=0.175]\n",
      "Epoch: 39/40...: 100%|██████████| 50/50 [00:10<00:00,  4.95it/s, train_loss=0.164, valid_loss=0.173]\n",
      "Epoch: 40/40...: 100%|██████████| 50/50 [00:14<00:00,  3.49it/s, train_loss=0.182, valid_loss=0.173]\n"
     ]
    },
    {
     "name": "stdout",
     "output_type": "stream",
     "text": [
      "train dataset 2\n"
     ]
    },
    {
     "name": "stderr",
     "output_type": "stream",
     "text": [
      "Epoch: 1/40...: 100%|██████████| 50/50 [00:13<00:00,  3.81it/s, train_loss=0.183, valid_loss=0.176]\n",
      "Epoch: 2/40...: 100%|██████████| 50/50 [00:15<00:00,  3.27it/s, train_loss=0.173, valid_loss=0.178]\n",
      "Epoch: 3/40...: 100%|██████████| 50/50 [00:13<00:00,  3.61it/s, train_loss=0.183, valid_loss=0.179]\n",
      "Epoch: 4/40...: 100%|██████████| 50/50 [00:15<00:00,  3.33it/s, train_loss=0.173, valid_loss=0.178]\n",
      "Epoch: 5/40...: 100%|██████████| 50/50 [00:14<00:00,  3.40it/s, train_loss=0.166, valid_loss=0.177]\n",
      "Epoch: 6/40...: 100%|██████████| 50/50 [00:15<00:00,  3.23it/s, train_loss=0.175, valid_loss=0.176]\n",
      "Epoch: 7/40...: 100%|██████████| 50/50 [00:13<00:00,  3.84it/s, train_loss=0.176, valid_loss=0.178]\n",
      "Epoch: 8/40...: 100%|██████████| 50/50 [00:11<00:00,  4.54it/s, train_loss=0.168, valid_loss=0.178]\n",
      "Epoch: 9/40...: 100%|██████████| 50/50 [00:13<00:00,  3.64it/s, train_loss=0.175, valid_loss=0.177]\n",
      "Epoch: 10/40...: 100%|██████████| 50/50 [00:14<00:00,  3.40it/s, train_loss=0.169, valid_loss=0.178]\n",
      "Epoch: 11/40...: 100%|██████████| 50/50 [00:15<00:00,  3.23it/s, train_loss=0.174, valid_loss=0.176]\n",
      "Epoch: 12/40...: 100%|██████████| 50/50 [00:15<00:00,  3.13it/s, train_loss=0.18, valid_loss=0.178] \n",
      "Epoch: 13/40...: 100%|██████████| 50/50 [00:15<00:00,  3.16it/s, train_loss=0.176, valid_loss=0.178]\n",
      "Epoch: 14/40...: 100%|██████████| 50/50 [00:15<00:00,  3.25it/s, train_loss=0.175, valid_loss=0.177]\n",
      "Epoch: 15/40...: 100%|██████████| 50/50 [00:14<00:00,  3.52it/s, train_loss=0.178, valid_loss=0.179]\n",
      "Epoch: 16/40...: 100%|██████████| 50/50 [00:16<00:00,  3.10it/s, train_loss=0.163, valid_loss=0.178]\n",
      "Epoch: 17/40...: 100%|██████████| 50/50 [00:11<00:00,  4.50it/s, train_loss=0.171, valid_loss=0.178]\n",
      "Epoch: 18/40...: 100%|██████████| 50/50 [00:09<00:00,  5.51it/s, train_loss=0.165, valid_loss=0.178]\n",
      "Epoch: 19/40...: 100%|██████████| 50/50 [00:13<00:00,  3.59it/s, train_loss=0.181, valid_loss=0.178]\n",
      "Epoch: 20/40...: 100%|██████████| 50/50 [00:17<00:00,  2.80it/s, train_loss=0.182, valid_loss=0.177]\n",
      "Epoch: 21/40...: 100%|██████████| 50/50 [00:15<00:00,  3.15it/s, train_loss=0.168, valid_loss=0.178]\n",
      "Epoch: 22/40...: 100%|██████████| 50/50 [00:15<00:00,  3.29it/s, train_loss=0.181, valid_loss=0.178]\n",
      "Epoch: 23/40...: 100%|██████████| 50/50 [00:14<00:00,  3.40it/s, train_loss=0.168, valid_loss=0.177]\n",
      "Epoch: 24/40...: 100%|██████████| 50/50 [00:14<00:00,  3.57it/s, train_loss=0.172, valid_loss=0.178]\n",
      "Epoch: 25/40...: 100%|██████████| 50/50 [00:16<00:00,  3.11it/s, train_loss=0.18, valid_loss=0.178] \n",
      "Epoch: 26/40...: 100%|██████████| 50/50 [00:15<00:00,  3.20it/s, train_loss=0.17, valid_loss=0.178] \n",
      "Epoch: 27/40...: 100%|██████████| 50/50 [00:13<00:00,  3.79it/s, train_loss=0.175, valid_loss=0.178]\n",
      "Epoch: 28/40...: 100%|██████████| 50/50 [00:08<00:00,  6.00it/s, train_loss=0.172, valid_loss=0.177]\n",
      "Epoch: 29/40...: 100%|██████████| 50/50 [00:08<00:00,  5.87it/s, train_loss=0.175, valid_loss=0.178]\n",
      "Epoch: 30/40...: 100%|██████████| 50/50 [00:05<00:00,  8.63it/s, train_loss=0.17, valid_loss=0.177] \n",
      "Epoch: 31/40...: 100%|██████████| 50/50 [00:08<00:00,  5.63it/s, train_loss=0.173, valid_loss=0.178]\n",
      "Epoch: 32/40...: 100%|██████████| 50/50 [00:08<00:00,  5.91it/s, train_loss=0.168, valid_loss=0.179]\n",
      "Epoch: 33/40...: 100%|██████████| 50/50 [00:08<00:00,  5.57it/s, train_loss=0.17, valid_loss=0.178] \n",
      "Epoch: 34/40...: 100%|██████████| 50/50 [00:10<00:00,  4.98it/s, train_loss=0.165, valid_loss=0.177]\n",
      "Epoch: 35/40...: 100%|██████████| 50/50 [00:09<00:00,  5.41it/s, train_loss=0.175, valid_loss=0.178]\n",
      "Epoch: 36/40...: 100%|██████████| 50/50 [00:08<00:00,  6.06it/s, train_loss=0.177, valid_loss=0.177]\n",
      "Epoch: 37/40...: 100%|██████████| 50/50 [00:06<00:00,  7.23it/s, train_loss=0.174, valid_loss=0.178]\n",
      "Epoch: 38/40...: 100%|██████████| 50/50 [00:07<00:00,  6.27it/s, train_loss=0.173, valid_loss=0.178]\n",
      "Epoch: 39/40...: 100%|██████████| 50/50 [00:09<00:00,  5.47it/s, train_loss=0.182, valid_loss=0.178]\n",
      "Epoch: 40/40...: 100%|██████████| 50/50 [00:08<00:00,  5.76it/s, train_loss=0.17, valid_loss=0.178] \n"
     ]
    },
    {
     "name": "stdout",
     "output_type": "stream",
     "text": [
      "train dataset 3\n"
     ]
    },
    {
     "name": "stderr",
     "output_type": "stream",
     "text": [
      "Epoch: 1/40...: 100%|██████████| 50/50 [00:08<00:00,  6.03it/s, train_loss=0.181, valid_loss=0.172]\n",
      "Epoch: 2/40...: 100%|██████████| 50/50 [00:09<00:00,  5.23it/s, train_loss=0.173, valid_loss=0.173]\n",
      "Epoch: 3/40...: 100%|██████████| 50/50 [00:08<00:00,  6.10it/s, train_loss=0.172, valid_loss=0.172]\n",
      "Epoch: 4/40...: 100%|██████████| 50/50 [00:08<00:00,  6.24it/s, train_loss=0.18, valid_loss=0.172] \n",
      "Epoch: 5/40...: 100%|██████████| 50/50 [00:08<00:00,  6.02it/s, train_loss=0.167, valid_loss=0.171]\n",
      "Epoch: 6/40...: 100%|██████████| 50/50 [00:08<00:00,  5.79it/s, train_loss=0.166, valid_loss=0.172]\n",
      "Epoch: 7/40...: 100%|██████████| 50/50 [00:08<00:00,  5.61it/s, train_loss=0.179, valid_loss=0.172]\n",
      "Epoch: 8/40...: 100%|██████████| 50/50 [00:08<00:00,  6.06it/s, train_loss=0.171, valid_loss=0.171]\n",
      "Epoch: 9/40...: 100%|██████████| 50/50 [00:09<00:00,  5.35it/s, train_loss=0.168, valid_loss=0.173]\n",
      "Epoch: 10/40...: 100%|██████████| 50/50 [00:07<00:00,  6.40it/s, train_loss=0.178, valid_loss=0.172]\n",
      "Epoch: 11/40...: 100%|██████████| 50/50 [00:04<00:00, 10.45it/s, train_loss=0.169, valid_loss=0.171]\n",
      "Epoch: 12/40...: 100%|██████████| 50/50 [00:09<00:00,  5.26it/s, train_loss=0.169, valid_loss=0.172]\n",
      "Epoch: 13/40...: 100%|██████████| 50/50 [00:09<00:00,  5.34it/s, train_loss=0.168, valid_loss=0.171]\n",
      "Epoch: 14/40...: 100%|██████████| 50/50 [00:07<00:00,  6.33it/s, train_loss=0.174, valid_loss=0.172]\n",
      "Epoch: 15/40...: 100%|██████████| 50/50 [00:09<00:00,  5.45it/s, train_loss=0.173, valid_loss=0.172]\n",
      "Epoch: 16/40...: 100%|██████████| 50/50 [00:09<00:00,  5.39it/s, train_loss=0.177, valid_loss=0.171]\n",
      "Epoch: 17/40...: 100%|██████████| 50/50 [00:09<00:00,  5.51it/s, train_loss=0.171, valid_loss=0.172]\n",
      "Epoch: 18/40...: 100%|██████████| 50/50 [00:09<00:00,  5.47it/s, train_loss=0.178, valid_loss=0.171]\n",
      "Epoch: 19/40...: 100%|██████████| 50/50 [00:08<00:00,  5.81it/s, train_loss=0.182, valid_loss=0.172]\n",
      "Epoch: 20/40...: 100%|██████████| 50/50 [00:08<00:00,  6.00it/s, train_loss=0.183, valid_loss=0.173]\n",
      "Epoch: 21/40...: 100%|██████████| 50/50 [00:08<00:00,  5.99it/s, train_loss=0.187, valid_loss=0.173]\n",
      "Epoch: 22/40...: 100%|██████████| 50/50 [00:07<00:00,  6.27it/s, train_loss=0.181, valid_loss=0.172]\n",
      "Epoch: 23/40...: 100%|██████████| 50/50 [00:08<00:00,  5.85it/s, train_loss=0.19, valid_loss=0.172] \n",
      "Epoch: 24/40...: 100%|██████████| 50/50 [00:08<00:00,  5.86it/s, train_loss=0.173, valid_loss=0.172]\n",
      "Epoch: 25/40...: 100%|██████████| 50/50 [00:09<00:00,  5.24it/s, train_loss=0.17, valid_loss=0.172] \n",
      "Epoch: 26/40...: 100%|██████████| 50/50 [00:07<00:00,  6.29it/s, train_loss=0.195, valid_loss=0.173]\n",
      "Epoch: 27/40...: 100%|██████████| 50/50 [00:09<00:00,  5.46it/s, train_loss=0.176, valid_loss=0.171]\n",
      "Epoch: 28/40...: 100%|██████████| 50/50 [00:07<00:00,  6.79it/s, train_loss=0.173, valid_loss=0.171]\n",
      "Epoch: 29/40...: 100%|██████████| 50/50 [00:07<00:00,  6.95it/s, train_loss=0.175, valid_loss=0.172]\n",
      "Epoch: 30/40...: 100%|██████████| 50/50 [00:05<00:00,  8.73it/s, train_loss=0.162, valid_loss=0.171]\n",
      "Epoch: 31/40...: 100%|██████████| 50/50 [00:07<00:00,  7.12it/s, train_loss=0.17, valid_loss=0.172] \n",
      "Epoch: 32/40...: 100%|██████████| 50/50 [00:05<00:00,  9.75it/s, train_loss=0.188, valid_loss=0.172]\n",
      "Epoch: 33/40...: 100%|██████████| 50/50 [00:06<00:00,  7.44it/s, train_loss=0.175, valid_loss=0.171]\n",
      "Epoch: 34/40...: 100%|██████████| 50/50 [00:07<00:00,  7.04it/s, train_loss=0.178, valid_loss=0.173]\n",
      "Epoch: 35/40...: 100%|██████████| 50/50 [00:07<00:00,  6.95it/s, train_loss=0.173, valid_loss=0.172]\n",
      "Epoch: 36/40...: 100%|██████████| 50/50 [00:08<00:00,  5.59it/s, train_loss=0.175, valid_loss=0.172]\n",
      "Epoch: 37/40...: 100%|██████████| 50/50 [00:08<00:00,  5.86it/s, train_loss=0.173, valid_loss=0.172]\n",
      "Epoch: 38/40...: 100%|██████████| 50/50 [00:08<00:00,  5.65it/s, train_loss=0.171, valid_loss=0.172]\n",
      "Epoch: 39/40...: 100%|██████████| 50/50 [00:09<00:00,  5.14it/s, train_loss=0.18, valid_loss=0.171] \n",
      "Epoch: 40/40...: 100%|██████████| 50/50 [00:07<00:00,  6.38it/s, train_loss=0.175, valid_loss=0.172]\n"
     ]
    },
    {
     "name": "stdout",
     "output_type": "stream",
     "text": [
      "train dataset 4\n"
     ]
    },
    {
     "name": "stderr",
     "output_type": "stream",
     "text": [
      "Epoch: 1/40...: 100%|██████████| 50/50 [00:08<00:00,  5.85it/s, train_loss=0.168, valid_loss=0.171]\n",
      "Epoch: 2/40...: 100%|██████████| 50/50 [00:08<00:00,  5.76it/s, train_loss=0.175, valid_loss=0.171]\n",
      "Epoch: 3/40...: 100%|██████████| 50/50 [00:09<00:00,  5.47it/s, train_loss=0.176, valid_loss=0.171]\n",
      "Epoch: 4/40...: 100%|██████████| 50/50 [00:09<00:00,  5.30it/s, train_loss=0.163, valid_loss=0.172]\n",
      "Epoch: 5/40...: 100%|██████████| 50/50 [00:09<00:00,  5.11it/s, train_loss=0.176, valid_loss=0.171]\n",
      "Epoch: 6/40...: 100%|██████████| 50/50 [00:11<00:00,  4.23it/s, train_loss=0.177, valid_loss=0.17] \n",
      "Epoch: 7/40...: 100%|██████████| 50/50 [00:10<00:00,  4.95it/s, train_loss=0.162, valid_loss=0.171]\n",
      "Epoch: 8/40...: 100%|██████████| 50/50 [00:11<00:00,  4.34it/s, train_loss=0.172, valid_loss=0.171]\n",
      "Epoch: 9/40...: 100%|██████████| 50/50 [00:09<00:00,  5.18it/s, train_loss=0.18, valid_loss=0.171] \n",
      "Epoch: 10/40...: 100%|██████████| 50/50 [00:08<00:00,  6.09it/s, train_loss=0.17, valid_loss=0.171] \n",
      "Epoch: 11/40...: 100%|██████████| 50/50 [00:09<00:00,  5.34it/s, train_loss=0.165, valid_loss=0.171]\n",
      "Epoch: 12/40...: 100%|██████████| 50/50 [00:08<00:00,  5.56it/s, train_loss=0.185, valid_loss=0.171]\n",
      "Epoch: 13/40...: 100%|██████████| 50/50 [00:08<00:00,  5.94it/s, train_loss=0.179, valid_loss=0.171]\n",
      "Epoch: 14/40...: 100%|██████████| 50/50 [00:09<00:00,  5.29it/s, train_loss=0.176, valid_loss=0.172]\n",
      "Epoch: 15/40...: 100%|██████████| 50/50 [00:06<00:00,  7.18it/s, train_loss=0.174, valid_loss=0.171]\n",
      "Epoch: 16/40...: 100%|██████████| 50/50 [00:08<00:00,  6.09it/s, train_loss=0.177, valid_loss=0.171]\n",
      "Epoch: 17/40...: 100%|██████████| 50/50 [00:06<00:00,  7.25it/s, train_loss=0.173, valid_loss=0.171]\n",
      "Epoch: 18/40...: 100%|██████████| 50/50 [00:07<00:00,  6.32it/s, train_loss=0.184, valid_loss=0.171]\n",
      "Epoch: 19/40...: 100%|██████████| 50/50 [00:07<00:00,  6.78it/s, train_loss=0.183, valid_loss=0.171]\n",
      "Epoch: 20/40...: 100%|██████████| 50/50 [00:06<00:00,  7.69it/s, train_loss=0.184, valid_loss=0.171]\n",
      "Epoch: 21/40...: 100%|██████████| 50/50 [00:03<00:00, 13.40it/s, train_loss=0.171, valid_loss=0.17] \n",
      "Epoch: 22/40...: 100%|██████████| 50/50 [00:03<00:00, 13.75it/s, train_loss=0.172, valid_loss=0.172]\n",
      "Epoch: 23/40...: 100%|██████████| 50/50 [00:06<00:00,  7.96it/s, train_loss=0.17, valid_loss=0.171] \n",
      "Epoch: 24/40...: 100%|██████████| 50/50 [00:04<00:00, 12.31it/s, train_loss=0.169, valid_loss=0.171]\n",
      "Epoch: 25/40...: 100%|██████████| 50/50 [00:07<00:00,  6.72it/s, train_loss=0.188, valid_loss=0.17] \n",
      "Epoch: 26/40...: 100%|██████████| 50/50 [00:09<00:00,  5.42it/s, train_loss=0.18, valid_loss=0.171] \n",
      "Epoch: 27/40...: 100%|██████████| 50/50 [00:09<00:00,  5.24it/s, train_loss=0.165, valid_loss=0.171]\n",
      "Epoch: 28/40...: 100%|██████████| 50/50 [00:06<00:00,  7.45it/s, train_loss=0.171, valid_loss=0.171]\n",
      "Epoch: 29/40...: 100%|██████████| 50/50 [00:06<00:00,  7.20it/s, train_loss=0.166, valid_loss=0.171]\n",
      "Epoch: 30/40...: 100%|██████████| 50/50 [00:05<00:00,  9.93it/s, train_loss=0.182, valid_loss=0.172]\n",
      "Epoch: 31/40...: 100%|██████████| 50/50 [00:06<00:00,  7.97it/s, train_loss=0.178, valid_loss=0.172]\n",
      "Epoch: 32/40...: 100%|██████████| 50/50 [00:08<00:00,  6.23it/s, train_loss=0.174, valid_loss=0.171]\n",
      "Epoch: 33/40...: 100%|██████████| 50/50 [00:07<00:00,  6.93it/s, train_loss=0.182, valid_loss=0.171]\n",
      "Epoch: 34/40...: 100%|██████████| 50/50 [00:07<00:00,  6.28it/s, train_loss=0.183, valid_loss=0.17] \n",
      "Epoch: 35/40...: 100%|██████████| 50/50 [00:07<00:00,  6.33it/s, train_loss=0.18, valid_loss=0.171] \n",
      "Epoch: 36/40...: 100%|██████████| 50/50 [00:09<00:00,  5.14it/s, train_loss=0.175, valid_loss=0.17] \n",
      "Epoch: 37/40...: 100%|██████████| 50/50 [00:06<00:00,  7.70it/s, train_loss=0.175, valid_loss=0.172]\n",
      "Epoch: 38/40...: 100%|██████████| 50/50 [00:07<00:00,  6.39it/s, train_loss=0.182, valid_loss=0.172]\n",
      "Epoch: 39/40...: 100%|██████████| 50/50 [00:09<00:00,  5.17it/s, train_loss=0.185, valid_loss=0.172]\n",
      "Epoch: 40/40...: 100%|██████████| 50/50 [00:05<00:00,  8.41it/s, train_loss=0.171, valid_loss=0.171]\n"
     ]
    },
    {
     "ename": "RuntimeError",
     "evalue": "Error(s) in loading state_dict for LSTM:\n\tsize mismatch for lstm.weight_ih_l0: copying a param with shape torch.Size([400, 23]) from checkpoint, the shape in current model is torch.Size([400, 16]).",
     "output_type": "error",
     "traceback": [
      "\u001b[0;31m---------------------------------------------------------------------------\u001b[0m",
      "\u001b[0;31mRuntimeError\u001b[0m                              Traceback (most recent call last)",
      "\u001b[0;32m<ipython-input-18-441cf1f43709>\u001b[0m in \u001b[0;36m<module>\u001b[0;34m\u001b[0m\n\u001b[0;32m----> 1\u001b[0;31m \u001b[0;34m(\u001b[0m\u001b[0mMAPE_list\u001b[0m\u001b[0;34m,\u001b[0m \u001b[0mMAE_list\u001b[0m\u001b[0;34m,\u001b[0m \u001b[0mRMSE_list\u001b[0m\u001b[0;34m,\u001b[0m \u001b[0mload_pred\u001b[0m\u001b[0;34m,\u001b[0m \u001b[0mload_true\u001b[0m\u001b[0;34m,\u001b[0m \u001b[0mmodel\u001b[0m\u001b[0;34m)\u001b[0m \u001b[0;34m=\u001b[0m \u001b[0mmain\u001b[0m\u001b[0;34m(\u001b[0m\u001b[0;34m)\u001b[0m\u001b[0;34m\u001b[0m\u001b[0;34m\u001b[0m\u001b[0m\n\u001b[0m",
      "\u001b[0;32m<ipython-input-11-d6658d10c450>\u001b[0m in \u001b[0;36mmain\u001b[0;34m(n_split, seq_len, number_epoch)\u001b[0m\n\u001b[1;32m     38\u001b[0m                                 \u001b[0mnumber_epochs\u001b[0m\u001b[0;34m=\u001b[0m\u001b[0mnumber_epoch\u001b[0m\u001b[0;34m,\u001b[0m \u001b[0mbatch_size\u001b[0m\u001b[0;34m=\u001b[0m\u001b[0mbatch_size\u001b[0m\u001b[0;34m,\u001b[0m\u001b[0minput_dim\u001b[0m\u001b[0;34m=\u001b[0m\u001b[0mnum_features\u001b[0m\u001b[0;34m,\u001b[0m \u001b[0mn_layers\u001b[0m\u001b[0;34m=\u001b[0m\u001b[0mn_layer\u001b[0m\u001b[0;34m,\u001b[0m\u001b[0;34m\u001b[0m\u001b[0;34m\u001b[0m\u001b[0m\n\u001b[1;32m     39\u001b[0m                                 output_size=1, seq_len=seq_len)\n\u001b[0;32m---> 40\u001b[0;31m             \u001b[0;34m(\u001b[0m\u001b[0mMAPE\u001b[0m\u001b[0;34m,\u001b[0m \u001b[0mMAE\u001b[0m\u001b[0;34m,\u001b[0m \u001b[0mRMSE\u001b[0m\u001b[0;34m,\u001b[0m \u001b[0mload_pred\u001b[0m\u001b[0;34m,\u001b[0m \u001b[0mload_true\u001b[0m\u001b[0;34m)\u001b[0m \u001b[0;34m=\u001b[0m \u001b[0mTest_Model_24\u001b[0m\u001b[0;34m(\u001b[0m\u001b[0mmodel\u001b[0m\u001b[0;34m,\u001b[0m \u001b[0mtest_x\u001b[0m\u001b[0;34m,\u001b[0m \u001b[0mtest_y\u001b[0m\u001b[0;34m,\u001b[0m \u001b[0mbatch_size\u001b[0m\u001b[0;34m=\u001b[0m\u001b[0mbatch_size\u001b[0m\u001b[0;34m,\u001b[0m\u001b[0mseq_len\u001b[0m\u001b[0;34m=\u001b[0m\u001b[0mseq_len\u001b[0m\u001b[0;34m,\u001b[0m \u001b[0my_col_index\u001b[0m\u001b[0;34m=\u001b[0m\u001b[0my_index\u001b[0m\u001b[0;34m,\u001b[0m \u001b[0mscaler\u001b[0m\u001b[0;34m=\u001b[0m\u001b[0mscaler_y\u001b[0m\u001b[0;34m)\u001b[0m\u001b[0;34m\u001b[0m\u001b[0;34m\u001b[0m\u001b[0m\n\u001b[0m\u001b[1;32m     41\u001b[0m             \u001b[0;32mif\u001b[0m \u001b[0mMAPE\u001b[0m \u001b[0;34m<\u001b[0m \u001b[0;36m0.1\u001b[0m\u001b[0;34m:\u001b[0m\u001b[0;34m\u001b[0m\u001b[0;34m\u001b[0m\u001b[0m\n\u001b[1;32m     42\u001b[0m                 \u001b[0;32mbreak\u001b[0m\u001b[0;34m\u001b[0m\u001b[0;34m\u001b[0m\u001b[0m\n",
      "\u001b[0;32m<ipython-input-9-c62db7e8ae23>\u001b[0m in \u001b[0;36mTest_Model_24\u001b[0;34m(model, test_x, test_y, batch_size, seq_len, y_col_index, scaler)\u001b[0m\n\u001b[1;32m      3\u001b[0m     \u001b[0mtest_dataset\u001b[0m \u001b[0;34m=\u001b[0m \u001b[0mTensorDataset\u001b[0m\u001b[0;34m(\u001b[0m\u001b[0mtorch\u001b[0m\u001b[0;34m.\u001b[0m\u001b[0mFloatTensor\u001b[0m\u001b[0;34m(\u001b[0m\u001b[0mtest_x\u001b[0m\u001b[0;34m)\u001b[0m\u001b[0;34m,\u001b[0m \u001b[0mtorch\u001b[0m\u001b[0;34m.\u001b[0m\u001b[0mFloatTensor\u001b[0m\u001b[0;34m(\u001b[0m\u001b[0mtest_y\u001b[0m\u001b[0;34m)\u001b[0m\u001b[0;34m)\u001b[0m\u001b[0;34m\u001b[0m\u001b[0;34m\u001b[0m\u001b[0m\n\u001b[1;32m      4\u001b[0m     \u001b[0mtest_loader\u001b[0m \u001b[0;34m=\u001b[0m \u001b[0mDataLoader\u001b[0m\u001b[0;34m(\u001b[0m\u001b[0mdataset\u001b[0m\u001b[0;34m=\u001b[0m\u001b[0mtest_dataset\u001b[0m\u001b[0;34m,\u001b[0m \u001b[0mbatch_size\u001b[0m\u001b[0;34m=\u001b[0m\u001b[0mbatch_size\u001b[0m\u001b[0;34m,\u001b[0m \u001b[0mshuffle\u001b[0m\u001b[0;34m=\u001b[0m\u001b[0;32mFalse\u001b[0m\u001b[0;34m,\u001b[0m \u001b[0mdrop_last\u001b[0m\u001b[0;34m=\u001b[0m\u001b[0;32mFalse\u001b[0m\u001b[0;34m)\u001b[0m\u001b[0;34m\u001b[0m\u001b[0;34m\u001b[0m\u001b[0m\n\u001b[0;32m----> 5\u001b[0;31m     \u001b[0mmodel\u001b[0m\u001b[0;34m.\u001b[0m\u001b[0mload_state_dict\u001b[0m\u001b[0;34m(\u001b[0m\u001b[0mtorch\u001b[0m\u001b[0;34m.\u001b[0m\u001b[0mload\u001b[0m\u001b[0;34m(\u001b[0m\u001b[0;34m'lstm_state_dict.pt'\u001b[0m\u001b[0;34m)\u001b[0m\u001b[0;34m)\u001b[0m\u001b[0;34m\u001b[0m\u001b[0;34m\u001b[0m\u001b[0m\n\u001b[0m\u001b[1;32m      6\u001b[0m     \u001b[0msize\u001b[0m \u001b[0;34m=\u001b[0m \u001b[0;36m24\u001b[0m\u001b[0;34m\u001b[0m\u001b[0;34m\u001b[0m\u001b[0m\n\u001b[1;32m      7\u001b[0m     \u001b[0my_pred\u001b[0m \u001b[0;34m=\u001b[0m \u001b[0mlist\u001b[0m\u001b[0;34m(\u001b[0m\u001b[0;34m)\u001b[0m\u001b[0;34m\u001b[0m\u001b[0;34m\u001b[0m\u001b[0m\n",
      "\u001b[0;32m~/miniconda3/envs/pytorch/lib/python3.8/site-packages/torch/nn/modules/module.py\u001b[0m in \u001b[0;36mload_state_dict\u001b[0;34m(self, state_dict, strict)\u001b[0m\n\u001b[1;32m   1480\u001b[0m \u001b[0;34m\u001b[0m\u001b[0m\n\u001b[1;32m   1481\u001b[0m         \u001b[0;32mif\u001b[0m \u001b[0mlen\u001b[0m\u001b[0;34m(\u001b[0m\u001b[0merror_msgs\u001b[0m\u001b[0;34m)\u001b[0m \u001b[0;34m>\u001b[0m \u001b[0;36m0\u001b[0m\u001b[0;34m:\u001b[0m\u001b[0;34m\u001b[0m\u001b[0;34m\u001b[0m\u001b[0m\n\u001b[0;32m-> 1482\u001b[0;31m             raise RuntimeError('Error(s) in loading state_dict for {}:\\n\\t{}'.format(\n\u001b[0m\u001b[1;32m   1483\u001b[0m                                self.__class__.__name__, \"\\n\\t\".join(error_msgs)))\n\u001b[1;32m   1484\u001b[0m         \u001b[0;32mreturn\u001b[0m \u001b[0m_IncompatibleKeys\u001b[0m\u001b[0;34m(\u001b[0m\u001b[0mmissing_keys\u001b[0m\u001b[0;34m,\u001b[0m \u001b[0munexpected_keys\u001b[0m\u001b[0;34m)\u001b[0m\u001b[0;34m\u001b[0m\u001b[0;34m\u001b[0m\u001b[0m\n",
      "\u001b[0;31mRuntimeError\u001b[0m: Error(s) in loading state_dict for LSTM:\n\tsize mismatch for lstm.weight_ih_l0: copying a param with shape torch.Size([400, 23]) from checkpoint, the shape in current model is torch.Size([400, 16])."
     ]
    }
   ],
   "source": [
    "(MAPE_list, MAE_list, RMSE_list, load_pred, load_true, model) = main()"
   ]
  },
  {
   "cell_type": "code",
   "execution_count": 17,
   "metadata": {
    "ExecuteTime": {
     "end_time": "2021-12-19T03:48:22.071953Z",
     "start_time": "2021-12-19T03:48:22.060883Z"
    },
    "colab": {
     "base_uri": "https://localhost:8080/"
    },
    "executionInfo": {
     "elapsed": 768,
     "status": "ok",
     "timestamp": 1635423544016,
     "user": {
      "displayName": "Mark Dong",
      "photoUrl": "https://lh3.googleusercontent.com/a/default-user=s64",
      "userId": "04537685704836554558"
     },
     "user_tz": -480
    },
    "id": "QCu2pRKHAACq",
    "outputId": "51d2cb3a-c1e9-4999-a983-2ea74791ca70"
   },
   "outputs": [
    {
     "data": {
      "text/plain": [
       "([0.03545452137445833], [456.21496697395514], [700.7255783705918])"
      ]
     },
     "execution_count": 17,
     "metadata": {},
     "output_type": "execute_result"
    }
   ],
   "source": [
    "MAPE_list, MAE_list, RMSE_list"
   ]
  },
  {
   "cell_type": "code",
   "execution_count": null,
   "metadata": {
    "colab": {
     "base_uri": "https://localhost:8080/",
     "height": 610
    },
    "executionInfo": {
     "elapsed": 534,
     "status": "ok",
     "timestamp": 1635394169930,
     "user": {
      "displayName": "Mark Dong",
      "photoUrl": "https://lh3.googleusercontent.com/a/default-user=s64",
      "userId": "04537685704836554558"
     },
     "user_tz": -480
    },
    "id": "6dBnpARySA-v",
    "outputId": "dab4adcb-bb6e-4e4a-df2d-3ee89731ddee"
   },
   "outputs": [
    {
     "data": {
      "text/plain": [
       "[<matplotlib.lines.Line2D at 0x7fd6633d12d0>]"
      ]
     },
     "execution_count": 34,
     "metadata": {},
     "output_type": "execute_result"
    },
    {
     "data": {
      "image/png": "[encoded data removed]",
      "text/plain": [
       "<Figure size 1440x720 with 1 Axes>"
      ]
     },
     "metadata": {
      "needs_background": "light"
     },
     "output_type": "display_data"
    }
   ],
   "source": [
    "plt.figure(figsize=(20,10))\n",
    "plt.plot(load_pred[:240], 'r')\n",
    "plt.plot(load_true[:240], 'g')"
   ]
  },
  {
   "cell_type": "code",
   "execution_count": 32,
   "metadata": {
    "collapsed": true,
    "executionInfo": {
     "elapsed": 661,
     "status": "ok",
     "timestamp": 1635423641167,
     "user": {
      "displayName": "Mark Dong",
      "photoUrl": "https://lh3.googleusercontent.com/a/default-user=s64",
      "userId": "04537685704836554558"
     },
     "user_tz": -480
    },
    "id": "DgD1KKyhMQOA"
   },
   "outputs": [],
   "source": [
    "np.save('./load_pred_xgblstm.npy', load_pred)\n",
    "np.save('./load_true_xgblstm.npy', load_true)\n",
    "torch.save(model.state_dict(), \"xgblstm_state_dict.pt\")"
   ]
  }
 ],
 "metadata": {
  "accelerator": "GPU",
  "colab": {
   "collapsed_sections": [],
   "name": "XGB-LSTM-1027.ipynb",
   "provenance": [
    {
     "file_id": "1jp7gOmEBXP-NjEvG88OqPVldb0FuwrhJ",
     "timestamp": 1635391646725
    },
    {
     "file_id": "1ui5FhFfNDFgoxw3lydWjEnwqGqf1HePm",
     "timestamp": 1635342653854
    }
   ]
  },
  "kernelspec": {
   "display_name": "Python 3",
   "language": "python",
   "name": "python3"
  },
  "language_info": {
   "codemirror_mode": {
    "name": "ipython",
    "version": 3
   },
   "file_extension": ".py",
   "mimetype": "text/x-python",
   "name": "python",
   "nbconvert_exporter": "python",
   "pygments_lexer": "ipython3",
   "version": "3.8.12"
  },
  "toc": {
   "base_numbering": 1,
   "nav_menu": {},
   "number_sections": true,
   "sideBar": true,
   "skip_h1_title": false,
   "title_cell": "Table of Contents",
   "title_sidebar": "Contents",
   "toc_cell": false,
   "toc_position": {},
   "toc_section_display": true,
   "toc_window_display": true
  },
  "varInspector": {
   "cols": {
    "lenName": 16,
    "lenType": 16,
    "lenVar": 40
   },
   "kernels_config": {
    "python": {
     "delete_cmd_postfix": "",
     "delete_cmd_prefix": "del ",
     "library": "var_list.py",
     "varRefreshCmd": "print(var_dic_list())"
    },
    "r": {
     "delete_cmd_postfix": ") ",
     "delete_cmd_prefix": "rm(",
     "library": "var_list.r",
     "varRefreshCmd": "cat(var_dic_list()) "
    }
   },
   "types_to_exclude": [
    "module",
    "function",
    "builtin_function_or_method",
    "instance",
    "_Feature"
   ],
   "window_display": false
  }
 },
 "nbformat": 4,
 "nbformat_minor": 1
}
