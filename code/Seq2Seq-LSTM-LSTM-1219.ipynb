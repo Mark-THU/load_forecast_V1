{
 "cells": [
  {
   "cell_type": "markdown",
   "metadata": {},
   "source": [
    "# Seq2Seq用于电力负荷预测"
   ]
  },
  {
   "cell_type": "code",
   "execution_count": 1,
   "metadata": {
    "ExecuteTime": {
     "end_time": "2021-12-19T03:26:17.560472Z",
     "start_time": "2021-12-19T03:26:16.453257Z"
    },
    "id": "W-jyRZqxUF2-"
   },
   "outputs": [],
   "source": [
    "# prediction by seq2seq model which consists of LSTM-LSTM\n",
    "import pandas as pd\n",
    "import numpy as np\n",
    "import matplotlib.pyplot as plt\n",
    "import pdb\n",
    "import random\n",
    "import torch\n",
    "import torch.nn as nn\n",
    "import torch.nn.functional as F\n",
    "\n",
    "from sklearn.preprocessing import StandardScaler, MinMaxScaler\n",
    "from sklearn.model_selection import train_test_split, KFold\n",
    "from sqlalchemy import create_engine\n",
    "from torch.autograd import Variable\n",
    "from torch.utils.data import TensorDataset, DataLoader\n",
    "from tqdm import tqdm"
   ]
  },
  {
   "cell_type": "code",
   "execution_count": 2,
   "metadata": {
    "ExecuteTime": {
     "end_time": "2021-12-19T03:26:17.575721Z",
     "start_time": "2021-12-19T03:26:17.561990Z"
    },
    "id": "mXGB-NgvYQdT"
   },
   "outputs": [],
   "source": [
    "if torch.cuda.is_available():  \n",
    "    dev = \"cuda:0\" \n",
    "else:  \n",
    "    dev = \"cpu\"\n",
    "device = torch.device(dev)"
   ]
  },
  {
   "cell_type": "markdown",
   "metadata": {},
   "source": [
    "## 导入数据"
   ]
  },
  {
   "cell_type": "code",
   "execution_count": 3,
   "metadata": {
    "ExecuteTime": {
     "end_time": "2021-12-19T03:26:17.645914Z",
     "start_time": "2021-12-19T03:26:17.577078Z"
    },
    "id": "14JEOyI5UF3I"
   },
   "outputs": [],
   "source": [
    "# load data\n",
    "url = '../dataset_0101110000.csv'\n",
    "data = pd.read_csv(url, sep=',', index_col='time')"
   ]
  },
  {
   "cell_type": "markdown",
   "metadata": {},
   "source": [
    "## 归一化"
   ]
  },
  {
   "cell_type": "code",
   "execution_count": 4,
   "metadata": {
    "ExecuteTime": {
     "end_time": "2021-12-19T03:26:17.650742Z",
     "start_time": "2021-12-19T03:26:17.647927Z"
    },
    "id": "ZMuY2BhfUF3K"
   },
   "outputs": [],
   "source": [
    "# 归一化\n",
    "def normalization(data):\n",
    "    \"\"\"\n",
    "    data: original data with load\n",
    "    return: normalized data, scaler of load\n",
    "    \"\"\"\n",
    "    normalized_data = MinMaxScaler().fit_transform(data)\n",
    "    scaler_y = MinMaxScaler()\n",
    "    scaler_y.fit_transform(data[['load']])\n",
    "    return normalized_data, scaler_y"
   ]
  },
  {
   "cell_type": "markdown",
   "metadata": {},
   "source": [
    "## 监督学习数据集"
   ]
  },
  {
   "cell_type": "code",
   "execution_count": 5,
   "metadata": {
    "ExecuteTime": {
     "end_time": "2021-12-19T03:26:17.657774Z",
     "start_time": "2021-12-19T03:26:17.651866Z"
    },
    "id": "Tza1H7XMUF3K"
   },
   "outputs": [],
   "source": [
    "# build supervised data\n",
    "def Series_To_Supervise(data, seq_len, target_len, y_col_index):\n",
    "    \"\"\"\n",
    "    convert series data to supervised data\n",
    "    :param data: original data\n",
    "    :param seq_len: length of sequence\n",
    "    :y_col_index: index of column which acts as output\n",
    "    :return: return two ndarrays-- input and output in format suitable to feed to LSTM\n",
    "    \"\"\"\n",
    "#     pdb.set_trace()\n",
    "    dim_0 = data.shape[0] - seq_len\n",
    "    dim_1 = data.shape[1]\n",
    "    x = np.zeros((dim_0, seq_len, dim_1))\n",
    "    y = np.zeros((dim_0, target_len))\n",
    "    for i in range(dim_0):\n",
    "        x[i] = data[i: i+seq_len]\n",
    "        y[i] = data[i+seq_len-target_len:i+seq_len, y_col_index]\n",
    "    print(\"Supervised Train Data: Shape of x: {}, Shape of y: {}\".format(x.shape, y.shape))\n",
    "    return x, y\n",
    "\n",
    "def Series_To_Supervise_Test(data, seq_len, target_len, y_col_index):\n",
    "    \"\"\"\n",
    "    convert series data to supervised data\n",
    "    :param data: original data\n",
    "    :param seq_len: length of sequence\n",
    "    :y_col_index: index of column which acts as output\n",
    "    :return: return two ndarrays-- input and output in format suitable to feed to LSTM\n",
    "    \"\"\"\n",
    "    dim_0 = int((data.shape[0] - seq_len)/24)+1\n",
    "    dim_1 = data.shape[1]\n",
    "    x = np.zeros((dim_0, seq_len, dim_1))\n",
    "    y = np.zeros((dim_0, target_len))\n",
    "    for i in range(0, dim_0):\n",
    "        x[i] = data[i*24: i*24+seq_len]\n",
    "        y[i] = data[i*24+seq_len-target_len:i*24+seq_len, y_col_index]\n",
    "    print(\"Supervised Test Data: Shape of x: {}, Shape of y: {}\".format(x.shape, y.shape))\n",
    "    return x, y"
   ]
  },
  {
   "cell_type": "markdown",
   "metadata": {},
   "source": [
    "## 五折交叉验证"
   ]
  },
  {
   "cell_type": "code",
   "execution_count": 6,
   "metadata": {
    "ExecuteTime": {
     "end_time": "2021-12-19T03:26:17.661992Z",
     "start_time": "2021-12-19T03:26:17.658791Z"
    },
    "id": "Gt4Wfny1UF3L"
   },
   "outputs": [],
   "source": [
    "# 5-fold cross-validation\n",
    "def split_dataset(X, Y, n_split=5):\n",
    "    \"\"\"\n",
    "    X: original feature, size * 72 * features\n",
    "    Y: labels, size * 1\n",
    "    return: list of train_x, test_x, train_y, test_y\n",
    "    \"\"\"\n",
    "    kf = KFold(n_splits=n_split, shuffle=True, random_state=1)\n",
    "    train_x_list = list()\n",
    "    valid_x_list = list()\n",
    "    train_y_list = list()\n",
    "    valid_y_list = list()\n",
    "    for train_index, valid_index in kf.split(X):\n",
    "        train_x_list.append(X[train_index])\n",
    "        train_y_list.append(Y[train_index])\n",
    "        valid_x_list.append(X[valid_index])\n",
    "        valid_y_list.append(Y[valid_index])\n",
    "    return train_x_list, valid_x_list, train_y_list, valid_y_list"
   ]
  },
  {
   "cell_type": "markdown",
   "metadata": {},
   "source": [
    "## 定义模型"
   ]
  },
  {
   "cell_type": "code",
   "execution_count": 7,
   "metadata": {
    "ExecuteTime": {
     "end_time": "2021-12-19T03:26:17.666875Z",
     "start_time": "2021-12-19T03:26:17.663093Z"
    },
    "id": "_gOiLShV2Y_A"
   },
   "outputs": [],
   "source": [
    "# define lstm_encoder\n",
    "class LSTMEncoder(nn.Module):\n",
    "    def __init__(self, input_size, hidden_dim, n_layers, drop_prob=0.5):\n",
    "        super(LSTMEncoder, self).__init__()\n",
    "        # 初始化hidden_state参数\n",
    "        self.hidden_dim = hidden_dim\n",
    "        self.n_layers = n_layers\n",
    "        # 定义层\n",
    "        self.lstm = nn.LSTM(input_size, hidden_dim, n_layers, batch_first=True)\n",
    "        self.dropout = nn.Dropout(drop_prob)\n",
    "    \n",
    "    def forward(self, x):\n",
    "        batch_size = x.size(0)\n",
    "        hidden = self.init_hidden(batch_size)\n",
    "        \n",
    "        lstm_out, hidden = self.lstm(x, hidden)\n",
    "        return lstm_out, hidden\n",
    "    \n",
    "    def init_hidden(self, batch_size):\n",
    "        hidden = (torch.zeros(self.n_layers, batch_size, self.hidden_dim).to(device),\n",
    "                      torch.zeros(self.n_layers, batch_size, self.hidden_dim).to(device))\n",
    "        return hidden"
   ]
  },
  {
   "cell_type": "code",
   "execution_count": 8,
   "metadata": {
    "ExecuteTime": {
     "end_time": "2021-12-19T03:26:17.673995Z",
     "start_time": "2021-12-19T03:26:17.668611Z"
    },
    "id": "lXetdwqC2Y_B"
   },
   "outputs": [],
   "source": [
    "# define attn_lstm_decoder\n",
    "class AttnLSTMDecoder(nn.Module):\n",
    "    def __init__(self, input_size, hidden_dim, output_size=1, n_layers=1, drop_prob=0.1, seq_len=48):\n",
    "        super(AttnLSTMDecoder, self).__init__()\n",
    "        self.input_size = input_size\n",
    "        self.hidden_dim = hidden_dim\n",
    "        self.output_size = output_size\n",
    "        self.n_layers = n_layers\n",
    "        self.drop_prob = drop_prob\n",
    "        # 计算attention\n",
    "        self.seq_len = seq_len\n",
    "        \n",
    "        self.embedding = nn.Linear(self.input_size, self.hidden_dim * self.n_layers)\n",
    "        self.attn = nn.Linear(self.hidden_dim * self.n_layers * 2, self.seq_len)\n",
    "        self.attn_combine = nn.Linear(self.hidden_dim * (self.n_layers + 1), self.hidden_dim)\n",
    "        self.dropout = nn.Dropout(self.drop_prob)\n",
    "        self.lstm = nn.LSTM(self.hidden_dim, self.hidden_dim, self.n_layers, batch_first=True)\n",
    "        self.out = nn.Linear(self.hidden_dim, self.output_size)\n",
    "    \n",
    "    def forward(self, input, hidden, encoder_outputs):\n",
    "        \"\"\"\n",
    "        :input size(batch_size, 1, input_size)\n",
    "        :hidden size(batch_size, 1, hidden_dim)\n",
    "        :encoder_outputs size(batch_size, seq_len, hidden_dim)\n",
    "        \"\"\"\n",
    "        embedded = self.embedding(input)\n",
    "        \n",
    "        # flat hidden to calculte weights\n",
    "        # pdb.set_trace()\n",
    "        hidden_flat = hidden[0].transpose(0, 1)\n",
    "        hidden_flat = hidden_flat.contiguous().view(hidden_flat.shape[0], 1, -1)\n",
    "        \n",
    "        attn_weights = F.softmax(self.attn(torch.cat((embedded, hidden_flat), 2)), dim=2)\n",
    "        attn_applied = torch.bmm(attn_weights, encoder_outputs)\n",
    "        \n",
    "        output = torch.cat((embedded, attn_applied), 2)\n",
    "        output = self.attn_combine(output)\n",
    "        output = F.relu(output)\n",
    "        \n",
    "        output, hidden = self.lstm(output, hidden)        \n",
    "        \n",
    "        output = self.out(output)      \n",
    "        \n",
    "        return output, hidden        "
   ]
  },
  {
   "cell_type": "markdown",
   "metadata": {},
   "source": [
    "## 训练模型"
   ]
  },
  {
   "cell_type": "code",
   "execution_count": 9,
   "metadata": {
    "ExecuteTime": {
     "end_time": "2021-12-19T03:26:17.688164Z",
     "start_time": "2021-12-19T03:26:17.675368Z"
    },
    "id": "Lzq1qRjC2Y_C"
   },
   "outputs": [],
   "source": [
    "# train the model \n",
    "def train_model(train_x_list, train_y_list, valid_x_list, valid_y_list, input_size=23, hidden_dim=70, n_layers=1,\n",
    "                seq_len=48, target_len=24, number_epochs=40, batch_size=512, teacher_forcing_ratio=0.5,\n",
    "                lr=0.01, training_prediction='teacher_forcing', dynamic_tf=False):\n",
    "    encoder = LSTMEncoder(input_size, hidden_dim, n_layers)\n",
    "    decoder = AttnLSTMDecoder(input_size, hidden_dim, n_layers=n_layers)\n",
    "    encoder = encoder.to(device)\n",
    "    decoder = decoder.to(device)\n",
    "    criterion = nn.MSELoss()\n",
    "    encoder_optimizer = torch.optim.Adam(encoder.parameters(), lr=lr)\n",
    "    decoder_optimizer = torch.optim.Adam(decoder.parameters(), lr=lr)\n",
    "    valid_loss_min = np.Inf\n",
    "    for i in range(5):\n",
    "        print('train dataset {}'.format(i))\n",
    "        train_x = train_x_list[i]\n",
    "        train_y = train_y_list[i]\n",
    "        valid_x = valid_x_list[i]\n",
    "        valid_y = valid_y_list[i]\n",
    "        train_dataset = TensorDataset(torch.FloatTensor(train_x), torch.FloatTensor(train_y))\n",
    "        valid_dataset = TensorDataset(torch.FloatTensor(valid_x), torch.FloatTensor(valid_y))\n",
    "        \n",
    "        train_loader = DataLoader(dataset=train_dataset, batch_size=batch_size, shuffle=True, drop_last=True)\n",
    "        valid_loader = DataLoader(dataset=valid_dataset, batch_size=batch_size, shuffle=True, drop_last=True)\n",
    "        train_losses = list()\n",
    "  \n",
    "        num_without_imp = 0\n",
    "        \n",
    "        y_index = train_x.shape[2] - 1\n",
    "        #train\n",
    "        for epoch in range(1, number_epochs + 1):\n",
    "            loop = tqdm(enumerate(train_loader), total=len(train_loader), leave=True)\n",
    "            for i, (inputs, labels) in loop:\n",
    "                inputs = inputs.to(device)\n",
    "                labels = labels.to(device)\n",
    "                outputs = torch.zeros(batch_size, target_len).to(device)\n",
    "                encoder_optimizer.zero_grad()\n",
    "                decoder_optimizer.zero_grad()\n",
    "                # encoder\n",
    "                input_tensor = inputs[:, 0:seq_len, :]\n",
    "                target_tensor = inputs[:, seq_len:, :]\n",
    "                encoder_outputs, encoder_hidden = encoder(input_tensor)\n",
    "                # decoder\n",
    "                decoder_input = inputs[:, seq_len-1, :].unsqueeze(1)\n",
    "                decoder_hidden = encoder_hidden\n",
    "                \n",
    "                if training_prediction == 'recursive':\n",
    "                    # predict recursively\n",
    "                    for t in range(target_len):\n",
    "                        # pdb.set_trace()\n",
    "                        decoder_output, decoder_hidden = decoder(decoder_input, decoder_hidden, encoder_outputs)\n",
    "                        outputs[:, t] = decoder_output.squeeze()\n",
    "                        decoder_input = torch.cat((target_tensor[:, t, :-1].unsqueeze(1), decoder_output.detach()), 2)\n",
    "                \n",
    "                if training_prediction == 'teacher_forcing':\n",
    "                    # use teacher forcing\n",
    "                    if random.random() < teacher_forcing_ratio:\n",
    "                        for t in range(target_len):\n",
    "                            decoder_output, decoder_hidden = decoder(decoder_input, decoder_hidden, encoder_outputs)\n",
    "                            outputs[:, t] = decoder_output.squeeze()\n",
    "                            decoder_input = target_tensor[:, t, :].unsqueeze(1)\n",
    "                    # predict recurisively\n",
    "                    else:\n",
    "                        for t in range(target_len):\n",
    "                            decoder_output, decoder_hidden = decoder(decoder_input, decoder_hidden, encoder_outputs)\n",
    "                            outputs[:, t] = decoder_output.squeeze()\n",
    "                            decoder_input = torch.cat((target_tensor[:, t, :-1].unsqueeze(1), decoder_output.detach()), 2)\n",
    "                \n",
    "                if training_prediction == 'mixed_teacher_forcing':\n",
    "                    # predict using mixed teacher forcing\n",
    "                    for t in range(target_len):\n",
    "                        decoder_output, decoder_hidden = decoder(decoder_input, decoder_hidden, encoder_outputs)\n",
    "                        outputs[:, t] = decoder_output.squeeze()\n",
    "                        # predict with teacher forcing\n",
    "                        if random.random() < teacher_forcing_ratio:\n",
    "                            decoder_input = target_tensor[:, t, :].unsqueeze(1)\n",
    "                                \n",
    "                        # predict recursively \n",
    "                        else:\n",
    "                            decoder_input = torch.cat((target_tensor[:, t, :-1].unsqueeze(1), decoder_output.detach()), 2)\n",
    "                loss = criterion(outputs, labels)\n",
    "                train_losses.append(loss.item)\n",
    "                loss.backward()\n",
    "                encoder_optimizer.step()\n",
    "                decoder_optimizer.step()\n",
    "                \n",
    "                # eval\n",
    "                if i % 5 == 0:\n",
    "                    # if num_without_imp > 60:\n",
    "                    #     return encoder, decoder\n",
    "                    num_without_imp = num_without_imp + 1\n",
    "                    valid_losses = list()\n",
    "                    encoder.eval()\n",
    "                    decoder.eval()\n",
    "                    for inp, lab in valid_loader:\n",
    "                        inp = inp.to(device)\n",
    "                        lab = lab.to(device)\n",
    "                        out = torch.zeros(batch_size, target_len).to(device)\n",
    "                        # encoder\n",
    "                        input_tensor = inp[:, 0:seq_len, :]\n",
    "                        target_tensor = inp[:, seq_len:, 0:-1]\n",
    "                        encoder_outputs, encoder_hidden = encoder(input_tensor)\n",
    "                        # decoder\n",
    "                        decoder_input = inp[:, seq_len-1, :].unsqueeze(1)\n",
    "                        decoder_hidden = encoder_hidden\n",
    "                        # predict recuisively\n",
    "                        for t in range(target_len):\n",
    "                            decoder_output, decoder_hidden = decoder(decoder_input, decoder_hidden, encoder_outputs)\n",
    "                            out[:, t] = decoder_output.squeeze()\n",
    "                            decoder_input = torch.cat((target_tensor[:, t, :].unsqueeze(1), decoder_output.detach()), 2)\n",
    "                        valid_loss = criterion(out, lab)\n",
    "                        valid_losses.append(valid_loss.item())\n",
    "                    encoder.train()\n",
    "                    decoder.train()\n",
    "                    loop.set_description(\"Epoch: {}/{}...\".format(\n",
    "                        epoch, number_epochs))\n",
    "                    loop.set_postfix(train_loss=loss.item(),\n",
    "                                     valid_loss=np.mean(valid_losses))\n",
    "                    if np.mean(valid_losses) < valid_loss_min:\n",
    "                        num_without_imp = 0\n",
    "                        torch.save(encoder.state_dict(), \"encoder_state_dict.pt\")\n",
    "                        torch.save(decoder.state_dict(), \"decoder_state_dict.pt\")\n",
    "                        valid_loss_min = np.mean(valid_losses)\n",
    "    return encoder, decoder"
   ]
  },
  {
   "cell_type": "markdown",
   "metadata": {},
   "source": [
    "## 测试模型"
   ]
  },
  {
   "cell_type": "code",
   "execution_count": 10,
   "metadata": {
    "ExecuteTime": {
     "end_time": "2021-12-19T03:26:17.695475Z",
     "start_time": "2021-12-19T03:26:17.689343Z"
    },
    "id": "BWIEjvjH2Y_K"
   },
   "outputs": [],
   "source": [
    "# test the model\n",
    "def test_model(encoder, decoder, test_x, test_y, batch_size, seq_len, target_len, scaler):\n",
    "    # pdb.set_trace()\n",
    "    test_dataset = TensorDataset(torch.FloatTensor(test_x), torch.FloatTensor(test_y))\n",
    "    test_loader = DataLoader(dataset=test_dataset, batch_size=batch_size, shuffle=False)\n",
    "    encoder.load_state_dict(torch.load('encoder_state_dict.pt'))\n",
    "    decoder.load_state_dict(torch.load('decoder_state_dict.pt'))\n",
    "    y_pred = list()\n",
    "    y_true = list()\n",
    "    y_index = test_x.shape[2] - 1\n",
    "    with torch.no_grad():\n",
    "        for inputs, labels in test_loader:\n",
    "            inputs = inputs.to(device=device)\n",
    "            labels = labels.to(device=device)\n",
    "            outputs = torch.zeros(batch_size, target_len).to(device)\n",
    "            # encoder\n",
    "            input_tensor = inputs[:, 0:seq_len, :]\n",
    "            target_tensor = inputs[:, seq_len:, :]\n",
    "            encoder_outputs, encoder_hidden = encoder(input_tensor)\n",
    "            # decoder\n",
    "            decoder_input = inputs[:, seq_len-1, :].unsqueeze(1)\n",
    "            decoder_hidden = encoder_hidden\n",
    "            # predict recursively\n",
    "            for t in range(target_len):\n",
    "                decoder_output, decoder_hidden = decoder(decoder_input, decoder_hidden, encoder_outputs)\n",
    "                outputs[:, t] = decoder_output.squeeze()\n",
    "                decoder_input = torch.cat((target_tensor[:, t, :-1].unsqueeze(1), decoder_output.detach()), 2)\n",
    "            y_pred = y_pred + outputs.view(-1).cpu().numpy().tolist()\n",
    "            y_true = y_true + labels.view(-1).cpu().numpy().tolist()\n",
    "    y_true = np.array(y_true)\n",
    "    y_pred = np.array(y_pred)\n",
    "    load_true = scaler.inverse_transform(np.expand_dims(y_true, axis=1))\n",
    "    load_pred = scaler.inverse_transform(np.expand_dims(y_pred, axis=1))\n",
    "    MAPE = np.mean(np.abs(load_true-load_pred)/load_true)\n",
    "    MAE = np.mean(np.abs(load_true-load_pred))\n",
    "    RMSE = np.sqrt(np.mean(np.square(load_true-load_pred)))\n",
    "    return MAPE, MAE, RMSE, load_pred, load_true"
   ]
  },
  {
   "cell_type": "markdown",
   "metadata": {},
   "source": [
    "## 超参数定义"
   ]
  },
  {
   "cell_type": "code",
   "execution_count": 11,
   "metadata": {
    "ExecuteTime": {
     "end_time": "2021-12-19T03:26:17.699360Z",
     "start_time": "2021-12-19T03:26:17.696554Z"
    },
    "id": "thj9qZovUF3N"
   },
   "outputs": [],
   "source": [
    "# model configs\n",
    "def Model_Configs():\n",
    "    batch_sizes = [512]\n",
    "    n_layers = [1]\n",
    "    lrs = [0.01]\n",
    "    hidden_dims = [70]\n",
    "    configs = list()\n",
    "    for i in batch_sizes:\n",
    "        for j in n_layers:\n",
    "            for k in lrs:\n",
    "                for l in hidden_dims:\n",
    "                    configs.append([i, j, k, l])\n",
    "    return configs"
   ]
  },
  {
   "cell_type": "markdown",
   "metadata": {},
   "source": [
    "## 主函数"
   ]
  },
  {
   "cell_type": "code",
   "execution_count": 12,
   "metadata": {
    "ExecuteTime": {
     "end_time": "2021-12-19T03:26:17.706096Z",
     "start_time": "2021-12-19T03:26:17.700471Z"
    },
    "code_folding": [],
    "id": "L03esL1dUF3O"
   },
   "outputs": [],
   "source": [
    "def main(n_split=5, seq_len=48, target_len=24, plot=False):\n",
    "    normalized_data, scaler_y = normalization(data)\n",
    "    train_data = normalized_data\n",
    "    test_data = normalized_data[-3000:]\n",
    "    y_index = normalized_data.shape[1] - 1\n",
    "    num_features = normalized_data.shape[1]\n",
    "    x, y = Series_To_Supervise(train_data,\n",
    "                               seq_len=seq_len + target_len,\n",
    "                               target_len=target_len,\n",
    "                               y_col_index=y_index)\n",
    "    train_x_list, valid_x_list, train_y_list, valid_y_list = split_dataset(\n",
    "        x, y, n_split=n_split)\n",
    "    test_x, test_y = Series_To_Supervise_Test(test_data,\n",
    "                                              seq_len=seq_len + target_len,\n",
    "                                              target_len=target_len,\n",
    "                                              y_col_index=y_index)\n",
    "\n",
    "    configs = Model_Configs()\n",
    "    MAPE_list = list()\n",
    "    MAE_list = list()\n",
    "    RMSE_list = list()\n",
    "    for config in configs:\n",
    "        batch_size = config[0]\n",
    "        n_layer = config[1]\n",
    "        lr = config[2]\n",
    "        hidden_dim = config[3]\n",
    "        print(\n",
    "            \"Model Config: batch_size--{}, n_layer--{}, lr--{}, hidden_dims--{}\"\n",
    "            .format(batch_size, n_layer, lr, hidden_dim))\n",
    "\n",
    "        while (1):\n",
    "\n",
    "            encoder, decoder = train_model(\n",
    "                train_x_list,\n",
    "                train_y_list,\n",
    "                valid_x_list,\n",
    "                valid_y_list,\n",
    "                input_size=num_features,\n",
    "                hidden_dim=hidden_dim,\n",
    "                batch_size=batch_size,\n",
    "                n_layers=n_layer,\n",
    "                lr=lr,\n",
    "                seq_len=seq_len,\n",
    "                target_len=target_len,\n",
    "                training_prediction='teacher_forcing')\n",
    "            (MAPE, MAE, RMSE, load_pred,\n",
    "             load_true) = test_model(encoder,\n",
    "                                     decoder,\n",
    "                                     test_x,\n",
    "                                     test_y,\n",
    "                                     batch_size=1,\n",
    "                                     seq_len=seq_len,\n",
    "                                     target_len=target_len,\n",
    "                                     scaler=scaler_y)\n",
    "            if MAPE < 0.1:\n",
    "                break\n",
    "        MAPE_list.append(MAPE)\n",
    "        MAE_list.append(MAE)\n",
    "        RMSE_list.append(RMSE)\n",
    "    return (MAPE_list, MAE_list, RMSE_list, load_pred, load_true, encoder,\n",
    "            decoder)"
   ]
  },
  {
   "cell_type": "markdown",
   "metadata": {},
   "source": [
    "## 运行"
   ]
  },
  {
   "cell_type": "code",
   "execution_count": 14,
   "metadata": {
    "ExecuteTime": {
     "end_time": "2021-12-19T04:29:06.949272Z",
     "start_time": "2021-12-19T03:48:30.659311Z"
    },
    "colab": {
     "base_uri": "https://localhost:8080/"
    },
    "executionInfo": {
     "elapsed": 1319945,
     "status": "ok",
     "timestamp": 1635392404288,
     "user": {
      "displayName": "Mark Dong",
      "photoUrl": "https://lh3.googleusercontent.com/a/default-user=s64",
      "userId": "04537685704836554558"
     },
     "user_tz": -480
    },
    "id": "FBZDkAX9g590",
    "outputId": "b36ab53b-52e2-4354-a2c5-96787c54410d",
    "scrolled": false
   },
   "outputs": [
    {
     "name": "stdout",
     "output_type": "stream",
     "text": [
      "Supervised Train Data: Shape of x: (31587, 72, 23), Shape of y: (31587, 24)\n",
      "Supervised Test Data: Shape of x: (123, 72, 23), Shape of y: (123, 24)\n",
      "Model Config: batch_size--512, n_layer--1, lr--0.01, hidden_dims--70\n",
      "train dataset 0\n"
     ]
    },
    {
     "name": "stderr",
     "output_type": "stream",
     "text": [
      "Epoch: 1/40...: 100%|██████████| 49/49 [00:12<00:00,  3.92it/s, train_loss=0.0245, valid_loss=0.0239]\n",
      "Epoch: 2/40...: 100%|██████████| 49/49 [00:14<00:00,  3.29it/s, train_loss=0.00547, valid_loss=0.0119]\n",
      "Epoch: 3/40...: 100%|██████████| 49/49 [00:15<00:00,  3.09it/s, train_loss=0.0027, valid_loss=0.00717] \n",
      "Epoch: 4/40...: 100%|██████████| 49/49 [00:16<00:00,  3.01it/s, train_loss=0.00221, valid_loss=0.0101] \n",
      "Epoch: 5/40...: 100%|██████████| 49/49 [00:19<00:00,  2.49it/s, train_loss=0.00543, valid_loss=0.0044] \n",
      "Epoch: 6/40...: 100%|██████████| 49/49 [00:24<00:00,  2.01it/s, train_loss=0.00695, valid_loss=0.00557]\n",
      "Epoch: 7/40...: 100%|██████████| 49/49 [00:18<00:00,  2.63it/s, train_loss=0.00494, valid_loss=0.00338]\n",
      "Epoch: 8/40...: 100%|██████████| 49/49 [00:12<00:00,  3.88it/s, train_loss=0.00109, valid_loss=0.00313] \n",
      "Epoch: 9/40...: 100%|██████████| 49/49 [00:13<00:00,  3.54it/s, train_loss=0.00333, valid_loss=0.00272] \n",
      "Epoch: 10/40...: 100%|██████████| 49/49 [00:14<00:00,  3.39it/s, train_loss=0.00499, valid_loss=0.00622] \n",
      "Epoch: 11/40...: 100%|██████████| 49/49 [00:17<00:00,  2.76it/s, train_loss=0.0023, valid_loss=0.0022]  \n",
      "Epoch: 12/40...: 100%|██████████| 49/49 [00:14<00:00,  3.38it/s, train_loss=0.00206, valid_loss=0.00304] \n",
      "Epoch: 13/40...: 100%|██████████| 49/49 [00:13<00:00,  3.64it/s, train_loss=0.000611, valid_loss=0.002]  \n",
      "Epoch: 14/40...: 100%|██████████| 49/49 [00:11<00:00,  4.20it/s, train_loss=0.000751, valid_loss=0.00202]\n",
      "Epoch: 15/40...: 100%|██████████| 49/49 [00:12<00:00,  3.93it/s, train_loss=0.000411, valid_loss=0.00161]\n",
      "Epoch: 16/40...: 100%|██████████| 49/49 [00:14<00:00,  3.42it/s, train_loss=0.0135, valid_loss=0.005]    \n",
      "Epoch: 17/40...: 100%|██████████| 49/49 [00:13<00:00,  3.55it/s, train_loss=0.000511, valid_loss=0.00155]\n",
      "Epoch: 18/40...: 100%|██████████| 49/49 [00:13<00:00,  3.65it/s, train_loss=0.00095, valid_loss=0.00181] \n",
      "Epoch: 19/40...: 100%|██████████| 49/49 [00:09<00:00,  5.04it/s, train_loss=0.00146, valid_loss=0.00254] \n",
      "Epoch: 20/40...: 100%|██████████| 49/49 [00:14<00:00,  3.33it/s, train_loss=0.000361, valid_loss=0.00142]\n",
      "Epoch: 21/40...: 100%|██████████| 49/49 [00:15<00:00,  3.17it/s, train_loss=0.00146, valid_loss=0.00135] \n",
      "Epoch: 22/40...: 100%|██████████| 49/49 [00:12<00:00,  4.07it/s, train_loss=0.00115, valid_loss=0.00122] \n",
      "Epoch: 23/40...: 100%|██████████| 49/49 [00:12<00:00,  3.89it/s, train_loss=0.000693, valid_loss=0.00223]\n",
      "Epoch: 24/40...: 100%|██████████| 49/49 [00:13<00:00,  3.69it/s, train_loss=0.00136, valid_loss=0.00122] \n",
      "Epoch: 25/40...: 100%|██████████| 49/49 [00:15<00:00,  3.27it/s, train_loss=0.000331, valid_loss=0.0012] \n",
      "Epoch: 26/40...: 100%|██████████| 49/49 [00:12<00:00,  4.08it/s, train_loss=0.0022, valid_loss=0.0047]   \n",
      "Epoch: 27/40...: 100%|██████████| 49/49 [00:14<00:00,  3.36it/s, train_loss=0.00139, valid_loss=0.00216]\n",
      "Epoch: 28/40...: 100%|██████████| 49/49 [00:14<00:00,  3.44it/s, train_loss=0.00139, valid_loss=0.00147] \n",
      "Epoch: 29/40...: 100%|██████████| 49/49 [00:14<00:00,  3.44it/s, train_loss=0.00523, valid_loss=0.00937] \n",
      "Epoch: 30/40...: 100%|██████████| 49/49 [00:13<00:00,  3.66it/s, train_loss=0.00149, valid_loss=0.00151]\n",
      "Epoch: 31/40...: 100%|██████████| 49/49 [00:14<00:00,  3.33it/s, train_loss=0.00125, valid_loss=0.00121] \n",
      "Epoch: 32/40...: 100%|██████████| 49/49 [00:14<00:00,  3.29it/s, train_loss=0.000336, valid_loss=0.00122]\n",
      "Epoch: 33/40...: 100%|██████████| 49/49 [00:13<00:00,  3.64it/s, train_loss=0.0009, valid_loss=0.00147]  \n",
      "Epoch: 34/40...: 100%|██████████| 49/49 [00:14<00:00,  3.39it/s, train_loss=0.000335, valid_loss=0.00121]\n",
      "Epoch: 35/40...: 100%|██████████| 49/49 [00:14<00:00,  3.44it/s, train_loss=0.000282, valid_loss=0.00107]\n",
      "Epoch: 36/40...: 100%|██████████| 49/49 [00:13<00:00,  3.64it/s, train_loss=0.00151, valid_loss=0.00143] \n",
      "Epoch: 37/40...: 100%|██████████| 49/49 [00:09<00:00,  5.10it/s, train_loss=0.00105, valid_loss=0.00128] \n",
      "Epoch: 38/40...: 100%|██████████| 49/49 [00:15<00:00,  3.09it/s, train_loss=0.000281, valid_loss=0.00105] \n",
      "Epoch: 39/40...: 100%|██████████| 49/49 [00:13<00:00,  3.68it/s, train_loss=0.000735, valid_loss=0.00158]\n",
      "Epoch: 40/40...: 100%|██████████| 49/49 [00:14<00:00,  3.45it/s, train_loss=0.0011, valid_loss=0.00113]  \n"
     ]
    },
    {
     "name": "stdout",
     "output_type": "stream",
     "text": [
      "train dataset 1\n"
     ]
    },
    {
     "name": "stderr",
     "output_type": "stream",
     "text": [
      "Epoch: 1/40...: 100%|██████████| 49/49 [00:14<00:00,  3.34it/s, train_loss=0.00113, valid_loss=0.00115] \n",
      "Epoch: 2/40...: 100%|██████████| 49/49 [00:10<00:00,  4.69it/s, train_loss=0.000763, valid_loss=0.00213]\n",
      "Epoch: 3/40...: 100%|██████████| 49/49 [00:13<00:00,  3.62it/s, train_loss=0.000364, valid_loss=0.00104] \n",
      "Epoch: 4/40...: 100%|██████████| 49/49 [00:15<00:00,  3.24it/s, train_loss=0.000428, valid_loss=0.00222] \n",
      "Epoch: 5/40...: 100%|██████████| 49/49 [00:15<00:00,  3.17it/s, train_loss=0.000934, valid_loss=0.00101]\n",
      "Epoch: 6/40...: 100%|██████████| 49/49 [00:12<00:00,  4.05it/s, train_loss=0.00108, valid_loss=0.000935] \n",
      "Epoch: 7/40...: 100%|██████████| 49/49 [00:12<00:00,  4.00it/s, train_loss=0.00126, valid_loss=0.00221]  \n",
      "Epoch: 8/40...: 100%|██████████| 49/49 [00:13<00:00,  3.74it/s, train_loss=0.000459, valid_loss=0.00141]\n",
      "Epoch: 9/40...: 100%|██████████| 49/49 [00:15<00:00,  3.23it/s, train_loss=0.000965, valid_loss=0.000926]\n",
      "Epoch: 10/40...: 100%|██████████| 49/49 [00:13<00:00,  3.53it/s, train_loss=0.00115, valid_loss=0.000974] \n",
      "Epoch: 11/40...: 100%|██████████| 49/49 [00:14<00:00,  3.31it/s, train_loss=0.000276, valid_loss=0.000965]\n",
      "Epoch: 12/40...: 100%|██████████| 49/49 [00:11<00:00,  4.14it/s, train_loss=0.000363, valid_loss=0.00233]\n",
      "Epoch: 13/40...: 100%|██████████| 49/49 [00:16<00:00,  2.94it/s, train_loss=0.000818, valid_loss=0.000858]\n",
      "Epoch: 14/40...: 100%|██████████| 49/49 [00:14<00:00,  3.49it/s, train_loss=0.000271, valid_loss=0.00111] \n",
      "Epoch: 15/40...: 100%|██████████| 49/49 [00:14<00:00,  3.44it/s, train_loss=0.000454, valid_loss=0.00227]\n",
      "Epoch: 16/40...: 100%|██████████| 49/49 [00:15<00:00,  3.07it/s, train_loss=0.00032, valid_loss=0.00141] \n",
      "Epoch: 17/40...: 100%|██████████| 49/49 [00:14<00:00,  3.40it/s, train_loss=0.00043, valid_loss=0.000995]\n",
      "Epoch: 18/40...: 100%|██████████| 49/49 [00:14<00:00,  3.30it/s, train_loss=0.000282, valid_loss=0.000868]\n",
      "Epoch: 19/40...: 100%|██████████| 49/49 [00:13<00:00,  3.55it/s, train_loss=0.000894, valid_loss=0.00158]\n",
      "Epoch: 20/40...: 100%|██████████| 49/49 [00:15<00:00,  3.24it/s, train_loss=0.00084, valid_loss=0.000854] \n",
      "Epoch: 21/40...: 100%|██████████| 49/49 [00:13<00:00,  3.66it/s, train_loss=0.00027, valid_loss=0.000827] \n",
      "Epoch: 22/40...: 100%|██████████| 49/49 [00:15<00:00,  3.15it/s, train_loss=0.00112, valid_loss=0.00125] \n",
      "Epoch: 23/40...: 100%|██████████| 49/49 [00:15<00:00,  3.13it/s, train_loss=0.000807, valid_loss=0.000844]\n",
      "Epoch: 24/40...: 100%|██████████| 49/49 [00:14<00:00,  3.29it/s, train_loss=0.000259, valid_loss=0.000863]\n",
      "Epoch: 25/40...: 100%|██████████| 49/49 [00:15<00:00,  3.24it/s, train_loss=0.000303, valid_loss=0.00126] \n",
      "Epoch: 26/40...: 100%|██████████| 49/49 [00:15<00:00,  3.11it/s, train_loss=0.00102, valid_loss=0.000793] \n",
      "Epoch: 27/40...: 100%|██████████| 49/49 [00:13<00:00,  3.54it/s, train_loss=0.000221, valid_loss=0.000808]\n",
      "Epoch: 28/40...: 100%|██████████| 49/49 [00:14<00:00,  3.49it/s, train_loss=0.00174, valid_loss=0.00304]  \n",
      "Epoch: 29/40...: 100%|██████████| 49/49 [00:15<00:00,  3.14it/s, train_loss=0.000872, valid_loss=0.00101] \n",
      "Epoch: 30/40...: 100%|██████████| 49/49 [00:13<00:00,  3.70it/s, train_loss=0.000756, valid_loss=0.000794]\n",
      "Epoch: 31/40...: 100%|██████████| 49/49 [00:13<00:00,  3.51it/s, train_loss=0.000757, valid_loss=0.000834]\n",
      "Epoch: 32/40...: 100%|██████████| 49/49 [00:11<00:00,  4.23it/s, train_loss=0.000191, valid_loss=0.000725]\n",
      "Epoch: 33/40...: 100%|██████████| 49/49 [00:15<00:00,  3.21it/s, train_loss=0.00101, valid_loss=0.00122]  \n",
      "Epoch: 34/40...: 100%|██████████| 49/49 [00:14<00:00,  3.31it/s, train_loss=0.000308, valid_loss=0.000945]\n",
      "Epoch: 35/40...: 100%|██████████| 49/49 [00:15<00:00,  3.11it/s, train_loss=0.000946, valid_loss=0.00154] \n",
      "Epoch: 36/40...: 100%|██████████| 49/49 [00:13<00:00,  3.67it/s, train_loss=0.000256, valid_loss=0.000745]\n",
      "Epoch: 37/40...: 100%|██████████| 49/49 [00:15<00:00,  3.18it/s, train_loss=0.000755, valid_loss=0.000762]\n",
      "Epoch: 38/40...: 100%|██████████| 49/49 [00:14<00:00,  3.46it/s, train_loss=0.00105, valid_loss=0.000983]\n",
      "Epoch: 39/40...: 100%|██████████| 49/49 [00:12<00:00,  4.05it/s, train_loss=0.000856, valid_loss=0.000818]\n",
      "Epoch: 40/40...: 100%|██████████| 49/49 [00:14<00:00,  3.50it/s, train_loss=0.00029, valid_loss=0.000737] \n"
     ]
    },
    {
     "name": "stdout",
     "output_type": "stream",
     "text": [
      "train dataset 2\n"
     ]
    },
    {
     "name": "stderr",
     "output_type": "stream",
     "text": [
      "Epoch: 1/40...: 100%|██████████| 49/49 [00:12<00:00,  4.08it/s, train_loss=0.00153, valid_loss=0.000718] \n",
      "Epoch: 2/40...: 100%|██████████| 49/49 [00:15<00:00,  3.21it/s, train_loss=0.000306, valid_loss=0.000769]\n",
      "Epoch: 3/40...: 100%|██████████| 49/49 [00:11<00:00,  4.12it/s, train_loss=0.000843, valid_loss=0.000718]\n",
      "Epoch: 4/40...: 100%|██████████| 49/49 [00:13<00:00,  3.61it/s, train_loss=0.000935, valid_loss=0.00136] \n",
      "Epoch: 5/40...: 100%|██████████| 49/49 [00:16<00:00,  3.03it/s, train_loss=0.000211, valid_loss=0.00081] \n",
      "Epoch: 6/40...: 100%|██████████| 49/49 [00:15<00:00,  3.24it/s, train_loss=0.0003, valid_loss=0.000987]  \n",
      "Epoch: 7/40...: 100%|██████████| 49/49 [00:15<00:00,  3.19it/s, train_loss=0.00193, valid_loss=0.00114] \n",
      "Epoch: 8/40...: 100%|██████████| 49/49 [00:15<00:00,  3.24it/s, train_loss=0.000225, valid_loss=0.000702]\n",
      "Epoch: 9/40...: 100%|██████████| 49/49 [00:14<00:00,  3.40it/s, train_loss=0.000178, valid_loss=0.000675]\n",
      "Epoch: 10/40...: 100%|██████████| 49/49 [00:08<00:00,  5.76it/s, train_loss=0.000225, valid_loss=0.00109] \n",
      "Epoch: 11/40...: 100%|██████████| 49/49 [00:13<00:00,  3.62it/s, train_loss=0.0002, valid_loss=0.000714]  \n",
      "Epoch: 12/40...: 100%|██████████| 49/49 [00:15<00:00,  3.21it/s, train_loss=0.00112, valid_loss=0.00156] \n",
      "Epoch: 13/40...: 100%|██████████| 49/49 [00:15<00:00,  3.19it/s, train_loss=0.000989, valid_loss=0.000842]\n",
      "Epoch: 14/40...: 100%|██████████| 49/49 [00:16<00:00,  3.04it/s, train_loss=0.000299, valid_loss=0.00106] \n",
      "Epoch: 15/40...: 100%|██████████| 49/49 [00:14<00:00,  3.41it/s, train_loss=0.000196, valid_loss=0.000714]\n",
      "Epoch: 16/40...: 100%|██████████| 49/49 [00:12<00:00,  3.92it/s, train_loss=0.000213, valid_loss=0.000847]\n",
      "Epoch: 17/40...: 100%|██████████| 49/49 [00:12<00:00,  4.03it/s, train_loss=0.00253, valid_loss=0.00106]  \n",
      "Epoch: 18/40...: 100%|██████████| 49/49 [00:12<00:00,  3.93it/s, train_loss=0.000791, valid_loss=0.00109] \n",
      "Epoch: 19/40...: 100%|██████████| 49/49 [00:14<00:00,  3.49it/s, train_loss=0.000327, valid_loss=0.00114]\n",
      "Epoch: 20/40...: 100%|██████████| 49/49 [00:11<00:00,  4.41it/s, train_loss=0.000731, valid_loss=0.000829]\n",
      "Epoch: 21/40...: 100%|██████████| 49/49 [00:13<00:00,  3.62it/s, train_loss=0.000178, valid_loss=0.000678]\n",
      "Epoch: 22/40...: 100%|██████████| 49/49 [00:11<00:00,  4.41it/s, train_loss=0.000545, valid_loss=0.000621]\n",
      "Epoch: 23/40...: 100%|██████████| 49/49 [00:10<00:00,  4.81it/s, train_loss=0.000596, valid_loss=0.00111] \n",
      "Epoch: 24/40...: 100%|██████████| 49/49 [00:11<00:00,  4.37it/s, train_loss=0.000322, valid_loss=0.00103] \n",
      "Epoch: 25/40...: 100%|██████████| 49/49 [00:11<00:00,  4.39it/s, train_loss=0.000306, valid_loss=0.000991]\n",
      "Epoch: 26/40...: 100%|██████████| 49/49 [00:11<00:00,  4.15it/s, train_loss=0.000337, valid_loss=0.00195] \n",
      "Epoch: 27/40...: 100%|██████████| 49/49 [00:11<00:00,  4.26it/s, train_loss=0.000251, valid_loss=0.000965]\n",
      "Epoch: 28/40...: 100%|██████████| 49/49 [00:11<00:00,  4.40it/s, train_loss=0.000452, valid_loss=0.00135] \n",
      "Epoch: 29/40...: 100%|██████████| 49/49 [00:09<00:00,  4.98it/s, train_loss=0.000654, valid_loss=0.000593]\n",
      "Epoch: 30/40...: 100%|██████████| 49/49 [00:11<00:00,  4.44it/s, train_loss=0.000173, valid_loss=0.000614]\n",
      "Epoch: 31/40...: 100%|██████████| 49/49 [00:09<00:00,  5.12it/s, train_loss=0.000503, valid_loss=0.000534]\n",
      "Epoch: 32/40...: 100%|██████████| 49/49 [00:10<00:00,  4.62it/s, train_loss=0.000198, valid_loss=0.000827]\n",
      "Epoch: 33/40...: 100%|██████████| 49/49 [00:10<00:00,  4.59it/s, train_loss=0.000157, valid_loss=0.000623]\n",
      "Epoch: 34/40...: 100%|██████████| 49/49 [00:10<00:00,  4.60it/s, train_loss=0.000398, valid_loss=0.00108]\n",
      "Epoch: 35/40...: 100%|██████████| 49/49 [00:11<00:00,  4.30it/s, train_loss=0.000413, valid_loss=0.000821]\n",
      "Epoch: 36/40...: 100%|██████████| 49/49 [00:11<00:00,  4.19it/s, train_loss=0.000664, valid_loss=0.000705]\n",
      "Epoch: 37/40...: 100%|██████████| 49/49 [00:10<00:00,  4.81it/s, train_loss=0.000832, valid_loss=0.000788]\n",
      "Epoch: 38/40...: 100%|██████████| 49/49 [00:08<00:00,  5.47it/s, train_loss=0.000175, valid_loss=0.000593]\n",
      "Epoch: 39/40...: 100%|██████████| 49/49 [00:11<00:00,  4.18it/s, train_loss=0.000518, valid_loss=0.000579]\n",
      "Epoch: 40/40...: 100%|██████████| 49/49 [00:09<00:00,  4.95it/s, train_loss=0.000573, valid_loss=0.000665]\n"
     ]
    },
    {
     "name": "stdout",
     "output_type": "stream",
     "text": [
      "train dataset 3\n"
     ]
    },
    {
     "name": "stderr",
     "output_type": "stream",
     "text": [
      "Epoch: 1/40...: 100%|██████████| 49/49 [00:10<00:00,  4.54it/s, train_loss=0.000165, valid_loss=0.000516]\n",
      "Epoch: 2/40...: 100%|██████████| 49/49 [00:10<00:00,  4.69it/s, train_loss=0.000161, valid_loss=0.000709]\n",
      "Epoch: 3/40...: 100%|██████████| 49/49 [00:10<00:00,  4.78it/s, train_loss=0.000172, valid_loss=0.000821]\n",
      "Epoch: 4/40...: 100%|██████████| 49/49 [00:11<00:00,  4.30it/s, train_loss=0.00034, valid_loss=0.000849] \n",
      "Epoch: 5/40...: 100%|██████████| 49/49 [00:12<00:00,  3.98it/s, train_loss=0.000857, valid_loss=0.000478]\n",
      "Epoch: 6/40...: 100%|██████████| 49/49 [00:11<00:00,  4.15it/s, train_loss=0.00117, valid_loss=0.001]    \n",
      "Epoch: 7/40...: 100%|██████████| 49/49 [00:11<00:00,  4.26it/s, train_loss=0.000226, valid_loss=0.000807]\n",
      "Epoch: 8/40...: 100%|██████████| 49/49 [00:10<00:00,  4.78it/s, train_loss=0.000237, valid_loss=0.00131] \n",
      "Epoch: 9/40...: 100%|██████████| 49/49 [00:11<00:00,  4.43it/s, train_loss=0.000557, valid_loss=0.000651]\n",
      "Epoch: 10/40...: 100%|██████████| 49/49 [00:10<00:00,  4.51it/s, train_loss=0.00079, valid_loss=0.00191]  \n",
      "Epoch: 11/40...: 100%|██████████| 49/49 [00:09<00:00,  5.06it/s, train_loss=0.000195, valid_loss=0.00058] \n",
      "Epoch: 12/40...: 100%|██████████| 49/49 [00:11<00:00,  4.39it/s, train_loss=0.000797, valid_loss=0.000652]\n",
      "Epoch: 13/40...: 100%|██████████| 49/49 [00:11<00:00,  4.29it/s, train_loss=0.000166, valid_loss=0.000458]\n",
      "Epoch: 14/40...: 100%|██████████| 49/49 [00:09<00:00,  5.28it/s, train_loss=0.00058, valid_loss=0.000455] \n",
      "Epoch: 15/40...: 100%|██████████| 49/49 [00:09<00:00,  5.00it/s, train_loss=0.000604, valid_loss=0.000686]\n",
      "Epoch: 16/40...: 100%|██████████| 49/49 [00:11<00:00,  4.30it/s, train_loss=0.00015, valid_loss=0.000423] \n",
      "Epoch: 17/40...: 100%|██████████| 49/49 [00:11<00:00,  4.33it/s, train_loss=0.000135, valid_loss=0.000458]\n",
      "Epoch: 18/40...: 100%|██████████| 49/49 [00:11<00:00,  4.43it/s, train_loss=0.000444, valid_loss=0.00043] \n",
      "Epoch: 19/40...: 100%|██████████| 49/49 [00:10<00:00,  4.50it/s, train_loss=0.000827, valid_loss=0.000808]\n",
      "Epoch: 20/40...: 100%|██████████| 49/49 [00:11<00:00,  4.13it/s, train_loss=0.00012, valid_loss=0.000439] \n",
      "Epoch: 21/40...: 100%|██████████| 49/49 [00:11<00:00,  4.43it/s, train_loss=0.000759, valid_loss=0.000931]\n",
      "Epoch: 22/40...: 100%|██████████| 49/49 [00:10<00:00,  4.74it/s, train_loss=0.000379, valid_loss=0.000364]\n",
      "Epoch: 23/40...: 100%|██████████| 49/49 [00:12<00:00,  4.05it/s, train_loss=0.000497, valid_loss=0.000585]\n",
      "Epoch: 24/40...: 100%|██████████| 49/49 [00:12<00:00,  3.85it/s, train_loss=0.000115, valid_loss=0.000359]\n",
      "Epoch: 25/40...: 100%|██████████| 49/49 [00:12<00:00,  3.82it/s, train_loss=0.000534, valid_loss=0.00112] \n",
      "Epoch: 26/40...: 100%|██████████| 49/49 [00:13<00:00,  3.69it/s, train_loss=0.000449, valid_loss=0.000485]\n",
      "Epoch: 27/40...: 100%|██████████| 49/49 [00:12<00:00,  3.83it/s, train_loss=0.00126, valid_loss=0.00122]  \n",
      "Epoch: 28/40...: 100%|██████████| 49/49 [00:12<00:00,  4.08it/s, train_loss=0.000282, valid_loss=0.000419]\n",
      "Epoch: 29/40...: 100%|██████████| 49/49 [00:12<00:00,  3.96it/s, train_loss=0.000382, valid_loss=0.000402]\n",
      "Epoch: 30/40...: 100%|██████████| 49/49 [00:13<00:00,  3.55it/s, train_loss=0.00013, valid_loss=0.000393] \n",
      "Epoch: 31/40...: 100%|██████████| 49/49 [00:11<00:00,  4.14it/s, train_loss=0.000471, valid_loss=0.000438]\n",
      "Epoch: 32/40...: 100%|██████████| 49/49 [00:11<00:00,  4.13it/s, train_loss=0.000123, valid_loss=0.000409]\n",
      "Epoch: 33/40...: 100%|██████████| 49/49 [00:11<00:00,  4.44it/s, train_loss=0.00018, valid_loss=0.000329] \n",
      "Epoch: 34/40...: 100%|██████████| 49/49 [00:10<00:00,  4.49it/s, train_loss=0.000135, valid_loss=0.000677]\n",
      "Epoch: 35/40...: 100%|██████████| 49/49 [00:10<00:00,  4.57it/s, train_loss=0.000543, valid_loss=0.000474]\n",
      "Epoch: 36/40...: 100%|██████████| 49/49 [00:12<00:00,  4.07it/s, train_loss=0.000112, valid_loss=0.000339]\n",
      "Epoch: 37/40...: 100%|██████████| 49/49 [00:10<00:00,  4.52it/s, train_loss=0.000447, valid_loss=0.000428]\n",
      "Epoch: 38/40...: 100%|██████████| 49/49 [00:09<00:00,  5.11it/s, train_loss=0.000133, valid_loss=0.00053] \n",
      "Epoch: 39/40...: 100%|██████████| 49/49 [00:11<00:00,  4.41it/s, train_loss=0.000379, valid_loss=0.000356]\n",
      "Epoch: 40/40...: 100%|██████████| 49/49 [00:12<00:00,  3.94it/s, train_loss=0.000309, valid_loss=0.000297]\n"
     ]
    },
    {
     "name": "stdout",
     "output_type": "stream",
     "text": [
      "train dataset 4\n"
     ]
    },
    {
     "name": "stderr",
     "output_type": "stream",
     "text": [
      "Epoch: 1/40...: 100%|██████████| 49/49 [00:12<00:00,  3.84it/s, train_loss=0.000382, valid_loss=0.000563]\n",
      "Epoch: 2/40...: 100%|██████████| 49/49 [00:12<00:00,  3.99it/s, train_loss=0.000225, valid_loss=0.000382]\n",
      "Epoch: 3/40...: 100%|██████████| 49/49 [00:08<00:00,  5.85it/s, train_loss=0.000503, valid_loss=0.00028] \n",
      "Epoch: 4/40...: 100%|██████████| 49/49 [00:09<00:00,  5.11it/s, train_loss=0.000245, valid_loss=0.000645]\n",
      "Epoch: 5/40...: 100%|██████████| 49/49 [00:10<00:00,  4.74it/s, train_loss=0.000153, valid_loss=0.000437]\n",
      "Epoch: 6/40...: 100%|██████████| 49/49 [00:10<00:00,  4.74it/s, train_loss=0.000148, valid_loss=0.000367]\n",
      "Epoch: 7/40...: 100%|██████████| 49/49 [00:09<00:00,  4.99it/s, train_loss=0.000197, valid_loss=0.000699]\n",
      "Epoch: 8/40...: 100%|██████████| 49/49 [00:10<00:00,  4.59it/s, train_loss=0.000431, valid_loss=0.000375]\n",
      "Epoch: 9/40...: 100%|██████████| 49/49 [00:09<00:00,  5.10it/s, train_loss=0.000104, valid_loss=0.000266]\n",
      "Epoch: 10/40...: 100%|██████████| 49/49 [00:08<00:00,  5.74it/s, train_loss=0.00031, valid_loss=0.000406] \n",
      "Epoch: 11/40...: 100%|██████████| 49/49 [00:08<00:00,  5.61it/s, train_loss=0.000298, valid_loss=0.000272]\n",
      "Epoch: 12/40...: 100%|██████████| 49/49 [00:11<00:00,  4.33it/s, train_loss=9.69e-5, valid_loss=0.000242] \n",
      "Epoch: 13/40...: 100%|██████████| 49/49 [00:09<00:00,  5.14it/s, train_loss=9.72e-5, valid_loss=0.000336] \n",
      "Epoch: 14/40...: 100%|██████████| 49/49 [00:11<00:00,  4.36it/s, train_loss=0.000521, valid_loss=0.00047] \n",
      "Epoch: 15/40...: 100%|██████████| 49/49 [00:09<00:00,  5.28it/s, train_loss=0.000279, valid_loss=0.000257]\n",
      "Epoch: 16/40...: 100%|██████████| 49/49 [00:08<00:00,  6.00it/s, train_loss=0.000219, valid_loss=0.000232]\n",
      "Epoch: 17/40...: 100%|██████████| 49/49 [00:08<00:00,  5.57it/s, train_loss=0.00012, valid_loss=0.000227] \n",
      "Epoch: 18/40...: 100%|██████████| 49/49 [00:10<00:00,  4.73it/s, train_loss=9.73e-5, valid_loss=0.000228] \n",
      "Epoch: 19/40...: 100%|██████████| 49/49 [00:12<00:00,  3.77it/s, train_loss=0.000147, valid_loss=0.000317]\n",
      "Epoch: 20/40...: 100%|██████████| 49/49 [00:09<00:00,  4.95it/s, train_loss=0.000124, valid_loss=0.000252]\n",
      "Epoch: 21/40...: 100%|██████████| 49/49 [00:06<00:00,  7.11it/s, train_loss=0.000193, valid_loss=0.000323]\n",
      "Epoch: 22/40...: 100%|██████████| 49/49 [00:06<00:00,  7.67it/s, train_loss=0.000215, valid_loss=0.000262]\n",
      "Epoch: 23/40...: 100%|██████████| 49/49 [00:06<00:00,  7.80it/s, train_loss=0.000246, valid_loss=0.000214]\n",
      "Epoch: 24/40...: 100%|██████████| 49/49 [00:06<00:00,  7.71it/s, train_loss=0.0003, valid_loss=0.000877]  \n",
      "Epoch: 25/40...: 100%|██████████| 49/49 [00:06<00:00,  7.71it/s, train_loss=0.000104, valid_loss=0.000239]\n",
      "Epoch: 26/40...: 100%|██████████| 49/49 [00:06<00:00,  7.30it/s, train_loss=8e-5, valid_loss=0.000226]    \n",
      "Epoch: 27/40...: 100%|██████████| 49/49 [00:07<00:00,  6.87it/s, train_loss=0.000354, valid_loss=0.000362]\n",
      "Epoch: 28/40...: 100%|██████████| 49/49 [00:07<00:00,  6.29it/s, train_loss=0.000217, valid_loss=0.000206]\n",
      "Epoch: 29/40...: 100%|██████████| 49/49 [00:06<00:00,  7.47it/s, train_loss=0.00027, valid_loss=0.0003]   \n",
      "Epoch: 30/40...: 100%|██████████| 49/49 [00:07<00:00,  6.45it/s, train_loss=0.00023, valid_loss=0.000313] \n",
      "Epoch: 31/40...: 100%|██████████| 49/49 [00:06<00:00,  7.30it/s, train_loss=8.84e-5, valid_loss=0.000235] \n",
      "Epoch: 32/40...: 100%|██████████| 49/49 [00:06<00:00,  7.75it/s, train_loss=0.000121, valid_loss=0.000247]\n",
      "Epoch: 33/40...: 100%|██████████| 49/49 [00:06<00:00,  7.24it/s, train_loss=9.09e-5, valid_loss=0.000228] \n",
      "Epoch: 34/40...: 100%|██████████| 49/49 [00:06<00:00,  7.60it/s, train_loss=0.000251, valid_loss=0.000221]\n",
      "Epoch: 35/40...: 100%|██████████| 49/49 [00:06<00:00,  7.54it/s, train_loss=0.0006, valid_loss=0.00129]   \n",
      "Epoch: 36/40...: 100%|██████████| 49/49 [00:06<00:00,  7.42it/s, train_loss=0.000696, valid_loss=0.000533]\n",
      "Epoch: 37/40...: 100%|██████████| 49/49 [00:06<00:00,  7.56it/s, train_loss=0.000115, valid_loss=0.00035] \n",
      "Epoch: 38/40...: 100%|██████████| 49/49 [00:06<00:00,  7.68it/s, train_loss=0.00018, valid_loss=0.000206] \n",
      "Epoch: 39/40...: 100%|██████████| 49/49 [00:06<00:00,  7.80it/s, train_loss=7.96e-5, valid_loss=0.000175] \n",
      "Epoch: 40/40...: 100%|██████████| 49/49 [00:06<00:00,  7.63it/s, train_loss=8.49e-5, valid_loss=0.000208] \n"
     ]
    }
   ],
   "source": [
    "(MAPE_list, MAE_list, RMSE_list, load_pred, load_true, encoder, decoder) = main()"
   ]
  },
  {
   "cell_type": "code",
   "execution_count": 16,
   "metadata": {
    "ExecuteTime": {
     "end_time": "2021-12-19T04:29:12.925320Z",
     "start_time": "2021-12-19T04:29:12.918951Z"
    },
    "colab": {
     "base_uri": "https://localhost:8080/"
    },
    "executionInfo": {
     "elapsed": 451,
     "status": "ok",
     "timestamp": 1635392414486,
     "user": {
      "displayName": "Mark Dong",
      "photoUrl": "https://lh3.googleusercontent.com/a/default-user=s64",
      "userId": "04537685704836554558"
     },
     "user_tz": -480
    },
    "id": "KOc4Wyigjzey",
    "outputId": "131e27b1-5da5-4086-a474-608dfa55eec7"
   },
   "outputs": [
    {
     "data": {
      "text/plain": [
       "([0.015522965697851209], [194.5411310854327], [265.15881628882863])"
      ]
     },
     "execution_count": 16,
     "metadata": {},
     "output_type": "execute_result"
    }
   ],
   "source": [
    "MAPE_list, MAE_list, RMSE_list"
   ]
  },
  {
   "cell_type": "code",
   "execution_count": 17,
   "metadata": {
    "ExecuteTime": {
     "end_time": "2021-12-19T04:29:15.221952Z",
     "start_time": "2021-12-19T04:29:15.052832Z"
    },
    "colab": {
     "base_uri": "https://localhost:8080/",
     "height": 574
    },
    "executionInfo": {
     "elapsed": 1445,
     "status": "ok",
     "timestamp": 1635392419566,
     "user": {
      "displayName": "Mark Dong",
      "photoUrl": "https://lh3.googleusercontent.com/a/default-user=s64",
      "userId": "04537685704836554558"
     },
     "user_tz": -480
    },
    "id": "mulQQMkng_dT",
    "outputId": "df4f4510-7ed7-4552-951c-9a887d889687"
   },
   "outputs": [
    {
     "data": {
      "text/plain": [
       "[<matplotlib.lines.Line2D at 0x7f5a0a3d7f70>]"
      ]
     },
     "execution_count": 17,
     "metadata": {},
     "output_type": "execute_result"
    },
    {
     "data": {
      "image/png": "[encoded data removed]",
      "text/plain": [
       "<Figure size 1440x720 with 1 Axes>"
      ]
     },
     "metadata": {
      "needs_background": "light"
     },
     "output_type": "display_data"
    }
   ],
   "source": [
    "plt.figure(figsize=(20,10))\n",
    "plt.plot(load_pred[:240], 'r')\n",
    "plt.plot(load_true[:240], 'g')"
   ]
  },
  {
   "cell_type": "code",
   "execution_count": null,
   "metadata": {
    "id": "Bl0PnYykhO6T"
   },
   "outputs": [],
   "source": [
    "np.save('./load_pred_seq2seq.npy', load_pred)\n",
    "np.save('./load_true_seq2seq.npy', load_true)\n",
    "torch.save(encoder.state_dict(), \"encoder_state_dict.pt\")\n",
    "torch.save(decoder.state_dict(), \"decoder_state_dict.pt\")"
   ]
  }
 ],
 "metadata": {
  "accelerator": "GPU",
  "colab": {
   "collapsed_sections": [],
   "name": "Seq2Seq-LSTM-LSTM-1027.ipynb",
   "provenance": [
    {
     "file_id": "1gz4dRYpD30qMgysIA3e7HOqhscVkgofG",
     "timestamp": 1635394282729
    },
    {
     "file_id": "12UbdSV6sEiLokxpm-kiSlokl46SST_u3",
     "timestamp": 1635386260907
    }
   ]
  },
  "kernelspec": {
   "display_name": "Python 3",
   "language": "python",
   "name": "python3"
  },
  "language_info": {
   "codemirror_mode": {
    "name": "ipython",
    "version": 3
   },
   "file_extension": ".py",
   "mimetype": "text/x-python",
   "name": "python",
   "nbconvert_exporter": "python",
   "pygments_lexer": "ipython3",
   "version": "3.8.12"
  },
  "toc": {
   "base_numbering": 1,
   "nav_menu": {},
   "number_sections": true,
   "sideBar": true,
   "skip_h1_title": false,
   "title_cell": "Table of Contents",
   "title_sidebar": "Contents",
   "toc_cell": false,
   "toc_position": {
    "height": "calc(100% - 180px)",
    "left": "10px",
    "top": "150px",
    "width": "332.797px"
   },
   "toc_section_display": true,
   "toc_window_display": true
  },
  "varInspector": {
   "cols": {
    "lenName": 16,
    "lenType": 16,
    "lenVar": 40
   },
   "kernels_config": {
    "python": {
     "delete_cmd_postfix": "",
     "delete_cmd_prefix": "del ",
     "library": "var_list.py",
     "varRefreshCmd": "print(var_dic_list())"
    },
    "r": {
     "delete_cmd_postfix": ") ",
     "delete_cmd_prefix": "rm(",
     "library": "var_list.r",
     "varRefreshCmd": "cat(var_dic_list()) "
    }
   },
   "types_to_exclude": [
    "module",
    "function",
    "builtin_function_or_method",
    "instance",
    "_Feature"
   ],
   "window_display": false
  }
 },
 "nbformat": 4,
 "nbformat_minor": 1
}
