{
 "cells": [
  {
   "cell_type": "markdown",
   "metadata": {},
   "source": [
    "# 使用Transformer训练负荷预测模型"
   ]
  },
  {
   "cell_type": "code",
   "execution_count": 19,
   "metadata": {
    "ExecuteTime": {
     "end_time": "2021-12-18T08:37:15.958414Z",
     "start_time": "2021-12-18T08:37:15.951176Z"
    },
    "executionInfo": {
     "elapsed": 13575,
     "status": "ok",
     "timestamp": 1635395267612,
     "user": {
      "displayName": "Mark Dong",
      "photoUrl": "https://lh3.googleusercontent.com/a/default-user=s64",
      "userId": "04537685704836554558"
     },
     "user_tz": -480
    },
    "id": "W-jyRZqxUF2-"
   },
   "outputs": [],
   "source": [
    "# prediction by Transformer\n",
    "import pandas as pd\n",
    "import numpy as np\n",
    "import matplotlib.pyplot as plt\n",
    "import pdb\n",
    "import random\n",
    "import math\n",
    "import torch\n",
    "import torch.nn as nn\n",
    "import torch.nn.functional as F\n",
    "\n",
    "from sklearn.preprocessing import StandardScaler, MinMaxScaler\n",
    "from sklearn.model_selection import train_test_split, KFold\n",
    "from sqlalchemy import create_engine\n",
    "from torch.autograd import Variable\n",
    "from torch.utils.data import TensorDataset, DataLoader\n",
    "from tqdm import tqdm, trange"
   ]
  },
  {
   "cell_type": "code",
   "execution_count": 2,
   "metadata": {
    "ExecuteTime": {
     "end_time": "2021-12-18T08:16:40.806532Z",
     "start_time": "2021-12-18T08:16:40.757767Z"
    },
    "executionInfo": {
     "elapsed": 7,
     "status": "ok",
     "timestamp": 1635395267615,
     "user": {
      "displayName": "Mark Dong",
      "photoUrl": "https://lh3.googleusercontent.com/a/default-user=s64",
      "userId": "04537685704836554558"
     },
     "user_tz": -480
    },
    "id": "mXGB-NgvYQdT"
   },
   "outputs": [],
   "source": [
    "if torch.cuda.is_available():\n",
    "    dev = \"cuda:0\"\n",
    "else:\n",
    "    dev = \"cpu\"\n",
    "device = torch.device(dev)"
   ]
  },
  {
   "cell_type": "markdown",
   "metadata": {},
   "source": [
    "## 导入数据"
   ]
  },
  {
   "cell_type": "code",
   "execution_count": 3,
   "metadata": {
    "ExecuteTime": {
     "end_time": "2021-12-18T08:16:43.243248Z",
     "start_time": "2021-12-18T08:16:42.373517Z"
    },
    "executionInfo": {
     "elapsed": 591,
     "status": "ok",
     "timestamp": 1635395268201,
     "user": {
      "displayName": "Mark Dong",
      "photoUrl": "https://lh3.googleusercontent.com/a/default-user=s64",
      "userId": "04537685704836554558"
     },
     "user_tz": -480
    },
    "id": "14JEOyI5UF3I"
   },
   "outputs": [],
   "source": [
    "# load data\n",
    "url = '../dataset_0101110000.csv'\n",
    "data = pd.read_csv(url, sep=',', index_col='time')"
   ]
  },
  {
   "cell_type": "markdown",
   "metadata": {},
   "source": [
    "## 归一化"
   ]
  },
  {
   "cell_type": "code",
   "execution_count": 13,
   "metadata": {
    "ExecuteTime": {
     "end_time": "2021-12-18T08:20:51.616568Z",
     "start_time": "2021-12-18T08:20:51.611135Z"
    },
    "executionInfo": {
     "elapsed": 13,
     "status": "ok",
     "timestamp": 1635395268202,
     "user": {
      "displayName": "Mark Dong",
      "photoUrl": "https://lh3.googleusercontent.com/a/default-user=s64",
      "userId": "04537685704836554558"
     },
     "user_tz": -480
    },
    "id": "ZMuY2BhfUF3K"
   },
   "outputs": [],
   "source": [
    "# 归一化\n",
    "def normalization(data):\n",
    "    \"\"\"\n",
    "    data: original data with load\n",
    "    return: normalized data, scaler of load\n",
    "    \"\"\"\n",
    "    normalized_data = MinMaxScaler().fit_transform(data)\n",
    "    scaler_y = MinMaxScaler()\n",
    "    scaler_y.fit_transform(data[['load']])\n",
    "    return normalized_data, scaler_y"
   ]
  },
  {
   "cell_type": "markdown",
   "metadata": {},
   "source": [
    "## 构造监督学习数据"
   ]
  },
  {
   "cell_type": "code",
   "execution_count": 30,
   "metadata": {
    "ExecuteTime": {
     "end_time": "2021-12-18T09:04:56.306722Z",
     "start_time": "2021-12-18T09:04:56.292654Z"
    },
    "executionInfo": {
     "elapsed": 13,
     "status": "ok",
     "timestamp": 1635395268202,
     "user": {
      "displayName": "Mark Dong",
      "photoUrl": "https://lh3.googleusercontent.com/a/default-user=s64",
      "userId": "04537685704836554558"
     },
     "user_tz": -480
    },
    "id": "Tza1H7XMUF3K"
   },
   "outputs": [],
   "source": [
    "# build supervised data\n",
    "def Series_To_Supervise(data, seq_len, target_len, y_col_index):\n",
    "    \"\"\"\n",
    "    convert series data to supervised data\n",
    "    :param data: original data\n",
    "    :param seq_len: length of sequence\n",
    "    :y_col_index: index of column which acts as output\n",
    "    :return: return two ndarrays-- input and output in format suitable to feed to LSTM\n",
    "    \"\"\"\n",
    "    #     pdb.set_trace()\n",
    "    dim_0 = data.shape[0] - seq_len\n",
    "    dim_1 = data.shape[1]\n",
    "    x = np.zeros((dim_0, seq_len, dim_1))\n",
    "    y = np.zeros((dim_0, target_len))\n",
    "    for i in range(dim_0):\n",
    "        x[i] = data[i:i + seq_len]\n",
    "        y[i] = data[i + seq_len - target_len:i + seq_len, y_col_index]\n",
    "    print(\"Supervised Train Data: Shape of x: {}, Shape of y: {}\".format(x.shape, y.shape))\n",
    "    return x, y\n",
    "\n",
    "\n",
    "def Series_To_Supervise_Test(data, seq_len, target_len, y_col_index):\n",
    "    \"\"\"\n",
    "    convert series data to supervised data\n",
    "    :param data: original data\n",
    "    :param seq_len: length of sequence\n",
    "    :y_col_index: index of column which acts as output\n",
    "    :return: return two ndarrays-- input and output in format suitable to feed to LSTM\n",
    "    \"\"\"\n",
    "    dim_0 = int((data.shape[0] - seq_len) / 24) + 1\n",
    "    dim_1 = data.shape[1]\n",
    "    x = np.zeros((dim_0, seq_len, dim_1))\n",
    "    y = np.zeros((dim_0, target_len))\n",
    "    for i in range(0, dim_0):\n",
    "        x[i] = data[i * 24:i * 24 + seq_len]\n",
    "        y[i] = data[i * 24 + seq_len - target_len:i * 24 + seq_len,\n",
    "                    y_col_index]\n",
    "    print(\"Supervised Test Data: Shape of x: {}, Shape of y: {}\".format(x.shape, y.shape))\n",
    "    return x, y"
   ]
  },
  {
   "cell_type": "markdown",
   "metadata": {},
   "source": [
    "## 5折交叉验证"
   ]
  },
  {
   "cell_type": "code",
   "execution_count": 5,
   "metadata": {
    "ExecuteTime": {
     "end_time": "2021-12-18T08:17:58.496083Z",
     "start_time": "2021-12-18T08:17:58.488133Z"
    },
    "executionInfo": {
     "elapsed": 13,
     "status": "ok",
     "timestamp": 1635395268203,
     "user": {
      "displayName": "Mark Dong",
      "photoUrl": "https://lh3.googleusercontent.com/a/default-user=s64",
      "userId": "04537685704836554558"
     },
     "user_tz": -480
    },
    "id": "Gt4Wfny1UF3L"
   },
   "outputs": [],
   "source": [
    "# 5-fold cross-validation\n",
    "def split_dataset(X, Y, n_split=5):\n",
    "    \"\"\"\n",
    "    X: original feature, size * 72 * features\n",
    "    Y: labels, size * 1\n",
    "    return: list of train_x, test_x, train_y, test_y\n",
    "    \"\"\"\n",
    "    kf = KFold(n_splits=n_split, shuffle=True, random_state=1)\n",
    "    train_x_list = list()\n",
    "    valid_x_list = list()\n",
    "    train_y_list = list()\n",
    "    valid_y_list = list()\n",
    "    for train_index, valid_index in kf.split(X):\n",
    "        train_x_list.append(X[train_index])\n",
    "        train_y_list.append(Y[train_index])\n",
    "        valid_x_list.append(X[valid_index])\n",
    "        valid_y_list.append(Y[valid_index])\n",
    "    return train_x_list, valid_x_list, train_y_list, valid_y_list"
   ]
  },
  {
   "cell_type": "markdown",
   "metadata": {},
   "source": [
    "## 模型定义\n",
    "### 位置编码层"
   ]
  },
  {
   "cell_type": "code",
   "execution_count": 6,
   "metadata": {
    "ExecuteTime": {
     "end_time": "2021-12-18T08:18:38.131081Z",
     "start_time": "2021-12-18T08:18:38.119387Z"
    },
    "executionInfo": {
     "elapsed": 14,
     "status": "ok",
     "timestamp": 1635395268204,
     "user": {
      "displayName": "Mark Dong",
      "photoUrl": "https://lh3.googleusercontent.com/a/default-user=s64",
      "userId": "04537685704836554558"
     },
     "user_tz": -480
    },
    "id": "RU0vS2KJG1R0"
   },
   "outputs": [],
   "source": [
    "class PositionalEncoding(nn.Module):\n",
    "    def __init__(self, d_model, dropout=0.1, max_len=5000):\n",
    "        super(PositionalEncoding, self).__init__()\n",
    "        self.dropout = nn.Dropout(p=dropout)\n",
    "\n",
    "        pe = torch.zeros(max_len, d_model)\n",
    "        position = torch.arange(0, max_len, dtype=torch.float).unsqueeze(1)\n",
    "        div_term = torch.exp(\n",
    "            torch.arange(0, d_model, 2).float() *\n",
    "            (-math.log(10000.0) / d_model))\n",
    "        pe[:, 0::2] = torch.sin(position * div_term)\n",
    "        pe[:, 1::2] = torch.cos(position * div_term)\n",
    "        pe = pe.unsqueeze(0).transpose(0, 1)\n",
    "        self.register_buffer('pe', pe)\n",
    "\n",
    "    def forward(self, x):\n",
    "        x = x + self.pe[:x.size(0), :]\n",
    "        return self.dropout(x)"
   ]
  },
  {
   "cell_type": "markdown",
   "metadata": {},
   "source": [
    "### 生成mask"
   ]
  },
  {
   "cell_type": "code",
   "execution_count": 7,
   "metadata": {
    "ExecuteTime": {
     "end_time": "2021-12-18T08:19:01.061333Z",
     "start_time": "2021-12-18T08:19:01.055001Z"
    },
    "executionInfo": {
     "elapsed": 13,
     "status": "ok",
     "timestamp": 1635395268204,
     "user": {
      "displayName": "Mark Dong",
      "photoUrl": "https://lh3.googleusercontent.com/a/default-user=s64",
      "userId": "04537685704836554558"
     },
     "user_tz": -480
    },
    "id": "mUjB5bRMoCPm"
   },
   "outputs": [],
   "source": [
    "def generate_square_subsequent_mask(sz):\n",
    "    \"\"\"\n",
    "    Generate a square mask for the sequence. The masked positions are filled with float(‘-inf’). Unmasked positions are filled with float(0.0).\n",
    "    \"\"\"\n",
    "    mask = (torch.triu(torch.ones(sz, sz)) == 1).transpose(0, 1)\n",
    "    mask = mask.float().masked_fill(mask == 0, float('-inf')).masked_fill(\n",
    "        mask == 1, float(0.0))\n",
    "    return mask.to(device)"
   ]
  },
  {
   "cell_type": "markdown",
   "metadata": {},
   "source": [
    "### Transformer定义"
   ]
  },
  {
   "cell_type": "code",
   "execution_count": 8,
   "metadata": {
    "ExecuteTime": {
     "end_time": "2021-12-18T08:19:15.913523Z",
     "start_time": "2021-12-18T08:19:15.902422Z"
    },
    "executionInfo": {
     "elapsed": 13,
     "status": "ok",
     "timestamp": 1635395268205,
     "user": {
      "displayName": "Mark Dong",
      "photoUrl": "https://lh3.googleusercontent.com/a/default-user=s64",
      "userId": "04537685704836554558"
     },
     "user_tz": -480
    },
    "id": "FYOv3FieiI2p"
   },
   "outputs": [],
   "source": [
    "# define transformer\n",
    "class Transformer(nn.Module):\n",
    "    def __init__(self,\n",
    "                 input_size=13,\n",
    "                 d_model=64,\n",
    "                 nhead=8,\n",
    "                 n_layers=4,\n",
    "                 dim_feedforward=32):\n",
    "        super(Transformer, self).__init__()\n",
    "        self.embedding = nn.Sequential(nn.Linear(input_size, d_model),\n",
    "                                       nn.ReLU())\n",
    "        # self.pe = PositionalEncoding(d_model=d_model)\n",
    "        self.transformer = nn.Transformer(d_model=d_model,\n",
    "                                          nhead=nhead,\n",
    "                                          num_encoder_layers=n_layers,\n",
    "                                          num_decoder_layers=n_layers,\n",
    "                                          dim_feedforward=dim_feedforward,\n",
    "                                          dropout=0)\n",
    "        self.out = nn.Linear(d_model, 1)\n",
    "\n",
    "    def forward(self, src, tgt, is_tgt_mask=True):\n",
    "        src = self.embedding(src)\n",
    "        tgt = self.embedding(tgt)\n",
    "        # src = self.pe(src)\n",
    "        # tgt = self.pe(tgt)\n",
    "        if is_tgt_mask:\n",
    "            tgt_mask = generate_square_subsequent_mask(tgt.shape[0])\n",
    "            output = self.transformer(src, tgt, tgt_mask=tgt_mask)\n",
    "        else:\n",
    "            output = self.transformer(src, tgt)\n",
    "        output = self.out(output)\n",
    "        return output"
   ]
  },
  {
   "cell_type": "markdown",
   "metadata": {},
   "source": [
    "## 训练模型函数"
   ]
  },
  {
   "cell_type": "code",
   "execution_count": 41,
   "metadata": {
    "ExecuteTime": {
     "end_time": "2021-12-18T09:20:36.228633Z",
     "start_time": "2021-12-18T09:20:36.204432Z"
    },
    "executionInfo": {
     "elapsed": 9,
     "status": "ok",
     "timestamp": 1635395254044,
     "user": {
      "displayName": "Mark Dong",
      "photoUrl": "https://lh3.googleusercontent.com/a/default-user=s64",
      "userId": "04537685704836554558"
     },
     "user_tz": -480
    },
    "id": "8w7k913XG1R2"
   },
   "outputs": [],
   "source": [
    "# train the model\n",
    "def train_model(train_x_list,\n",
    "                train_y_list,\n",
    "                valid_x_list,\n",
    "                valid_y_list,\n",
    "                input_size=23,\n",
    "                d_model=8,\n",
    "                nhead=4,\n",
    "                n_layers=4,\n",
    "                dim_feedforward=32,\n",
    "                seq_len=48,\n",
    "                target_len=24,\n",
    "                number_epochs=40,\n",
    "                batch_size=512,\n",
    "                lr=0.01):\n",
    "    transformer = Transformer(input_size, d_model, nhead, n_layers,\n",
    "                              dim_feedforward)\n",
    "    transformer.to(device)\n",
    "    criterion = nn.MSELoss()\n",
    "    optimizer = torch.optim.Adam(transformer.parameters(),\n",
    "                                 lr=lr,\n",
    "                                 betas=(0.9, 0.98),\n",
    "                                 eps=1e-9)\n",
    "    valid_loss_min = np.Inf\n",
    "    for i in range(5):\n",
    "        print('train dataset {}'.format(i))\n",
    "        train_x = train_x_list[i]\n",
    "        train_y = train_y_list[i]\n",
    "        valid_x = valid_x_list[i]\n",
    "        valid_y = valid_y_list[i]\n",
    "        train_dataset = TensorDataset(torch.FloatTensor(train_x),\n",
    "                                      torch.FloatTensor(train_y))\n",
    "        valid_dataset = TensorDataset(torch.FloatTensor(valid_x),\n",
    "                                      torch.FloatTensor(valid_y))\n",
    "\n",
    "        scheduler = torch.optim.lr_scheduler.StepLR(optimizer,\n",
    "                                                    step_size=20,\n",
    "                                                    gamma=0.5)\n",
    "        train_loader = DataLoader(dataset=train_dataset,\n",
    "                                  batch_size=batch_size,\n",
    "                                  shuffle=True,\n",
    "                                  drop_last=True)\n",
    "        valid_loader = DataLoader(dataset=valid_dataset,\n",
    "                                  batch_size=batch_size,\n",
    "                                  shuffle=True,\n",
    "                                  drop_last=True)\n",
    "        train_losses = list()\n",
    "\n",
    "        num_without_imp = 0\n",
    "\n",
    "        # train\n",
    "        for epoch in range(1, number_epochs + 1):\n",
    "            loop = tqdm(enumerate(train_loader),\n",
    "                        total=len(train_loader),\n",
    "                        leave=True)\n",
    "            for i, (inputs, labels) in loop:\n",
    "                transformer.train()\n",
    "                inputs = inputs.transpose(0, 1)\n",
    "                inputs = inputs.to(device)\n",
    "                labels = labels.to(device)\n",
    "                optimizer.zero_grad()\n",
    "                # train\n",
    "                # pdb.set_trace()\n",
    "                input_tensor = inputs[0:seq_len, :, :]\n",
    "                target_tensor = inputs[seq_len - 1:seq_len + target_len -\n",
    "                                       1, :, :]\n",
    "                outputs = transformer(input_tensor,\n",
    "                                      target_tensor).squeeze().transpose(0, 1)\n",
    "                loss = criterion(outputs, labels)\n",
    "                train_losses.append(loss.item)\n",
    "                loss.backward()\n",
    "                optimizer.step()\n",
    "\n",
    "                # eval\n",
    "                if i % 5 == 0:\n",
    "                    # if num_without_imp > 30:\n",
    "                    #     return transformer\n",
    "                    num_without_imp = num_without_imp + 1\n",
    "                    valid_losses = list()\n",
    "                    transformer.eval()\n",
    "                    for inp, lab in valid_loader:\n",
    "                        inp = inp.transpose(0, 1)\n",
    "                        inp = inp.to(device)\n",
    "                        lab = lab.to(device)\n",
    "                        input_tensor = inp[0:seq_len, :, :]\n",
    "                        target_tensor = inp[seq_len - 1:seq_len + target_len -\n",
    "                                            1, :, :]\n",
    "                        out = transformer(input_tensor,\n",
    "                                          target_tensor).squeeze().transpose(\n",
    "                                              0, 1)\n",
    "                        valid_loss = criterion(out, lab)\n",
    "                        valid_losses.append(valid_loss.item())\n",
    "                    loop.set_description(\"Epoch: {}/{}...\".format(\n",
    "                        epoch, number_epochs))\n",
    "                    loop.set_postfix(train_loss=loss.item(),\n",
    "                                     valid_loss=np.mean(valid_losses))\n",
    "                    if np.mean(valid_losses) < valid_loss_min:\n",
    "                        num_without_imp = 0\n",
    "                        torch.save(transformer.state_dict(),\n",
    "                                   \"transformer_state_dict.pt\")\n",
    "                        valid_loss_min = np.mean(valid_losses)\n",
    "            scheduler.step()\n",
    "    return transformer"
   ]
  },
  {
   "cell_type": "markdown",
   "metadata": {},
   "source": [
    "## 测试模型函数"
   ]
  },
  {
   "cell_type": "code",
   "execution_count": 9,
   "metadata": {
    "ExecuteTime": {
     "end_time": "2021-12-18T08:19:45.398819Z",
     "start_time": "2021-12-18T08:19:45.382660Z"
    },
    "executionInfo": {
     "elapsed": 14,
     "status": "ok",
     "timestamp": 1635395268206,
     "user": {
      "displayName": "Mark Dong",
      "photoUrl": "https://lh3.googleusercontent.com/a/default-user=s64",
      "userId": "04537685704836554558"
     },
     "user_tz": -480
    },
    "id": "6hWjPxUPG1R7"
   },
   "outputs": [],
   "source": [
    "# test the model\n",
    "def test_model(transformer, test_x, test_y, batch_size, seq_len, target_len,\n",
    "               scaler):\n",
    "    # pdb.set_trace()\n",
    "    test_dataset = TensorDataset(torch.FloatTensor(test_x),\n",
    "                                 torch.FloatTensor(test_y))\n",
    "    test_loader = DataLoader(dataset=test_dataset,\n",
    "                             batch_size=batch_size,\n",
    "                             shuffle=False)\n",
    "    transformer.load_state_dict(torch.load('transformer_state_dict.pt'))\n",
    "    y_pred = list()\n",
    "    y_true = list()\n",
    "    y_index = test_x.shape[2] - 1\n",
    "    transformer.eval()\n",
    "    with torch.no_grad():\n",
    "        transformer.eval()\n",
    "        for inputs, labels in test_loader:\n",
    "            inputs = inputs.transpose(0, 1)\n",
    "            inputs = inputs.to(device)\n",
    "            labels = labels.to(device)\n",
    "            # encoder\n",
    "            input_tensor = inputs[0:seq_len, :, :]\n",
    "            target_tensor = inputs[seq_len - 1:seq_len + target_len - 1, :, :]\n",
    "            outputs = transformer(input_tensor,\n",
    "                                  target_tensor).squeeze().transpose(0, 1)\n",
    "            y_pred = y_pred + outputs.reshape(-1).cpu().numpy().tolist()\n",
    "            y_true = y_true + labels.reshape(-1).cpu().numpy().tolist()\n",
    "    y_true = np.array(y_true)\n",
    "    y_pred = np.array(y_pred)\n",
    "    load_true = scaler.inverse_transform(np.expand_dims(y_true, axis=1))\n",
    "    load_pred = scaler.inverse_transform(np.expand_dims(y_pred, axis=1))\n",
    "    MAPE = np.mean(np.abs(load_true - load_pred) / load_true)\n",
    "    MAE = np.mean(np.abs(load_true - load_pred))\n",
    "    RMSE = np.sqrt(np.mean(np.square(load_true - load_pred)))\n",
    "    return MAPE, MAE, RMSE, load_pred, load_true"
   ]
  },
  {
   "cell_type": "markdown",
   "metadata": {},
   "source": [
    "## 超参数定义"
   ]
  },
  {
   "cell_type": "code",
   "execution_count": 10,
   "metadata": {
    "ExecuteTime": {
     "end_time": "2021-12-18T08:20:03.648475Z",
     "start_time": "2021-12-18T08:20:03.641936Z"
    },
    "executionInfo": {
     "elapsed": 13,
     "status": "ok",
     "timestamp": 1635395268206,
     "user": {
      "displayName": "Mark Dong",
      "photoUrl": "https://lh3.googleusercontent.com/a/default-user=s64",
      "userId": "04537685704836554558"
     },
     "user_tz": -480
    },
    "id": "thj9qZovUF3N"
   },
   "outputs": [],
   "source": [
    "# model configs\n",
    "def Model_Configs():\n",
    "    d_model = [16]\n",
    "    nhead = [4]\n",
    "    n_layers = [2]\n",
    "    lr = [0.01]\n",
    "    configs = list()\n",
    "    for i in d_model:\n",
    "        for j in nhead:\n",
    "            for k in n_layers:\n",
    "                for l in lr:\n",
    "                    configs.append([i, j, k, l])\n",
    "    return configs"
   ]
  },
  {
   "cell_type": "markdown",
   "metadata": {},
   "source": [
    "## 主函数"
   ]
  },
  {
   "cell_type": "code",
   "execution_count": 45,
   "metadata": {
    "ExecuteTime": {
     "end_time": "2021-12-18T09:25:07.784551Z",
     "start_time": "2021-12-18T09:25:07.767936Z"
    },
    "executionInfo": {
     "elapsed": 11,
     "status": "ok",
     "timestamp": 1635395268206,
     "user": {
      "displayName": "Mark Dong",
      "photoUrl": "https://lh3.googleusercontent.com/a/default-user=s64",
      "userId": "04537685704836554558"
     },
     "user_tz": -480
    },
    "id": "L03esL1dUF3O"
   },
   "outputs": [],
   "source": [
    "def main(n_split=5, seq_len=48, target_len=24, batch_size=512):\n",
    "    normalized_data, scaler_y = normalization(data)\n",
    "    train_data = normalized_data[:-3000]\n",
    "    test_data = normalized_data[-3000:]\n",
    "    y_index = normalized_data.shape[1] - 1\n",
    "    num_features = normalized_data.shape[1]\n",
    "    x, y = Series_To_Supervise(train_data,\n",
    "                               seq_len=seq_len + target_len,\n",
    "                               target_len=target_len,\n",
    "                               y_col_index=y_index)\n",
    "    train_x_list, valid_x_list, train_y_list, valid_y_list = split_dataset(\n",
    "        x, y, n_split=n_split)\n",
    "    test_x, test_y = Series_To_Supervise_Test(test_data,\n",
    "                                              seq_len=seq_len + target_len,\n",
    "                                              target_len=target_len,\n",
    "                                              y_col_index=y_index)\n",
    "    configs = Model_Configs()\n",
    "    MAPE_list = list()\n",
    "    MAE_list = list()\n",
    "    RMSE_list = list()\n",
    "    for config in configs:\n",
    "        d_model = config[0]\n",
    "        nhead = config[1]\n",
    "        n_layers = config[2]\n",
    "        lr = config[3]\n",
    "        print(\"Model Config: d_model--{}, nhead--{}, n_layers--{}, lr--{}\".\n",
    "              format(d_model, nhead, n_layers, lr))\n",
    "\n",
    "        while (1):\n",
    "            transformer = train_model(train_x_list,\n",
    "                                      train_y_list,\n",
    "                                      valid_x_list,\n",
    "                                      valid_y_list,\n",
    "                                      d_model=d_model,\n",
    "                                      nhead=nhead,\n",
    "                                      n_layers=n_layers,\n",
    "                                      input_size=num_features,\n",
    "                                      batch_size=batch_size,\n",
    "                                      lr=lr,\n",
    "                                      seq_len=seq_len,\n",
    "                                      target_len=target_len)\n",
    "            (MAPE, MAE, RMSE, load_pred,\n",
    "             load_true) = test_model(transformer,\n",
    "                                     test_x,\n",
    "                                     test_y,\n",
    "                                     batch_size=batch_size,\n",
    "                                     seq_len=seq_len,\n",
    "                                     target_len=target_len,\n",
    "                                     scaler=scaler_y)\n",
    "            if MAPE < 0.1:\n",
    "                break\n",
    "        MAPE_list.append(MAPE)\n",
    "        MAE_list.append(MAE)\n",
    "        RMSE_list.append(RMSE)\n",
    "    return (MAPE_list, MAE_list, RMSE_list, load_pred, load_true, transformer)"
   ]
  },
  {
   "cell_type": "markdown",
   "metadata": {},
   "source": [
    "## 运行"
   ]
  },
  {
   "cell_type": "code",
   "execution_count": 46,
   "metadata": {
    "ExecuteTime": {
     "end_time": "2021-12-18T09:32:22.558613Z",
     "start_time": "2021-12-18T09:25:11.749319Z"
    },
    "colab": {
     "base_uri": "https://localhost:8080/"
    },
    "executionInfo": {
     "elapsed": 477547,
     "status": "ok",
     "timestamp": 1635395765400,
     "user": {
      "displayName": "Mark Dong",
      "photoUrl": "https://lh3.googleusercontent.com/a/default-user=s64",
      "userId": "04537685704836554558"
     },
     "user_tz": -480
    },
    "id": "lHSfJPuvO6Ko",
    "outputId": "e5beb129-9c55-4f6c-e473-809d96378dfa",
    "scrolled": false
   },
   "outputs": [
    {
     "name": "stdout",
     "output_type": "stream",
     "text": [
      "Supervised Train Data: Shape of x: (28587, 72, 23), Shape of y: (28587, 24)\n",
      "Supervised Test Data: Shape of x: (123, 72, 23), Shape of y: (123, 24)\n",
      "Model Config: d_model--16, nhead--4, n_layers--2, lr--0.01\n",
      "train dataset 0\n"
     ]
    },
    {
     "name": "stderr",
     "output_type": "stream",
     "text": [
      "Epoch: 1/40...: 100%|██████████| 44/44 [00:02<00:00, 18.74it/s, train_loss=0.0319, valid_loss=0.0318]\n",
      "Epoch: 2/40...: 100%|██████████| 44/44 [00:02<00:00, 17.37it/s, train_loss=0.0239, valid_loss=0.0245]\n",
      "Epoch: 3/40...: 100%|██████████| 44/44 [00:02<00:00, 18.82it/s, train_loss=0.0221, valid_loss=0.0204]\n",
      "Epoch: 4/40...: 100%|██████████| 44/44 [00:02<00:00, 18.86it/s, train_loss=0.0131, valid_loss=0.0117]\n",
      "Epoch: 5/40...: 100%|██████████| 44/44 [00:02<00:00, 20.00it/s, train_loss=0.00283, valid_loss=0.00239]\n",
      "Epoch: 6/40...: 100%|██████████| 44/44 [00:01<00:00, 23.52it/s, train_loss=0.00166, valid_loss=0.00188]\n",
      "Epoch: 7/40...: 100%|██████████| 44/44 [00:02<00:00, 21.76it/s, train_loss=0.00178, valid_loss=0.00133]\n",
      "Epoch: 8/40...: 100%|██████████| 44/44 [00:01<00:00, 23.54it/s, train_loss=0.000956, valid_loss=0.00105]\n",
      "Epoch: 9/40...: 100%|██████████| 44/44 [00:01<00:00, 22.06it/s, train_loss=0.000902, valid_loss=0.000842]\n",
      "Epoch: 10/40...: 100%|██████████| 44/44 [00:01<00:00, 23.77it/s, train_loss=0.00153, valid_loss=0.00121]  \n",
      "Epoch: 11/40...: 100%|██████████| 44/44 [00:01<00:00, 22.61it/s, train_loss=0.00344, valid_loss=0.00591]  \n",
      "Epoch: 12/40...: 100%|██████████| 44/44 [00:01<00:00, 22.24it/s, train_loss=0.00083, valid_loss=0.00116]  \n",
      "Epoch: 13/40...: 100%|██████████| 44/44 [00:01<00:00, 22.47it/s, train_loss=0.00071, valid_loss=0.000681] \n",
      "Epoch: 14/40...: 100%|██████████| 44/44 [00:02<00:00, 21.26it/s, train_loss=0.000775, valid_loss=0.00068]\n",
      "Epoch: 15/40...: 100%|██████████| 44/44 [00:01<00:00, 22.54it/s, train_loss=0.000878, valid_loss=0.00232] \n",
      "Epoch: 16/40...: 100%|██████████| 44/44 [00:01<00:00, 22.71it/s, train_loss=0.000545, valid_loss=0.000616]\n",
      "Epoch: 17/40...: 100%|██████████| 44/44 [00:01<00:00, 23.78it/s, train_loss=0.000463, valid_loss=0.000469]\n",
      "Epoch: 18/40...: 100%|██████████| 44/44 [00:01<00:00, 23.87it/s, train_loss=0.000475, valid_loss=0.000523]\n",
      "Epoch: 19/40...: 100%|██████████| 44/44 [00:02<00:00, 21.86it/s, train_loss=0.00174, valid_loss=0.00201]  \n",
      "Epoch: 20/40...: 100%|██████████| 44/44 [00:01<00:00, 23.66it/s, train_loss=0.000434, valid_loss=0.000393]\n",
      "Epoch: 21/40...: 100%|██████████| 44/44 [00:01<00:00, 23.10it/s, train_loss=0.000319, valid_loss=0.000324]\n",
      "Epoch: 22/40...: 100%|██████████| 44/44 [00:02<00:00, 19.79it/s, train_loss=0.000451, valid_loss=0.000407]\n",
      "Epoch: 23/40...: 100%|██████████| 44/44 [00:02<00:00, 21.55it/s, train_loss=0.000374, valid_loss=0.000406]\n",
      "Epoch: 24/40...: 100%|██████████| 44/44 [00:01<00:00, 22.32it/s, train_loss=0.000348, valid_loss=0.000299]\n",
      "Epoch: 25/40...: 100%|██████████| 44/44 [00:01<00:00, 23.48it/s, train_loss=0.000304, valid_loss=0.000284]\n",
      "Epoch: 26/40...: 100%|██████████| 44/44 [00:01<00:00, 23.66it/s, train_loss=0.000252, valid_loss=0.000271]\n",
      "Epoch: 27/40...: 100%|██████████| 44/44 [00:02<00:00, 21.76it/s, train_loss=0.000267, valid_loss=0.000283]\n",
      "Epoch: 28/40...: 100%|██████████| 44/44 [00:01<00:00, 23.47it/s, train_loss=0.000272, valid_loss=0.000327]\n",
      "Epoch: 29/40...: 100%|██████████| 44/44 [00:01<00:00, 23.33it/s, train_loss=0.000285, valid_loss=0.000285]\n",
      "Epoch: 30/40...: 100%|██████████| 44/44 [00:02<00:00, 21.86it/s, train_loss=0.00026, valid_loss=0.000285] \n",
      "Epoch: 31/40...: 100%|██████████| 44/44 [00:01<00:00, 23.05it/s, train_loss=0.000319, valid_loss=0.000386]\n",
      "Epoch: 32/40...: 100%|██████████| 44/44 [00:01<00:00, 23.16it/s, train_loss=0.000206, valid_loss=0.00022] \n",
      "Epoch: 33/40...: 100%|██████████| 44/44 [00:01<00:00, 23.24it/s, train_loss=0.000279, valid_loss=0.000212]\n",
      "Epoch: 34/40...: 100%|██████████| 44/44 [00:01<00:00, 23.33it/s, train_loss=0.000204, valid_loss=0.000204]\n",
      "Epoch: 35/40...: 100%|██████████| 44/44 [00:02<00:00, 21.81it/s, train_loss=0.000214, valid_loss=0.000211]\n",
      "Epoch: 36/40...: 100%|██████████| 44/44 [00:01<00:00, 23.29it/s, train_loss=0.000195, valid_loss=0.000216]\n",
      "Epoch: 37/40...: 100%|██████████| 44/44 [00:01<00:00, 23.34it/s, train_loss=0.000246, valid_loss=0.00028] \n",
      "Epoch: 38/40...: 100%|██████████| 44/44 [00:02<00:00, 21.50it/s, train_loss=0.000388, valid_loss=0.000575]\n",
      "Epoch: 39/40...: 100%|██████████| 44/44 [00:01<00:00, 23.35it/s, train_loss=0.000189, valid_loss=0.000229]\n",
      "Epoch: 40/40...: 100%|██████████| 44/44 [00:01<00:00, 23.31it/s, train_loss=0.000224, valid_loss=0.000192]\n"
     ]
    },
    {
     "name": "stdout",
     "output_type": "stream",
     "text": [
      "train dataset 1\n"
     ]
    },
    {
     "name": "stderr",
     "output_type": "stream",
     "text": [
      "Epoch: 1/40...: 100%|██████████| 44/44 [00:01<00:00, 23.22it/s, train_loss=0.000173, valid_loss=0.000167]\n",
      "Epoch: 2/40...: 100%|██████████| 44/44 [00:01<00:00, 23.56it/s, train_loss=0.000178, valid_loss=0.000176]\n",
      "Epoch: 3/40...: 100%|██████████| 44/44 [00:01<00:00, 22.04it/s, train_loss=0.000209, valid_loss=0.00021] \n",
      "Epoch: 4/40...: 100%|██████████| 44/44 [00:01<00:00, 23.49it/s, train_loss=0.000178, valid_loss=0.00025] \n",
      "Epoch: 5/40...: 100%|██████████| 44/44 [00:01<00:00, 23.64it/s, train_loss=0.000165, valid_loss=0.000169]\n",
      "Epoch: 6/40...: 100%|██████████| 44/44 [00:02<00:00, 21.93it/s, train_loss=0.000166, valid_loss=0.000174]\n",
      "Epoch: 7/40...: 100%|██████████| 44/44 [00:01<00:00, 23.43it/s, train_loss=0.000178, valid_loss=0.00017] \n",
      "Epoch: 8/40...: 100%|██████████| 44/44 [00:01<00:00, 23.45it/s, train_loss=0.000156, valid_loss=0.000156]\n",
      "Epoch: 9/40...: 100%|██████████| 44/44 [00:01<00:00, 23.47it/s, train_loss=0.000163, valid_loss=0.00016] \n",
      "Epoch: 10/40...: 100%|██████████| 44/44 [00:01<00:00, 23.65it/s, train_loss=0.000163, valid_loss=0.000154]\n",
      "Epoch: 11/40...: 100%|██████████| 44/44 [00:01<00:00, 22.00it/s, train_loss=0.000166, valid_loss=0.000179]\n",
      "Epoch: 12/40...: 100%|██████████| 44/44 [00:01<00:00, 23.43it/s, train_loss=0.000159, valid_loss=0.00015] \n",
      "Epoch: 13/40...: 100%|██████████| 44/44 [00:01<00:00, 23.45it/s, train_loss=0.000179, valid_loss=0.000175]\n",
      "Epoch: 14/40...: 100%|██████████| 44/44 [00:01<00:00, 23.51it/s, train_loss=0.000161, valid_loss=0.000178]\n",
      "Epoch: 15/40...: 100%|██████████| 44/44 [00:01<00:00, 23.40it/s, train_loss=0.000172, valid_loss=0.000149]\n",
      "Epoch: 16/40...: 100%|██████████| 44/44 [00:02<00:00, 21.97it/s, train_loss=0.000151, valid_loss=0.000156]\n",
      "Epoch: 17/40...: 100%|██████████| 44/44 [00:01<00:00, 23.46it/s, train_loss=0.000142, valid_loss=0.000141]\n",
      "Epoch: 18/40...: 100%|██████████| 44/44 [00:01<00:00, 23.58it/s, train_loss=0.000156, valid_loss=0.000145]\n",
      "Epoch: 19/40...: 100%|██████████| 44/44 [00:01<00:00, 23.56it/s, train_loss=0.000184, valid_loss=0.000153]\n",
      "Epoch: 20/40...: 100%|██████████| 44/44 [00:02<00:00, 21.87it/s, train_loss=0.000157, valid_loss=0.000147]\n",
      "Epoch: 21/40...: 100%|██████████| 44/44 [00:01<00:00, 23.26it/s, train_loss=0.000138, valid_loss=0.000137]\n",
      "Epoch: 22/40...: 100%|██████████| 44/44 [00:01<00:00, 23.23it/s, train_loss=0.000133, valid_loss=0.000135]\n",
      "Epoch: 23/40...: 100%|██████████| 44/44 [00:02<00:00, 21.59it/s, train_loss=0.000135, valid_loss=0.000134]\n",
      "Epoch: 24/40...: 100%|██████████| 44/44 [00:01<00:00, 22.96it/s, train_loss=0.00013, valid_loss=0.000138] \n",
      "Epoch: 25/40...: 100%|██████████| 44/44 [00:01<00:00, 23.40it/s, train_loss=0.000138, valid_loss=0.00013] \n",
      "Epoch: 26/40...: 100%|██████████| 44/44 [00:02<00:00, 21.46it/s, train_loss=0.000133, valid_loss=0.000129]\n",
      "Epoch: 27/40...: 100%|██████████| 44/44 [00:01<00:00, 23.46it/s, train_loss=0.000127, valid_loss=0.00013] \n",
      "Epoch: 28/40...: 100%|██████████| 44/44 [00:02<00:00, 21.93it/s, train_loss=0.00014, valid_loss=0.000133] \n",
      "Epoch: 29/40...: 100%|██████████| 44/44 [00:01<00:00, 23.31it/s, train_loss=0.000129, valid_loss=0.00013] \n",
      "Epoch: 30/40...: 100%|██████████| 44/44 [00:01<00:00, 23.41it/s, train_loss=0.000136, valid_loss=0.000131]\n",
      "Epoch: 31/40...: 100%|██████████| 44/44 [00:01<00:00, 23.33it/s, train_loss=0.000129, valid_loss=0.00013] \n",
      "Epoch: 32/40...: 100%|██████████| 44/44 [00:01<00:00, 23.29it/s, train_loss=0.000137, valid_loss=0.000128]\n",
      "Epoch: 33/40...: 100%|██████████| 44/44 [00:02<00:00, 21.75it/s, train_loss=0.000131, valid_loss=0.000128]\n",
      "Epoch: 34/40...: 100%|██████████| 44/44 [00:01<00:00, 23.28it/s, train_loss=0.000128, valid_loss=0.000125]\n",
      "Epoch: 35/40...: 100%|██████████| 44/44 [00:01<00:00, 23.27it/s, train_loss=0.000127, valid_loss=0.000126]\n",
      "Epoch: 36/40...: 100%|██████████| 44/44 [00:02<00:00, 21.28it/s, train_loss=0.000124, valid_loss=0.000124]\n",
      "Epoch: 37/40...: 100%|██████████| 44/44 [00:01<00:00, 23.08it/s, train_loss=0.000126, valid_loss=0.000127]\n",
      "Epoch: 38/40...: 100%|██████████| 44/44 [00:01<00:00, 23.18it/s, train_loss=0.000137, valid_loss=0.000134]\n",
      "Epoch: 39/40...: 100%|██████████| 44/44 [00:02<00:00, 21.74it/s, train_loss=0.000124, valid_loss=0.000127]\n",
      "Epoch: 40/40...: 100%|██████████| 44/44 [00:01<00:00, 23.20it/s, train_loss=0.000121, valid_loss=0.000123]\n"
     ]
    },
    {
     "name": "stdout",
     "output_type": "stream",
     "text": [
      "train dataset 2\n"
     ]
    },
    {
     "name": "stderr",
     "output_type": "stream",
     "text": [
      "Epoch: 1/40...: 100%|██████████| 44/44 [00:01<00:00, 23.62it/s, train_loss=0.000122, valid_loss=0.000125]\n",
      "Epoch: 2/40...: 100%|██████████| 44/44 [00:01<00:00, 22.02it/s, train_loss=0.000124, valid_loss=0.000125]\n",
      "Epoch: 3/40...: 100%|██████████| 44/44 [00:01<00:00, 23.20it/s, train_loss=0.000117, valid_loss=0.000124]\n",
      "Epoch: 4/40...: 100%|██████████| 44/44 [00:01<00:00, 23.45it/s, train_loss=0.000122, valid_loss=0.000123]\n",
      "Epoch: 5/40...: 100%|██████████| 44/44 [00:01<00:00, 23.60it/s, train_loss=0.000126, valid_loss=0.000128]\n",
      "Epoch: 6/40...: 100%|██████████| 44/44 [00:01<00:00, 23.61it/s, train_loss=0.000125, valid_loss=0.000123]\n",
      "Epoch: 7/40...: 100%|██████████| 44/44 [00:02<00:00, 21.86it/s, train_loss=0.000123, valid_loss=0.000122]\n",
      "Epoch: 8/40...: 100%|██████████| 44/44 [00:01<00:00, 23.56it/s, train_loss=0.000121, valid_loss=0.000125]\n",
      "Epoch: 9/40...: 100%|██████████| 44/44 [00:01<00:00, 23.57it/s, train_loss=0.000122, valid_loss=0.000123]\n",
      "Epoch: 10/40...: 100%|██████████| 44/44 [00:01<00:00, 23.52it/s, train_loss=0.000119, valid_loss=0.000126]\n",
      "Epoch: 11/40...: 100%|██████████| 44/44 [00:02<00:00, 21.98it/s, train_loss=0.000112, valid_loss=0.000121]\n",
      "Epoch: 12/40...: 100%|██████████| 44/44 [00:01<00:00, 23.39it/s, train_loss=0.000113, valid_loss=0.00012] \n",
      "Epoch: 13/40...: 100%|██████████| 44/44 [00:01<00:00, 23.62it/s, train_loss=0.000119, valid_loss=0.00012] \n",
      "Epoch: 14/40...: 100%|██████████| 44/44 [00:02<00:00, 21.92it/s, train_loss=0.000114, valid_loss=0.000119]\n",
      "Epoch: 15/40...: 100%|██████████| 44/44 [00:01<00:00, 23.60it/s, train_loss=0.000119, valid_loss=0.000121]\n",
      "Epoch: 16/40...: 100%|██████████| 44/44 [00:01<00:00, 23.44it/s, train_loss=0.000116, valid_loss=0.00013] \n",
      "Epoch: 17/40...: 100%|██████████| 44/44 [00:02<00:00, 21.91it/s, train_loss=0.000119, valid_loss=0.000119]\n",
      "Epoch: 18/40...: 100%|██████████| 44/44 [00:02<00:00, 20.16it/s, train_loss=0.000127, valid_loss=0.00012] \n",
      "Epoch: 19/40...: 100%|██████████| 44/44 [00:01<00:00, 22.26it/s, train_loss=0.000109, valid_loss=0.000118]\n",
      "Epoch: 20/40...: 100%|██████████| 44/44 [00:01<00:00, 23.25it/s, train_loss=0.000115, valid_loss=0.000118]\n",
      "Epoch: 21/40...: 100%|██████████| 44/44 [00:02<00:00, 21.41it/s, train_loss=0.000117, valid_loss=0.000118]\n",
      "Epoch: 22/40...: 100%|██████████| 44/44 [00:01<00:00, 22.75it/s, train_loss=0.000112, valid_loss=0.000117]\n",
      "Epoch: 23/40...: 100%|██████████| 44/44 [00:01<00:00, 23.34it/s, train_loss=0.000109, valid_loss=0.000118]\n",
      "Epoch: 24/40...: 100%|██████████| 44/44 [00:02<00:00, 19.70it/s, train_loss=0.000117, valid_loss=0.000117]\n",
      "Epoch: 25/40...: 100%|██████████| 44/44 [00:02<00:00, 20.13it/s, train_loss=0.000115, valid_loss=0.000118]\n",
      "Epoch: 26/40...: 100%|██████████| 44/44 [00:02<00:00, 19.34it/s, train_loss=0.00011, valid_loss=0.000116] \n",
      "Epoch: 27/40...: 100%|██████████| 44/44 [00:01<00:00, 22.84it/s, train_loss=0.00011, valid_loss=0.000118] \n",
      "Epoch: 28/40...: 100%|██████████| 44/44 [00:01<00:00, 23.60it/s, train_loss=0.000113, valid_loss=0.000117]\n",
      "Epoch: 29/40...: 100%|██████████| 44/44 [00:01<00:00, 23.46it/s, train_loss=0.000112, valid_loss=0.000118]\n",
      "Epoch: 30/40...: 100%|██████████| 44/44 [00:01<00:00, 23.34it/s, train_loss=0.000113, valid_loss=0.000116]\n",
      "Epoch: 31/40...: 100%|██████████| 44/44 [00:01<00:00, 22.02it/s, train_loss=0.000113, valid_loss=0.000116]\n",
      "Epoch: 32/40...: 100%|██████████| 44/44 [00:01<00:00, 23.44it/s, train_loss=0.000108, valid_loss=0.000116]\n",
      "Epoch: 33/40...: 100%|██████████| 44/44 [00:02<00:00, 18.80it/s, train_loss=0.000113, valid_loss=0.000116]\n",
      "Epoch: 34/40...: 100%|██████████| 44/44 [00:03<00:00, 13.55it/s, train_loss=0.00011, valid_loss=0.000115] \n",
      "Epoch: 35/40...: 100%|██████████| 44/44 [00:03<00:00, 14.51it/s, train_loss=0.000116, valid_loss=0.000116]\n",
      "Epoch: 36/40...: 100%|██████████| 44/44 [00:03<00:00, 14.40it/s, train_loss=0.000109, valid_loss=0.000115]\n",
      "Epoch: 37/40...: 100%|██████████| 44/44 [00:03<00:00, 14.49it/s, train_loss=0.000111, valid_loss=0.000116]\n",
      "Epoch: 38/40...: 100%|██████████| 44/44 [00:03<00:00, 14.33it/s, train_loss=0.000112, valid_loss=0.000115]\n",
      "Epoch: 39/40...: 100%|██████████| 44/44 [00:03<00:00, 13.57it/s, train_loss=0.000114, valid_loss=0.000115]\n",
      "Epoch: 40/40...: 100%|██████████| 44/44 [00:02<00:00, 17.59it/s, train_loss=0.000107, valid_loss=0.000114]\n"
     ]
    },
    {
     "name": "stdout",
     "output_type": "stream",
     "text": [
      "train dataset 3\n"
     ]
    },
    {
     "name": "stderr",
     "output_type": "stream",
     "text": [
      "Epoch: 1/40...: 100%|██████████| 44/44 [00:02<00:00, 17.81it/s, train_loss=0.000108, valid_loss=0.00011] \n",
      "Epoch: 2/40...: 100%|██████████| 44/44 [00:02<00:00, 18.03it/s, train_loss=0.000117, valid_loss=0.00011] \n",
      "Epoch: 3/40...: 100%|██████████| 44/44 [00:02<00:00, 18.11it/s, train_loss=0.000108, valid_loss=0.00011] \n",
      "Epoch: 4/40...: 100%|██████████| 44/44 [00:02<00:00, 16.77it/s, train_loss=0.000111, valid_loss=0.00011] \n",
      "Epoch: 5/40...: 100%|██████████| 44/44 [00:02<00:00, 18.11it/s, train_loss=0.000109, valid_loss=0.000109]\n",
      "Epoch: 6/40...: 100%|██████████| 44/44 [00:02<00:00, 16.89it/s, train_loss=0.000109, valid_loss=0.000109]\n",
      "Epoch: 7/40...: 100%|██████████| 44/44 [00:02<00:00, 17.76it/s, train_loss=0.000111, valid_loss=0.000109]\n",
      "Epoch: 8/40...: 100%|██████████| 44/44 [00:02<00:00, 17.99it/s, train_loss=0.000114, valid_loss=0.00011] \n",
      "Epoch: 9/40...: 100%|██████████| 44/44 [00:02<00:00, 17.94it/s, train_loss=0.000114, valid_loss=0.000109]\n",
      "Epoch: 10/40...: 100%|██████████| 44/44 [00:02<00:00, 18.01it/s, train_loss=0.000111, valid_loss=0.000109]\n",
      "Epoch: 11/40...: 100%|██████████| 44/44 [00:02<00:00, 16.76it/s, train_loss=0.000114, valid_loss=0.000109]\n",
      "Epoch: 12/40...: 100%|██████████| 44/44 [00:02<00:00, 18.07it/s, train_loss=0.00011, valid_loss=0.000109] \n",
      "Epoch: 13/40...: 100%|██████████| 44/44 [00:02<00:00, 18.00it/s, train_loss=0.000107, valid_loss=0.000109]\n",
      "Epoch: 14/40...: 100%|██████████| 44/44 [00:02<00:00, 18.07it/s, train_loss=0.000111, valid_loss=0.000109]\n",
      "Epoch: 15/40...: 100%|██████████| 44/44 [00:02<00:00, 18.02it/s, train_loss=0.000113, valid_loss=0.000109]\n",
      "Epoch: 16/40...: 100%|██████████| 44/44 [00:02<00:00, 16.81it/s, train_loss=0.000108, valid_loss=0.000109]\n",
      "Epoch: 17/40...: 100%|██████████| 44/44 [00:02<00:00, 17.95it/s, train_loss=0.000106, valid_loss=0.000109]\n",
      "Epoch: 18/40...: 100%|██████████| 44/44 [00:02<00:00, 17.97it/s, train_loss=0.000108, valid_loss=0.000108]\n",
      "Epoch: 19/40...: 100%|██████████| 44/44 [00:02<00:00, 16.73it/s, train_loss=0.000107, valid_loss=0.000108]\n",
      "Epoch: 20/40...: 100%|██████████| 44/44 [00:02<00:00, 17.98it/s, train_loss=0.000111, valid_loss=0.000108]\n",
      "Epoch: 21/40...: 100%|██████████| 44/44 [00:02<00:00, 18.01it/s, train_loss=0.000109, valid_loss=0.000108]\n",
      "Epoch: 22/40...: 100%|██████████| 44/44 [00:02<00:00, 17.94it/s, train_loss=0.000112, valid_loss=0.000108]\n",
      "Epoch: 23/40...: 100%|██████████| 44/44 [00:02<00:00, 17.99it/s, train_loss=0.00011, valid_loss=0.000108] \n",
      "Epoch: 24/40...: 100%|██████████| 44/44 [00:02<00:00, 18.01it/s, train_loss=0.000106, valid_loss=0.000108]\n",
      "Epoch: 25/40...: 100%|██████████| 44/44 [00:02<00:00, 16.75it/s, train_loss=0.000112, valid_loss=0.000108]\n",
      "Epoch: 26/40...: 100%|██████████| 44/44 [00:02<00:00, 17.90it/s, train_loss=0.000112, valid_loss=0.000107]\n",
      "Epoch: 27/40...: 100%|██████████| 44/44 [00:02<00:00, 18.01it/s, train_loss=0.000113, valid_loss=0.000107]\n",
      "Epoch: 28/40...: 100%|██████████| 44/44 [00:02<00:00, 18.02it/s, train_loss=0.000108, valid_loss=0.000107]\n",
      "Epoch: 29/40...: 100%|██████████| 44/44 [00:02<00:00, 16.82it/s, train_loss=0.000116, valid_loss=0.000107]\n",
      "Epoch: 30/40...: 100%|██████████| 44/44 [00:02<00:00, 17.96it/s, train_loss=0.000108, valid_loss=0.000107]\n",
      "Epoch: 31/40...: 100%|██████████| 44/44 [00:02<00:00, 18.08it/s, train_loss=0.00011, valid_loss=0.000107] \n",
      "Epoch: 32/40...: 100%|██████████| 44/44 [00:02<00:00, 16.76it/s, train_loss=0.000104, valid_loss=0.000107]\n",
      "Epoch: 33/40...: 100%|██████████| 44/44 [00:02<00:00, 18.01it/s, train_loss=0.000108, valid_loss=0.000107]\n",
      "Epoch: 34/40...: 100%|██████████| 44/44 [00:02<00:00, 18.01it/s, train_loss=0.000109, valid_loss=0.000107]\n",
      "Epoch: 35/40...: 100%|██████████| 44/44 [00:02<00:00, 17.94it/s, train_loss=0.000101, valid_loss=0.000107]\n",
      "Epoch: 36/40...: 100%|██████████| 44/44 [00:02<00:00, 16.75it/s, train_loss=0.000107, valid_loss=0.000107]\n",
      "Epoch: 37/40...: 100%|██████████| 44/44 [00:02<00:00, 17.43it/s, train_loss=0.000111, valid_loss=0.000107]\n",
      "Epoch: 38/40...: 100%|██████████| 44/44 [00:02<00:00, 16.90it/s, train_loss=0.00011, valid_loss=0.000107] \n",
      "Epoch: 39/40...: 100%|██████████| 44/44 [00:02<00:00, 16.27it/s, train_loss=0.000104, valid_loss=0.000107]\n",
      "Epoch: 40/40...: 100%|██████████| 44/44 [00:02<00:00, 17.78it/s, train_loss=0.000111, valid_loss=0.000107]\n"
     ]
    },
    {
     "name": "stdout",
     "output_type": "stream",
     "text": [
      "train dataset 4\n"
     ]
    },
    {
     "name": "stderr",
     "output_type": "stream",
     "text": [
      "Epoch: 1/40...: 100%|██████████| 44/44 [00:02<00:00, 18.03it/s, train_loss=0.000105, valid_loss=0.000107]\n",
      "Epoch: 2/40...: 100%|██████████| 44/44 [00:02<00:00, 16.92it/s, train_loss=0.000109, valid_loss=0.000107]\n",
      "Epoch: 3/40...: 100%|██████████| 44/44 [00:02<00:00, 16.51it/s, train_loss=0.000107, valid_loss=0.000107]\n",
      "Epoch: 4/40...: 100%|██████████| 44/44 [00:02<00:00, 16.41it/s, train_loss=0.000106, valid_loss=0.000107]\n",
      "Epoch: 5/40...: 100%|██████████| 44/44 [00:01<00:00, 22.21it/s, train_loss=0.000103, valid_loss=0.000107]\n",
      "Epoch: 6/40...: 100%|██████████| 44/44 [00:01<00:00, 22.37it/s, train_loss=0.000104, valid_loss=0.000107]\n",
      "Epoch: 7/40...: 100%|██████████| 44/44 [00:01<00:00, 23.63it/s, train_loss=0.000109, valid_loss=0.000107]\n",
      "Epoch: 8/40...: 100%|██████████| 44/44 [00:02<00:00, 21.72it/s, train_loss=0.000107, valid_loss=0.000107]\n",
      "Epoch: 9/40...: 100%|██████████| 44/44 [00:02<00:00, 20.41it/s, train_loss=0.000106, valid_loss=0.000107]\n",
      "Epoch: 10/40...: 100%|██████████| 44/44 [00:02<00:00, 21.63it/s, train_loss=0.000108, valid_loss=0.000107]\n",
      "Epoch: 11/40...: 100%|██████████| 44/44 [00:02<00:00, 21.58it/s, train_loss=0.000106, valid_loss=0.000107]\n",
      "Epoch: 12/40...: 100%|██████████| 44/44 [00:02<00:00, 20.35it/s, train_loss=0.000102, valid_loss=0.000107]\n",
      "Epoch: 13/40...: 100%|██████████| 44/44 [00:02<00:00, 21.37it/s, train_loss=0.00011, valid_loss=0.000107] \n",
      "Epoch: 14/40...: 100%|██████████| 44/44 [00:02<00:00, 20.25it/s, train_loss=0.00011, valid_loss=0.000107] \n",
      "Epoch: 15/40...: 100%|██████████| 44/44 [00:02<00:00, 21.26it/s, train_loss=0.000104, valid_loss=0.000107]\n",
      "Epoch: 16/40...: 100%|██████████| 44/44 [00:02<00:00, 21.54it/s, train_loss=0.000107, valid_loss=0.000107]\n",
      "Epoch: 17/40...: 100%|██████████| 44/44 [00:02<00:00, 21.52it/s, train_loss=0.000101, valid_loss=0.000107]\n",
      "Epoch: 18/40...: 100%|██████████| 44/44 [00:02<00:00, 21.59it/s, train_loss=0.000109, valid_loss=0.000107]\n",
      "Epoch: 19/40...: 100%|██████████| 44/44 [00:02<00:00, 18.99it/s, train_loss=0.000109, valid_loss=0.000107]\n",
      "Epoch: 20/40...: 100%|██████████| 44/44 [00:02<00:00, 21.87it/s, train_loss=0.000103, valid_loss=0.000107]\n",
      "Epoch: 21/40...: 100%|██████████| 44/44 [00:02<00:00, 21.64it/s, train_loss=0.00011, valid_loss=0.000106] \n",
      "Epoch: 22/40...: 100%|██████████| 44/44 [00:02<00:00, 20.36it/s, train_loss=0.000108, valid_loss=0.000106]\n",
      "Epoch: 23/40...: 100%|██████████| 44/44 [00:02<00:00, 21.52it/s, train_loss=0.000107, valid_loss=0.000106]\n",
      "Epoch: 24/40...: 100%|██████████| 44/44 [00:02<00:00, 21.65it/s, train_loss=0.000104, valid_loss=0.000106]\n",
      "Epoch: 25/40...: 100%|██████████| 44/44 [00:02<00:00, 21.53it/s, train_loss=0.00011, valid_loss=0.000107] \n",
      "Epoch: 26/40...: 100%|██████████| 44/44 [00:02<00:00, 21.56it/s, train_loss=0.000107, valid_loss=0.000106]\n",
      "Epoch: 27/40...: 100%|██████████| 44/44 [00:02<00:00, 20.02it/s, train_loss=0.000104, valid_loss=0.000106]\n",
      "Epoch: 28/40...: 100%|██████████| 44/44 [00:02<00:00, 21.46it/s, train_loss=0.000106, valid_loss=0.000106]\n",
      "Epoch: 29/40...: 100%|██████████| 44/44 [00:02<00:00, 21.41it/s, train_loss=0.000107, valid_loss=0.000106]\n",
      "Epoch: 30/40...: 100%|██████████| 44/44 [00:02<00:00, 21.47it/s, train_loss=0.000105, valid_loss=0.000106]\n",
      "Epoch: 31/40...: 100%|██████████| 44/44 [00:02<00:00, 21.16it/s, train_loss=0.000104, valid_loss=0.000106]\n",
      "Epoch: 32/40...: 100%|██████████| 44/44 [00:02<00:00, 20.12it/s, train_loss=0.00011, valid_loss=0.000106] \n",
      "Epoch: 33/40...: 100%|██████████| 44/44 [00:02<00:00, 21.39it/s, train_loss=0.000103, valid_loss=0.000106]\n",
      "Epoch: 34/40...: 100%|██████████| 44/44 [00:02<00:00, 21.33it/s, train_loss=0.000104, valid_loss=0.000106]\n",
      "Epoch: 35/40...: 100%|██████████| 44/44 [00:02<00:00, 21.30it/s, train_loss=0.000108, valid_loss=0.000106]\n",
      "Epoch: 36/40...: 100%|██████████| 44/44 [00:02<00:00, 20.03it/s, train_loss=0.000105, valid_loss=0.000106]\n",
      "Epoch: 37/40...: 100%|██████████| 44/44 [00:02<00:00, 21.41it/s, train_loss=0.000102, valid_loss=0.000106]\n",
      "Epoch: 38/40...: 100%|██████████| 44/44 [00:02<00:00, 21.49it/s, train_loss=0.000107, valid_loss=0.000106]\n",
      "Epoch: 39/40...: 100%|██████████| 44/44 [00:02<00:00, 20.07it/s, train_loss=0.00011, valid_loss=0.000106] \n",
      "Epoch: 40/40...: 100%|██████████| 44/44 [00:02<00:00, 21.37it/s, train_loss=0.000106, valid_loss=0.000106]\n"
     ]
    }
   ],
   "source": [
    "(MAPE_list, MAE_list, RMSE_list, load_pred, load_true, model) = main()"
   ]
  },
  {
   "cell_type": "code",
   "execution_count": 49,
   "metadata": {
    "ExecuteTime": {
     "end_time": "2021-12-18T12:57:41.312438Z",
     "start_time": "2021-12-18T12:57:41.307587Z"
    }
   },
   "outputs": [
    {
     "data": {
      "text/plain": [
       "([0.011022358127485326], [132.44200603703743], [183.48990872149983])"
      ]
     },
     "execution_count": 49,
     "metadata": {},
     "output_type": "execute_result"
    }
   ],
   "source": [
    "MAPE_list, MAE_list, RMSE_list"
   ]
  },
  {
   "cell_type": "code",
   "execution_count": 48,
   "metadata": {
    "ExecuteTime": {
     "end_time": "2021-12-18T09:36:37.164963Z",
     "start_time": "2021-12-18T09:36:36.963011Z"
    },
    "colab": {
     "base_uri": "https://localhost:8080/",
     "height": 610
    },
    "executionInfo": {
     "elapsed": 776,
     "status": "ok",
     "timestamp": 1635396029778,
     "user": {
      "displayName": "Mark Dong",
      "photoUrl": "https://lh3.googleusercontent.com/a/default-user=s64",
      "userId": "04537685704836554558"
     },
     "user_tz": -480
    },
    "id": "LfX3UM94l87I",
    "outputId": "901d1bfe-0e2f-45b3-c29f-4ddd2215c6f9"
   },
   "outputs": [
    {
     "data": {
      "text/plain": [
       "[<matplotlib.lines.Line2D at 0x7ff272dec400>]"
      ]
     },
     "execution_count": 48,
     "metadata": {},
     "output_type": "execute_result"
    },
    {
     "data": {
      "image/png": "[encoded data removed]",
      "text/plain": [
       "<Figure size 1440x720 with 1 Axes>"
      ]
     },
     "metadata": {
      "needs_background": "light"
     },
     "output_type": "display_data"
    }
   ],
   "source": [
    "plt.figure(figsize=(20, 10))\n",
    "plt.plot(load_pred[:24], 'r')\n",
    "plt.plot(load_true[:24], 'g')"
   ]
  },
  {
   "cell_type": "code",
   "execution_count": null,
   "metadata": {
    "id": "DsgqGRUxO-5u"
   },
   "outputs": [],
   "source": [
    "np.save('../results/load_pred_transformer.npy', load_pred)\n",
    "np.save('../results/load_true_transformer.npy', load_true)\n",
    "torch.save(model.state_dict(), \"../model/transformer_state_dict.pt\")"
   ]
  }
 ],
 "metadata": {
  "accelerator": "GPU",
  "colab": {
   "collapsed_sections": [],
   "name": "Transformer_1027.ipynb",
   "provenance": [
    {
     "file_id": "1WgiaYXZKkaIYXKdTNFW0pnlGumvrK17o",
     "timestamp": 1635344897673
    }
   ]
  },
  "kernelspec": {
   "display_name": "Python 3",
   "language": "python",
   "name": "python3"
  },
  "language_info": {
   "codemirror_mode": {
    "name": "ipython",
    "version": 3
   },
   "file_extension": ".py",
   "mimetype": "text/x-python",
   "name": "python",
   "nbconvert_exporter": "python",
   "pygments_lexer": "ipython3",
   "version": "3.8.12"
  },
  "toc": {
   "base_numbering": 1,
   "nav_menu": {},
   "number_sections": true,
   "sideBar": true,
   "skip_h1_title": false,
   "title_cell": "Table of Contents",
   "title_sidebar": "Contents",
   "toc_cell": false,
   "toc_position": {
    "height": "calc(100% - 180px)",
    "left": "10px",
    "top": "150px",
    "width": "374.391px"
   },
   "toc_section_display": true,
   "toc_window_display": true
  },
  "varInspector": {
   "cols": {
    "lenName": 16,
    "lenType": 16,
    "lenVar": 40
   },
   "kernels_config": {
    "python": {
     "delete_cmd_postfix": "",
     "delete_cmd_prefix": "del ",
     "library": "var_list.py",
     "varRefreshCmd": "print(var_dic_list())"
    },
    "r": {
     "delete_cmd_postfix": ") ",
     "delete_cmd_prefix": "rm(",
     "library": "var_list.r",
     "varRefreshCmd": "cat(var_dic_list()) "
    }
   },
   "types_to_exclude": [
    "module",
    "function",
    "builtin_function_or_method",
    "instance",
    "_Feature"
   ],
   "window_display": false
  }
 },
 "nbformat": 4,
 "nbformat_minor": 1
}
