{
 "cells": [
  {
   "cell_type": "markdown",
   "metadata": {},
   "source": [
    "# Seq2Seq用于电力负荷预测"
   ]
  },
  {
   "cell_type": "code",
   "execution_count": 14,
   "metadata": {
    "ExecuteTime": {
     "end_time": "2021-12-18T13:24:31.280018Z",
     "start_time": "2021-12-18T13:24:31.272667Z"
    },
    "id": "W-jyRZqxUF2-"
   },
   "outputs": [],
   "source": [
    "# prediction by seq2seq model which consists of LSTM-LSTM\n",
    "import pandas as pd\n",
    "import numpy as np\n",
    "import matplotlib.pyplot as plt\n",
    "import pdb\n",
    "import random\n",
    "import torch\n",
    "import torch.nn as nn\n",
    "import torch.nn.functional as F\n",
    "\n",
    "from sklearn.preprocessing import StandardScaler, MinMaxScaler\n",
    "from sklearn.model_selection import train_test_split, KFold\n",
    "from sqlalchemy import create_engine\n",
    "from torch.autograd import Variable\n",
    "from torch.utils.data import TensorDataset, DataLoader\n",
    "from tqdm import tqdm"
   ]
  },
  {
   "cell_type": "code",
   "execution_count": 2,
   "metadata": {
    "ExecuteTime": {
     "end_time": "2021-12-18T13:20:43.746006Z",
     "start_time": "2021-12-18T13:20:43.694536Z"
    },
    "id": "mXGB-NgvYQdT"
   },
   "outputs": [],
   "source": [
    "if torch.cuda.is_available():  \n",
    "    dev = \"cuda:0\" \n",
    "else:  \n",
    "    dev = \"cpu\"\n",
    "device = torch.device(dev)"
   ]
  },
  {
   "cell_type": "markdown",
   "metadata": {},
   "source": [
    "## 导入数据"
   ]
  },
  {
   "cell_type": "code",
   "execution_count": 3,
   "metadata": {
    "ExecuteTime": {
     "end_time": "2021-12-18T13:20:57.029357Z",
     "start_time": "2021-12-18T13:20:55.525287Z"
    },
    "id": "14JEOyI5UF3I"
   },
   "outputs": [],
   "source": [
    "# load data\n",
    "url = '../dataset_0101110000.csv'\n",
    "data = pd.read_csv(url, sep=',', index_col='time')"
   ]
  },
  {
   "cell_type": "markdown",
   "metadata": {},
   "source": [
    "## 归一化"
   ]
  },
  {
   "cell_type": "code",
   "execution_count": 4,
   "metadata": {
    "ExecuteTime": {
     "end_time": "2021-12-18T13:21:06.867221Z",
     "start_time": "2021-12-18T13:21:06.861090Z"
    },
    "id": "ZMuY2BhfUF3K"
   },
   "outputs": [],
   "source": [
    "# 归一化\n",
    "def normalization(data):\n",
    "    \"\"\"\n",
    "    data: original data with load\n",
    "    return: normalized data, scaler of load\n",
    "    \"\"\"\n",
    "    normalized_data = MinMaxScaler().fit_transform(data)\n",
    "    scaler_y = MinMaxScaler()\n",
    "    scaler_y.fit_transform(data[['load']])\n",
    "    return normalized_data, scaler_y"
   ]
  },
  {
   "cell_type": "markdown",
   "metadata": {},
   "source": [
    "## 监督学习数据集"
   ]
  },
  {
   "cell_type": "code",
   "execution_count": 5,
   "metadata": {
    "ExecuteTime": {
     "end_time": "2021-12-18T13:21:56.759120Z",
     "start_time": "2021-12-18T13:21:56.745201Z"
    },
    "id": "Tza1H7XMUF3K"
   },
   "outputs": [],
   "source": [
    "# build supervised data\n",
    "def Series_To_Supervise(data, seq_len, target_len, y_col_index):\n",
    "    \"\"\"\n",
    "    convert series data to supervised data\n",
    "    :param data: original data\n",
    "    :param seq_len: length of sequence\n",
    "    :y_col_index: index of column which acts as output\n",
    "    :return: return two ndarrays-- input and output in format suitable to feed to LSTM\n",
    "    \"\"\"\n",
    "#     pdb.set_trace()\n",
    "    dim_0 = data.shape[0] - seq_len\n",
    "    dim_1 = data.shape[1]\n",
    "    x = np.zeros((dim_0, seq_len, dim_1))\n",
    "    y = np.zeros((dim_0, target_len))\n",
    "    for i in range(dim_0):\n",
    "        x[i] = data[i: i+seq_len]\n",
    "        y[i] = data[i+seq_len-target_len:i+seq_len, y_col_index]\n",
    "    print(\"Supervised Train Data: Shape of x: {}, Shape of y: {}\".format(x.shape, y.shape))\n",
    "    return x, y\n",
    "\n",
    "def Series_To_Supervise_Test(data, seq_len, target_len, y_col_index):\n",
    "    \"\"\"\n",
    "    convert series data to supervised data\n",
    "    :param data: original data\n",
    "    :param seq_len: length of sequence\n",
    "    :y_col_index: index of column which acts as output\n",
    "    :return: return two ndarrays-- input and output in format suitable to feed to LSTM\n",
    "    \"\"\"\n",
    "    dim_0 = int((data.shape[0] - seq_len)/24)+1\n",
    "    dim_1 = data.shape[1]\n",
    "    x = np.zeros((dim_0, seq_len, dim_1))\n",
    "    y = np.zeros((dim_0, target_len))\n",
    "    for i in range(0, dim_0):\n",
    "        x[i] = data[i*24: i*24+seq_len]\n",
    "        y[i] = data[i*24+seq_len-target_len:i*24+seq_len, y_col_index]\n",
    "    print(\"Supervised Test Data: Shape of x: {}, Shape of y: {}\".format(x.shape, y.shape))\n",
    "    return x, y"
   ]
  },
  {
   "cell_type": "markdown",
   "metadata": {},
   "source": [
    "## 五折交叉验证"
   ]
  },
  {
   "cell_type": "code",
   "execution_count": 6,
   "metadata": {
    "ExecuteTime": {
     "end_time": "2021-12-18T13:22:14.495247Z",
     "start_time": "2021-12-18T13:22:14.487378Z"
    },
    "id": "Gt4Wfny1UF3L"
   },
   "outputs": [],
   "source": [
    "# 5-fold cross-validation\n",
    "def split_dataset(X, Y, n_split=5):\n",
    "    \"\"\"\n",
    "    X: original feature, size * 72 * features\n",
    "    Y: labels, size * 1\n",
    "    return: list of train_x, test_x, train_y, test_y\n",
    "    \"\"\"\n",
    "    kf = KFold(n_splits=n_split, shuffle=True, random_state=1)\n",
    "    train_x_list = list()\n",
    "    valid_x_list = list()\n",
    "    train_y_list = list()\n",
    "    valid_y_list = list()\n",
    "    for train_index, valid_index in kf.split(X):\n",
    "        train_x_list.append(X[train_index])\n",
    "        train_y_list.append(Y[train_index])\n",
    "        valid_x_list.append(X[valid_index])\n",
    "        valid_y_list.append(Y[valid_index])\n",
    "    return train_x_list, valid_x_list, train_y_list, valid_y_list"
   ]
  },
  {
   "cell_type": "markdown",
   "metadata": {},
   "source": [
    "## 定义模型"
   ]
  },
  {
   "cell_type": "code",
   "execution_count": 7,
   "metadata": {
    "ExecuteTime": {
     "end_time": "2021-12-18T13:22:34.800808Z",
     "start_time": "2021-12-18T13:22:34.789602Z"
    },
    "id": "_gOiLShV2Y_A"
   },
   "outputs": [],
   "source": [
    "# define lstm_encoder\n",
    "class LSTMEncoder(nn.Module):\n",
    "    def __init__(self, input_size, hidden_dim, n_layers, drop_prob=0.5):\n",
    "        super(LSTMEncoder, self).__init__()\n",
    "        # 初始化hidden_state参数\n",
    "        self.hidden_dim = hidden_dim\n",
    "        self.n_layers = n_layers\n",
    "        # 定义层\n",
    "        self.lstm = nn.LSTM(input_size, hidden_dim, n_layers, batch_first=True)\n",
    "        self.dropout = nn.Dropout(drop_prob)\n",
    "    \n",
    "    def forward(self, x):\n",
    "        batch_size = x.size(0)\n",
    "        hidden = self.init_hidden(batch_size)\n",
    "        \n",
    "        lstm_out, hidden = self.lstm(x, hidden)\n",
    "        return lstm_out, hidden\n",
    "    \n",
    "    def init_hidden(self, batch_size):\n",
    "        hidden = (torch.zeros(self.n_layers, batch_size, self.hidden_dim).to(device),\n",
    "                      torch.zeros(self.n_layers, batch_size, self.hidden_dim).to(device))\n",
    "        return hidden"
   ]
  },
  {
   "cell_type": "code",
   "execution_count": 8,
   "metadata": {
    "ExecuteTime": {
     "end_time": "2021-12-18T13:22:36.142554Z",
     "start_time": "2021-12-18T13:22:36.126493Z"
    },
    "id": "lXetdwqC2Y_B"
   },
   "outputs": [],
   "source": [
    "# define attn_lstm_decoder\n",
    "class AttnLSTMDecoder(nn.Module):\n",
    "    def __init__(self, input_size, hidden_dim, output_size=1, n_layers=1, drop_prob=0.1, seq_len=48):\n",
    "        super(AttnLSTMDecoder, self).__init__()\n",
    "        self.input_size = input_size\n",
    "        self.hidden_dim = hidden_dim\n",
    "        self.output_size = output_size\n",
    "        self.n_layers = n_layers\n",
    "        self.drop_prob = drop_prob\n",
    "        # 计算attention\n",
    "        self.seq_len = seq_len\n",
    "        \n",
    "        self.embedding = nn.Linear(self.input_size, self.hidden_dim * self.n_layers)\n",
    "        self.attn = nn.Linear(self.hidden_dim * self.n_layers * 2, self.seq_len)\n",
    "        self.attn_combine = nn.Linear(self.hidden_dim * (self.n_layers + 1), self.hidden_dim)\n",
    "        self.dropout = nn.Dropout(self.drop_prob)\n",
    "        self.lstm = nn.LSTM(self.hidden_dim, self.hidden_dim, self.n_layers, batch_first=True)\n",
    "        self.out = nn.Linear(self.hidden_dim, self.output_size)\n",
    "    \n",
    "    def forward(self, input, hidden, encoder_outputs):\n",
    "        \"\"\"\n",
    "        :input size(batch_size, 1, input_size)\n",
    "        :hidden size(batch_size, 1, hidden_dim)\n",
    "        :encoder_outputs size(batch_size, seq_len, hidden_dim)\n",
    "        \"\"\"\n",
    "        embedded = self.embedding(input)\n",
    "        \n",
    "        # flat hidden to calculte weights\n",
    "        # pdb.set_trace()\n",
    "        hidden_flat = hidden[0].transpose(0, 1)\n",
    "        hidden_flat = hidden_flat.contiguous().view(hidden_flat.shape[0], 1, -1)\n",
    "        \n",
    "        attn_weights = F.softmax(self.attn(torch.cat((embedded, hidden_flat), 2)), dim=2)\n",
    "        attn_applied = torch.bmm(attn_weights, encoder_outputs)\n",
    "        \n",
    "        output = torch.cat((embedded, attn_applied), 2)\n",
    "        output = self.attn_combine(output)\n",
    "        output = F.relu(output)\n",
    "        \n",
    "        output, hidden = self.lstm(output, hidden)        \n",
    "        \n",
    "        output = self.out(output)      \n",
    "        \n",
    "        return output, hidden        "
   ]
  },
  {
   "cell_type": "markdown",
   "metadata": {},
   "source": [
    "## 训练模型"
   ]
  },
  {
   "cell_type": "code",
   "execution_count": 31,
   "metadata": {
    "ExecuteTime": {
     "end_time": "2021-12-18T13:58:06.736827Z",
     "start_time": "2021-12-18T13:58:06.704111Z"
    },
    "id": "Lzq1qRjC2Y_C"
   },
   "outputs": [],
   "source": [
    "# train the model \n",
    "def train_model(train_x_list, train_y_list, valid_x_list, valid_y_list, input_size=23, hidden_dim=70, n_layers=1,\n",
    "                seq_len=48, target_len=24, number_epochs=40, batch_size=512, teacher_forcing_ratio=0.5,\n",
    "                lr=0.01, training_prediction='teacher_forcing', dynamic_tf=False):\n",
    "    encoder = LSTMEncoder(input_size, hidden_dim, n_layers)\n",
    "    decoder = AttnLSTMDecoder(input_size, hidden_dim, n_layers=n_layers)\n",
    "    encoder = encoder.to(device)\n",
    "    decoder = decoder.to(device)\n",
    "    criterion = nn.MSELoss()\n",
    "    encoder_optimizer = torch.optim.Adam(encoder.parameters(), lr=lr)\n",
    "    decoder_optimizer = torch.optim.Adam(decoder.parameters(), lr=lr)\n",
    "    valid_loss_min = np.Inf\n",
    "    for i in range(5):\n",
    "        print('train dataset {}'.format(i))\n",
    "        train_x = train_x_list[i]\n",
    "        train_y = train_y_list[i]\n",
    "        valid_x = valid_x_list[i]\n",
    "        valid_y = valid_y_list[i]\n",
    "        train_dataset = TensorDataset(torch.FloatTensor(train_x), torch.FloatTensor(train_y))\n",
    "        valid_dataset = TensorDataset(torch.FloatTensor(valid_x), torch.FloatTensor(valid_y))\n",
    "        \n",
    "        train_loader = DataLoader(dataset=train_dataset, batch_size=batch_size, shuffle=True, drop_last=True)\n",
    "        valid_loader = DataLoader(dataset=valid_dataset, batch_size=batch_size, shuffle=True, drop_last=True)\n",
    "        train_losses = list()\n",
    "  \n",
    "        num_without_imp = 0\n",
    "        \n",
    "        y_index = train_x.shape[2] - 1\n",
    "        #train\n",
    "        for epoch in range(1, number_epochs + 1):\n",
    "            loop = tqdm(enumerate(train_loader), total=len(train_loader), leave=True)\n",
    "            for i, (inputs, labels) in loop:\n",
    "                inputs = inputs.to(device)\n",
    "                labels = labels.to(device)\n",
    "                outputs = torch.zeros(batch_size, target_len).to(device)\n",
    "                encoder_optimizer.zero_grad()\n",
    "                decoder_optimizer.zero_grad()\n",
    "                # encoder\n",
    "                input_tensor = inputs[:, 0:seq_len, :]\n",
    "                target_tensor = inputs[:, seq_len:, :]\n",
    "                encoder_outputs, encoder_hidden = encoder(input_tensor)\n",
    "                # decoder\n",
    "                decoder_input = inputs[:, seq_len-1, :].unsqueeze(1)\n",
    "                decoder_hidden = encoder_hidden\n",
    "                \n",
    "                if training_prediction == 'recursive':\n",
    "                    # predict recursively\n",
    "                    for t in range(target_len):\n",
    "                        # pdb.set_trace()\n",
    "                        decoder_output, decoder_hidden = decoder(decoder_input, decoder_hidden, encoder_outputs)\n",
    "                        outputs[:, t] = decoder_output.squeeze()\n",
    "                        decoder_input = torch.cat((target_tensor[:, t, :-1].unsqueeze(1), decoder_output.detach()), 2)\n",
    "                \n",
    "                if training_prediction == 'teacher_forcing':\n",
    "                    # use teacher forcing\n",
    "                    if random.random() < teacher_forcing_ratio:\n",
    "                        for t in range(target_len):\n",
    "                            decoder_output, decoder_hidden = decoder(decoder_input, decoder_hidden, encoder_outputs)\n",
    "                            outputs[:, t] = decoder_output.squeeze()\n",
    "                            decoder_input = target_tensor[:, t, :].unsqueeze(1)\n",
    "                    # predict recurisively\n",
    "                    else:\n",
    "                        for t in range(target_len):\n",
    "                            decoder_output, decoder_hidden = decoder(decoder_input, decoder_hidden, encoder_outputs)\n",
    "                            outputs[:, t] = decoder_output.squeeze()\n",
    "                            decoder_input = torch.cat((target_tensor[:, t, :-1].unsqueeze(1), decoder_output.detach()), 2)\n",
    "                \n",
    "                if training_prediction == 'mixed_teacher_forcing':\n",
    "                    # predict using mixed teacher forcing\n",
    "                    for t in range(target_len):\n",
    "                        decoder_output, decoder_hidden = decoder(decoder_input, decoder_hidden, encoder_outputs)\n",
    "                        outputs[:, t] = decoder_output.squeeze()\n",
    "                        # predict with teacher forcing\n",
    "                        if random.random() < teacher_forcing_ratio:\n",
    "                            decoder_input = target_tensor[:, t, :].unsqueeze(1)\n",
    "                                \n",
    "                        # predict recursively \n",
    "                        else:\n",
    "                            decoder_input = torch.cat((target_tensor[:, t, :-1].unsqueeze(1), decoder_output.detach()), 2)\n",
    "                loss = criterion(outputs, labels)\n",
    "                train_losses.append(loss.item)\n",
    "                loss.backward()\n",
    "                encoder_optimizer.step()\n",
    "                decoder_optimizer.step()\n",
    "                \n",
    "                # eval\n",
    "                if i % 5 == 0:\n",
    "                    # if num_without_imp > 60:\n",
    "                    #     return encoder, decoder\n",
    "                    num_without_imp = num_without_imp + 1\n",
    "                    valid_losses = list()\n",
    "                    encoder.eval()\n",
    "                    decoder.eval()\n",
    "                    for inp, lab in valid_loader:\n",
    "                        inp = inp.to(device)\n",
    "                        lab = lab.to(device)\n",
    "                        out = torch.zeros(batch_size, target_len).to(device)\n",
    "                        # encoder\n",
    "                        input_tensor = inp[:, 0:seq_len, :]\n",
    "                        target_tensor = inp[:, seq_len:, 0:-1]\n",
    "                        encoder_outputs, encoder_hidden = encoder(input_tensor)\n",
    "                        # decoder\n",
    "                        decoder_input = inp[:, seq_len-1, :].unsqueeze(1)\n",
    "                        decoder_hidden = encoder_hidden\n",
    "                        # predict recuisively\n",
    "                        for t in range(target_len):\n",
    "                            decoder_output, decoder_hidden = decoder(decoder_input, decoder_hidden, encoder_outputs)\n",
    "                            out[:, t] = decoder_output.squeeze()\n",
    "                            decoder_input = torch.cat((target_tensor[:, t, :].unsqueeze(1), decoder_output.detach()), 2)\n",
    "                        valid_loss = criterion(out, lab)\n",
    "                        valid_losses.append(valid_loss.item())\n",
    "                    encoder.train()\n",
    "                    decoder.train()\n",
    "                    loop.set_description(\"Epoch: {}/{}...\".format(\n",
    "                        epoch, number_epochs))\n",
    "                    loop.set_postfix(train_loss=loss.item(),\n",
    "                                     valid_loss=np.mean(valid_losses))\n",
    "                    if np.mean(valid_losses) < valid_loss_min:\n",
    "                        num_without_imp = 0\n",
    "                        torch.save(encoder.state_dict(), \"encoder_state_dict.pt\")\n",
    "                        torch.save(decoder.state_dict(), \"decoder_state_dict.pt\")\n",
    "                        valid_loss_min = np.mean(valid_losses)\n",
    "    return encoder, decoder"
   ]
  },
  {
   "cell_type": "markdown",
   "metadata": {},
   "source": [
    "## 测试模型"
   ]
  },
  {
   "cell_type": "code",
   "execution_count": 10,
   "metadata": {
    "ExecuteTime": {
     "end_time": "2021-12-18T13:23:03.792112Z",
     "start_time": "2021-12-18T13:23:03.774266Z"
    },
    "id": "BWIEjvjH2Y_K"
   },
   "outputs": [],
   "source": [
    "# test the model\n",
    "def test_model(encoder, decoder, test_x, test_y, batch_size, seq_len, target_len, scaler):\n",
    "    # pdb.set_trace()\n",
    "    test_dataset = TensorDataset(torch.FloatTensor(test_x), torch.FloatTensor(test_y))\n",
    "    test_loader = DataLoader(dataset=test_dataset, batch_size=batch_size, shuffle=False)\n",
    "    encoder.load_state_dict(torch.load('encoder_state_dict.pt'))\n",
    "    decoder.load_state_dict(torch.load('decoder_state_dict.pt'))\n",
    "    y_pred = list()\n",
    "    y_true = list()\n",
    "    y_index = test_x.shape[2] - 1\n",
    "    with torch.no_grad():\n",
    "        for inputs, labels in test_loader:\n",
    "            inputs = inputs.to(device=device)\n",
    "            labels = labels.to(device=device)\n",
    "            outputs = torch.zeros(batch_size, target_len).to(device)\n",
    "            # encoder\n",
    "            input_tensor = inputs[:, 0:seq_len, :]\n",
    "            target_tensor = inputs[:, seq_len:, :]\n",
    "            encoder_outputs, encoder_hidden = encoder(input_tensor)\n",
    "            # decoder\n",
    "            decoder_input = inputs[:, seq_len-1, :].unsqueeze(1)\n",
    "            decoder_hidden = encoder_hidden\n",
    "            # predict recursively\n",
    "            for t in range(target_len):\n",
    "                decoder_output, decoder_hidden = decoder(decoder_input, decoder_hidden, encoder_outputs)\n",
    "                outputs[:, t] = decoder_output.squeeze()\n",
    "                decoder_input = torch.cat((target_tensor[:, t, :-1].unsqueeze(1), decoder_output.detach()), 2)\n",
    "            y_pred = y_pred + outputs.view(-1).cpu().numpy().tolist()\n",
    "            y_true = y_true + labels.view(-1).cpu().numpy().tolist()\n",
    "    y_true = np.array(y_true)\n",
    "    y_pred = np.array(y_pred)\n",
    "    load_true = scaler.inverse_transform(np.expand_dims(y_true, axis=1))\n",
    "    load_pred = scaler.inverse_transform(np.expand_dims(y_pred, axis=1))\n",
    "    MAPE = np.mean(np.abs(load_true-load_pred)/load_true)\n",
    "    MAE = np.mean(np.abs(load_true-load_pred))\n",
    "    RMSE = np.sqrt(np.mean(np.square(load_true-load_pred)))\n",
    "    return MAPE, MAE, RMSE, load_pred, load_true"
   ]
  },
  {
   "cell_type": "markdown",
   "metadata": {},
   "source": [
    "## 超参数定义"
   ]
  },
  {
   "cell_type": "code",
   "execution_count": 11,
   "metadata": {
    "ExecuteTime": {
     "end_time": "2021-12-18T13:23:05.803708Z",
     "start_time": "2021-12-18T13:23:05.797153Z"
    },
    "id": "thj9qZovUF3N"
   },
   "outputs": [],
   "source": [
    "# model configs\n",
    "def Model_Configs():\n",
    "    batch_sizes = [512]\n",
    "    n_layers = [1]\n",
    "    lrs = [0.01]\n",
    "    hidden_dims = [70]\n",
    "    configs = list()\n",
    "    for i in batch_sizes:\n",
    "        for j in n_layers:\n",
    "            for k in lrs:\n",
    "                for l in hidden_dims:\n",
    "                    configs.append([i, j, k, l])\n",
    "    return configs"
   ]
  },
  {
   "cell_type": "markdown",
   "metadata": {},
   "source": [
    "## 主函数"
   ]
  },
  {
   "cell_type": "code",
   "execution_count": 12,
   "metadata": {
    "ExecuteTime": {
     "end_time": "2021-12-18T13:24:08.665033Z",
     "start_time": "2021-12-18T13:24:08.647102Z"
    },
    "code_folding": [],
    "id": "L03esL1dUF3O"
   },
   "outputs": [],
   "source": [
    "def main(n_split=5, seq_len=48, target_len=24, plot=False):\n",
    "    normalized_data, scaler_y = normalization(data)\n",
    "    train_data = normalized_data\n",
    "    test_data = normalized_data[-3000:]\n",
    "    y_index = normalized_data.shape[1] - 1\n",
    "    num_features = normalized_data.shape[1]\n",
    "    x, y = Series_To_Supervise(train_data,\n",
    "                               seq_len=seq_len + target_len,\n",
    "                               target_len=target_len,\n",
    "                               y_col_index=y_index)\n",
    "    train_x_list, valid_x_list, train_y_list, valid_y_list = split_dataset(\n",
    "        x, y, n_split=n_split)\n",
    "    test_x, test_y = Series_To_Supervise_Test(test_data,\n",
    "                                              seq_len=seq_len + target_len,\n",
    "                                              target_len=target_len,\n",
    "                                              y_col_index=y_index)\n",
    "\n",
    "    configs = Model_Configs()\n",
    "    MAPE_list = list()\n",
    "    MAE_list = list()\n",
    "    RMSE_list = list()\n",
    "    for config in configs:\n",
    "        batch_size = config[0]\n",
    "        n_layer = config[1]\n",
    "        lr = config[2]\n",
    "        hidden_dim = config[3]\n",
    "        print(\n",
    "            \"Model Config: batch_size--{}, n_layer--{}, lr--{}, hidden_dims--{}\"\n",
    "            .format(batch_size, n_layer, lr, hidden_dim))\n",
    "\n",
    "        while (1):\n",
    "\n",
    "            encoder, decoder = train_model(\n",
    "                train_x_list,\n",
    "                train_y_list,\n",
    "                valid_x_list,\n",
    "                valid_y_list,\n",
    "                input_size=num_features,\n",
    "                hidden_dim=hidden_dim,\n",
    "                batch_size=batch_size,\n",
    "                n_layers=n_layer,\n",
    "                lr=lr,\n",
    "                seq_len=seq_len,\n",
    "                target_len=target_len,\n",
    "                training_prediction='teacher_forcing')\n",
    "            (MAPE, MAE, RMSE, load_pred,\n",
    "             load_true) = test_model(encoder,\n",
    "                                     decoder,\n",
    "                                     test_x,\n",
    "                                     test_y,\n",
    "                                     batch_size=1,\n",
    "                                     seq_len=seq_len,\n",
    "                                     target_len=target_len,\n",
    "                                     scaler=scaler_y)\n",
    "            if MAPE < 0.1:\n",
    "                break\n",
    "        MAPE_list.append(MAPE)\n",
    "        MAE_list.append(MAE)\n",
    "        RMSE_list.append(RMSE)\n",
    "    return (MAPE_list, MAE_list, RMSE_list, load_pred, load_true, encoder,\n",
    "            decoder)"
   ]
  },
  {
   "cell_type": "markdown",
   "metadata": {},
   "source": [
    "## 运行"
   ]
  },
  {
   "cell_type": "code",
   "execution_count": 32,
   "metadata": {
    "ExecuteTime": {
     "end_time": "2021-12-18T14:14:57.998670Z",
     "start_time": "2021-12-18T13:58:10.759511Z"
    },
    "colab": {
     "base_uri": "https://localhost:8080/"
    },
    "executionInfo": {
     "elapsed": 1319945,
     "status": "ok",
     "timestamp": 1635392404288,
     "user": {
      "displayName": "Mark Dong",
      "photoUrl": "https://lh3.googleusercontent.com/a/default-user=s64",
      "userId": "04537685704836554558"
     },
     "user_tz": -480
    },
    "id": "FBZDkAX9g590",
    "outputId": "b36ab53b-52e2-4354-a2c5-96787c54410d",
    "scrolled": false
   },
   "outputs": [
    {
     "name": "stdout",
     "output_type": "stream",
     "text": [
      "Supervised Train Data: Shape of x: (31587, 72, 23), Shape of y: (31587, 24)\n",
      "Supervised Test Data: Shape of x: (123, 72, 23), Shape of y: (123, 24)\n",
      "Model Config: batch_size--512, n_layer--1, lr--0.01, hidden_dims--70\n",
      "train dataset 0\n"
     ]
    },
    {
     "name": "stderr",
     "output_type": "stream",
     "text": [
      "Epoch: 1/40...: 100%|██████████| 49/49 [00:04<00:00, 10.14it/s, train_loss=0.00941, valid_loss=0.0119]\n",
      "Epoch: 2/40...: 100%|██████████| 49/49 [00:04<00:00, 10.56it/s, train_loss=0.00675, valid_loss=0.00646]\n",
      "Epoch: 3/40...: 100%|██████████| 49/49 [00:04<00:00, 10.31it/s, train_loss=0.0114, valid_loss=0.0053]  \n",
      "Epoch: 4/40...: 100%|██████████| 49/49 [00:04<00:00, 10.42it/s, train_loss=0.0013, valid_loss=0.00303] \n",
      "Epoch: 5/40...: 100%|██████████| 49/49 [00:04<00:00, 10.46it/s, train_loss=0.0066, valid_loss=0.00544] \n",
      "Epoch: 6/40...: 100%|██████████| 49/49 [00:04<00:00, 10.11it/s, train_loss=0.00452, valid_loss=0.00548]\n",
      "Epoch: 7/40...: 100%|██████████| 49/49 [00:05<00:00,  9.62it/s, train_loss=0.00286, valid_loss=0.00341]\n",
      "Epoch: 8/40...: 100%|██████████| 49/49 [00:04<00:00, 10.32it/s, train_loss=0.00196, valid_loss=0.00203] \n",
      "Epoch: 9/40...: 100%|██████████| 49/49 [00:04<00:00, 10.14it/s, train_loss=0.00384, valid_loss=0.00359] \n",
      "Epoch: 10/40...: 100%|██████████| 49/49 [00:04<00:00, 10.51it/s, train_loss=0.00205, valid_loss=0.00168] \n",
      "Epoch: 11/40...: 100%|██████████| 49/49 [00:04<00:00, 10.05it/s, train_loss=0.00048, valid_loss=0.00155] \n",
      "Epoch: 12/40...: 100%|██████████| 49/49 [00:04<00:00, 10.37it/s, train_loss=0.00141, valid_loss=0.00142] \n",
      "Epoch: 13/40...: 100%|██████████| 49/49 [00:04<00:00,  9.99it/s, train_loss=0.00052, valid_loss=0.00133] \n",
      "Epoch: 14/40...: 100%|██████████| 49/49 [00:04<00:00, 10.08it/s, train_loss=0.000381, valid_loss=0.00336]\n",
      "Epoch: 15/40...: 100%|██████████| 49/49 [00:04<00:00, 10.35it/s, train_loss=0.00269, valid_loss=0.00247]\n",
      "Epoch: 16/40...: 100%|██████████| 49/49 [00:05<00:00,  9.76it/s, train_loss=0.00156, valid_loss=0.00141] \n",
      "Epoch: 17/40...: 100%|██████████| 49/49 [00:04<00:00, 10.48it/s, train_loss=0.00154, valid_loss=0.0023]  \n",
      "Epoch: 18/40...: 100%|██████████| 49/49 [00:04<00:00,  9.93it/s, train_loss=0.000396, valid_loss=0.00117]\n",
      "Epoch: 19/40...: 100%|██████████| 49/49 [00:04<00:00,  9.95it/s, train_loss=0.000381, valid_loss=0.00124]\n",
      "Epoch: 20/40...: 100%|██████████| 49/49 [00:04<00:00, 10.05it/s, train_loss=0.00209, valid_loss=0.00263] \n",
      "Epoch: 21/40...: 100%|██████████| 49/49 [00:04<00:00,  9.87it/s, train_loss=0.000428, valid_loss=0.00122]\n",
      "Epoch: 22/40...: 100%|██████████| 49/49 [00:04<00:00,  9.94it/s, train_loss=0.0015, valid_loss=0.00135]  \n",
      "Epoch: 23/40...: 100%|██████████| 49/49 [00:04<00:00, 10.07it/s, train_loss=0.000989, valid_loss=0.00105]\n",
      "Epoch: 24/40...: 100%|██████████| 49/49 [00:04<00:00, 10.12it/s, train_loss=0.00145, valid_loss=0.00284] \n",
      "Epoch: 25/40...: 100%|██████████| 49/49 [00:04<00:00, 10.37it/s, train_loss=0.00197, valid_loss=0.00292] \n",
      "Epoch: 26/40...: 100%|██████████| 49/49 [00:04<00:00,  9.98it/s, train_loss=0.002, valid_loss=0.0012]    \n",
      "Epoch: 27/40...: 100%|██████████| 49/49 [00:04<00:00, 10.12it/s, train_loss=0.00112, valid_loss=0.00104] \n",
      "Epoch: 28/40...: 100%|██████████| 49/49 [00:04<00:00,  9.89it/s, train_loss=0.000634, valid_loss=0.00101] \n",
      "Epoch: 29/40...: 100%|██████████| 49/49 [00:04<00:00, 10.33it/s, train_loss=0.000567, valid_loss=0.00122]\n",
      "Epoch: 30/40...: 100%|██████████| 49/49 [00:04<00:00, 10.15it/s, train_loss=0.000304, valid_loss=0.00118] \n",
      "Epoch: 31/40...: 100%|██████████| 49/49 [00:04<00:00, 10.35it/s, train_loss=0.000327, valid_loss=0.000955]\n",
      "Epoch: 32/40...: 100%|██████████| 49/49 [00:04<00:00, 10.11it/s, train_loss=0.000418, valid_loss=0.00139]\n",
      "Epoch: 33/40...: 100%|██████████| 49/49 [00:04<00:00, 10.30it/s, train_loss=0.00132, valid_loss=0.0142]   \n",
      "Epoch: 34/40...: 100%|██████████| 49/49 [00:04<00:00, 10.15it/s, train_loss=0.00128, valid_loss=0.00112] \n",
      "Epoch: 35/40...: 100%|██████████| 49/49 [00:04<00:00, 10.43it/s, train_loss=0.00143, valid_loss=0.00483] \n",
      "Epoch: 36/40...: 100%|██████████| 49/49 [00:04<00:00, 10.23it/s, train_loss=0.00126, valid_loss=0.00123] \n",
      "Epoch: 37/40...: 100%|██████████| 49/49 [00:04<00:00, 10.43it/s, train_loss=0.000341, valid_loss=0.000978]\n",
      "Epoch: 38/40...: 100%|██████████| 49/49 [00:04<00:00, 10.42it/s, train_loss=0.00114, valid_loss=0.00128]  \n",
      "Epoch: 39/40...: 100%|██████████| 49/49 [00:04<00:00, 10.19it/s, train_loss=0.000248, valid_loss=0.000864]\n",
      "Epoch: 40/40...: 100%|██████████| 49/49 [00:04<00:00, 10.30it/s, train_loss=0.0011, valid_loss=0.000891]  \n"
     ]
    },
    {
     "name": "stdout",
     "output_type": "stream",
     "text": [
      "train dataset 1\n"
     ]
    },
    {
     "name": "stderr",
     "output_type": "stream",
     "text": [
      "Epoch: 1/40...: 100%|██████████| 49/49 [00:05<00:00,  9.21it/s, train_loss=0.00144, valid_loss=0.00121]  \n",
      "Epoch: 2/40...: 100%|██████████| 49/49 [00:04<00:00, 10.53it/s, train_loss=0.000692, valid_loss=0.00158] \n",
      "Epoch: 3/40...: 100%|██████████| 49/49 [00:04<00:00, 10.56it/s, train_loss=0.00102, valid_loss=0.00126] \n",
      "Epoch: 4/40...: 100%|██████████| 49/49 [00:04<00:00, 10.22it/s, train_loss=0.000269, valid_loss=0.00155] \n",
      "Epoch: 5/40...: 100%|██████████| 49/49 [00:04<00:00, 10.45it/s, train_loss=0.000266, valid_loss=0.000808]\n",
      "Epoch: 6/40...: 100%|██████████| 49/49 [00:04<00:00, 10.24it/s, train_loss=0.000256, valid_loss=0.000928]\n",
      "Epoch: 7/40...: 100%|██████████| 49/49 [00:04<00:00, 10.35it/s, train_loss=0.000906, valid_loss=0.000941]\n",
      "Epoch: 8/40...: 100%|██████████| 49/49 [00:04<00:00, 10.21it/s, train_loss=0.000862, valid_loss=0.000834]\n",
      "Epoch: 9/40...: 100%|██████████| 49/49 [00:04<00:00, 10.25it/s, train_loss=0.000296, valid_loss=0.000978]\n",
      "Epoch: 10/40...: 100%|██████████| 49/49 [00:04<00:00, 10.45it/s, train_loss=0.000748, valid_loss=0.00107] \n",
      "Epoch: 11/40...: 100%|██████████| 49/49 [00:04<00:00, 10.25it/s, train_loss=0.000271, valid_loss=0.00109] \n",
      "Epoch: 12/40...: 100%|██████████| 49/49 [00:04<00:00, 10.44it/s, train_loss=0.00102, valid_loss=0.000806]\n",
      "Epoch: 13/40...: 100%|██████████| 49/49 [00:04<00:00, 10.42it/s, train_loss=0.000672, valid_loss=0.000718]\n",
      "Epoch: 14/40...: 100%|██████████| 49/49 [00:04<00:00, 10.21it/s, train_loss=0.000775, valid_loss=0.00214] \n",
      "Epoch: 15/40...: 100%|██████████| 49/49 [00:04<00:00,  9.99it/s, train_loss=0.000245, valid_loss=0.00077] \n",
      "Epoch: 16/40...: 100%|██████████| 49/49 [00:05<00:00,  9.14it/s, train_loss=0.000209, valid_loss=0.000695]\n",
      "Epoch: 17/40...: 100%|██████████| 49/49 [00:04<00:00, 10.36it/s, train_loss=0.000781, valid_loss=0.00168] \n",
      "Epoch: 18/40...: 100%|██████████| 49/49 [00:04<00:00, 10.14it/s, train_loss=0.00145, valid_loss=0.000691] \n",
      "Epoch: 19/40...: 100%|██████████| 49/49 [00:04<00:00, 10.16it/s, train_loss=0.00331, valid_loss=0.00189]  \n",
      "Epoch: 20/40...: 100%|██████████| 49/49 [00:04<00:00, 10.35it/s, train_loss=0.00258, valid_loss=0.00151] \n",
      "Epoch: 21/40...: 100%|██████████| 49/49 [00:04<00:00, 10.19it/s, train_loss=0.00023, valid_loss=0.00081]  \n",
      "Epoch: 22/40...: 100%|██████████| 49/49 [00:04<00:00, 10.15it/s, train_loss=0.000202, valid_loss=0.000748]\n",
      "Epoch: 23/40...: 100%|██████████| 49/49 [00:04<00:00, 10.42it/s, train_loss=0.000792, valid_loss=0.000683]\n",
      "Epoch: 24/40...: 100%|██████████| 49/49 [00:04<00:00, 10.12it/s, train_loss=0.000296, valid_loss=0.00122] \n",
      "Epoch: 25/40...: 100%|██████████| 49/49 [00:04<00:00, 10.21it/s, train_loss=0.0011, valid_loss=0.00461]   \n",
      "Epoch: 26/40...: 100%|██████████| 49/49 [00:04<00:00, 10.36it/s, train_loss=0.00241, valid_loss=0.00168]  \n",
      "Epoch: 27/40...: 100%|██████████| 49/49 [00:05<00:00,  9.50it/s, train_loss=0.000309, valid_loss=0.00084] \n",
      "Epoch: 28/40...: 100%|██████████| 49/49 [00:04<00:00, 10.04it/s, train_loss=0.000617, valid_loss=0.000645]\n",
      "Epoch: 29/40...: 100%|██████████| 49/49 [00:04<00:00, 10.43it/s, train_loss=0.000689, valid_loss=0.000807]\n",
      "Epoch: 30/40...: 100%|██████████| 49/49 [00:04<00:00, 10.43it/s, train_loss=0.000194, valid_loss=0.000699]\n",
      "Epoch: 31/40...: 100%|██████████| 49/49 [00:04<00:00, 10.21it/s, train_loss=0.000179, valid_loss=0.000694]\n",
      "Epoch: 32/40...: 100%|██████████| 49/49 [00:04<00:00, 10.34it/s, train_loss=0.00023, valid_loss=0.000588] \n",
      "Epoch: 33/40...: 100%|██████████| 49/49 [00:04<00:00, 10.15it/s, train_loss=0.00109, valid_loss=0.00181] \n",
      "Epoch: 34/40...: 100%|██████████| 49/49 [00:04<00:00, 10.39it/s, train_loss=0.000342, valid_loss=0.00109] \n",
      "Epoch: 35/40...: 100%|██████████| 49/49 [00:04<00:00, 10.17it/s, train_loss=0.00058, valid_loss=0.000546] \n",
      "Epoch: 36/40...: 100%|██████████| 49/49 [00:04<00:00, 10.42it/s, train_loss=0.000395, valid_loss=0.00111] \n",
      "Epoch: 37/40...: 100%|██████████| 49/49 [00:04<00:00, 10.24it/s, train_loss=0.000658, valid_loss=0.000999]\n",
      "Epoch: 38/40...: 100%|██████████| 49/49 [00:04<00:00, 10.41it/s, train_loss=0.00066, valid_loss=0.000529] \n",
      "Epoch: 39/40...: 100%|██████████| 49/49 [00:04<00:00, 10.20it/s, train_loss=0.000478, valid_loss=0.000505]\n",
      "Epoch: 40/40...: 100%|██████████| 49/49 [00:04<00:00, 10.38it/s, train_loss=0.000461, valid_loss=0.000491]\n"
     ]
    },
    {
     "name": "stdout",
     "output_type": "stream",
     "text": [
      "train dataset 2\n"
     ]
    },
    {
     "name": "stderr",
     "output_type": "stream",
     "text": [
      "Epoch: 1/40...: 100%|██████████| 49/49 [00:05<00:00,  8.34it/s, train_loss=0.000517, valid_loss=0.000481]\n",
      "Epoch: 2/40...: 100%|██████████| 49/49 [00:05<00:00,  8.38it/s, train_loss=0.00015, valid_loss=0.000596] \n",
      "Epoch: 3/40...: 100%|██████████| 49/49 [00:05<00:00,  9.22it/s, train_loss=0.000484, valid_loss=0.000537]\n",
      "Epoch: 4/40...: 100%|██████████| 49/49 [00:05<00:00,  9.01it/s, train_loss=0.00029, valid_loss=0.000908] \n",
      "Epoch: 5/40...: 100%|██████████| 49/49 [00:05<00:00,  9.00it/s, train_loss=0.000241, valid_loss=0.00104] \n",
      "Epoch: 6/40...: 100%|██████████| 49/49 [00:05<00:00,  8.70it/s, train_loss=0.000173, valid_loss=0.00068] \n",
      "Epoch: 7/40...: 100%|██████████| 49/49 [00:05<00:00,  9.01it/s, train_loss=0.000552, valid_loss=0.00209] \n",
      "Epoch: 8/40...: 100%|██████████| 49/49 [00:05<00:00,  8.83it/s, train_loss=0.000161, valid_loss=0.000504]\n",
      "Epoch: 9/40...: 100%|██████████| 49/49 [00:05<00:00,  9.11it/s, train_loss=0.00101, valid_loss=0.000841] \n",
      "Epoch: 10/40...: 100%|██████████| 49/49 [00:05<00:00,  8.80it/s, train_loss=0.000508, valid_loss=0.000635]\n",
      "Epoch: 11/40...: 100%|██████████| 49/49 [00:05<00:00,  8.90it/s, train_loss=0.000723, valid_loss=0.000623]\n",
      "Epoch: 12/40...: 100%|██████████| 49/49 [00:05<00:00,  8.81it/s, train_loss=0.000545, valid_loss=0.00154] \n",
      "Epoch: 13/40...: 100%|██████████| 49/49 [00:05<00:00,  8.81it/s, train_loss=0.000133, valid_loss=0.00054] \n",
      "Epoch: 14/40...: 100%|██████████| 49/49 [00:05<00:00,  9.02it/s, train_loss=0.000146, valid_loss=0.000609]\n",
      "Epoch: 15/40...: 100%|██████████| 49/49 [00:04<00:00, 10.16it/s, train_loss=0.000504, valid_loss=0.000508]\n",
      "Epoch: 16/40...: 100%|██████████| 49/49 [00:04<00:00, 10.21it/s, train_loss=0.000146, valid_loss=0.000852]\n",
      "Epoch: 17/40...: 100%|██████████| 49/49 [00:04<00:00, 10.41it/s, train_loss=0.000659, valid_loss=0.000731]\n",
      "Epoch: 18/40...: 100%|██████████| 49/49 [00:04<00:00, 10.21it/s, train_loss=0.000532, valid_loss=0.000555]\n",
      "Epoch: 19/40...: 100%|██████████| 49/49 [00:04<00:00, 10.17it/s, train_loss=0.000123, valid_loss=0.000407]\n",
      "Epoch: 20/40...: 100%|██████████| 49/49 [00:04<00:00, 10.33it/s, train_loss=0.000426, valid_loss=0.000462]\n",
      "Epoch: 21/40...: 100%|██████████| 49/49 [00:04<00:00, 10.31it/s, train_loss=0.000828, valid_loss=0.000874]\n",
      "Epoch: 22/40...: 100%|██████████| 49/49 [00:04<00:00, 10.25it/s, train_loss=0.000112, valid_loss=0.000437]\n",
      "Epoch: 23/40...: 100%|██████████| 49/49 [00:04<00:00, 10.40it/s, train_loss=0.000885, valid_loss=0.00107] \n",
      "Epoch: 24/40...: 100%|██████████| 49/49 [00:04<00:00, 10.22it/s, train_loss=0.000136, valid_loss=0.000436]\n",
      "Epoch: 25/40...: 100%|██████████| 49/49 [00:04<00:00, 10.40it/s, train_loss=0.000987, valid_loss=0.000892]\n",
      "Epoch: 26/40...: 100%|██████████| 49/49 [00:04<00:00, 10.38it/s, train_loss=0.000167, valid_loss=0.000554]\n",
      "Epoch: 27/40...: 100%|██████████| 49/49 [00:04<00:00, 10.00it/s, train_loss=0.000198, valid_loss=0.00122] \n",
      "Epoch: 28/40...: 100%|██████████| 49/49 [00:04<00:00, 10.37it/s, train_loss=0.000398, valid_loss=0.000386]\n",
      "Epoch: 29/40...: 100%|██████████| 49/49 [00:04<00:00, 10.17it/s, train_loss=0.000188, valid_loss=0.000964]\n",
      "Epoch: 30/40...: 100%|██████████| 49/49 [00:04<00:00, 10.11it/s, train_loss=0.000143, valid_loss=0.000415]\n",
      "Epoch: 31/40...: 100%|██████████| 49/49 [00:04<00:00, 10.20it/s, train_loss=0.000151, valid_loss=0.000383]\n",
      "Epoch: 32/40...: 100%|██████████| 49/49 [00:04<00:00, 10.10it/s, train_loss=0.00138, valid_loss=0.00128]  \n",
      "Epoch: 33/40...: 100%|██████████| 49/49 [00:04<00:00, 10.29it/s, train_loss=0.000159, valid_loss=0.000514]\n",
      "Epoch: 34/40...: 100%|██████████| 49/49 [00:04<00:00, 10.16it/s, train_loss=0.000374, valid_loss=0.000368]\n",
      "Epoch: 35/40...: 100%|██████████| 49/49 [00:04<00:00, 10.34it/s, train_loss=0.00125, valid_loss=0.00069]  \n",
      "Epoch: 36/40...: 100%|██████████| 49/49 [00:04<00:00, 10.37it/s, train_loss=0.000128, valid_loss=0.000431]\n",
      "Epoch: 37/40...: 100%|██████████| 49/49 [00:04<00:00, 10.15it/s, train_loss=0.000187, valid_loss=0.00126] \n",
      "Epoch: 38/40...: 100%|██████████| 49/49 [00:04<00:00, 10.17it/s, train_loss=0.000452, valid_loss=0.000439]\n",
      "Epoch: 39/40...: 100%|██████████| 49/49 [00:04<00:00, 10.37it/s, train_loss=0.000302, valid_loss=0.00034] \n",
      "Epoch: 40/40...: 100%|██████████| 49/49 [00:04<00:00, 10.14it/s, train_loss=0.000309, valid_loss=0.000316]\n"
     ]
    },
    {
     "name": "stdout",
     "output_type": "stream",
     "text": [
      "train dataset 3\n"
     ]
    },
    {
     "name": "stderr",
     "output_type": "stream",
     "text": [
      "Epoch: 1/40...: 100%|██████████| 49/49 [00:05<00:00,  8.42it/s, train_loss=0.000124, valid_loss=0.000315]\n",
      "Epoch: 2/40...: 100%|██████████| 49/49 [00:05<00:00,  8.46it/s, train_loss=0.000725, valid_loss=0.0015]  \n",
      "Epoch: 3/40...: 100%|██████████| 49/49 [00:05<00:00,  8.76it/s, train_loss=0.000314, valid_loss=0.00056] \n",
      "Epoch: 4/40...: 100%|██████████| 49/49 [00:05<00:00,  9.53it/s, train_loss=0.000408, valid_loss=0.000551]\n",
      "Epoch: 5/40...: 100%|██████████| 49/49 [00:05<00:00,  9.56it/s, train_loss=0.000112, valid_loss=0.000332]\n",
      "Epoch: 6/40...: 100%|██████████| 49/49 [00:04<00:00, 10.28it/s, train_loss=0.000176, valid_loss=0.000655]\n",
      "Epoch: 7/40...: 100%|██████████| 49/49 [00:04<00:00, 10.20it/s, train_loss=0.000301, valid_loss=0.000313]\n",
      "Epoch: 8/40...: 100%|██████████| 49/49 [00:04<00:00,  9.84it/s, train_loss=0.000454, valid_loss=0.000441]\n",
      "Epoch: 9/40...: 100%|██████████| 49/49 [00:04<00:00, 10.23it/s, train_loss=0.000342, valid_loss=0.000425]\n",
      "Epoch: 10/40...: 100%|██████████| 49/49 [00:04<00:00, 10.04it/s, train_loss=9.11e-5, valid_loss=0.000308] \n",
      "Epoch: 11/40...: 100%|██████████| 49/49 [00:04<00:00, 10.23it/s, train_loss=0.000116, valid_loss=0.000446]\n",
      "Epoch: 12/40...: 100%|██████████| 49/49 [00:04<00:00, 10.01it/s, train_loss=0.00219, valid_loss=0.0042]   \n",
      "Epoch: 13/40...: 100%|██████████| 49/49 [00:05<00:00,  9.52it/s, train_loss=0.00158, valid_loss=0.0015]  \n",
      "Epoch: 14/40...: 100%|██████████| 49/49 [00:04<00:00,  9.90it/s, train_loss=0.000518, valid_loss=0.000589]\n",
      "Epoch: 15/40...: 100%|██████████| 49/49 [00:04<00:00, 10.25it/s, train_loss=0.000145, valid_loss=0.00038] \n",
      "Epoch: 16/40...: 100%|██████████| 49/49 [00:04<00:00, 10.04it/s, train_loss=0.00101, valid_loss=0.000563] \n",
      "Epoch: 17/40...: 100%|██████████| 49/49 [00:05<00:00,  9.48it/s, train_loss=0.000133, valid_loss=0.000313]\n",
      "Epoch: 18/40...: 100%|██████████| 49/49 [00:05<00:00,  9.55it/s, train_loss=0.00023, valid_loss=0.000446] \n",
      "Epoch: 19/40...: 100%|██████████| 49/49 [00:05<00:00,  8.84it/s, train_loss=0.000284, valid_loss=0.000281]\n",
      "Epoch: 20/40...: 100%|██████████| 49/49 [00:04<00:00,  9.82it/s, train_loss=0.00035, valid_loss=0.000368] \n",
      "Epoch: 21/40...: 100%|██████████| 49/49 [00:04<00:00, 10.04it/s, train_loss=0.000268, valid_loss=0.00026] \n",
      "Epoch: 22/40...: 100%|██████████| 49/49 [00:04<00:00,  9.95it/s, train_loss=0.000436, valid_loss=0.00032] \n",
      "Epoch: 23/40...: 100%|██████████| 49/49 [00:05<00:00,  8.74it/s, train_loss=0.000268, valid_loss=0.000441]\n",
      "Epoch: 24/40...: 100%|██████████| 49/49 [00:05<00:00,  8.69it/s, train_loss=0.000484, valid_loss=0.000332]\n",
      "Epoch: 25/40...: 100%|██████████| 49/49 [00:05<00:00,  8.52it/s, train_loss=0.000225, valid_loss=0.000247]\n",
      "Epoch: 26/40...: 100%|██████████| 49/49 [00:06<00:00,  7.82it/s, train_loss=8.51e-5, valid_loss=0.000235] \n",
      "Epoch: 27/40...: 100%|██████████| 49/49 [00:06<00:00,  7.65it/s, train_loss=0.00011, valid_loss=0.000271] \n",
      "Epoch: 28/40...: 100%|██████████| 49/49 [00:06<00:00,  7.49it/s, train_loss=0.000113, valid_loss=0.000272]\n",
      "Epoch: 29/40...: 100%|██████████| 49/49 [00:06<00:00,  7.52it/s, train_loss=0.000211, valid_loss=0.000248]\n",
      "Epoch: 30/40...: 100%|██████████| 49/49 [00:06<00:00,  7.76it/s, train_loss=0.000256, valid_loss=0.000265]\n",
      "Epoch: 31/40...: 100%|██████████| 49/49 [00:04<00:00,  9.87it/s, train_loss=0.000547, valid_loss=0.000852]\n",
      "Epoch: 32/40...: 100%|██████████| 49/49 [00:04<00:00, 10.23it/s, train_loss=0.000376, valid_loss=0.000695]\n",
      "Epoch: 33/40...: 100%|██████████| 49/49 [00:05<00:00,  9.41it/s, train_loss=0.000996, valid_loss=0.000539]\n",
      "Epoch: 34/40...: 100%|██████████| 49/49 [00:05<00:00,  8.80it/s, train_loss=0.000132, valid_loss=0.00039] \n",
      "Epoch: 35/40...: 100%|██████████| 49/49 [00:05<00:00,  8.91it/s, train_loss=0.000575, valid_loss=0.00038] \n",
      "Epoch: 36/40...: 100%|██████████| 49/49 [00:05<00:00,  8.68it/s, train_loss=0.000387, valid_loss=0.00039] \n",
      "Epoch: 37/40...: 100%|██████████| 49/49 [00:05<00:00,  8.74it/s, train_loss=0.000117, valid_loss=0.00032] \n",
      "Epoch: 38/40...: 100%|██████████| 49/49 [00:05<00:00,  8.76it/s, train_loss=0.000321, valid_loss=0.00051] \n",
      "Epoch: 39/40...: 100%|██████████| 49/49 [00:05<00:00,  8.77it/s, train_loss=0.000101, valid_loss=0.000336]\n",
      "Epoch: 40/40...: 100%|██████████| 49/49 [00:05<00:00,  8.98it/s, train_loss=0.001, valid_loss=0.000995]   \n"
     ]
    },
    {
     "name": "stdout",
     "output_type": "stream",
     "text": [
      "train dataset 4\n"
     ]
    },
    {
     "name": "stderr",
     "output_type": "stream",
     "text": [
      "Epoch: 1/40...: 100%|██████████| 49/49 [00:05<00:00,  8.49it/s, train_loss=0.000277, valid_loss=0.000485]\n",
      "Epoch: 2/40...: 100%|██████████| 49/49 [00:05<00:00,  8.72it/s, train_loss=0.000365, valid_loss=0.000311]\n",
      "Epoch: 3/40...: 100%|██████████| 49/49 [00:05<00:00,  9.05it/s, train_loss=0.000554, valid_loss=0.000393]\n",
      "Epoch: 4/40...: 100%|██████████| 49/49 [00:04<00:00, 10.47it/s, train_loss=0.000245, valid_loss=0.000266]\n",
      "Epoch: 5/40...: 100%|██████████| 49/49 [00:04<00:00, 10.15it/s, train_loss=0.000305, valid_loss=0.000259]\n",
      "Epoch: 6/40...: 100%|██████████| 49/49 [00:04<00:00,  9.90it/s, train_loss=0.000103, valid_loss=0.000285]\n",
      "Epoch: 7/40...: 100%|██████████| 49/49 [00:04<00:00,  9.88it/s, train_loss=0.000235, valid_loss=0.000227]\n",
      "Epoch: 8/40...: 100%|██████████| 49/49 [00:04<00:00,  9.99it/s, train_loss=7.94e-5, valid_loss=0.000229] \n",
      "Epoch: 9/40...: 100%|██████████| 49/49 [00:04<00:00, 10.08it/s, train_loss=0.000264, valid_loss=0.000756]\n",
      "Epoch: 10/40...: 100%|██████████| 49/49 [00:04<00:00, 10.20it/s, train_loss=0.000317, valid_loss=0.000261]\n",
      "Epoch: 11/40...: 100%|██████████| 49/49 [00:04<00:00,  9.96it/s, train_loss=8.61e-5, valid_loss=0.000187] \n",
      "Epoch: 12/40...: 100%|██████████| 49/49 [00:04<00:00,  9.91it/s, train_loss=0.000165, valid_loss=0.000179]\n",
      "Epoch: 13/40...: 100%|██████████| 49/49 [00:04<00:00, 10.08it/s, train_loss=0.000164, valid_loss=0.000191]\n",
      "Epoch: 14/40...: 100%|██████████| 49/49 [00:04<00:00,  9.99it/s, train_loss=0.000392, valid_loss=0.000288]\n",
      "Epoch: 15/40...: 100%|██████████| 49/49 [00:04<00:00, 10.26it/s, train_loss=9.35e-5, valid_loss=0.000207] \n",
      "Epoch: 16/40...: 100%|██████████| 49/49 [00:04<00:00, 10.08it/s, train_loss=8.98e-5, valid_loss=0.000229] \n",
      "Epoch: 17/40...: 100%|██████████| 49/49 [00:04<00:00, 10.00it/s, train_loss=0.000233, valid_loss=0.000217]\n",
      "Epoch: 18/40...: 100%|██████████| 49/49 [00:04<00:00, 10.26it/s, train_loss=0.000171, valid_loss=0.000214]\n",
      "Epoch: 19/40...: 100%|██████████| 49/49 [00:04<00:00, 10.00it/s, train_loss=0.000251, valid_loss=0.00019] \n",
      "Epoch: 20/40...: 100%|██████████| 49/49 [00:04<00:00, 10.23it/s, train_loss=0.000177, valid_loss=0.000284]\n",
      "Epoch: 21/40...: 100%|██████████| 49/49 [00:04<00:00, 10.04it/s, train_loss=0.000687, valid_loss=0.00124]\n",
      "Epoch: 22/40...: 100%|██████████| 49/49 [00:04<00:00, 10.30it/s, train_loss=0.000188, valid_loss=0.000401]\n",
      "Epoch: 23/40...: 100%|██████████| 49/49 [00:04<00:00, 10.04it/s, train_loss=0.000224, valid_loss=0.000223]\n",
      "Epoch: 24/40...: 100%|██████████| 49/49 [00:04<00:00, 10.06it/s, train_loss=0.00077, valid_loss=0.000439] \n",
      "Epoch: 25/40...: 100%|██████████| 49/49 [00:04<00:00, 10.28it/s, train_loss=0.000335, valid_loss=0.000266]\n",
      "Epoch: 26/40...: 100%|██████████| 49/49 [00:04<00:00, 10.11it/s, train_loss=0.000178, valid_loss=0.000192]\n",
      "Epoch: 27/40...: 100%|██████████| 49/49 [00:04<00:00, 10.05it/s, train_loss=0.000156, valid_loss=0.00016] \n",
      "Epoch: 28/40...: 100%|██████████| 49/49 [00:05<00:00,  9.17it/s, train_loss=0.00032, valid_loss=0.000466] \n",
      "Epoch: 29/40...: 100%|██████████| 49/49 [00:05<00:00,  9.54it/s, train_loss=0.000162, valid_loss=0.000155]\n",
      "Epoch: 30/40...: 100%|██████████| 49/49 [00:04<00:00,  9.95it/s, train_loss=0.000378, valid_loss=0.000182]\n",
      "Epoch: 31/40...: 100%|██████████| 49/49 [00:04<00:00, 10.25it/s, train_loss=9.88e-5, valid_loss=0.000277] \n",
      "Epoch: 32/40...: 100%|██████████| 49/49 [00:04<00:00, 10.00it/s, train_loss=9.94e-5, valid_loss=0.000179] \n",
      "Epoch: 33/40...: 100%|██████████| 49/49 [00:04<00:00,  9.98it/s, train_loss=6.75e-5, valid_loss=0.000148] \n",
      "Epoch: 34/40...: 100%|██████████| 49/49 [00:04<00:00, 10.13it/s, train_loss=8.84e-5, valid_loss=0.000156] \n",
      "Epoch: 35/40...: 100%|██████████| 49/49 [00:04<00:00,  9.92it/s, train_loss=0.000188, valid_loss=0.000167]\n",
      "Epoch: 36/40...: 100%|██████████| 49/49 [00:04<00:00, 10.20it/s, train_loss=0.000115, valid_loss=0.000132]\n",
      "Epoch: 37/40...: 100%|██████████| 49/49 [00:04<00:00, 10.04it/s, train_loss=0.000127, valid_loss=0.000134]\n",
      "Epoch: 38/40...: 100%|██████████| 49/49 [00:04<00:00, 10.22it/s, train_loss=0.000144, valid_loss=0.000218]\n",
      "Epoch: 39/40...: 100%|██████████| 49/49 [00:05<00:00,  9.40it/s, train_loss=9.55e-5, valid_loss=0.000202] \n",
      "Epoch: 40/40...: 100%|██████████| 49/49 [00:05<00:00,  8.56it/s, train_loss=0.000103, valid_loss=0.000162]\n"
     ]
    }
   ],
   "source": [
    "(MAPE_list, MAE_list, RMSE_list, load_pred, load_true, encoder, decoder) = main()"
   ]
  },
  {
   "cell_type": "code",
   "execution_count": 33,
   "metadata": {
    "ExecuteTime": {
     "end_time": "2021-12-18T14:53:53.184153Z",
     "start_time": "2021-12-18T14:53:53.176747Z"
    },
    "colab": {
     "base_uri": "https://localhost:8080/"
    },
    "executionInfo": {
     "elapsed": 451,
     "status": "ok",
     "timestamp": 1635392414486,
     "user": {
      "displayName": "Mark Dong",
      "photoUrl": "https://lh3.googleusercontent.com/a/default-user=s64",
      "userId": "04537685704836554558"
     },
     "user_tz": -480
    },
    "id": "KOc4Wyigjzey",
    "outputId": "131e27b1-5da5-4086-a474-608dfa55eec7"
   },
   "outputs": [
    {
     "data": {
      "text/plain": [
       "([0.012412560001236608], [151.09607295168422], [202.29045459159676])"
      ]
     },
     "execution_count": 33,
     "metadata": {},
     "output_type": "execute_result"
    }
   ],
   "source": [
    "MAPE_list, MAE_list, RMSE_list"
   ]
  },
  {
   "cell_type": "code",
   "execution_count": 34,
   "metadata": {
    "ExecuteTime": {
     "end_time": "2021-12-18T14:53:56.162109Z",
     "start_time": "2021-12-18T14:53:56.025836Z"
    },
    "colab": {
     "base_uri": "https://localhost:8080/",
     "height": 574
    },
    "executionInfo": {
     "elapsed": 1445,
     "status": "ok",
     "timestamp": 1635392419566,
     "user": {
      "displayName": "Mark Dong",
      "photoUrl": "https://lh3.googleusercontent.com/a/default-user=s64",
      "userId": "04537685704836554558"
     },
     "user_tz": -480
    },
    "id": "mulQQMkng_dT",
    "outputId": "df4f4510-7ed7-4552-951c-9a887d889687"
   },
   "outputs": [
    {
     "data": {
      "text/plain": [
       "[<matplotlib.lines.Line2D at 0x7fe6f66431f0>]"
      ]
     },
     "execution_count": 34,
     "metadata": {},
     "output_type": "execute_result"
    },
    {
     "data": {
      "image/png": "[encoded data removed]",
      "text/plain": [
       "<Figure size 1440x720 with 1 Axes>"
      ]
     },
     "metadata": {
      "needs_background": "light"
     },
     "output_type": "display_data"
    }
   ],
   "source": [
    "plt.figure(figsize=(20,10))\n",
    "plt.plot(load_pred[:240], 'r')\n",
    "plt.plot(load_true[:240], 'g')"
   ]
  },
  {
   "cell_type": "code",
   "execution_count": null,
   "metadata": {
    "id": "Bl0PnYykhO6T"
   },
   "outputs": [],
   "source": [
    "np.save('./load_pred_seq2seq.npy', load_pred)\n",
    "np.save('./load_true_seq2seq.npy', load_true)\n",
    "torch.save(encoder.state_dict(), \"encoder_state_dict.pt\")\n",
    "torch.save(decoder.state_dict(), \"decoder_state_dict.pt\")"
   ]
  }
 ],
 "metadata": {
  "accelerator": "GPU",
  "colab": {
   "collapsed_sections": [],
   "name": "Seq2Seq-LSTM-LSTM-1027.ipynb",
   "provenance": [
    {
     "file_id": "1gz4dRYpD30qMgysIA3e7HOqhscVkgofG",
     "timestamp": 1635394282729
    },
    {
     "file_id": "12UbdSV6sEiLokxpm-kiSlokl46SST_u3",
     "timestamp": 1635386260907
    }
   ]
  },
  "kernelspec": {
   "display_name": "Python 3",
   "language": "python",
   "name": "python3"
  },
  "language_info": {
   "codemirror_mode": {
    "name": "ipython",
    "version": 3
   },
   "file_extension": ".py",
   "mimetype": "text/x-python",
   "name": "python",
   "nbconvert_exporter": "python",
   "pygments_lexer": "ipython3",
   "version": "3.8.12"
  },
  "toc": {
   "base_numbering": 1,
   "nav_menu": {},
   "number_sections": true,
   "sideBar": true,
   "skip_h1_title": false,
   "title_cell": "Table of Contents",
   "title_sidebar": "Contents",
   "toc_cell": false,
   "toc_position": {
    "height": "calc(100% - 180px)",
    "left": "10px",
    "top": "150px",
    "width": "332.797px"
   },
   "toc_section_display": true,
   "toc_window_display": true
  },
  "varInspector": {
   "cols": {
    "lenName": 16,
    "lenType": 16,
    "lenVar": 40
   },
   "kernels_config": {
    "python": {
     "delete_cmd_postfix": "",
     "delete_cmd_prefix": "del ",
     "library": "var_list.py",
     "varRefreshCmd": "print(var_dic_list())"
    },
    "r": {
     "delete_cmd_postfix": ") ",
     "delete_cmd_prefix": "rm(",
     "library": "var_list.r",
     "varRefreshCmd": "cat(var_dic_list()) "
    }
   },
   "types_to_exclude": [
    "module",
    "function",
    "builtin_function_or_method",
    "instance",
    "_Feature"
   ],
   "window_display": false
  }
 },
 "nbformat": 4,
 "nbformat_minor": 1
}
