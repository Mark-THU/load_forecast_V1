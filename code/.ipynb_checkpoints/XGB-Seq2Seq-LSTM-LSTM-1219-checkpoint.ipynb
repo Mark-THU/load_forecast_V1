{
 "cells": [
  {
   "cell_type": "code",
   "execution_count": 1,
   "metadata": {
    "ExecuteTime": {
     "end_time": "2021-12-18T09:41:44.254459Z",
     "start_time": "2021-12-18T09:41:41.971654Z"
    },
    "colab": {
     "base_uri": "https://localhost:8080/"
    },
    "executionInfo": {
     "elapsed": 35209,
     "status": "ok",
     "timestamp": 1635397355382,
     "user": {
      "displayName": "Mark Dong",
      "photoUrl": "https://lh3.googleusercontent.com/a/default-user=s64",
      "userId": "04537685704836554558"
     },
     "user_tz": -480
    },
    "id": "W-jyRZqxUF2-",
    "outputId": "407c3d21-d078-401e-bcbe-3338d1865f5c"
   },
   "outputs": [],
   "source": [
    "from xgboost import XGBRegressor\n",
    "# prediction by seq2seq model which consists of LSTM-LSTM\n",
    "import pandas as pd\n",
    "import numpy as np\n",
    "import matplotlib.pyplot as plt\n",
    "import pdb\n",
    "import random\n",
    "import torch\n",
    "import torch.nn as nn\n",
    "import torch.nn.functional as F\n",
    "\n",
    "from sklearn.preprocessing import StandardScaler, MinMaxScaler\n",
    "from sklearn.model_selection import train_test_split, KFold\n",
    "from sqlalchemy import create_engine\n",
    "from torch.autograd import Variable\n",
    "from torch.utils.data import TensorDataset, DataLoader"
   ]
  },
  {
   "cell_type": "code",
   "execution_count": 2,
   "metadata": {
    "ExecuteTime": {
     "end_time": "2021-12-18T09:41:46.574638Z",
     "start_time": "2021-12-18T09:41:46.541558Z"
    },
    "executionInfo": {
     "elapsed": 38,
     "status": "ok",
     "timestamp": 1635397355386,
     "user": {
      "displayName": "Mark Dong",
      "photoUrl": "https://lh3.googleusercontent.com/a/default-user=s64",
      "userId": "04537685704836554558"
     },
     "user_tz": -480
    },
    "id": "mXGB-NgvYQdT"
   },
   "outputs": [],
   "source": [
    "if torch.cuda.is_available():  \n",
    "    dev = \"cuda:0\" \n",
    "else:  \n",
    "    dev = \"cpu\"\n",
    "device = torch.device(dev)"
   ]
  },
  {
   "cell_type": "code",
   "execution_count": null,
   "metadata": {
    "ExecuteTime": {
     "start_time": "2021-12-18T09:47:44.054Z"
    },
    "executionInfo": {
     "elapsed": 770,
     "status": "ok",
     "timestamp": 1635397356144,
     "user": {
      "displayName": "Mark Dong",
      "photoUrl": "https://lh3.googleusercontent.com/a/default-user=s64",
      "userId": "04537685704836554558"
     },
     "user_tz": -480
    },
    "id": "14JEOyI5UF3I"
   },
   "outputs": [],
   "source": [
    "# load data\n",
    "url = 'https://raw.githubusercontent.com/Mark-THU/load_forecast/main/dataset_0101110000.csv'\n",
    "data = pd.read_csv(url, sep=',', index_col='time')"
   ]
  },
  {
   "cell_type": "code",
   "execution_count": null,
   "metadata": {
    "ExecuteTime": {
     "end_time": "2021-12-18T09:45:59.877183Z",
     "start_time": "2021-12-18T09:41:41.483Z"
    },
    "executionInfo": {
     "elapsed": 32,
     "status": "ok",
     "timestamp": 1635397356145,
     "user": {
      "displayName": "Mark Dong",
      "photoUrl": "https://lh3.googleusercontent.com/a/default-user=s64",
      "userId": "04537685704836554558"
     },
     "user_tz": -480
    },
    "id": "ZMuY2BhfUF3K"
   },
   "outputs": [],
   "source": [
    "# 归一化\n",
    "def normalization(data):\n",
    "    \"\"\"\n",
    "    data: original data with load\n",
    "    return: normalized data, scaler of load\n",
    "    \"\"\"\n",
    "    normalized_data = MinMaxScaler().fit_transform(data)\n",
    "    scaler_y = MinMaxScaler()\n",
    "    scaler_y.fit_transform(data[['load']])\n",
    "    return normalized_data, scaler_y"
   ]
  },
  {
   "cell_type": "code",
   "execution_count": null,
   "metadata": {
    "ExecuteTime": {
     "end_time": "2021-12-18T09:45:59.878258Z",
     "start_time": "2021-12-18T09:41:42.347Z"
    },
    "executionInfo": {
     "elapsed": 31,
     "status": "ok",
     "timestamp": 1635397356145,
     "user": {
      "displayName": "Mark Dong",
      "photoUrl": "https://lh3.googleusercontent.com/a/default-user=s64",
      "userId": "04537685704836554558"
     },
     "user_tz": -480
    },
    "id": "85xo-ESkGwvV"
   },
   "outputs": [],
   "source": [
    "# 选择重要特征\n",
    "def select_feature(X, feature_num=10):\n",
    "    \"\"\"\n",
    "    X: features, size * 48 * features\n",
    "    Y: labels, size *  1\n",
    "    feature_num: num of selected features\n",
    "    return: index of selected features\n",
    "    \"\"\"\n",
    "    x = X[:, :-1]\n",
    "    y = X[:, -1:]\n",
    "    model = XGBRegressor()\n",
    "    model.fit(x, y)\n",
    "    model.importance_type = 'weight'\n",
    "    ind = (-model.feature_importances_).argsort()[0:feature_num]\n",
    "    ind = np.append(ind, -1)\n",
    "    return X[:, ind]"
   ]
  },
  {
   "cell_type": "code",
   "execution_count": null,
   "metadata": {
    "ExecuteTime": {
     "end_time": "2021-12-18T09:45:59.879301Z",
     "start_time": "2021-12-18T09:41:44.051Z"
    },
    "executionInfo": {
     "elapsed": 29,
     "status": "ok",
     "timestamp": 1635397356146,
     "user": {
      "displayName": "Mark Dong",
      "photoUrl": "https://lh3.googleusercontent.com/a/default-user=s64",
      "userId": "04537685704836554558"
     },
     "user_tz": -480
    },
    "id": "Tza1H7XMUF3K"
   },
   "outputs": [],
   "source": [
    "# build supervised data\n",
    "def Series_To_Supervise(data, seq_len, target_len, y_col_index):\n",
    "    \"\"\"\n",
    "    convert series data to supervised data\n",
    "    :param data: original data\n",
    "    :param seq_len: length of sequence\n",
    "    :y_col_index: index of column which acts as output\n",
    "    :return: return two ndarrays-- input and output in format suitable to feed to LSTM\n",
    "    \"\"\"\n",
    "#     pdb.set_trace()\n",
    "    dim_0 = data.shape[0] - seq_len\n",
    "    dim_1 = data.shape[1]\n",
    "    x = np.zeros((dim_0, seq_len, dim_1))\n",
    "    y = np.zeros((dim_0, target_len))\n",
    "    for i in range(dim_0):\n",
    "        x[i] = data[i: i+seq_len]\n",
    "        y[i] = data[i+seq_len-target_len:i+seq_len, y_col_index]\n",
    "    print(\"shape of x: {}, shape of y: {}\".format(x.shape, y.shape))\n",
    "    return x, y\n",
    "\n",
    "def Series_To_Supervise_Test(data, seq_len, target_len, y_col_index):\n",
    "    \"\"\"\n",
    "    convert series data to supervised data\n",
    "    :param data: original data\n",
    "    :param seq_len: length of sequence\n",
    "    :y_col_index: index of column which acts as output\n",
    "    :return: return two ndarrays-- input and output in format suitable to feed to LSTM\n",
    "    \"\"\"\n",
    "    dim_0 = int((data.shape[0] - seq_len)/24)+1\n",
    "    dim_1 = data.shape[1]\n",
    "    x = np.zeros((dim_0, seq_len, dim_1))\n",
    "    y = np.zeros((dim_0, target_len))\n",
    "    for i in range(0, dim_0):\n",
    "        x[i] = data[i*24: i*24+seq_len]\n",
    "        y[i] = data[i*24+seq_len-target_len:i*24+seq_len, y_col_index]\n",
    "    print(\"shape of x: {}, shape of y: {}\".format(x.shape, y.shape))\n",
    "    return x, y"
   ]
  },
  {
   "cell_type": "code",
   "execution_count": null,
   "metadata": {
    "ExecuteTime": {
     "end_time": "2021-12-18T09:45:59.880437Z",
     "start_time": "2021-12-18T09:41:44.839Z"
    },
    "executionInfo": {
     "elapsed": 28,
     "status": "ok",
     "timestamp": 1635397356147,
     "user": {
      "displayName": "Mark Dong",
      "photoUrl": "https://lh3.googleusercontent.com/a/default-user=s64",
      "userId": "04537685704836554558"
     },
     "user_tz": -480
    },
    "id": "Gt4Wfny1UF3L"
   },
   "outputs": [],
   "source": [
    "# 5-fold cross-validation\n",
    "def split_dataset(X, Y, n_split=5):\n",
    "    \"\"\"\n",
    "    X: original feature, size * 72 * features\n",
    "    Y: labels, size * 1\n",
    "    return: list of train_x, test_x, train_y, test_y\n",
    "    \"\"\"\n",
    "    kf = KFold(n_splits=n_split, shuffle=True, random_state=1)\n",
    "    train_x_list = list()\n",
    "    valid_x_list = list()\n",
    "    train_y_list = list()\n",
    "    valid_y_list = list()\n",
    "    for train_index, valid_index in kf.split(X):\n",
    "        train_x_list.append(X[train_index])\n",
    "        train_y_list.append(Y[train_index])\n",
    "        valid_x_list.append(X[valid_index])\n",
    "        valid_y_list.append(Y[valid_index])\n",
    "    return train_x_list, valid_x_list, train_y_list, valid_y_list"
   ]
  },
  {
   "cell_type": "code",
   "execution_count": null,
   "metadata": {
    "ExecuteTime": {
     "end_time": "2021-12-18T09:45:59.881527Z",
     "start_time": "2021-12-18T09:41:45.575Z"
    },
    "executionInfo": {
     "elapsed": 27,
     "status": "ok",
     "timestamp": 1635397356148,
     "user": {
      "displayName": "Mark Dong",
      "photoUrl": "https://lh3.googleusercontent.com/a/default-user=s64",
      "userId": "04537685704836554558"
     },
     "user_tz": -480
    },
    "id": "_gOiLShV2Y_A"
   },
   "outputs": [],
   "source": [
    "# define lstm_encoder\n",
    "class LSTMEncoder(nn.Module):\n",
    "    def __init__(self, input_size, hidden_dim, n_layers, drop_prob=0.5):\n",
    "        super(LSTMEncoder, self).__init__()\n",
    "        # 初始化hidden_state参数\n",
    "        self.hidden_dim = hidden_dim\n",
    "        self.n_layers = n_layers\n",
    "        # 定义层\n",
    "        self.lstm = nn.LSTM(input_size, hidden_dim, n_layers, batch_first=True)\n",
    "        self.dropout = nn.Dropout(drop_prob)\n",
    "    \n",
    "    def forward(self, x):\n",
    "        batch_size = x.size(0)\n",
    "        hidden = self.init_hidden(batch_size)\n",
    "        \n",
    "        lstm_out, hidden = self.lstm(x, hidden)\n",
    "        return lstm_out, hidden\n",
    "    \n",
    "    def init_hidden(self, batch_size):\n",
    "        hidden = (torch.zeros(self.n_layers, batch_size, self.hidden_dim).to(device),\n",
    "                      torch.zeros(self.n_layers, batch_size, self.hidden_dim).to(device))\n",
    "        return hidden"
   ]
  },
  {
   "cell_type": "code",
   "execution_count": null,
   "metadata": {
    "ExecuteTime": {
     "end_time": "2021-12-18T09:45:59.882721Z",
     "start_time": "2021-12-18T09:41:47.252Z"
    },
    "executionInfo": {
     "elapsed": 26,
     "status": "ok",
     "timestamp": 1635397356149,
     "user": {
      "displayName": "Mark Dong",
      "photoUrl": "https://lh3.googleusercontent.com/a/default-user=s64",
      "userId": "04537685704836554558"
     },
     "user_tz": -480
    },
    "id": "lXetdwqC2Y_B"
   },
   "outputs": [],
   "source": [
    "# define attn_lstm_decoder\n",
    "class AttnLSTMDecoder(nn.Module):\n",
    "    def __init__(self, input_size, hidden_dim, output_size=1, n_layers=1, drop_prob=0.1, seq_len=48):\n",
    "        super(AttnLSTMDecoder, self).__init__()\n",
    "        self.input_size = input_size\n",
    "        self.hidden_dim = hidden_dim\n",
    "        self.output_size = output_size\n",
    "        self.n_layers = n_layers\n",
    "        self.drop_prob = drop_prob\n",
    "        # 计算attention\n",
    "        self.seq_len = seq_len\n",
    "        \n",
    "        self.embedding = nn.Linear(self.input_size, self.hidden_dim * self.n_layers)\n",
    "        self.attn = nn.Linear(self.hidden_dim * self.n_layers * 2, self.seq_len)\n",
    "        self.attn_combine = nn.Linear(self.hidden_dim * (self.n_layers + 1), self.hidden_dim)\n",
    "        self.dropout = nn.Dropout(self.drop_prob)\n",
    "        self.lstm = nn.LSTM(self.hidden_dim, self.hidden_dim, self.n_layers, batch_first=True)\n",
    "        self.out = nn.Linear(self.hidden_dim, self.output_size)\n",
    "    \n",
    "    def forward(self, input, hidden, encoder_outputs):\n",
    "        \"\"\"\n",
    "        :input size(batch_size, 1, input_size)\n",
    "        :hidden size(batch_size, 1, hidden_dim)\n",
    "        :encoder_outputs size(batch_size, seq_len, hidden_dim)\n",
    "        \"\"\"\n",
    "        embedded = self.embedding(input)\n",
    "        \n",
    "        # flat hidden to calculte weights\n",
    "        # pdb.set_trace()\n",
    "        hidden_flat = hidden[0].transpose(0, 1)\n",
    "        hidden_flat = hidden_flat.contiguous().view(hidden_flat.shape[0], 1, -1)\n",
    "        \n",
    "        attn_weights = F.softmax(self.attn(torch.cat((embedded, hidden_flat), 2)), dim=2)\n",
    "        attn_applied = torch.bmm(attn_weights, encoder_outputs)\n",
    "        \n",
    "        output = torch.cat((embedded, attn_applied), 2)\n",
    "        output = self.attn_combine(output)\n",
    "        output = F.relu(output)\n",
    "        \n",
    "        output, hidden = self.lstm(output, hidden)        \n",
    "        \n",
    "        output = self.out(output)      \n",
    "        \n",
    "        return output, hidden        "
   ]
  },
  {
   "cell_type": "code",
   "execution_count": 4,
   "metadata": {
    "ExecuteTime": {
     "end_time": "2021-12-18T09:47:31.298152Z",
     "start_time": "2021-12-18T09:47:31.266423Z"
    },
    "executionInfo": {
     "elapsed": 25,
     "status": "ok",
     "timestamp": 1635397356150,
     "user": {
      "displayName": "Mark Dong",
      "photoUrl": "https://lh3.googleusercontent.com/a/default-user=s64",
      "userId": "04537685704836554558"
     },
     "user_tz": -480
    },
    "id": "Lzq1qRjC2Y_C"
   },
   "outputs": [],
   "source": [
    "# train the model\n",
    "def train_model(train_x_list,\n",
    "                train_y_list,\n",
    "                valid_x_list,\n",
    "                valid_y_list,\n",
    "                input_size=23,\n",
    "                hidden_dim=70,\n",
    "                n_layers=1,\n",
    "                seq_len=48,\n",
    "                target_len=24,\n",
    "                number_epochs=40,\n",
    "                batch_size=512,\n",
    "                teacher_forcing_ratio=0.5,\n",
    "                lr=0.01,\n",
    "                training_prediction='teacher_forcing',\n",
    "                dynamic_tf=False):\n",
    "    encoder = LSTMEncoder(input_size, hidden_dim, n_layers)\n",
    "    decoder = AttnLSTMDecoder(input_size, hidden_dim, n_layers=n_layers)\n",
    "    encoder = encoder.to(device)\n",
    "    decoder = decoder.to(device)\n",
    "    criterion = nn.MSELoss()\n",
    "    encoder_optimizer = torch.optim.Adam(encoder.parameters(), lr=lr)\n",
    "    decoder_optimizer = torch.optim.Adam(decoder.parameters(), lr=lr)\n",
    "    valid_loss_min = np.Inf\n",
    "    for i in range(5):\n",
    "        print('train dataset {}'.format(i))\n",
    "        train_x = train_x_list[i]\n",
    "        train_y = train_y_list[i]\n",
    "        valid_x = valid_x_list[i]\n",
    "        valid_y = valid_y_list[i]\n",
    "        train_dataset = TensorDataset(torch.FloatTensor(train_x),\n",
    "                                      torch.FloatTensor(train_y))\n",
    "        valid_dataset = TensorDataset(torch.FloatTensor(valid_x),\n",
    "                                      torch.FloatTensor(valid_y))\n",
    "\n",
    "        train_loader = DataLoader(dataset=train_dataset,\n",
    "                                  batch_size=batch_size,\n",
    "                                  shuffle=True,\n",
    "                                  drop_last=True)\n",
    "        valid_loader = DataLoader(dataset=valid_dataset,\n",
    "                                  batch_size=batch_size,\n",
    "                                  shuffle=True,\n",
    "                                  drop_last=True)\n",
    "        train_losses = list()\n",
    "\n",
    "        num_without_imp = 0\n",
    "\n",
    "        y_index = train_x.shape[2] - 1\n",
    "        #train\n",
    "        for epoch in range(1, number_epochs + 1):\n",
    "            loop = tqdm(enumerate(train_loader),\n",
    "                        total=len(train_loader),\n",
    "                        leave=True)\n",
    "            for i, (inputs, labels) in loop:\n",
    "                inputs = inputs.to(device)\n",
    "                labels = labels.to(device)\n",
    "                outputs = torch.zeros(batch_size, target_len).to(device)\n",
    "                encoder_optimizer.zero_grad()\n",
    "                decoder_optimizer.zero_grad()\n",
    "                # encoder\n",
    "                input_tensor = inputs[:, 0:seq_len, :]\n",
    "                target_tensor = inputs[:, seq_len:, :]\n",
    "                encoder_outputs, encoder_hidden = encoder(input_tensor)\n",
    "                # decoder\n",
    "                decoder_input = inputs[:, seq_len - 1, :].unsqueeze(1)\n",
    "                decoder_hidden = encoder_hidden\n",
    "\n",
    "                if training_prediction == 'recursive':\n",
    "                    # predict recursively\n",
    "                    for t in range(target_len):\n",
    "                        # pdb.set_trace()\n",
    "                        decoder_output, decoder_hidden = decoder(\n",
    "                            decoder_input, decoder_hidden, encoder_outputs)\n",
    "                        outputs[:, t] = decoder_output.squeeze()\n",
    "                        decoder_input = torch.cat(\n",
    "                            (target_tensor[:, t, :-1].unsqueeze(1),\n",
    "                             decoder_output.detach()), 2)\n",
    "\n",
    "                if training_prediction == 'teacher_forcing':\n",
    "                    # use teacher forcing\n",
    "                    if random.random() < teacher_forcing_ratio:\n",
    "                        for t in range(target_len):\n",
    "                            decoder_output, decoder_hidden = decoder(\n",
    "                                decoder_input, decoder_hidden, encoder_outputs)\n",
    "                            outputs[:, t] = decoder_output.squeeze()\n",
    "                            decoder_input = target_tensor[:, t, :].unsqueeze(1)\n",
    "                    # predict recurisively\n",
    "                else:\n",
    "                    for t in range(target_len):\n",
    "                        decoder_output, decoder_hidden = decoder(\n",
    "                            decoder_input, decoder_hidden, encoder_outputs)\n",
    "                        outputs[:, t] = decoder_output.squeeze()\n",
    "                        decoder_input = torch.cat(\n",
    "                            (target_tensor[:, t, :-1].unsqueeze(1),\n",
    "                             decoder_output.detach()), 2)\n",
    "\n",
    "                if training_prediction == 'mixed_teacher_forcing':\n",
    "                    # predict using mixed teacher forcing\n",
    "                    for t in range(target_len):\n",
    "                        decoder_output, decoder_hidden = decoder(\n",
    "                            decoder_input, decoder_hidden, encoder_outputs)\n",
    "                        outputs[:, t] = decoder_output.squeeze()\n",
    "                        # predict with teacher forcing\n",
    "                        if random.random() < teacher_forcing_ratio:\n",
    "                            decoder_input = target_tensor[:, t, :].unsqueeze(1)\n",
    "\n",
    "                # predict recursively\n",
    "                else:\n",
    "                    decoder_input = torch.cat(\n",
    "                        (target_tensor[:, t, :-1].unsqueeze(1),\n",
    "                         decoder_output.detach()), 2)\n",
    "                loss = criterion(outputs, labels)\n",
    "                train_losses.append(loss.item)\n",
    "                loss.backward()\n",
    "                encoder_optimizer.step()\n",
    "                decoder_optimizer.step()\n",
    "\n",
    "                # eval\n",
    "                if i % 5 == 0:\n",
    "                    # if num_without_imp > 60:\n",
    "                    #     return encoder, decoder\n",
    "                    num_without_imp = num_without_imp + 1\n",
    "                    valid_losses = list()\n",
    "                    encoder.eval()\n",
    "                    decoder.eval()\n",
    "                    for inp, lab in valid_loader:\n",
    "                        inp = inp.to(device)\n",
    "                        lab = lab.to(device)\n",
    "                        out = torch.zeros(batch_size, target_len).to(device)\n",
    "                        # encoder\n",
    "                        input_tensor = inp[:, 0:seq_len, :]\n",
    "                        target_tensor = inp[:, seq_len:, 0:-1]\n",
    "                        encoder_outputs, encoder_hidden = encoder(input_tensor)\n",
    "                        # decoder\n",
    "                        decoder_input = inp[:, seq_len - 1, :].unsqueeze(1)\n",
    "                        decoder_hidden = encoder_hidden\n",
    "                        # predict recuisively\n",
    "                        for t in range(target_len):\n",
    "                            decoder_output, decoder_hidden = decoder(\n",
    "                                decoder_input, decoder_hidden, encoder_outputs)\n",
    "                            out[:, t] = decoder_output.squeeze()\n",
    "                            decoder_input = torch.cat(\n",
    "                                (target_tensor[:, t, :].unsqueeze(1),\n",
    "                                 decoder_output.detach()), 2)\n",
    "                        valid_loss = criterion(out, lab)\n",
    "                        valid_losses.append(valid_loss.item())\n",
    "                    encoder.train()\n",
    "                    decoder.train()\n",
    "                    loop.set_description(\"Epoch: {}/{}...\".format(\n",
    "                        epoch, number_epochs))\n",
    "                    loop.set_postfix(train_loss=loss.item(),\n",
    "                                     valid_loss=np.mean(valid_losses))\n",
    "                    if np.mean(valid_losses) < valid_loss_min:\n",
    "                        num_without_imp = 0\n",
    "                        torch.save(encoder.state_dict(),\n",
    "                                   \"encoder_state_dict.pt\")\n",
    "                        torch.save(decoder.state_dict(),\n",
    "                                   \"decoder_state_dict.pt\")\n",
    "                        valid_loss_min = np.mean(valid_losses)\n",
    "            return encoder, decoder"
   ]
  },
  {
   "cell_type": "code",
   "execution_count": 5,
   "metadata": {
    "ExecuteTime": {
     "end_time": "2021-12-18T09:47:33.377335Z",
     "start_time": "2021-12-18T09:47:33.359403Z"
    },
    "executionInfo": {
     "elapsed": 24,
     "status": "ok",
     "timestamp": 1635397356151,
     "user": {
      "displayName": "Mark Dong",
      "photoUrl": "https://lh3.googleusercontent.com/a/default-user=s64",
      "userId": "04537685704836554558"
     },
     "user_tz": -480
    },
    "id": "BWIEjvjH2Y_K"
   },
   "outputs": [],
   "source": [
    "# test the model\n",
    "def test_model(encoder, decoder, test_x, test_y, batch_size, seq_len, target_len, scaler):\n",
    "    # pdb.set_trace()\n",
    "    test_dataset = TensorDataset(torch.FloatTensor(test_x), torch.FloatTensor(test_y))\n",
    "    test_loader = DataLoader(dataset=test_dataset, batch_size=batch_size, shuffle=False)\n",
    "    encoder.load_state_dict(torch.load('encoder_state_dict.pt'))\n",
    "    decoder.load_state_dict(torch.load('decoder_state_dict.pt'))\n",
    "    y_pred = list()\n",
    "    y_true = list()\n",
    "    y_index = test_x.shape[2] - 1\n",
    "    with torch.no_grad():\n",
    "        for inputs, labels in test_loader:\n",
    "            inputs = inputs.to(device=device)\n",
    "            labels = labels.to(device=device)\n",
    "            outputs = torch.zeros(batch_size, target_len).to(device)\n",
    "            # encoder\n",
    "            input_tensor = inputs[:, 0:seq_len, :]\n",
    "            target_tensor = inputs[:, seq_len:, :]\n",
    "            encoder_outputs, encoder_hidden = encoder(input_tensor)\n",
    "            # decoder\n",
    "            decoder_input = inputs[:, seq_len-1, :].unsqueeze(1)\n",
    "            decoder_hidden = encoder_hidden\n",
    "            # predict recursively\n",
    "            for t in range(target_len):\n",
    "                decoder_output, decoder_hidden = decoder(decoder_input, decoder_hidden, encoder_outputs)\n",
    "                outputs[:, t] = decoder_output.squeeze()\n",
    "                decoder_input = torch.cat((target_tensor[:, t, :-1].unsqueeze(1), decoder_output.detach()), 2)\n",
    "            y_pred = y_pred + outputs.view(-1).cpu().numpy().tolist()\n",
    "            y_true = y_true + labels.view(-1).cpu().numpy().tolist()\n",
    "    y_true = np.array(y_true)\n",
    "    y_pred = np.array(y_pred)\n",
    "    load_true = scaler.inverse_transform(np.expand_dims(y_true, axis=1))\n",
    "    load_pred = scaler.inverse_transform(np.expand_dims(y_pred, axis=1))\n",
    "    MAPE = np.mean(np.abs(load_true-load_pred)/load_true)\n",
    "    MAE = np.mean(np.abs(load_true-load_pred))\n",
    "    RMSE = np.sqrt(np.mean(np.square(load_true-load_pred)))\n",
    "    return MAPE, MAE, RMSE, load_pred, load_true"
   ]
  },
  {
   "cell_type": "code",
   "execution_count": 6,
   "metadata": {
    "ExecuteTime": {
     "end_time": "2021-12-18T09:47:35.516353Z",
     "start_time": "2021-12-18T09:47:35.509960Z"
    },
    "executionInfo": {
     "elapsed": 24,
     "status": "ok",
     "timestamp": 1635397356152,
     "user": {
      "displayName": "Mark Dong",
      "photoUrl": "https://lh3.googleusercontent.com/a/default-user=s64",
      "userId": "04537685704836554558"
     },
     "user_tz": -480
    },
    "id": "thj9qZovUF3N"
   },
   "outputs": [],
   "source": [
    "# model configs\n",
    "def Model_Configs():\n",
    "    batch_sizes = [512]\n",
    "    n_layers = [1]\n",
    "    lrs = [0.01]\n",
    "    hidden_dims = [70]\n",
    "    configs = list()\n",
    "    for i in batch_sizes:\n",
    "        for j in n_layers:\n",
    "            for k in lrs:\n",
    "                for l in hidden_dims:\n",
    "                    configs.append([i, j, k, l])\n",
    "    return configs"
   ]
  },
  {
   "cell_type": "code",
   "execution_count": 7,
   "metadata": {
    "ExecuteTime": {
     "end_time": "2021-12-18T09:47:37.325880Z",
     "start_time": "2021-12-18T09:47:37.311135Z"
    },
    "executionInfo": {
     "elapsed": 5,
     "status": "ok",
     "timestamp": 1635397356697,
     "user": {
      "displayName": "Mark Dong",
      "photoUrl": "https://lh3.googleusercontent.com/a/default-user=s64",
      "userId": "04537685704836554558"
     },
     "user_tz": -480
    },
    "id": "L03esL1dUF3O"
   },
   "outputs": [],
   "source": [
    "def main(n_split=5, seq_len=48, target_len=24, plot=False):\n",
    "    normalized_data, scaler_y = normalization(data)\n",
    "    normalized_data = select_feature(normalized_data, feature_num=10)\n",
    "    train_data = normalized_data\n",
    "    test_data = normalized_data[-3000:]\n",
    "    y_index = normalized_data.shape[1] - 1\n",
    "    num_features = normalized_data.shape[1]\n",
    "    x, y = Series_To_Supervise(train_data, seq_len=seq_len + target_len, target_len=target_len, y_col_index=y_index)\n",
    "    train_x_list, valid_x_list, train_y_list, valid_y_list = split_dataset(x, y, n_split=n_split)   \n",
    "    test_x, test_y = Series_To_Supervise_Test(test_data, seq_len=seq_len + target_len, target_len=target_len, y_col_index=y_index) \n",
    "\n",
    "    print(\"model configs set.\")\n",
    "    configs = Model_Configs()\n",
    "    MAPE_list = list()\n",
    "    MAE_list = list()\n",
    "    RMSE_list = list()\n",
    "    for config in configs:\n",
    "        batch_size = config[0]\n",
    "        n_layer = config[1]\n",
    "        lr = config[2]\n",
    "        hidden_dim = config[3]\n",
    "        print(\"Config: batch_size--{}, n_layer--{}, lr--{}, hidden_dims--{}\".format(batch_size, n_layer, lr, hidden_dim))\n",
    "        \n",
    "        while(1):\n",
    "          encoder, decoder = train_model(train_x_list, train_y_list, valid_x_list, valid_y_list,\n",
    "                                          input_size=num_features, hidden_dim=hidden_dim, batch_size=batch_size,\n",
    "                                          n_layers=n_layer, lr=lr, seq_len=seq_len, target_len=target_len, \n",
    "                                          training_prediction='teacher_forcing')\n",
    "          (MAPE, MAE, RMSE, load_pred, load_true) = test_model(encoder, decoder, test_x, test_y, batch_size=1, seq_len=seq_len,\n",
    "                            target_len=target_len, scaler=scaler_y)\n",
    "          if MAPE < 0.1:\n",
    "              break\n",
    "        MAPE_list.append(MAPE)\n",
    "        MAE_list.append(MAE)\n",
    "        RMSE_list.append(RMSE)\n",
    "    return (MAPE_list, MAE_list, RMSE_list, load_pred, load_true, encoder, decoder)"
   ]
  },
  {
   "cell_type": "code",
   "execution_count": 8,
   "metadata": {
    "ExecuteTime": {
     "end_time": "2021-12-18T09:47:43.704355Z",
     "start_time": "2021-12-18T09:47:43.676978Z"
    },
    "colab": {
     "base_uri": "https://localhost:8080/"
    },
    "executionInfo": {
     "elapsed": 787489,
     "status": "ok",
     "timestamp": 1635398198740,
     "user": {
      "displayName": "Mark Dong",
      "photoUrl": "https://lh3.googleusercontent.com/a/default-user=s64",
      "userId": "04537685704836554558"
     },
     "user_tz": -480
    },
    "id": "FBZDkAX9g590",
    "outputId": "88204445-5627-4f46-fb3a-9c26981efbe8"
   },
   "outputs": [
    {
     "ename": "NameError",
     "evalue": "name 'normalization' is not defined",
     "output_type": "error",
     "traceback": [
      "\u001b[0;31m---------------------------------------------------------------------------\u001b[0m",
      "\u001b[0;31mNameError\u001b[0m                                 Traceback (most recent call last)",
      "\u001b[0;32m<ipython-input-8-61baea9de2ff>\u001b[0m in \u001b[0;36m<module>\u001b[0;34m\u001b[0m\n\u001b[0;32m----> 1\u001b[0;31m \u001b[0;34m(\u001b[0m\u001b[0mMAPE_list\u001b[0m\u001b[0;34m,\u001b[0m \u001b[0mMAE_list\u001b[0m\u001b[0;34m,\u001b[0m \u001b[0mRMSE_list\u001b[0m\u001b[0;34m,\u001b[0m \u001b[0mload_pred\u001b[0m\u001b[0;34m,\u001b[0m \u001b[0mload_true\u001b[0m\u001b[0;34m,\u001b[0m \u001b[0mencoder\u001b[0m\u001b[0;34m,\u001b[0m \u001b[0mdecoder\u001b[0m\u001b[0;34m)\u001b[0m \u001b[0;34m=\u001b[0m \u001b[0mmain\u001b[0m\u001b[0;34m(\u001b[0m\u001b[0;34m)\u001b[0m\u001b[0;34m\u001b[0m\u001b[0;34m\u001b[0m\u001b[0m\n\u001b[0m",
      "\u001b[0;32m<ipython-input-7-6e60bc375aca>\u001b[0m in \u001b[0;36mmain\u001b[0;34m(n_split, seq_len, target_len, plot)\u001b[0m\n\u001b[1;32m      1\u001b[0m \u001b[0;32mdef\u001b[0m \u001b[0mmain\u001b[0m\u001b[0;34m(\u001b[0m\u001b[0mn_split\u001b[0m\u001b[0;34m=\u001b[0m\u001b[0;36m5\u001b[0m\u001b[0;34m,\u001b[0m \u001b[0mseq_len\u001b[0m\u001b[0;34m=\u001b[0m\u001b[0;36m48\u001b[0m\u001b[0;34m,\u001b[0m \u001b[0mtarget_len\u001b[0m\u001b[0;34m=\u001b[0m\u001b[0;36m24\u001b[0m\u001b[0;34m,\u001b[0m \u001b[0mplot\u001b[0m\u001b[0;34m=\u001b[0m\u001b[0;32mFalse\u001b[0m\u001b[0;34m)\u001b[0m\u001b[0;34m:\u001b[0m\u001b[0;34m\u001b[0m\u001b[0;34m\u001b[0m\u001b[0m\n\u001b[0;32m----> 2\u001b[0;31m     \u001b[0mnormalized_data\u001b[0m\u001b[0;34m,\u001b[0m \u001b[0mscaler_y\u001b[0m \u001b[0;34m=\u001b[0m \u001b[0mnormalization\u001b[0m\u001b[0;34m(\u001b[0m\u001b[0mdata\u001b[0m\u001b[0;34m)\u001b[0m\u001b[0;34m\u001b[0m\u001b[0;34m\u001b[0m\u001b[0m\n\u001b[0m\u001b[1;32m      3\u001b[0m     \u001b[0mnormalized_data\u001b[0m \u001b[0;34m=\u001b[0m \u001b[0mselect_feature\u001b[0m\u001b[0;34m(\u001b[0m\u001b[0mnormalized_data\u001b[0m\u001b[0;34m,\u001b[0m \u001b[0mfeature_num\u001b[0m\u001b[0;34m=\u001b[0m\u001b[0;36m10\u001b[0m\u001b[0;34m)\u001b[0m\u001b[0;34m\u001b[0m\u001b[0;34m\u001b[0m\u001b[0m\n\u001b[1;32m      4\u001b[0m     \u001b[0mtrain_data\u001b[0m \u001b[0;34m=\u001b[0m \u001b[0mnormalized_data\u001b[0m\u001b[0;34m\u001b[0m\u001b[0;34m\u001b[0m\u001b[0m\n\u001b[1;32m      5\u001b[0m     \u001b[0mtest_data\u001b[0m \u001b[0;34m=\u001b[0m \u001b[0mnormalized_data\u001b[0m\u001b[0;34m[\u001b[0m\u001b[0;34m-\u001b[0m\u001b[0;36m3000\u001b[0m\u001b[0;34m:\u001b[0m\u001b[0;34m]\u001b[0m\u001b[0;34m\u001b[0m\u001b[0;34m\u001b[0m\u001b[0m\n",
      "\u001b[0;31mNameError\u001b[0m: name 'normalization' is not defined"
     ]
    }
   ],
   "source": [
    "(MAPE_list, MAE_list, RMSE_list, load_pred, load_true, encoder, decoder) = main()"
   ]
  },
  {
   "cell_type": "code",
   "execution_count": 15,
   "metadata": {
    "colab": {
     "base_uri": "https://localhost:8080/"
    },
    "executionInfo": {
     "elapsed": 575,
     "status": "ok",
     "timestamp": 1635398404593,
     "user": {
      "displayName": "Mark Dong",
      "photoUrl": "https://lh3.googleusercontent.com/a/default-user=s64",
      "userId": "04537685704836554558"
     },
     "user_tz": -480
    },
    "id": "KOc4Wyigjzey",
    "outputId": "92a1f647-6dce-435d-8e0e-99b1ccee5ee5"
   },
   "outputs": [
    {
     "data": {
      "text/plain": [
       "([0.022847848585105916], [284.4243152460053], [402.1420974419794])"
      ]
     },
     "execution_count": 15,
     "metadata": {},
     "output_type": "execute_result"
    }
   ],
   "source": [
    "MAPE_list, MAE_list, RMSE_list"
   ]
  },
  {
   "cell_type": "code",
   "execution_count": 16,
   "metadata": {
    "colab": {
     "base_uri": "https://localhost:8080/",
     "height": 610
    },
    "executionInfo": {
     "elapsed": 1173,
     "status": "ok",
     "timestamp": 1635398423342,
     "user": {
      "displayName": "Mark Dong",
      "photoUrl": "https://lh3.googleusercontent.com/a/default-user=s64",
      "userId": "04537685704836554558"
     },
     "user_tz": -480
    },
    "id": "mulQQMkng_dT",
    "outputId": "6464b713-5272-4bfa-c2a7-ffd5791ec34a"
   },
   "outputs": [
    {
     "data": {
      "text/plain": [
       "[<matplotlib.lines.Line2D at 0x7f733a278910>]"
      ]
     },
     "execution_count": 16,
     "metadata": {},
     "output_type": "execute_result"
    },
    {
     "data": {
      "image/png": "[encoded data removed]",
      "text/plain": [
       "<Figure size 1440x720 with 1 Axes>"
      ]
     },
     "metadata": {
      "needs_background": "light"
     },
     "output_type": "display_data"
    }
   ],
   "source": [
    "plt.figure(figsize=(20,10))\n",
    "plt.plot(load_pred[:240], 'r')\n",
    "plt.plot(load_true[:240], 'g')"
   ]
  },
  {
   "cell_type": "code",
   "execution_count": 17,
   "metadata": {
    "executionInfo": {
     "elapsed": 625,
     "status": "ok",
     "timestamp": 1635398432029,
     "user": {
      "displayName": "Mark Dong",
      "photoUrl": "https://lh3.googleusercontent.com/a/default-user=s64",
      "userId": "04537685704836554558"
     },
     "user_tz": -480
    },
    "id": "Bl0PnYykhO6T"
   },
   "outputs": [],
   "source": [
    "np.save('./load_pred_xgbseq2seq.npy', load_pred)\n",
    "np.save('./load_true_xgbseq2seq.npy', load_true)\n",
    "torch.save(encoder.state_dict(), \"xgb_encoder_state_dict.pt\")\n",
    "torch.save(decoder.state_dict(), \"xgb_decoder_state_dict.pt\")"
   ]
  }
 ],
 "metadata": {
  "accelerator": "GPU",
  "colab": {
   "collapsed_sections": [],
   "name": "XGB-Seq2Seq-LSTM-LSTM-1027.ipynb",
   "provenance": [
    {
     "file_id": "12UbdSV6sEiLokxpm-kiSlokl46SST_u3",
     "timestamp": 1635386260907
    }
   ]
  },
  "kernelspec": {
   "display_name": "Python 3",
   "language": "python",
   "name": "python3"
  },
  "language_info": {
   "codemirror_mode": {
    "name": "ipython",
    "version": 3
   },
   "file_extension": ".py",
   "mimetype": "text/x-python",
   "name": "python",
   "nbconvert_exporter": "python",
   "pygments_lexer": "ipython3",
   "version": "3.8.12"
  },
  "toc": {
   "base_numbering": 1,
   "nav_menu": {},
   "number_sections": true,
   "sideBar": true,
   "skip_h1_title": false,
   "title_cell": "Table of Contents",
   "title_sidebar": "Contents",
   "toc_cell": false,
   "toc_position": {},
   "toc_section_display": true,
   "toc_window_display": false
  },
  "varInspector": {
   "cols": {
    "lenName": 16,
    "lenType": 16,
    "lenVar": 40
   },
   "kernels_config": {
    "python": {
     "delete_cmd_postfix": "",
     "delete_cmd_prefix": "del ",
     "library": "var_list.py",
     "varRefreshCmd": "print(var_dic_list())"
    },
    "r": {
     "delete_cmd_postfix": ") ",
     "delete_cmd_prefix": "rm(",
     "library": "var_list.r",
     "varRefreshCmd": "cat(var_dic_list()) "
    }
   },
   "types_to_exclude": [
    "module",
    "function",
    "builtin_function_or_method",
    "instance",
    "_Feature"
   ],
   "window_display": false
  }
 },
 "nbformat": 4,
 "nbformat_minor": 1
}
